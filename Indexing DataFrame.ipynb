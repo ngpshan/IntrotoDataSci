{
 "metadata": {
  "language_info": {
   "codemirror_mode": {
    "name": "ipython",
    "version": 3
   },
   "file_extension": ".py",
   "mimetype": "text/x-python",
   "name": "python",
   "nbconvert_exporter": "python",
   "pygments_lexer": "ipython3",
   "version": "3.8.6-candidate"
  },
  "orig_nbformat": 2,
  "kernelspec": {
   "name": "Python 3.8.6 64-bit",
   "display_name": "Python 3.8.6 64-bit",
   "metadata": {
    "interpreter": {
     "hash": "23a0b241a33537883b39067dbbeaffacf56379d0e0386bed5fb7b1dd24f284a0"
    }
   }
  }
 },
 "nbformat": 4,
 "nbformat_minor": 2,
 "cells": [
  {
   "cell_type": "code",
   "execution_count": 10,
   "metadata": {},
   "outputs": [],
   "source": [
    "import pandas as pd"
   ]
  },
  {
   "cell_type": "code",
   "execution_count": 11,
   "metadata": {},
   "outputs": [
    {
     "output_type": "execute_result",
     "data": {
      "text/plain": [
       "            GRE Score  TOEFL Score  University Rating  SOP  LOR   CGPA  \\\n",
       "Serial No.                                                               \n",
       "1                 337          118                  4  4.5   4.5  9.65   \n",
       "2                 324          107                  4  4.0   4.5  8.87   \n",
       "3                 316          104                  3  3.0   3.5  8.00   \n",
       "4                 322          110                  3  3.5   2.5  8.67   \n",
       "5                 314          103                  2  2.0   3.0  8.21   \n",
       "\n",
       "            Research  Chance of Admit   \n",
       "Serial No.                              \n",
       "1                  1              0.92  \n",
       "2                  1              0.76  \n",
       "3                  1              0.72  \n",
       "4                  1              0.80  \n",
       "5                  0              0.65  "
      ],
      "text/html": "<div>\n<style scoped>\n    .dataframe tbody tr th:only-of-type {\n        vertical-align: middle;\n    }\n\n    .dataframe tbody tr th {\n        vertical-align: top;\n    }\n\n    .dataframe thead th {\n        text-align: right;\n    }\n</style>\n<table border=\"1\" class=\"dataframe\">\n  <thead>\n    <tr style=\"text-align: right;\">\n      <th></th>\n      <th>GRE Score</th>\n      <th>TOEFL Score</th>\n      <th>University Rating</th>\n      <th>SOP</th>\n      <th>LOR</th>\n      <th>CGPA</th>\n      <th>Research</th>\n      <th>Chance of Admit</th>\n    </tr>\n    <tr>\n      <th>Serial No.</th>\n      <th></th>\n      <th></th>\n      <th></th>\n      <th></th>\n      <th></th>\n      <th></th>\n      <th></th>\n      <th></th>\n    </tr>\n  </thead>\n  <tbody>\n    <tr>\n      <th>1</th>\n      <td>337</td>\n      <td>118</td>\n      <td>4</td>\n      <td>4.5</td>\n      <td>4.5</td>\n      <td>9.65</td>\n      <td>1</td>\n      <td>0.92</td>\n    </tr>\n    <tr>\n      <th>2</th>\n      <td>324</td>\n      <td>107</td>\n      <td>4</td>\n      <td>4.0</td>\n      <td>4.5</td>\n      <td>8.87</td>\n      <td>1</td>\n      <td>0.76</td>\n    </tr>\n    <tr>\n      <th>3</th>\n      <td>316</td>\n      <td>104</td>\n      <td>3</td>\n      <td>3.0</td>\n      <td>3.5</td>\n      <td>8.00</td>\n      <td>1</td>\n      <td>0.72</td>\n    </tr>\n    <tr>\n      <th>4</th>\n      <td>322</td>\n      <td>110</td>\n      <td>3</td>\n      <td>3.5</td>\n      <td>2.5</td>\n      <td>8.67</td>\n      <td>1</td>\n      <td>0.80</td>\n    </tr>\n    <tr>\n      <th>5</th>\n      <td>314</td>\n      <td>103</td>\n      <td>2</td>\n      <td>2.0</td>\n      <td>3.0</td>\n      <td>8.21</td>\n      <td>0</td>\n      <td>0.65</td>\n    </tr>\n  </tbody>\n</table>\n</div>"
     },
     "metadata": {},
     "execution_count": 11
    }
   ],
   "source": [
    "df= pd.read_csv('Admission_Predict.csv', index_col=0)\n",
    "df.head()"
   ]
  },
  {
   "cell_type": "code",
   "execution_count": 12,
   "metadata": {},
   "outputs": [],
   "source": [
    "# copy the indexed data into its own column (keep Serial No. for later)\n",
    "df['Serial No.'] = df.index"
   ]
  },
  {
   "cell_type": "code",
   "execution_count": 13,
   "metadata": {},
   "outputs": [
    {
     "output_type": "execute_result",
     "data": {
      "text/plain": [
       "                  GRE Score  TOEFL Score  University Rating  SOP  LOR   CGPA  \\\n",
       "Chance of Admit                                                                \n",
       "0.92                    337          118                  4  4.5   4.5  9.65   \n",
       "0.76                    324          107                  4  4.0   4.5  8.87   \n",
       "0.72                    316          104                  3  3.0   3.5  8.00   \n",
       "0.80                    322          110                  3  3.5   2.5  8.67   \n",
       "0.65                    314          103                  2  2.0   3.0  8.21   \n",
       "\n",
       "                  Research  Serial No.  \n",
       "Chance of Admit                         \n",
       "0.92                     1           1  \n",
       "0.76                     1           2  \n",
       "0.72                     1           3  \n",
       "0.80                     1           4  \n",
       "0.65                     0           5  "
      ],
      "text/html": "<div>\n<style scoped>\n    .dataframe tbody tr th:only-of-type {\n        vertical-align: middle;\n    }\n\n    .dataframe tbody tr th {\n        vertical-align: top;\n    }\n\n    .dataframe thead th {\n        text-align: right;\n    }\n</style>\n<table border=\"1\" class=\"dataframe\">\n  <thead>\n    <tr style=\"text-align: right;\">\n      <th></th>\n      <th>GRE Score</th>\n      <th>TOEFL Score</th>\n      <th>University Rating</th>\n      <th>SOP</th>\n      <th>LOR</th>\n      <th>CGPA</th>\n      <th>Research</th>\n      <th>Serial No.</th>\n    </tr>\n    <tr>\n      <th>Chance of Admit</th>\n      <th></th>\n      <th></th>\n      <th></th>\n      <th></th>\n      <th></th>\n      <th></th>\n      <th></th>\n      <th></th>\n    </tr>\n  </thead>\n  <tbody>\n    <tr>\n      <th>0.92</th>\n      <td>337</td>\n      <td>118</td>\n      <td>4</td>\n      <td>4.5</td>\n      <td>4.5</td>\n      <td>9.65</td>\n      <td>1</td>\n      <td>1</td>\n    </tr>\n    <tr>\n      <th>0.76</th>\n      <td>324</td>\n      <td>107</td>\n      <td>4</td>\n      <td>4.0</td>\n      <td>4.5</td>\n      <td>8.87</td>\n      <td>1</td>\n      <td>2</td>\n    </tr>\n    <tr>\n      <th>0.72</th>\n      <td>316</td>\n      <td>104</td>\n      <td>3</td>\n      <td>3.0</td>\n      <td>3.5</td>\n      <td>8.00</td>\n      <td>1</td>\n      <td>3</td>\n    </tr>\n    <tr>\n      <th>0.80</th>\n      <td>322</td>\n      <td>110</td>\n      <td>3</td>\n      <td>3.5</td>\n      <td>2.5</td>\n      <td>8.67</td>\n      <td>1</td>\n      <td>4</td>\n    </tr>\n    <tr>\n      <th>0.65</th>\n      <td>314</td>\n      <td>103</td>\n      <td>2</td>\n      <td>2.0</td>\n      <td>3.0</td>\n      <td>8.21</td>\n      <td>0</td>\n      <td>5</td>\n    </tr>\n  </tbody>\n</table>\n</div>"
     },
     "metadata": {},
     "execution_count": 13
    }
   ],
   "source": [
    "# set the index to 'Chance of Admit' col\n",
    "df = df.set_index('Chance of Admit ')\n",
    "df.head()"
   ]
  },
  {
   "source": [
    "### reset_index() - get rid of index completely"
   ],
   "cell_type": "markdown",
   "metadata": {}
  },
  {
   "cell_type": "code",
   "execution_count": 16,
   "metadata": {},
   "outputs": [
    {
     "output_type": "execute_result",
     "data": {
      "text/plain": [
       "   Chance of Admit   GRE Score  TOEFL Score  University Rating  SOP  LOR   \\\n",
       "0              0.92        337          118                  4  4.5   4.5   \n",
       "1              0.76        324          107                  4  4.0   4.5   \n",
       "2              0.72        316          104                  3  3.0   3.5   \n",
       "3              0.80        322          110                  3  3.5   2.5   \n",
       "4              0.65        314          103                  2  2.0   3.0   \n",
       "\n",
       "   CGPA  Research  Serial No.  \n",
       "0  9.65         1           1  \n",
       "1  8.87         1           2  \n",
       "2  8.00         1           3  \n",
       "3  8.67         1           4  \n",
       "4  8.21         0           5  "
      ],
      "text/html": "<div>\n<style scoped>\n    .dataframe tbody tr th:only-of-type {\n        vertical-align: middle;\n    }\n\n    .dataframe tbody tr th {\n        vertical-align: top;\n    }\n\n    .dataframe thead th {\n        text-align: right;\n    }\n</style>\n<table border=\"1\" class=\"dataframe\">\n  <thead>\n    <tr style=\"text-align: right;\">\n      <th></th>\n      <th>Chance of Admit</th>\n      <th>GRE Score</th>\n      <th>TOEFL Score</th>\n      <th>University Rating</th>\n      <th>SOP</th>\n      <th>LOR</th>\n      <th>CGPA</th>\n      <th>Research</th>\n      <th>Serial No.</th>\n    </tr>\n  </thead>\n  <tbody>\n    <tr>\n      <th>0</th>\n      <td>0.92</td>\n      <td>337</td>\n      <td>118</td>\n      <td>4</td>\n      <td>4.5</td>\n      <td>4.5</td>\n      <td>9.65</td>\n      <td>1</td>\n      <td>1</td>\n    </tr>\n    <tr>\n      <th>1</th>\n      <td>0.76</td>\n      <td>324</td>\n      <td>107</td>\n      <td>4</td>\n      <td>4.0</td>\n      <td>4.5</td>\n      <td>8.87</td>\n      <td>1</td>\n      <td>2</td>\n    </tr>\n    <tr>\n      <th>2</th>\n      <td>0.72</td>\n      <td>316</td>\n      <td>104</td>\n      <td>3</td>\n      <td>3.0</td>\n      <td>3.5</td>\n      <td>8.00</td>\n      <td>1</td>\n      <td>3</td>\n    </tr>\n    <tr>\n      <th>3</th>\n      <td>0.80</td>\n      <td>322</td>\n      <td>110</td>\n      <td>3</td>\n      <td>3.5</td>\n      <td>2.5</td>\n      <td>8.67</td>\n      <td>1</td>\n      <td>4</td>\n    </tr>\n    <tr>\n      <th>4</th>\n      <td>0.65</td>\n      <td>314</td>\n      <td>103</td>\n      <td>2</td>\n      <td>2.0</td>\n      <td>3.0</td>\n      <td>8.21</td>\n      <td>0</td>\n      <td>5</td>\n    </tr>\n  </tbody>\n</table>\n</div>"
     },
     "metadata": {},
     "execution_count": 16
    }
   ],
   "source": [
    "df = df.reset_index()\n",
    "df.head()"
   ]
  },
  {
   "cell_type": "code",
   "execution_count": 27,
   "metadata": {},
   "outputs": [
    {
     "output_type": "execute_result",
     "data": {
      "text/plain": [
       "   CensusTract    State   County  TotalPop   Men  Women  Hispanic  White  \\\n",
       "0   1001020100  Alabama  Autauga      1948   940   1008       0.9   87.4   \n",
       "1   1001020200  Alabama  Autauga      2156  1059   1097       0.8   40.4   \n",
       "2   1001020300  Alabama  Autauga      2968  1364   1604       0.0   74.5   \n",
       "3   1001020400  Alabama  Autauga      4423  2172   2251      10.5   82.8   \n",
       "4   1001020500  Alabama  Autauga     10763  4922   5841       0.7   68.5   \n",
       "\n",
       "   Black  Native  ...  Walk  OtherTransp  WorkAtHome  MeanCommute  Employed  \\\n",
       "0    7.7     0.3  ...   0.5          2.3         2.1         25.0       943   \n",
       "1   53.3     0.0  ...   0.0          0.7         0.0         23.4       753   \n",
       "2   18.6     0.5  ...   0.0          0.0         2.5         19.6      1373   \n",
       "3    3.7     1.6  ...   0.0          2.6         1.6         25.3      1782   \n",
       "4   24.8     0.0  ...   0.0          0.6         0.9         24.8      5037   \n",
       "\n",
       "   PrivateWork  PublicWork  SelfEmployed  FamilyWork  Unemployment  \n",
       "0         77.1        18.3           4.6         0.0           5.4  \n",
       "1         77.0        16.9           6.1         0.0          13.3  \n",
       "2         64.1        23.6          12.3         0.0           6.2  \n",
       "3         75.7        21.2           3.1         0.0          10.8  \n",
       "4         67.1        27.6           5.3         0.0           4.2  \n",
       "\n",
       "[5 rows x 37 columns]"
      ],
      "text/html": "<div>\n<style scoped>\n    .dataframe tbody tr th:only-of-type {\n        vertical-align: middle;\n    }\n\n    .dataframe tbody tr th {\n        vertical-align: top;\n    }\n\n    .dataframe thead th {\n        text-align: right;\n    }\n</style>\n<table border=\"1\" class=\"dataframe\">\n  <thead>\n    <tr style=\"text-align: right;\">\n      <th></th>\n      <th>CensusTract</th>\n      <th>State</th>\n      <th>County</th>\n      <th>TotalPop</th>\n      <th>Men</th>\n      <th>Women</th>\n      <th>Hispanic</th>\n      <th>White</th>\n      <th>Black</th>\n      <th>Native</th>\n      <th>...</th>\n      <th>Walk</th>\n      <th>OtherTransp</th>\n      <th>WorkAtHome</th>\n      <th>MeanCommute</th>\n      <th>Employed</th>\n      <th>PrivateWork</th>\n      <th>PublicWork</th>\n      <th>SelfEmployed</th>\n      <th>FamilyWork</th>\n      <th>Unemployment</th>\n    </tr>\n  </thead>\n  <tbody>\n    <tr>\n      <th>0</th>\n      <td>1001020100</td>\n      <td>Alabama</td>\n      <td>Autauga</td>\n      <td>1948</td>\n      <td>940</td>\n      <td>1008</td>\n      <td>0.9</td>\n      <td>87.4</td>\n      <td>7.7</td>\n      <td>0.3</td>\n      <td>...</td>\n      <td>0.5</td>\n      <td>2.3</td>\n      <td>2.1</td>\n      <td>25.0</td>\n      <td>943</td>\n      <td>77.1</td>\n      <td>18.3</td>\n      <td>4.6</td>\n      <td>0.0</td>\n      <td>5.4</td>\n    </tr>\n    <tr>\n      <th>1</th>\n      <td>1001020200</td>\n      <td>Alabama</td>\n      <td>Autauga</td>\n      <td>2156</td>\n      <td>1059</td>\n      <td>1097</td>\n      <td>0.8</td>\n      <td>40.4</td>\n      <td>53.3</td>\n      <td>0.0</td>\n      <td>...</td>\n      <td>0.0</td>\n      <td>0.7</td>\n      <td>0.0</td>\n      <td>23.4</td>\n      <td>753</td>\n      <td>77.0</td>\n      <td>16.9</td>\n      <td>6.1</td>\n      <td>0.0</td>\n      <td>13.3</td>\n    </tr>\n    <tr>\n      <th>2</th>\n      <td>1001020300</td>\n      <td>Alabama</td>\n      <td>Autauga</td>\n      <td>2968</td>\n      <td>1364</td>\n      <td>1604</td>\n      <td>0.0</td>\n      <td>74.5</td>\n      <td>18.6</td>\n      <td>0.5</td>\n      <td>...</td>\n      <td>0.0</td>\n      <td>0.0</td>\n      <td>2.5</td>\n      <td>19.6</td>\n      <td>1373</td>\n      <td>64.1</td>\n      <td>23.6</td>\n      <td>12.3</td>\n      <td>0.0</td>\n      <td>6.2</td>\n    </tr>\n    <tr>\n      <th>3</th>\n      <td>1001020400</td>\n      <td>Alabama</td>\n      <td>Autauga</td>\n      <td>4423</td>\n      <td>2172</td>\n      <td>2251</td>\n      <td>10.5</td>\n      <td>82.8</td>\n      <td>3.7</td>\n      <td>1.6</td>\n      <td>...</td>\n      <td>0.0</td>\n      <td>2.6</td>\n      <td>1.6</td>\n      <td>25.3</td>\n      <td>1782</td>\n      <td>75.7</td>\n      <td>21.2</td>\n      <td>3.1</td>\n      <td>0.0</td>\n      <td>10.8</td>\n    </tr>\n    <tr>\n      <th>4</th>\n      <td>1001020500</td>\n      <td>Alabama</td>\n      <td>Autauga</td>\n      <td>10763</td>\n      <td>4922</td>\n      <td>5841</td>\n      <td>0.7</td>\n      <td>68.5</td>\n      <td>24.8</td>\n      <td>0.0</td>\n      <td>...</td>\n      <td>0.0</td>\n      <td>0.6</td>\n      <td>0.9</td>\n      <td>24.8</td>\n      <td>5037</td>\n      <td>67.1</td>\n      <td>27.6</td>\n      <td>5.3</td>\n      <td>0.0</td>\n      <td>4.2</td>\n    </tr>\n  </tbody>\n</table>\n<p>5 rows × 37 columns</p>\n</div>"
     },
     "metadata": {},
     "execution_count": 27
    }
   ],
   "source": [
    "df = pd.read_csv('2015census.csv')\n",
    "df.head()"
   ]
  },
  {
   "cell_type": "code",
   "execution_count": 19,
   "metadata": {},
   "outputs": [
    {
     "output_type": "execute_result",
     "data": {
      "text/plain": [
       "array(['Alabama', 'Alaska', 'Arizona', 'Arkansas', 'California',\n",
       "       'Colorado', 'Connecticut', 'Delaware', 'District of Columbia',\n",
       "       'Florida', 'Georgia', 'Hawaii', 'Idaho', 'Illinois', 'Indiana',\n",
       "       'Iowa', 'Kansas', 'Kentucky', 'Louisiana', 'Maine', 'Maryland',\n",
       "       'Massachusetts', 'Michigan', 'Minnesota', 'Mississippi',\n",
       "       'Missouri', 'Montana', 'Nebraska', 'Nevada', 'New Hampshire',\n",
       "       'New Jersey', 'New Mexico', 'New York', 'North Carolina',\n",
       "       'North Dakota', 'Ohio', 'Oklahoma', 'Oregon', 'Pennsylvania',\n",
       "       'Rhode Island', 'South Carolina', 'South Dakota', 'Tennessee',\n",
       "       'Texas', 'Utah', 'Vermont', 'Virginia', 'Washington',\n",
       "       'West Virginia', 'Wisconsin', 'Wyoming', 'Puerto Rico'],\n",
       "      dtype=object)"
      ]
     },
     "metadata": {},
     "execution_count": 19
    }
   ],
   "source": [
    "df['State'].unique()"
   ]
  },
  {
   "cell_type": "code",
   "execution_count": 25,
   "metadata": {},
   "outputs": [
    {
     "output_type": "execute_result",
     "data": {
      "text/plain": [
       "        CensusTract     State  TotalPop   Men  Women  Hispanic  White  Black  \\\n",
       "County                                                                         \n",
       "Albany  36001000100  New York      2001   868   1133      24.3   18.2   51.5   \n",
       "Albany  36001000200  New York      4519  2224   2295      11.8    9.0   75.3   \n",
       "Albany  36001000300  New York      5244  2643   2601       6.6   45.7   37.5   \n",
       "Albany  36001000401  New York      2423   927   1496       4.4   86.8    4.2   \n",
       "Albany  36001000403  New York      4654  2100   2554       8.4   66.2   15.3   \n",
       "\n",
       "        Native  Asian  ...  Walk  OtherTransp  WorkAtHome  MeanCommute  \\\n",
       "County                 ...                                               \n",
       "Albany     0.0    2.4  ...   3.7          0.0         1.4         19.7   \n",
       "Albany     0.0    0.3  ...  11.9          0.0         1.9         22.9   \n",
       "Albany     0.3    2.6  ...   3.3          0.8         1.9         18.6   \n",
       "Albany     1.9    2.7  ...   0.0          0.5         0.7         18.8   \n",
       "Albany     0.8    7.5  ...   1.2          3.0         0.4         19.4   \n",
       "\n",
       "        Employed  PrivateWork  PublicWork  SelfEmployed  FamilyWork  \\\n",
       "County                                                                \n",
       "Albany       641         70.2        28.4           1.4         0.0   \n",
       "Albany      1866         73.6        22.6           3.9         0.0   \n",
       "Albany      2125         73.4        23.0           3.6         0.0   \n",
       "Albany       885         60.0        33.7           6.3         0.0   \n",
       "Albany      2678         67.2        27.4           5.3         0.0   \n",
       "\n",
       "        Unemployment  \n",
       "County                \n",
       "Albany          20.4  \n",
       "Albany           7.9  \n",
       "Albany           9.7  \n",
       "Albany           7.9  \n",
       "Albany           7.4  \n",
       "\n",
       "[5 rows x 36 columns]"
      ],
      "text/html": "<div>\n<style scoped>\n    .dataframe tbody tr th:only-of-type {\n        vertical-align: middle;\n    }\n\n    .dataframe tbody tr th {\n        vertical-align: top;\n    }\n\n    .dataframe thead th {\n        text-align: right;\n    }\n</style>\n<table border=\"1\" class=\"dataframe\">\n  <thead>\n    <tr style=\"text-align: right;\">\n      <th></th>\n      <th>CensusTract</th>\n      <th>State</th>\n      <th>TotalPop</th>\n      <th>Men</th>\n      <th>Women</th>\n      <th>Hispanic</th>\n      <th>White</th>\n      <th>Black</th>\n      <th>Native</th>\n      <th>Asian</th>\n      <th>...</th>\n      <th>Walk</th>\n      <th>OtherTransp</th>\n      <th>WorkAtHome</th>\n      <th>MeanCommute</th>\n      <th>Employed</th>\n      <th>PrivateWork</th>\n      <th>PublicWork</th>\n      <th>SelfEmployed</th>\n      <th>FamilyWork</th>\n      <th>Unemployment</th>\n    </tr>\n    <tr>\n      <th>County</th>\n      <th></th>\n      <th></th>\n      <th></th>\n      <th></th>\n      <th></th>\n      <th></th>\n      <th></th>\n      <th></th>\n      <th></th>\n      <th></th>\n      <th></th>\n      <th></th>\n      <th></th>\n      <th></th>\n      <th></th>\n      <th></th>\n      <th></th>\n      <th></th>\n      <th></th>\n      <th></th>\n      <th></th>\n    </tr>\n  </thead>\n  <tbody>\n    <tr>\n      <th>Albany</th>\n      <td>36001000100</td>\n      <td>New York</td>\n      <td>2001</td>\n      <td>868</td>\n      <td>1133</td>\n      <td>24.3</td>\n      <td>18.2</td>\n      <td>51.5</td>\n      <td>0.0</td>\n      <td>2.4</td>\n      <td>...</td>\n      <td>3.7</td>\n      <td>0.0</td>\n      <td>1.4</td>\n      <td>19.7</td>\n      <td>641</td>\n      <td>70.2</td>\n      <td>28.4</td>\n      <td>1.4</td>\n      <td>0.0</td>\n      <td>20.4</td>\n    </tr>\n    <tr>\n      <th>Albany</th>\n      <td>36001000200</td>\n      <td>New York</td>\n      <td>4519</td>\n      <td>2224</td>\n      <td>2295</td>\n      <td>11.8</td>\n      <td>9.0</td>\n      <td>75.3</td>\n      <td>0.0</td>\n      <td>0.3</td>\n      <td>...</td>\n      <td>11.9</td>\n      <td>0.0</td>\n      <td>1.9</td>\n      <td>22.9</td>\n      <td>1866</td>\n      <td>73.6</td>\n      <td>22.6</td>\n      <td>3.9</td>\n      <td>0.0</td>\n      <td>7.9</td>\n    </tr>\n    <tr>\n      <th>Albany</th>\n      <td>36001000300</td>\n      <td>New York</td>\n      <td>5244</td>\n      <td>2643</td>\n      <td>2601</td>\n      <td>6.6</td>\n      <td>45.7</td>\n      <td>37.5</td>\n      <td>0.3</td>\n      <td>2.6</td>\n      <td>...</td>\n      <td>3.3</td>\n      <td>0.8</td>\n      <td>1.9</td>\n      <td>18.6</td>\n      <td>2125</td>\n      <td>73.4</td>\n      <td>23.0</td>\n      <td>3.6</td>\n      <td>0.0</td>\n      <td>9.7</td>\n    </tr>\n    <tr>\n      <th>Albany</th>\n      <td>36001000401</td>\n      <td>New York</td>\n      <td>2423</td>\n      <td>927</td>\n      <td>1496</td>\n      <td>4.4</td>\n      <td>86.8</td>\n      <td>4.2</td>\n      <td>1.9</td>\n      <td>2.7</td>\n      <td>...</td>\n      <td>0.0</td>\n      <td>0.5</td>\n      <td>0.7</td>\n      <td>18.8</td>\n      <td>885</td>\n      <td>60.0</td>\n      <td>33.7</td>\n      <td>6.3</td>\n      <td>0.0</td>\n      <td>7.9</td>\n    </tr>\n    <tr>\n      <th>Albany</th>\n      <td>36001000403</td>\n      <td>New York</td>\n      <td>4654</td>\n      <td>2100</td>\n      <td>2554</td>\n      <td>8.4</td>\n      <td>66.2</td>\n      <td>15.3</td>\n      <td>0.8</td>\n      <td>7.5</td>\n      <td>...</td>\n      <td>1.2</td>\n      <td>3.0</td>\n      <td>0.4</td>\n      <td>19.4</td>\n      <td>2678</td>\n      <td>67.2</td>\n      <td>27.4</td>\n      <td>5.3</td>\n      <td>0.0</td>\n      <td>7.4</td>\n    </tr>\n  </tbody>\n</table>\n<p>5 rows × 36 columns</p>\n</div>"
     },
     "metadata": {},
     "execution_count": 25
    }
   ],
   "source": [
    "df = df[df['State']=='New York']\n",
    "df.head()"
   ]
  },
  {
   "cell_type": "code",
   "execution_count": 28,
   "metadata": {},
   "outputs": [
    {
     "output_type": "execute_result",
     "data": {
      "text/plain": [
       "                 CensusTract  TotalPop   Men  Women  Hispanic  White  Black  \\\n",
       "State   County                                                                \n",
       "Alabama Autauga   1001020100      1948   940   1008       0.9   87.4    7.7   \n",
       "        Autauga   1001020200      2156  1059   1097       0.8   40.4   53.3   \n",
       "        Autauga   1001020300      2968  1364   1604       0.0   74.5   18.6   \n",
       "        Autauga   1001020400      4423  2172   2251      10.5   82.8    3.7   \n",
       "        Autauga   1001020500     10763  4922   5841       0.7   68.5   24.8   \n",
       "\n",
       "                 Native  Asian  Pacific  ...  Walk  OtherTransp  WorkAtHome  \\\n",
       "State   County                           ...                                  \n",
       "Alabama Autauga     0.3    0.6      0.0  ...   0.5          2.3         2.1   \n",
       "        Autauga     0.0    2.3      0.0  ...   0.0          0.7         0.0   \n",
       "        Autauga     0.5    1.4      0.3  ...   0.0          0.0         2.5   \n",
       "        Autauga     1.6    0.0      0.0  ...   0.0          2.6         1.6   \n",
       "        Autauga     0.0    3.8      0.0  ...   0.0          0.6         0.9   \n",
       "\n",
       "                 MeanCommute  Employed  PrivateWork  PublicWork  SelfEmployed  \\\n",
       "State   County                                                                  \n",
       "Alabama Autauga         25.0       943         77.1        18.3           4.6   \n",
       "        Autauga         23.4       753         77.0        16.9           6.1   \n",
       "        Autauga         19.6      1373         64.1        23.6          12.3   \n",
       "        Autauga         25.3      1782         75.7        21.2           3.1   \n",
       "        Autauga         24.8      5037         67.1        27.6           5.3   \n",
       "\n",
       "                 FamilyWork  Unemployment  \n",
       "State   County                             \n",
       "Alabama Autauga         0.0           5.4  \n",
       "        Autauga         0.0          13.3  \n",
       "        Autauga         0.0           6.2  \n",
       "        Autauga         0.0          10.8  \n",
       "        Autauga         0.0           4.2  \n",
       "\n",
       "[5 rows x 35 columns]"
      ],
      "text/html": "<div>\n<style scoped>\n    .dataframe tbody tr th:only-of-type {\n        vertical-align: middle;\n    }\n\n    .dataframe tbody tr th {\n        vertical-align: top;\n    }\n\n    .dataframe thead th {\n        text-align: right;\n    }\n</style>\n<table border=\"1\" class=\"dataframe\">\n  <thead>\n    <tr style=\"text-align: right;\">\n      <th></th>\n      <th></th>\n      <th>CensusTract</th>\n      <th>TotalPop</th>\n      <th>Men</th>\n      <th>Women</th>\n      <th>Hispanic</th>\n      <th>White</th>\n      <th>Black</th>\n      <th>Native</th>\n      <th>Asian</th>\n      <th>Pacific</th>\n      <th>...</th>\n      <th>Walk</th>\n      <th>OtherTransp</th>\n      <th>WorkAtHome</th>\n      <th>MeanCommute</th>\n      <th>Employed</th>\n      <th>PrivateWork</th>\n      <th>PublicWork</th>\n      <th>SelfEmployed</th>\n      <th>FamilyWork</th>\n      <th>Unemployment</th>\n    </tr>\n    <tr>\n      <th>State</th>\n      <th>County</th>\n      <th></th>\n      <th></th>\n      <th></th>\n      <th></th>\n      <th></th>\n      <th></th>\n      <th></th>\n      <th></th>\n      <th></th>\n      <th></th>\n      <th></th>\n      <th></th>\n      <th></th>\n      <th></th>\n      <th></th>\n      <th></th>\n      <th></th>\n      <th></th>\n      <th></th>\n      <th></th>\n      <th></th>\n    </tr>\n  </thead>\n  <tbody>\n    <tr>\n      <th rowspan=\"5\" valign=\"top\">Alabama</th>\n      <th>Autauga</th>\n      <td>1001020100</td>\n      <td>1948</td>\n      <td>940</td>\n      <td>1008</td>\n      <td>0.9</td>\n      <td>87.4</td>\n      <td>7.7</td>\n      <td>0.3</td>\n      <td>0.6</td>\n      <td>0.0</td>\n      <td>...</td>\n      <td>0.5</td>\n      <td>2.3</td>\n      <td>2.1</td>\n      <td>25.0</td>\n      <td>943</td>\n      <td>77.1</td>\n      <td>18.3</td>\n      <td>4.6</td>\n      <td>0.0</td>\n      <td>5.4</td>\n    </tr>\n    <tr>\n      <th>Autauga</th>\n      <td>1001020200</td>\n      <td>2156</td>\n      <td>1059</td>\n      <td>1097</td>\n      <td>0.8</td>\n      <td>40.4</td>\n      <td>53.3</td>\n      <td>0.0</td>\n      <td>2.3</td>\n      <td>0.0</td>\n      <td>...</td>\n      <td>0.0</td>\n      <td>0.7</td>\n      <td>0.0</td>\n      <td>23.4</td>\n      <td>753</td>\n      <td>77.0</td>\n      <td>16.9</td>\n      <td>6.1</td>\n      <td>0.0</td>\n      <td>13.3</td>\n    </tr>\n    <tr>\n      <th>Autauga</th>\n      <td>1001020300</td>\n      <td>2968</td>\n      <td>1364</td>\n      <td>1604</td>\n      <td>0.0</td>\n      <td>74.5</td>\n      <td>18.6</td>\n      <td>0.5</td>\n      <td>1.4</td>\n      <td>0.3</td>\n      <td>...</td>\n      <td>0.0</td>\n      <td>0.0</td>\n      <td>2.5</td>\n      <td>19.6</td>\n      <td>1373</td>\n      <td>64.1</td>\n      <td>23.6</td>\n      <td>12.3</td>\n      <td>0.0</td>\n      <td>6.2</td>\n    </tr>\n    <tr>\n      <th>Autauga</th>\n      <td>1001020400</td>\n      <td>4423</td>\n      <td>2172</td>\n      <td>2251</td>\n      <td>10.5</td>\n      <td>82.8</td>\n      <td>3.7</td>\n      <td>1.6</td>\n      <td>0.0</td>\n      <td>0.0</td>\n      <td>...</td>\n      <td>0.0</td>\n      <td>2.6</td>\n      <td>1.6</td>\n      <td>25.3</td>\n      <td>1782</td>\n      <td>75.7</td>\n      <td>21.2</td>\n      <td>3.1</td>\n      <td>0.0</td>\n      <td>10.8</td>\n    </tr>\n    <tr>\n      <th>Autauga</th>\n      <td>1001020500</td>\n      <td>10763</td>\n      <td>4922</td>\n      <td>5841</td>\n      <td>0.7</td>\n      <td>68.5</td>\n      <td>24.8</td>\n      <td>0.0</td>\n      <td>3.8</td>\n      <td>0.0</td>\n      <td>...</td>\n      <td>0.0</td>\n      <td>0.6</td>\n      <td>0.9</td>\n      <td>24.8</td>\n      <td>5037</td>\n      <td>67.1</td>\n      <td>27.6</td>\n      <td>5.3</td>\n      <td>0.0</td>\n      <td>4.2</td>\n    </tr>\n  </tbody>\n</table>\n<p>5 rows × 35 columns</p>\n</div>"
     },
     "metadata": {},
     "execution_count": 28
    }
   ],
   "source": [
    "df = df.set_index(['State','County'])\n",
    "df.head()"
   ]
  },
  {
   "cell_type": "code",
   "execution_count": 42,
   "metadata": {},
   "outputs": [],
   "source": [
    "df1 = df.loc['New York', 'Queens']"
   ]
  },
  {
   "cell_type": "code",
   "execution_count": 33,
   "metadata": {},
   "outputs": [],
   "source": [
    "df2 = df.loc[ [('New York', 'Queens'),\n",
    "         ('New York', 'Bronx')] ] # list of 2 tuples"
   ]
  },
  {
   "cell_type": "code",
   "execution_count": 45,
   "metadata": {},
   "outputs": [
    {
     "output_type": "execute_result",
     "data": {
      "text/plain": [
       "                 CensusTract  TotalPop   Men  Women  Hispanic  White  Black  \\\n",
       "State    County                                                               \n",
       "New York Queens  36081029300      1217   596    621       7.5   10.9    0.0   \n",
       "         Queens  36081045600      1400   693    707       3.8    3.5    8.9   \n",
       "         Queens  36081079702      4914  2567   2347      11.6    5.0    0.3   \n",
       "         Queens  36081085300      4526  1967   2559       5.4    2.0    1.3   \n",
       "         Queens  36081086900      2350  1080   1270      12.1    1.4    1.2   \n",
       "\n",
       "                 Native  Asian  Pacific  ...  Walk  OtherTransp  WorkAtHome  \\\n",
       "State    County                          ...                                  \n",
       "New York Queens     0.0   81.6      0.0  ...   8.4          2.0         0.8   \n",
       "         Queens     0.0   82.8      0.0  ...   5.2          0.7         1.5   \n",
       "         Queens     0.0   81.3      0.0  ...  12.1          1.3         5.9   \n",
       "         Queens     0.7   89.8      0.0  ...  27.1          1.3         1.4   \n",
       "         Queens     0.0   84.1      0.0  ...  22.2          0.6         6.7   \n",
       "\n",
       "                 MeanCommute  Employed  PrivateWork  PublicWork  SelfEmployed  \\\n",
       "State    County                                                                 \n",
       "New York Queens         33.4       608         80.1        13.2           6.7   \n",
       "         Queens         45.9       625         82.6        10.1           7.4   \n",
       "         Queens         38.4      2081         84.1         4.6          11.3   \n",
       "         Queens         39.4      2364         86.8         9.4           3.8   \n",
       "         Queens         33.4      1040         91.4         1.3           7.2   \n",
       "\n",
       "                 FamilyWork  Unemployment  \n",
       "State    County                            \n",
       "New York Queens         0.0           3.9  \n",
       "         Queens         0.0          16.0  \n",
       "         Queens         0.0          10.8  \n",
       "         Queens         0.0           4.7  \n",
       "         Queens         0.0           0.9  \n",
       "\n",
       "[5 rows x 35 columns]"
      ],
      "text/html": "<div>\n<style scoped>\n    .dataframe tbody tr th:only-of-type {\n        vertical-align: middle;\n    }\n\n    .dataframe tbody tr th {\n        vertical-align: top;\n    }\n\n    .dataframe thead th {\n        text-align: right;\n    }\n</style>\n<table border=\"1\" class=\"dataframe\">\n  <thead>\n    <tr style=\"text-align: right;\">\n      <th></th>\n      <th></th>\n      <th>CensusTract</th>\n      <th>TotalPop</th>\n      <th>Men</th>\n      <th>Women</th>\n      <th>Hispanic</th>\n      <th>White</th>\n      <th>Black</th>\n      <th>Native</th>\n      <th>Asian</th>\n      <th>Pacific</th>\n      <th>...</th>\n      <th>Walk</th>\n      <th>OtherTransp</th>\n      <th>WorkAtHome</th>\n      <th>MeanCommute</th>\n      <th>Employed</th>\n      <th>PrivateWork</th>\n      <th>PublicWork</th>\n      <th>SelfEmployed</th>\n      <th>FamilyWork</th>\n      <th>Unemployment</th>\n    </tr>\n    <tr>\n      <th>State</th>\n      <th>County</th>\n      <th></th>\n      <th></th>\n      <th></th>\n      <th></th>\n      <th></th>\n      <th></th>\n      <th></th>\n      <th></th>\n      <th></th>\n      <th></th>\n      <th></th>\n      <th></th>\n      <th></th>\n      <th></th>\n      <th></th>\n      <th></th>\n      <th></th>\n      <th></th>\n      <th></th>\n      <th></th>\n      <th></th>\n    </tr>\n  </thead>\n  <tbody>\n    <tr>\n      <th rowspan=\"5\" valign=\"top\">New York</th>\n      <th>Queens</th>\n      <td>36081029300</td>\n      <td>1217</td>\n      <td>596</td>\n      <td>621</td>\n      <td>7.5</td>\n      <td>10.9</td>\n      <td>0.0</td>\n      <td>0.0</td>\n      <td>81.6</td>\n      <td>0.0</td>\n      <td>...</td>\n      <td>8.4</td>\n      <td>2.0</td>\n      <td>0.8</td>\n      <td>33.4</td>\n      <td>608</td>\n      <td>80.1</td>\n      <td>13.2</td>\n      <td>6.7</td>\n      <td>0.0</td>\n      <td>3.9</td>\n    </tr>\n    <tr>\n      <th>Queens</th>\n      <td>36081045600</td>\n      <td>1400</td>\n      <td>693</td>\n      <td>707</td>\n      <td>3.8</td>\n      <td>3.5</td>\n      <td>8.9</td>\n      <td>0.0</td>\n      <td>82.8</td>\n      <td>0.0</td>\n      <td>...</td>\n      <td>5.2</td>\n      <td>0.7</td>\n      <td>1.5</td>\n      <td>45.9</td>\n      <td>625</td>\n      <td>82.6</td>\n      <td>10.1</td>\n      <td>7.4</td>\n      <td>0.0</td>\n      <td>16.0</td>\n    </tr>\n    <tr>\n      <th>Queens</th>\n      <td>36081079702</td>\n      <td>4914</td>\n      <td>2567</td>\n      <td>2347</td>\n      <td>11.6</td>\n      <td>5.0</td>\n      <td>0.3</td>\n      <td>0.0</td>\n      <td>81.3</td>\n      <td>0.0</td>\n      <td>...</td>\n      <td>12.1</td>\n      <td>1.3</td>\n      <td>5.9</td>\n      <td>38.4</td>\n      <td>2081</td>\n      <td>84.1</td>\n      <td>4.6</td>\n      <td>11.3</td>\n      <td>0.0</td>\n      <td>10.8</td>\n    </tr>\n    <tr>\n      <th>Queens</th>\n      <td>36081085300</td>\n      <td>4526</td>\n      <td>1967</td>\n      <td>2559</td>\n      <td>5.4</td>\n      <td>2.0</td>\n      <td>1.3</td>\n      <td>0.7</td>\n      <td>89.8</td>\n      <td>0.0</td>\n      <td>...</td>\n      <td>27.1</td>\n      <td>1.3</td>\n      <td>1.4</td>\n      <td>39.4</td>\n      <td>2364</td>\n      <td>86.8</td>\n      <td>9.4</td>\n      <td>3.8</td>\n      <td>0.0</td>\n      <td>4.7</td>\n    </tr>\n    <tr>\n      <th>Queens</th>\n      <td>36081086900</td>\n      <td>2350</td>\n      <td>1080</td>\n      <td>1270</td>\n      <td>12.1</td>\n      <td>1.4</td>\n      <td>1.2</td>\n      <td>0.0</td>\n      <td>84.1</td>\n      <td>0.0</td>\n      <td>...</td>\n      <td>22.2</td>\n      <td>0.6</td>\n      <td>6.7</td>\n      <td>33.4</td>\n      <td>1040</td>\n      <td>91.4</td>\n      <td>1.3</td>\n      <td>7.2</td>\n      <td>0.0</td>\n      <td>0.9</td>\n    </tr>\n  </tbody>\n</table>\n<p>5 rows × 35 columns</p>\n</div>"
     },
     "metadata": {},
     "execution_count": 45
    }
   ],
   "source": [
    "df2 = df2[df2['Asian']>80]\n",
    "df2.head(20)"
   ]
  },
  {
   "cell_type": "code",
   "execution_count": 44,
   "metadata": {},
   "outputs": [
    {
     "output_type": "execute_result",
     "data": {
      "text/plain": [
       "                 CensusTract  TotalPop   Men  Women  Hispanic  White  Black  \\\n",
       "State    County                                                               \n",
       "New York Queens  36081029300      1217   596    621       7.5   10.9    0.0   \n",
       "         Queens  36081045600      1400   693    707       3.8    3.5    8.9   \n",
       "         Queens  36081079702      4914  2567   2347      11.6    5.0    0.3   \n",
       "         Queens  36081085300      4526  1967   2559       5.4    2.0    1.3   \n",
       "         Queens  36081086900      2350  1080   1270      12.1    1.4    1.2   \n",
       "\n",
       "                 Native  Asian  Pacific  ...  Walk  OtherTransp  WorkAtHome  \\\n",
       "State    County                          ...                                  \n",
       "New York Queens     0.0   81.6      0.0  ...   8.4          2.0         0.8   \n",
       "         Queens     0.0   82.8      0.0  ...   5.2          0.7         1.5   \n",
       "         Queens     0.0   81.3      0.0  ...  12.1          1.3         5.9   \n",
       "         Queens     0.7   89.8      0.0  ...  27.1          1.3         1.4   \n",
       "         Queens     0.0   84.1      0.0  ...  22.2          0.6         6.7   \n",
       "\n",
       "                 MeanCommute  Employed  PrivateWork  PublicWork  SelfEmployed  \\\n",
       "State    County                                                                 \n",
       "New York Queens         33.4       608         80.1        13.2           6.7   \n",
       "         Queens         45.9       625         82.6        10.1           7.4   \n",
       "         Queens         38.4      2081         84.1         4.6          11.3   \n",
       "         Queens         39.4      2364         86.8         9.4           3.8   \n",
       "         Queens         33.4      1040         91.4         1.3           7.2   \n",
       "\n",
       "                 FamilyWork  Unemployment  \n",
       "State    County                            \n",
       "New York Queens         0.0           3.9  \n",
       "         Queens         0.0          16.0  \n",
       "         Queens         0.0          10.8  \n",
       "         Queens         0.0           4.7  \n",
       "         Queens         0.0           0.9  \n",
       "\n",
       "[5 rows x 35 columns]"
      ],
      "text/html": "<div>\n<style scoped>\n    .dataframe tbody tr th:only-of-type {\n        vertical-align: middle;\n    }\n\n    .dataframe tbody tr th {\n        vertical-align: top;\n    }\n\n    .dataframe thead th {\n        text-align: right;\n    }\n</style>\n<table border=\"1\" class=\"dataframe\">\n  <thead>\n    <tr style=\"text-align: right;\">\n      <th></th>\n      <th></th>\n      <th>CensusTract</th>\n      <th>TotalPop</th>\n      <th>Men</th>\n      <th>Women</th>\n      <th>Hispanic</th>\n      <th>White</th>\n      <th>Black</th>\n      <th>Native</th>\n      <th>Asian</th>\n      <th>Pacific</th>\n      <th>...</th>\n      <th>Walk</th>\n      <th>OtherTransp</th>\n      <th>WorkAtHome</th>\n      <th>MeanCommute</th>\n      <th>Employed</th>\n      <th>PrivateWork</th>\n      <th>PublicWork</th>\n      <th>SelfEmployed</th>\n      <th>FamilyWork</th>\n      <th>Unemployment</th>\n    </tr>\n    <tr>\n      <th>State</th>\n      <th>County</th>\n      <th></th>\n      <th></th>\n      <th></th>\n      <th></th>\n      <th></th>\n      <th></th>\n      <th></th>\n      <th></th>\n      <th></th>\n      <th></th>\n      <th></th>\n      <th></th>\n      <th></th>\n      <th></th>\n      <th></th>\n      <th></th>\n      <th></th>\n      <th></th>\n      <th></th>\n      <th></th>\n      <th></th>\n    </tr>\n  </thead>\n  <tbody>\n    <tr>\n      <th rowspan=\"5\" valign=\"top\">New York</th>\n      <th>Queens</th>\n      <td>36081029300</td>\n      <td>1217</td>\n      <td>596</td>\n      <td>621</td>\n      <td>7.5</td>\n      <td>10.9</td>\n      <td>0.0</td>\n      <td>0.0</td>\n      <td>81.6</td>\n      <td>0.0</td>\n      <td>...</td>\n      <td>8.4</td>\n      <td>2.0</td>\n      <td>0.8</td>\n      <td>33.4</td>\n      <td>608</td>\n      <td>80.1</td>\n      <td>13.2</td>\n      <td>6.7</td>\n      <td>0.0</td>\n      <td>3.9</td>\n    </tr>\n    <tr>\n      <th>Queens</th>\n      <td>36081045600</td>\n      <td>1400</td>\n      <td>693</td>\n      <td>707</td>\n      <td>3.8</td>\n      <td>3.5</td>\n      <td>8.9</td>\n      <td>0.0</td>\n      <td>82.8</td>\n      <td>0.0</td>\n      <td>...</td>\n      <td>5.2</td>\n      <td>0.7</td>\n      <td>1.5</td>\n      <td>45.9</td>\n      <td>625</td>\n      <td>82.6</td>\n      <td>10.1</td>\n      <td>7.4</td>\n      <td>0.0</td>\n      <td>16.0</td>\n    </tr>\n    <tr>\n      <th>Queens</th>\n      <td>36081079702</td>\n      <td>4914</td>\n      <td>2567</td>\n      <td>2347</td>\n      <td>11.6</td>\n      <td>5.0</td>\n      <td>0.3</td>\n      <td>0.0</td>\n      <td>81.3</td>\n      <td>0.0</td>\n      <td>...</td>\n      <td>12.1</td>\n      <td>1.3</td>\n      <td>5.9</td>\n      <td>38.4</td>\n      <td>2081</td>\n      <td>84.1</td>\n      <td>4.6</td>\n      <td>11.3</td>\n      <td>0.0</td>\n      <td>10.8</td>\n    </tr>\n    <tr>\n      <th>Queens</th>\n      <td>36081085300</td>\n      <td>4526</td>\n      <td>1967</td>\n      <td>2559</td>\n      <td>5.4</td>\n      <td>2.0</td>\n      <td>1.3</td>\n      <td>0.7</td>\n      <td>89.8</td>\n      <td>0.0</td>\n      <td>...</td>\n      <td>27.1</td>\n      <td>1.3</td>\n      <td>1.4</td>\n      <td>39.4</td>\n      <td>2364</td>\n      <td>86.8</td>\n      <td>9.4</td>\n      <td>3.8</td>\n      <td>0.0</td>\n      <td>4.7</td>\n    </tr>\n    <tr>\n      <th>Queens</th>\n      <td>36081086900</td>\n      <td>2350</td>\n      <td>1080</td>\n      <td>1270</td>\n      <td>12.1</td>\n      <td>1.4</td>\n      <td>1.2</td>\n      <td>0.0</td>\n      <td>84.1</td>\n      <td>0.0</td>\n      <td>...</td>\n      <td>22.2</td>\n      <td>0.6</td>\n      <td>6.7</td>\n      <td>33.4</td>\n      <td>1040</td>\n      <td>91.4</td>\n      <td>1.3</td>\n      <td>7.2</td>\n      <td>0.0</td>\n      <td>0.9</td>\n    </tr>\n  </tbody>\n</table>\n<p>5 rows × 35 columns</p>\n</div>"
     },
     "metadata": {},
     "execution_count": 44
    }
   ],
   "source": [
    "df1 = df1[df1['Asian']>80]\n",
    "df1.head(20)"
   ]
  },
  {
   "cell_type": "code",
   "execution_count": null,
   "metadata": {},
   "outputs": [],
   "source": []
  }
 ]
}