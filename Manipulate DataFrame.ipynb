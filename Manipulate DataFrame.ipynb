{
 "metadata": {
  "language_info": {
   "codemirror_mode": {
    "name": "ipython",
    "version": 3
   },
   "file_extension": ".py",
   "mimetype": "text/x-python",
   "name": "python",
   "nbconvert_exporter": "python",
   "pygments_lexer": "ipython3",
   "version": "3.8.6-candidate"
  },
  "orig_nbformat": 2,
  "kernelspec": {
   "name": "Python 3.8.6 64-bit",
   "display_name": "Python 3.8.6 64-bit",
   "metadata": {
    "interpreter": {
     "hash": "23a0b241a33537883b39067dbbeaffacf56379d0e0386bed5fb7b1dd24f284a0"
    }
   }
  }
 },
 "nbformat": 4,
 "nbformat_minor": 2,
 "cells": [
  {
   "cell_type": "code",
   "execution_count": 1,
   "metadata": {},
   "outputs": [],
   "source": [
    "import pandas as pd"
   ]
  },
  {
   "cell_type": "code",
   "execution_count": 5,
   "metadata": {},
   "outputs": [
    {
     "output_type": "execute_result",
     "data": {
      "text/plain": [
       "   Unnamed: 0  S.No.           start            end               president  \\\n",
       "0           0      1  April 30, 1789  March 4, 1797       George Washington   \n",
       "1           1      2   March 4, 1797  March 4, 1801              John Adams   \n",
       "2           2      3   March 4, 1801  March 4, 1809        Thomas Jefferson   \n",
       "3           3      4   March 4, 1809  March 4, 1817           James Madison   \n",
       "4           4      5   March 4, 1817  March 4, 1825            James Monroe   \n",
       "5           5      6   March 4, 1825  March 4, 1829       John Quincy Adams   \n",
       "6           6      7   March 4, 1829  March 4, 1837          Andrew Jackson   \n",
       "7           7      8   March 4, 1837  March 4, 1841        Martin Van Buren   \n",
       "8           8      9   March 4, 1841  April 4, 1841  William Henry Harrison   \n",
       "9           9     10   April 4, 1841  March 4, 1845              John Tyler   \n",
       "\n",
       "                                               prior  \\\n",
       "0  Commander-in-Chief  of the  Continental Army  ...   \n",
       "1           1st  Vice President of the United States   \n",
       "2           2nd  Vice President of the United States   \n",
       "3  5th  United States Secretary of State   (1801–...   \n",
       "4  7th  United States Secretary of State   (1811–...   \n",
       "5  8th  United States Secretary of State   (1817–...   \n",
       "6  U.S. Senator   ( Class 2 )   from  Tennessee  ...   \n",
       "7           8th  Vice President of the United States   \n",
       "8   United States Minister to Colombia   (1828–1829)   \n",
       "9          10th  Vice President of the United States   \n",
       "\n",
       "                                         party                    vice  \n",
       "0                           Nonpartisan   [13]              John Adams  \n",
       "1                                   Federalist        Thomas Jefferson  \n",
       "2                      Democratic-  Republican              Aaron Burr  \n",
       "3                      Democratic-  Republican          George Clinton  \n",
       "4                      Democratic-  Republican      Daniel D. Tompkins  \n",
       "5                      Democratic-  Republican         John C. Calhoun  \n",
       "6                                   Democratic         John C. Calhoun  \n",
       "7                                   Democratic  Richard Mentor Johnson  \n",
       "8                                         Whig              John Tyler  \n",
       "9  Whig   April 4, 1841  –  September 13, 1841           Office vacant  "
      ],
      "text/html": "<div>\n<style scoped>\n    .dataframe tbody tr th:only-of-type {\n        vertical-align: middle;\n    }\n\n    .dataframe tbody tr th {\n        vertical-align: top;\n    }\n\n    .dataframe thead th {\n        text-align: right;\n    }\n</style>\n<table border=\"1\" class=\"dataframe\">\n  <thead>\n    <tr style=\"text-align: right;\">\n      <th></th>\n      <th>Unnamed: 0</th>\n      <th>S.No.</th>\n      <th>start</th>\n      <th>end</th>\n      <th>president</th>\n      <th>prior</th>\n      <th>party</th>\n      <th>vice</th>\n    </tr>\n  </thead>\n  <tbody>\n    <tr>\n      <th>0</th>\n      <td>0</td>\n      <td>1</td>\n      <td>April 30, 1789</td>\n      <td>March 4, 1797</td>\n      <td>George Washington</td>\n      <td>Commander-in-Chief  of the  Continental Army  ...</td>\n      <td>Nonpartisan   [13]</td>\n      <td>John Adams</td>\n    </tr>\n    <tr>\n      <th>1</th>\n      <td>1</td>\n      <td>2</td>\n      <td>March 4, 1797</td>\n      <td>March 4, 1801</td>\n      <td>John Adams</td>\n      <td>1st  Vice President of the United States</td>\n      <td>Federalist</td>\n      <td>Thomas Jefferson</td>\n    </tr>\n    <tr>\n      <th>2</th>\n      <td>2</td>\n      <td>3</td>\n      <td>March 4, 1801</td>\n      <td>March 4, 1809</td>\n      <td>Thomas Jefferson</td>\n      <td>2nd  Vice President of the United States</td>\n      <td>Democratic-  Republican</td>\n      <td>Aaron Burr</td>\n    </tr>\n    <tr>\n      <th>3</th>\n      <td>3</td>\n      <td>4</td>\n      <td>March 4, 1809</td>\n      <td>March 4, 1817</td>\n      <td>James Madison</td>\n      <td>5th  United States Secretary of State   (1801–...</td>\n      <td>Democratic-  Republican</td>\n      <td>George Clinton</td>\n    </tr>\n    <tr>\n      <th>4</th>\n      <td>4</td>\n      <td>5</td>\n      <td>March 4, 1817</td>\n      <td>March 4, 1825</td>\n      <td>James Monroe</td>\n      <td>7th  United States Secretary of State   (1811–...</td>\n      <td>Democratic-  Republican</td>\n      <td>Daniel D. Tompkins</td>\n    </tr>\n    <tr>\n      <th>5</th>\n      <td>5</td>\n      <td>6</td>\n      <td>March 4, 1825</td>\n      <td>March 4, 1829</td>\n      <td>John Quincy Adams</td>\n      <td>8th  United States Secretary of State   (1817–...</td>\n      <td>Democratic-  Republican</td>\n      <td>John C. Calhoun</td>\n    </tr>\n    <tr>\n      <th>6</th>\n      <td>6</td>\n      <td>7</td>\n      <td>March 4, 1829</td>\n      <td>March 4, 1837</td>\n      <td>Andrew Jackson</td>\n      <td>U.S. Senator   ( Class 2 )   from  Tennessee  ...</td>\n      <td>Democratic</td>\n      <td>John C. Calhoun</td>\n    </tr>\n    <tr>\n      <th>7</th>\n      <td>7</td>\n      <td>8</td>\n      <td>March 4, 1837</td>\n      <td>March 4, 1841</td>\n      <td>Martin Van Buren</td>\n      <td>8th  Vice President of the United States</td>\n      <td>Democratic</td>\n      <td>Richard Mentor Johnson</td>\n    </tr>\n    <tr>\n      <th>8</th>\n      <td>8</td>\n      <td>9</td>\n      <td>March 4, 1841</td>\n      <td>April 4, 1841</td>\n      <td>William Henry Harrison</td>\n      <td>United States Minister to Colombia   (1828–1829)</td>\n      <td>Whig</td>\n      <td>John Tyler</td>\n    </tr>\n    <tr>\n      <th>9</th>\n      <td>9</td>\n      <td>10</td>\n      <td>April 4, 1841</td>\n      <td>March 4, 1845</td>\n      <td>John Tyler</td>\n      <td>10th  Vice President of the United States</td>\n      <td>Whig   April 4, 1841  –  September 13, 1841</td>\n      <td>Office vacant</td>\n    </tr>\n  </tbody>\n</table>\n</div>"
     },
     "metadata": {},
     "execution_count": 5
    }
   ],
   "source": [
    "df = pd.read_csv('us_presidents.csv')\n",
    "df.head(10)"
   ]
  },
  {
   "cell_type": "code",
   "execution_count": 8,
   "metadata": {},
   "outputs": [
    {
     "output_type": "execute_result",
     "data": {
      "text/plain": [
       "   Unnamed: 0  S.No.           start            end          president  \\\n",
       "0           0      1  April 30, 1789  March 4, 1797  George Washington   \n",
       "1           1      2   March 4, 1797  March 4, 1801         John Adams   \n",
       "2           2      3   March 4, 1801  March 4, 1809   Thomas Jefferson   \n",
       "3           3      4   March 4, 1809  March 4, 1817      James Madison   \n",
       "4           4      5   March 4, 1817  March 4, 1825       James Monroe   \n",
       "\n",
       "                                               prior                    party  \\\n",
       "0  Commander-in-Chief  of the  Continental Army  ...       Nonpartisan   [13]   \n",
       "1           1st  Vice President of the United States               Federalist   \n",
       "2           2nd  Vice President of the United States  Democratic-  Republican   \n",
       "3  5th  United States Secretary of State   (1801–...  Democratic-  Republican   \n",
       "4  7th  United States Secretary of State   (1811–...  Democratic-  Republican   \n",
       "\n",
       "                 vice   First  \n",
       "0          John Adams  George  \n",
       "1    Thomas Jefferson    John  \n",
       "2          Aaron Burr  Thomas  \n",
       "3      George Clinton   James  \n",
       "4  Daniel D. Tompkins   James  "
      ],
      "text/html": "<div>\n<style scoped>\n    .dataframe tbody tr th:only-of-type {\n        vertical-align: middle;\n    }\n\n    .dataframe tbody tr th {\n        vertical-align: top;\n    }\n\n    .dataframe thead th {\n        text-align: right;\n    }\n</style>\n<table border=\"1\" class=\"dataframe\">\n  <thead>\n    <tr style=\"text-align: right;\">\n      <th></th>\n      <th>Unnamed: 0</th>\n      <th>S.No.</th>\n      <th>start</th>\n      <th>end</th>\n      <th>president</th>\n      <th>prior</th>\n      <th>party</th>\n      <th>vice</th>\n      <th>First</th>\n    </tr>\n  </thead>\n  <tbody>\n    <tr>\n      <th>0</th>\n      <td>0</td>\n      <td>1</td>\n      <td>April 30, 1789</td>\n      <td>March 4, 1797</td>\n      <td>George Washington</td>\n      <td>Commander-in-Chief  of the  Continental Army  ...</td>\n      <td>Nonpartisan   [13]</td>\n      <td>John Adams</td>\n      <td>George</td>\n    </tr>\n    <tr>\n      <th>1</th>\n      <td>1</td>\n      <td>2</td>\n      <td>March 4, 1797</td>\n      <td>March 4, 1801</td>\n      <td>John Adams</td>\n      <td>1st  Vice President of the United States</td>\n      <td>Federalist</td>\n      <td>Thomas Jefferson</td>\n      <td>John</td>\n    </tr>\n    <tr>\n      <th>2</th>\n      <td>2</td>\n      <td>3</td>\n      <td>March 4, 1801</td>\n      <td>March 4, 1809</td>\n      <td>Thomas Jefferson</td>\n      <td>2nd  Vice President of the United States</td>\n      <td>Democratic-  Republican</td>\n      <td>Aaron Burr</td>\n      <td>Thomas</td>\n    </tr>\n    <tr>\n      <th>3</th>\n      <td>3</td>\n      <td>4</td>\n      <td>March 4, 1809</td>\n      <td>March 4, 1817</td>\n      <td>James Madison</td>\n      <td>5th  United States Secretary of State   (1801–...</td>\n      <td>Democratic-  Republican</td>\n      <td>George Clinton</td>\n      <td>James</td>\n    </tr>\n    <tr>\n      <th>4</th>\n      <td>4</td>\n      <td>5</td>\n      <td>March 4, 1817</td>\n      <td>March 4, 1825</td>\n      <td>James Monroe</td>\n      <td>7th  United States Secretary of State   (1811–...</td>\n      <td>Democratic-  Republican</td>\n      <td>Daniel D. Tompkins</td>\n      <td>James</td>\n    </tr>\n  </tbody>\n</table>\n</div>"
     },
     "metadata": {},
     "execution_count": 8
    }
   ],
   "source": [
    "df['First'] = df['president']\n",
    "df['First'] = df['First'].replace(\"[ ].*\", \"\", regex=True)\n",
    "df.head()"
   ]
  },
  {
   "cell_type": "code",
   "execution_count": 9,
   "metadata": {},
   "outputs": [],
   "source": [
    "del(df['First'])"
   ]
  },
  {
   "cell_type": "code",
   "execution_count": 12,
   "metadata": {},
   "outputs": [],
   "source": [
    "def splitname(row):\n",
    "    row['First'] = row['president'].split(\" \")[0]\n",
    "    row['Last'] = row['president'].split(\" \")[-1]\n",
    "    return row"
   ]
  },
  {
   "cell_type": "code",
   "execution_count": 14,
   "metadata": {},
   "outputs": [
    {
     "output_type": "execute_result",
     "data": {
      "text/plain": [
       "   Unnamed: 0  S.No.           start            end          president  \\\n",
       "0           0      1  April 30, 1789  March 4, 1797  George Washington   \n",
       "1           1      2   March 4, 1797  March 4, 1801         John Adams   \n",
       "2           2      3   March 4, 1801  March 4, 1809   Thomas Jefferson   \n",
       "3           3      4   March 4, 1809  March 4, 1817      James Madison   \n",
       "4           4      5   March 4, 1817  March 4, 1825       James Monroe   \n",
       "\n",
       "                                               prior                    party  \\\n",
       "0  Commander-in-Chief  of the  Continental Army  ...       Nonpartisan   [13]   \n",
       "1           1st  Vice President of the United States               Federalist   \n",
       "2           2nd  Vice President of the United States  Democratic-  Republican   \n",
       "3  5th  United States Secretary of State   (1801–...  Democratic-  Republican   \n",
       "4  7th  United States Secretary of State   (1811–...  Democratic-  Republican   \n",
       "\n",
       "                 vice   First        Last  \n",
       "0          John Adams  George  Washington  \n",
       "1    Thomas Jefferson    John       Adams  \n",
       "2          Aaron Burr  Thomas   Jefferson  \n",
       "3      George Clinton   James     Madison  \n",
       "4  Daniel D. Tompkins   James      Monroe  "
      ],
      "text/html": "<div>\n<style scoped>\n    .dataframe tbody tr th:only-of-type {\n        vertical-align: middle;\n    }\n\n    .dataframe tbody tr th {\n        vertical-align: top;\n    }\n\n    .dataframe thead th {\n        text-align: right;\n    }\n</style>\n<table border=\"1\" class=\"dataframe\">\n  <thead>\n    <tr style=\"text-align: right;\">\n      <th></th>\n      <th>Unnamed: 0</th>\n      <th>S.No.</th>\n      <th>start</th>\n      <th>end</th>\n      <th>president</th>\n      <th>prior</th>\n      <th>party</th>\n      <th>vice</th>\n      <th>First</th>\n      <th>Last</th>\n    </tr>\n  </thead>\n  <tbody>\n    <tr>\n      <th>0</th>\n      <td>0</td>\n      <td>1</td>\n      <td>April 30, 1789</td>\n      <td>March 4, 1797</td>\n      <td>George Washington</td>\n      <td>Commander-in-Chief  of the  Continental Army  ...</td>\n      <td>Nonpartisan   [13]</td>\n      <td>John Adams</td>\n      <td>George</td>\n      <td>Washington</td>\n    </tr>\n    <tr>\n      <th>1</th>\n      <td>1</td>\n      <td>2</td>\n      <td>March 4, 1797</td>\n      <td>March 4, 1801</td>\n      <td>John Adams</td>\n      <td>1st  Vice President of the United States</td>\n      <td>Federalist</td>\n      <td>Thomas Jefferson</td>\n      <td>John</td>\n      <td>Adams</td>\n    </tr>\n    <tr>\n      <th>2</th>\n      <td>2</td>\n      <td>3</td>\n      <td>March 4, 1801</td>\n      <td>March 4, 1809</td>\n      <td>Thomas Jefferson</td>\n      <td>2nd  Vice President of the United States</td>\n      <td>Democratic-  Republican</td>\n      <td>Aaron Burr</td>\n      <td>Thomas</td>\n      <td>Jefferson</td>\n    </tr>\n    <tr>\n      <th>3</th>\n      <td>3</td>\n      <td>4</td>\n      <td>March 4, 1809</td>\n      <td>March 4, 1817</td>\n      <td>James Madison</td>\n      <td>5th  United States Secretary of State   (1801–...</td>\n      <td>Democratic-  Republican</td>\n      <td>George Clinton</td>\n      <td>James</td>\n      <td>Madison</td>\n    </tr>\n    <tr>\n      <th>4</th>\n      <td>4</td>\n      <td>5</td>\n      <td>March 4, 1817</td>\n      <td>March 4, 1825</td>\n      <td>James Monroe</td>\n      <td>7th  United States Secretary of State   (1811–...</td>\n      <td>Democratic-  Republican</td>\n      <td>Daniel D. Tompkins</td>\n      <td>James</td>\n      <td>Monroe</td>\n    </tr>\n  </tbody>\n</table>\n</div>"
     },
     "metadata": {},
     "execution_count": 14
    }
   ],
   "source": [
    "df = df.apply(splitname, axis='columns')\n",
    "df.head()"
   ]
  },
  {
   "cell_type": "code",
   "execution_count": 15,
   "metadata": {},
   "outputs": [],
   "source": [
    "del(df['First'])\n",
    "del(df['Last'])"
   ]
  },
  {
   "cell_type": "code",
   "execution_count": 17,
   "metadata": {},
   "outputs": [
    {
     "output_type": "execute_result",
     "data": {
      "text/plain": [
       "        0           1\n",
       "0  George  Washington\n",
       "1    John       Adams\n",
       "2  Thomas   Jefferson\n",
       "3   James     Madison\n",
       "4   James      Monroe"
      ],
      "text/html": "<div>\n<style scoped>\n    .dataframe tbody tr th:only-of-type {\n        vertical-align: middle;\n    }\n\n    .dataframe tbody tr th {\n        vertical-align: top;\n    }\n\n    .dataframe thead th {\n        text-align: right;\n    }\n</style>\n<table border=\"1\" class=\"dataframe\">\n  <thead>\n    <tr style=\"text-align: right;\">\n      <th></th>\n      <th>0</th>\n      <th>1</th>\n    </tr>\n  </thead>\n  <tbody>\n    <tr>\n      <th>0</th>\n      <td>George</td>\n      <td>Washington</td>\n    </tr>\n    <tr>\n      <th>1</th>\n      <td>John</td>\n      <td>Adams</td>\n    </tr>\n    <tr>\n      <th>2</th>\n      <td>Thomas</td>\n      <td>Jefferson</td>\n    </tr>\n    <tr>\n      <th>3</th>\n      <td>James</td>\n      <td>Madison</td>\n    </tr>\n    <tr>\n      <th>4</th>\n      <td>James</td>\n      <td>Monroe</td>\n    </tr>\n  </tbody>\n</table>\n</div>"
     },
     "metadata": {},
     "execution_count": 17
    }
   ],
   "source": [
    "# returns groups and just had firstname and lastname\n",
    "pattern = \"(^[\\w]*)(?:.* )([\\w]*$)\"\n",
    "df['president'].str.extract(pattern).head()"
   ]
  },
  {
   "cell_type": "code",
   "execution_count": 25,
   "metadata": {},
   "outputs": [],
   "source": [
    "# name the groups we get named columns out\n",
    "pattern = \"(?P<First>^[\\w]*)(?:.* )(?P<Last>[\\w]*$)\"\n",
    "names = df['president'].str.extract(pattern).head()"
   ]
  },
  {
   "cell_type": "code",
   "execution_count": 26,
   "metadata": {},
   "outputs": [
    {
     "output_type": "execute_result",
     "data": {
      "text/plain": [
       "   Unnamed: 0  S.No.           start            end          president  \\\n",
       "0           0      1  April 30, 1789  March 4, 1797  George Washington   \n",
       "1           1      2   March 4, 1797  March 4, 1801         John Adams   \n",
       "2           2      3   March 4, 1801  March 4, 1809   Thomas Jefferson   \n",
       "3           3      4   March 4, 1809  March 4, 1817      James Madison   \n",
       "4           4      5   March 4, 1817  March 4, 1825       James Monroe   \n",
       "\n",
       "                                               prior                    party  \\\n",
       "0  Commander-in-Chief  of the  Continental Army  ...       Nonpartisan   [13]   \n",
       "1           1st  Vice President of the United States               Federalist   \n",
       "2           2nd  Vice President of the United States  Democratic-  Republican   \n",
       "3  5th  United States Secretary of State   (1801–...  Democratic-  Republican   \n",
       "4  7th  United States Secretary of State   (1811–...  Democratic-  Republican   \n",
       "\n",
       "                 vice   First        Last  \n",
       "0          John Adams  George  Washington  \n",
       "1    Thomas Jefferson    John       Adams  \n",
       "2          Aaron Burr  Thomas   Jefferson  \n",
       "3      George Clinton   James     Madison  \n",
       "4  Daniel D. Tompkins   James      Monroe  "
      ],
      "text/html": "<div>\n<style scoped>\n    .dataframe tbody tr th:only-of-type {\n        vertical-align: middle;\n    }\n\n    .dataframe tbody tr th {\n        vertical-align: top;\n    }\n\n    .dataframe thead th {\n        text-align: right;\n    }\n</style>\n<table border=\"1\" class=\"dataframe\">\n  <thead>\n    <tr style=\"text-align: right;\">\n      <th></th>\n      <th>Unnamed: 0</th>\n      <th>S.No.</th>\n      <th>start</th>\n      <th>end</th>\n      <th>president</th>\n      <th>prior</th>\n      <th>party</th>\n      <th>vice</th>\n      <th>First</th>\n      <th>Last</th>\n    </tr>\n  </thead>\n  <tbody>\n    <tr>\n      <th>0</th>\n      <td>0</td>\n      <td>1</td>\n      <td>April 30, 1789</td>\n      <td>March 4, 1797</td>\n      <td>George Washington</td>\n      <td>Commander-in-Chief  of the  Continental Army  ...</td>\n      <td>Nonpartisan   [13]</td>\n      <td>John Adams</td>\n      <td>George</td>\n      <td>Washington</td>\n    </tr>\n    <tr>\n      <th>1</th>\n      <td>1</td>\n      <td>2</td>\n      <td>March 4, 1797</td>\n      <td>March 4, 1801</td>\n      <td>John Adams</td>\n      <td>1st  Vice President of the United States</td>\n      <td>Federalist</td>\n      <td>Thomas Jefferson</td>\n      <td>John</td>\n      <td>Adams</td>\n    </tr>\n    <tr>\n      <th>2</th>\n      <td>2</td>\n      <td>3</td>\n      <td>March 4, 1801</td>\n      <td>March 4, 1809</td>\n      <td>Thomas Jefferson</td>\n      <td>2nd  Vice President of the United States</td>\n      <td>Democratic-  Republican</td>\n      <td>Aaron Burr</td>\n      <td>Thomas</td>\n      <td>Jefferson</td>\n    </tr>\n    <tr>\n      <th>3</th>\n      <td>3</td>\n      <td>4</td>\n      <td>March 4, 1809</td>\n      <td>March 4, 1817</td>\n      <td>James Madison</td>\n      <td>5th  United States Secretary of State   (1801–...</td>\n      <td>Democratic-  Republican</td>\n      <td>George Clinton</td>\n      <td>James</td>\n      <td>Madison</td>\n    </tr>\n    <tr>\n      <th>4</th>\n      <td>4</td>\n      <td>5</td>\n      <td>March 4, 1817</td>\n      <td>March 4, 1825</td>\n      <td>James Monroe</td>\n      <td>7th  United States Secretary of State   (1811–...</td>\n      <td>Democratic-  Republican</td>\n      <td>Daniel D. Tompkins</td>\n      <td>James</td>\n      <td>Monroe</td>\n    </tr>\n  </tbody>\n</table>\n</div>"
     },
     "metadata": {},
     "execution_count": 26
    }
   ],
   "source": [
    "df['First'] = names[\"First\"]\n",
    "df['Last'] = names['Last']\n",
    "df.head()"
   ]
  },
  {
   "cell_type": "code",
   "execution_count": 32,
   "metadata": {},
   "outputs": [
    {
     "output_type": "execute_result",
     "data": {
      "text/plain": [
       "   Case No  Subject ID Admission Date\\n(dd/mm/yyyy)  \\\n",
       "0    90001           1                     7/1/2017   \n",
       "1    90002           2                     2/1/2017   \n",
       "2    90003           3                   26/12/2016   \n",
       "3    90004           3                    17/1/2017   \n",
       "4    90049           3                    20/3/2017   \n",
       "\n",
       "  Discharge Date\\n(dd/mm/yyyy)  Age\\n(Years)     Race  Gender  Adm Type Desc  \\\n",
       "0                    13/1/2017            65  Chinese    Male      Emergency   \n",
       "1                     4/1/2017            52  Chinese    Male      Emergency   \n",
       "2                     6/1/2017            73  Chinese  Female      Emergency   \n",
       "3                    20/1/2017            73  Chinese  Female  Elective inpa   \n",
       "4                    23/3/2017            73  Chinese  Female  Elective inpa   \n",
       "\n",
       "  Age Group      LOS  Readmitted_30  \n",
       "0     51-60   6 days              0  \n",
       "1     41-50   2 days              0  \n",
       "2     61-70  11 days              1  \n",
       "3     61-70   3 days              0  \n",
       "4     61-70   3 days              1  "
      ],
      "text/html": "<div>\n<style scoped>\n    .dataframe tbody tr th:only-of-type {\n        vertical-align: middle;\n    }\n\n    .dataframe tbody tr th {\n        vertical-align: top;\n    }\n\n    .dataframe thead th {\n        text-align: right;\n    }\n</style>\n<table border=\"1\" class=\"dataframe\">\n  <thead>\n    <tr style=\"text-align: right;\">\n      <th></th>\n      <th>Case No</th>\n      <th>Subject ID</th>\n      <th>Admission Date\\n(dd/mm/yyyy)</th>\n      <th>Discharge Date\\n(dd/mm/yyyy)</th>\n      <th>Age\\n(Years)</th>\n      <th>Race</th>\n      <th>Gender</th>\n      <th>Adm Type Desc</th>\n      <th>Age Group</th>\n      <th>LOS</th>\n      <th>Readmitted_30</th>\n    </tr>\n  </thead>\n  <tbody>\n    <tr>\n      <th>0</th>\n      <td>90001</td>\n      <td>1</td>\n      <td>7/1/2017</td>\n      <td>13/1/2017</td>\n      <td>65</td>\n      <td>Chinese</td>\n      <td>Male</td>\n      <td>Emergency</td>\n      <td>51-60</td>\n      <td>6 days</td>\n      <td>0</td>\n    </tr>\n    <tr>\n      <th>1</th>\n      <td>90002</td>\n      <td>2</td>\n      <td>2/1/2017</td>\n      <td>4/1/2017</td>\n      <td>52</td>\n      <td>Chinese</td>\n      <td>Male</td>\n      <td>Emergency</td>\n      <td>41-50</td>\n      <td>2 days</td>\n      <td>0</td>\n    </tr>\n    <tr>\n      <th>2</th>\n      <td>90003</td>\n      <td>3</td>\n      <td>26/12/2016</td>\n      <td>6/1/2017</td>\n      <td>73</td>\n      <td>Chinese</td>\n      <td>Female</td>\n      <td>Emergency</td>\n      <td>61-70</td>\n      <td>11 days</td>\n      <td>1</td>\n    </tr>\n    <tr>\n      <th>3</th>\n      <td>90004</td>\n      <td>3</td>\n      <td>17/1/2017</td>\n      <td>20/1/2017</td>\n      <td>73</td>\n      <td>Chinese</td>\n      <td>Female</td>\n      <td>Elective inpa</td>\n      <td>61-70</td>\n      <td>3 days</td>\n      <td>0</td>\n    </tr>\n    <tr>\n      <th>4</th>\n      <td>90049</td>\n      <td>3</td>\n      <td>20/3/2017</td>\n      <td>23/3/2017</td>\n      <td>73</td>\n      <td>Chinese</td>\n      <td>Female</td>\n      <td>Elective inpa</td>\n      <td>61-70</td>\n      <td>3 days</td>\n      <td>1</td>\n    </tr>\n  </tbody>\n</table>\n</div>"
     },
     "metadata": {},
     "execution_count": 32
    }
   ],
   "source": [
    "patdf = pd.read_csv('Inpatient.csv')\n",
    "patdf.head()"
   ]
  },
  {
   "cell_type": "code",
   "execution_count": 39,
   "metadata": {},
   "outputs": [],
   "source": [
    "#df['Born'] = df['born'].str.extract(\"([\\w]{3} [\\w]{1,2}, [\\w]{4})\")\n",
    "#df['Born'].head()"
   ]
  },
  {
   "cell_type": "code",
   "execution_count": 40,
   "metadata": {},
   "outputs": [
    {
     "output_type": "execute_result",
     "data": {
      "text/plain": [
       "   Case No  Subject ID Admission Date\\n(dd/mm/yyyy)  \\\n",
       "0    90001           1                   2017-07-01   \n",
       "1    90002           2                   2017-02-01   \n",
       "2    90003           3                   2016-12-26   \n",
       "3    90004           3                   2017-01-17   \n",
       "4    90049           3                   2017-03-20   \n",
       "5    90032           3                   2017-02-13   \n",
       "6    90005           4                   2017-01-28   \n",
       "7    90006           5                   2017-02-01   \n",
       "8    90007           6                   2017-01-13   \n",
       "9    90008           7                   2017-09-01   \n",
       "\n",
       "  Discharge Date\\n(dd/mm/yyyy)  Age\\n(Years)     Race  Gender  Adm Type Desc  \\\n",
       "0                   2017-01-13            65  Chinese    Male      Emergency   \n",
       "1                   2017-04-01            52  Chinese    Male      Emergency   \n",
       "2                   2017-06-01            73  Chinese  Female      Emergency   \n",
       "3                   2017-01-20            73  Chinese  Female  Elective inpa   \n",
       "4                   2017-03-23            73  Chinese  Female  Elective inpa   \n",
       "5                   2017-02-16            73  Chinese  Female  Elective inpa   \n",
       "6                   2017-01-31            74    Malay  Female      Emergency   \n",
       "7                   2017-06-01            53   Indian    Male      Emergency   \n",
       "8                   2017-01-16            69    Malay  Female      Emergency   \n",
       "9                   2017-10-01            51   Indian    Male      Emergency   \n",
       "\n",
       "  Age Group      LOS  Readmitted_30  \n",
       "0     51-60   6 days              0  \n",
       "1     41-50   2 days              0  \n",
       "2     61-70  11 days              1  \n",
       "3     61-70   3 days              0  \n",
       "4     61-70   3 days              1  \n",
       "5     61-70   3 days              0  \n",
       "6     61-70   3 days              0  \n",
       "7     41-50   4 days              0  \n",
       "8     51-60   3 days              0  \n",
       "9     41-50   1 days              0  "
      ],
      "text/html": "<div>\n<style scoped>\n    .dataframe tbody tr th:only-of-type {\n        vertical-align: middle;\n    }\n\n    .dataframe tbody tr th {\n        vertical-align: top;\n    }\n\n    .dataframe thead th {\n        text-align: right;\n    }\n</style>\n<table border=\"1\" class=\"dataframe\">\n  <thead>\n    <tr style=\"text-align: right;\">\n      <th></th>\n      <th>Case No</th>\n      <th>Subject ID</th>\n      <th>Admission Date\\n(dd/mm/yyyy)</th>\n      <th>Discharge Date\\n(dd/mm/yyyy)</th>\n      <th>Age\\n(Years)</th>\n      <th>Race</th>\n      <th>Gender</th>\n      <th>Adm Type Desc</th>\n      <th>Age Group</th>\n      <th>LOS</th>\n      <th>Readmitted_30</th>\n    </tr>\n  </thead>\n  <tbody>\n    <tr>\n      <th>0</th>\n      <td>90001</td>\n      <td>1</td>\n      <td>2017-07-01</td>\n      <td>2017-01-13</td>\n      <td>65</td>\n      <td>Chinese</td>\n      <td>Male</td>\n      <td>Emergency</td>\n      <td>51-60</td>\n      <td>6 days</td>\n      <td>0</td>\n    </tr>\n    <tr>\n      <th>1</th>\n      <td>90002</td>\n      <td>2</td>\n      <td>2017-02-01</td>\n      <td>2017-04-01</td>\n      <td>52</td>\n      <td>Chinese</td>\n      <td>Male</td>\n      <td>Emergency</td>\n      <td>41-50</td>\n      <td>2 days</td>\n      <td>0</td>\n    </tr>\n    <tr>\n      <th>2</th>\n      <td>90003</td>\n      <td>3</td>\n      <td>2016-12-26</td>\n      <td>2017-06-01</td>\n      <td>73</td>\n      <td>Chinese</td>\n      <td>Female</td>\n      <td>Emergency</td>\n      <td>61-70</td>\n      <td>11 days</td>\n      <td>1</td>\n    </tr>\n    <tr>\n      <th>3</th>\n      <td>90004</td>\n      <td>3</td>\n      <td>2017-01-17</td>\n      <td>2017-01-20</td>\n      <td>73</td>\n      <td>Chinese</td>\n      <td>Female</td>\n      <td>Elective inpa</td>\n      <td>61-70</td>\n      <td>3 days</td>\n      <td>0</td>\n    </tr>\n    <tr>\n      <th>4</th>\n      <td>90049</td>\n      <td>3</td>\n      <td>2017-03-20</td>\n      <td>2017-03-23</td>\n      <td>73</td>\n      <td>Chinese</td>\n      <td>Female</td>\n      <td>Elective inpa</td>\n      <td>61-70</td>\n      <td>3 days</td>\n      <td>1</td>\n    </tr>\n    <tr>\n      <th>5</th>\n      <td>90032</td>\n      <td>3</td>\n      <td>2017-02-13</td>\n      <td>2017-02-16</td>\n      <td>73</td>\n      <td>Chinese</td>\n      <td>Female</td>\n      <td>Elective inpa</td>\n      <td>61-70</td>\n      <td>3 days</td>\n      <td>0</td>\n    </tr>\n    <tr>\n      <th>6</th>\n      <td>90005</td>\n      <td>4</td>\n      <td>2017-01-28</td>\n      <td>2017-01-31</td>\n      <td>74</td>\n      <td>Malay</td>\n      <td>Female</td>\n      <td>Emergency</td>\n      <td>61-70</td>\n      <td>3 days</td>\n      <td>0</td>\n    </tr>\n    <tr>\n      <th>7</th>\n      <td>90006</td>\n      <td>5</td>\n      <td>2017-02-01</td>\n      <td>2017-06-01</td>\n      <td>53</td>\n      <td>Indian</td>\n      <td>Male</td>\n      <td>Emergency</td>\n      <td>41-50</td>\n      <td>4 days</td>\n      <td>0</td>\n    </tr>\n    <tr>\n      <th>8</th>\n      <td>90007</td>\n      <td>6</td>\n      <td>2017-01-13</td>\n      <td>2017-01-16</td>\n      <td>69</td>\n      <td>Malay</td>\n      <td>Female</td>\n      <td>Emergency</td>\n      <td>51-60</td>\n      <td>3 days</td>\n      <td>0</td>\n    </tr>\n    <tr>\n      <th>9</th>\n      <td>90008</td>\n      <td>7</td>\n      <td>2017-09-01</td>\n      <td>2017-10-01</td>\n      <td>51</td>\n      <td>Indian</td>\n      <td>Male</td>\n      <td>Emergency</td>\n      <td>41-50</td>\n      <td>1 days</td>\n      <td>0</td>\n    </tr>\n  </tbody>\n</table>\n</div>"
     },
     "metadata": {},
     "execution_count": 40
    }
   ],
   "source": [
    "patdf['Admission Date\\n(dd/mm/yyyy)'] = pd.to_datetime(patdf['Admission Date\\n(dd/mm/yyyy)'])\n",
    "patdf['Discharge Date\\n(dd/mm/yyyy)'] = pd.to_datetime(patdf['Discharge Date\\n(dd/mm/yyyy)'])\n",
    "patdf.head(10)"
   ]
  },
  {
   "cell_type": "code",
   "execution_count": null,
   "metadata": {},
   "outputs": [],
   "source": []
  }
 ]
}