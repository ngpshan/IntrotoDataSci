{
 "metadata": {
  "language_info": {
   "codemirror_mode": {
    "name": "ipython",
    "version": 3
   },
   "file_extension": ".py",
   "mimetype": "text/x-python",
   "name": "python",
   "nbconvert_exporter": "python",
   "pygments_lexer": "ipython3",
   "version": "3.8.6-candidate"
  },
  "orig_nbformat": 2,
  "kernelspec": {
   "name": "Python 3.8.6 64-bit",
   "display_name": "Python 3.8.6 64-bit",
   "metadata": {
    "interpreter": {
     "hash": "23a0b241a33537883b39067dbbeaffacf56379d0e0386bed5fb7b1dd24f284a0"
    }
   }
  }
 },
 "nbformat": 4,
 "nbformat_minor": 2,
 "cells": [
  {
   "cell_type": "code",
   "execution_count": 3,
   "metadata": {},
   "outputs": [],
   "source": [
    "import pandas as pd"
   ]
  },
  {
   "cell_type": "code",
   "execution_count": 4,
   "metadata": {},
   "outputs": [],
   "source": [
    "staff_df = pd.DataFrame([\n",
    "    {'Name': 'Kevin',\n",
    "    'Role': 'Assistant Manager'},\n",
    "    {'Name': 'Sam',\n",
    "    'Role': 'Manager'},\n",
    "    {'Name': 'Jeanette',\n",
    "    'Role': 'Director'}])\n",
    "# index staff by NAME\n",
    "staff_df = staff_df.set_index('Name')"
   ]
  },
  {
   "cell_type": "code",
   "execution_count": 7,
   "metadata": {},
   "outputs": [
    {
     "output_type": "execute_result",
     "data": {
      "text/plain": [
       "                       Role\n",
       "Name                       \n",
       "Kevin     Assistant Manager\n",
       "Sam                 Manager\n",
       "Jeanette           Director"
      ],
      "text/html": "<div>\n<style scoped>\n    .dataframe tbody tr th:only-of-type {\n        vertical-align: middle;\n    }\n\n    .dataframe tbody tr th {\n        vertical-align: top;\n    }\n\n    .dataframe thead th {\n        text-align: right;\n    }\n</style>\n<table border=\"1\" class=\"dataframe\">\n  <thead>\n    <tr style=\"text-align: right;\">\n      <th></th>\n      <th>Role</th>\n    </tr>\n    <tr>\n      <th>Name</th>\n      <th></th>\n    </tr>\n  </thead>\n  <tbody>\n    <tr>\n      <th>Kevin</th>\n      <td>Assistant Manager</td>\n    </tr>\n    <tr>\n      <th>Sam</th>\n      <td>Manager</td>\n    </tr>\n    <tr>\n      <th>Jeanette</th>\n      <td>Director</td>\n    </tr>\n  </tbody>\n</table>\n</div>"
     },
     "metadata": {},
     "execution_count": 7
    }
   ],
   "source": [
    "staff_df.head()"
   ]
  },
  {
   "cell_type": "code",
   "execution_count": 5,
   "metadata": {},
   "outputs": [],
   "source": [
    "student_df = pd.DataFrame([\n",
    "    {'Name': 'Jeanette',\n",
    "    'School': 'Arts'},\n",
    "    {'Name': 'Melvin',\n",
    "    'School': 'Business'},\n",
    "    {'Name': 'Sam',\n",
    "    'School': 'Maths'}\n",
    "])\n",
    "# index student by NAME\n",
    "student_df = student_df.set_index('Name')"
   ]
  },
  {
   "cell_type": "code",
   "execution_count": 6,
   "metadata": {},
   "outputs": [
    {
     "output_type": "execute_result",
     "data": {
      "text/plain": [
       "            School\n",
       "Name              \n",
       "Jeanette      Arts\n",
       "Melvin    Business\n",
       "Sam          Maths"
      ],
      "text/html": "<div>\n<style scoped>\n    .dataframe tbody tr th:only-of-type {\n        vertical-align: middle;\n    }\n\n    .dataframe tbody tr th {\n        vertical-align: top;\n    }\n\n    .dataframe thead th {\n        text-align: right;\n    }\n</style>\n<table border=\"1\" class=\"dataframe\">\n  <thead>\n    <tr style=\"text-align: right;\">\n      <th></th>\n      <th>School</th>\n    </tr>\n    <tr>\n      <th>Name</th>\n      <th></th>\n    </tr>\n  </thead>\n  <tbody>\n    <tr>\n      <th>Jeanette</th>\n      <td>Arts</td>\n    </tr>\n    <tr>\n      <th>Melvin</th>\n      <td>Business</td>\n    </tr>\n    <tr>\n      <th>Sam</th>\n      <td>Maths</td>\n    </tr>\n  </tbody>\n</table>\n</div>"
     },
     "metadata": {},
     "execution_count": 6
    }
   ],
   "source": [
    "student_df.head()"
   ]
  },
  {
   "source": [
    "## merge() - outer join - union of both"
   ],
   "cell_type": "markdown",
   "metadata": {}
  },
  {
   "cell_type": "code",
   "execution_count": 8,
   "metadata": {},
   "outputs": [
    {
     "output_type": "execute_result",
     "data": {
      "text/plain": [
       "                       Role    School\n",
       "Name                                 \n",
       "Jeanette           Director      Arts\n",
       "Kevin     Assistant Manager       NaN\n",
       "Melvin                  NaN  Business\n",
       "Sam                 Manager     Maths"
      ],
      "text/html": "<div>\n<style scoped>\n    .dataframe tbody tr th:only-of-type {\n        vertical-align: middle;\n    }\n\n    .dataframe tbody tr th {\n        vertical-align: top;\n    }\n\n    .dataframe thead th {\n        text-align: right;\n    }\n</style>\n<table border=\"1\" class=\"dataframe\">\n  <thead>\n    <tr style=\"text-align: right;\">\n      <th></th>\n      <th>Role</th>\n      <th>School</th>\n    </tr>\n    <tr>\n      <th>Name</th>\n      <th></th>\n      <th></th>\n    </tr>\n  </thead>\n  <tbody>\n    <tr>\n      <th>Jeanette</th>\n      <td>Director</td>\n      <td>Arts</td>\n    </tr>\n    <tr>\n      <th>Kevin</th>\n      <td>Assistant Manager</td>\n      <td>NaN</td>\n    </tr>\n    <tr>\n      <th>Melvin</th>\n      <td>NaN</td>\n      <td>Business</td>\n    </tr>\n    <tr>\n      <th>Sam</th>\n      <td>Manager</td>\n      <td>Maths</td>\n    </tr>\n  </tbody>\n</table>\n</div>"
     },
     "metadata": {},
     "execution_count": 8
    }
   ],
   "source": [
    "pd.merge(staff_df, student_df, how='outer', left_index=True, right_index=True) # L and R indices as the joining columns"
   ]
  },
  {
   "source": [
    "## merge() - inner join - both student AND staff"
   ],
   "cell_type": "markdown",
   "metadata": {}
  },
  {
   "cell_type": "code",
   "execution_count": 9,
   "metadata": {},
   "outputs": [
    {
     "output_type": "execute_result",
     "data": {
      "text/plain": [
       "              Role School\n",
       "Name                     \n",
       "Sam        Manager  Maths\n",
       "Jeanette  Director   Arts"
      ],
      "text/html": "<div>\n<style scoped>\n    .dataframe tbody tr th:only-of-type {\n        vertical-align: middle;\n    }\n\n    .dataframe tbody tr th {\n        vertical-align: top;\n    }\n\n    .dataframe thead th {\n        text-align: right;\n    }\n</style>\n<table border=\"1\" class=\"dataframe\">\n  <thead>\n    <tr style=\"text-align: right;\">\n      <th></th>\n      <th>Role</th>\n      <th>School</th>\n    </tr>\n    <tr>\n      <th>Name</th>\n      <th></th>\n      <th></th>\n    </tr>\n  </thead>\n  <tbody>\n    <tr>\n      <th>Sam</th>\n      <td>Manager</td>\n      <td>Maths</td>\n    </tr>\n    <tr>\n      <th>Jeanette</th>\n      <td>Director</td>\n      <td>Arts</td>\n    </tr>\n  </tbody>\n</table>\n</div>"
     },
     "metadata": {},
     "execution_count": 9
    }
   ],
   "source": [
    "pd.merge(staff_df, student_df, how='inner', left_index=True, right_index=True)"
   ]
  },
  {
   "source": [
    "## merge() - left (1st df) - all staff, regardless of whether they were students or not"
   ],
   "cell_type": "markdown",
   "metadata": {}
  },
  {
   "cell_type": "code",
   "execution_count": 10,
   "metadata": {},
   "outputs": [
    {
     "output_type": "execute_result",
     "data": {
      "text/plain": [
       "                       Role\n",
       "Name                       \n",
       "Kevin     Assistant Manager\n",
       "Sam                 Manager\n",
       "Jeanette           Director"
      ],
      "text/html": "<div>\n<style scoped>\n    .dataframe tbody tr th:only-of-type {\n        vertical-align: middle;\n    }\n\n    .dataframe tbody tr th {\n        vertical-align: top;\n    }\n\n    .dataframe thead th {\n        text-align: right;\n    }\n</style>\n<table border=\"1\" class=\"dataframe\">\n  <thead>\n    <tr style=\"text-align: right;\">\n      <th></th>\n      <th>Role</th>\n    </tr>\n    <tr>\n      <th>Name</th>\n      <th></th>\n    </tr>\n  </thead>\n  <tbody>\n    <tr>\n      <th>Kevin</th>\n      <td>Assistant Manager</td>\n    </tr>\n    <tr>\n      <th>Sam</th>\n      <td>Manager</td>\n    </tr>\n    <tr>\n      <th>Jeanette</th>\n      <td>Director</td>\n    </tr>\n  </tbody>\n</table>\n</div>"
     },
     "metadata": {},
     "execution_count": 10
    }
   ],
   "source": [
    "staff_df.head()"
   ]
  },
  {
   "cell_type": "code",
   "execution_count": 11,
   "metadata": {},
   "outputs": [
    {
     "output_type": "execute_result",
     "data": {
      "text/plain": [
       "                       Role School\n",
       "Name                              \n",
       "Kevin     Assistant Manager    NaN\n",
       "Sam                 Manager  Maths\n",
       "Jeanette           Director   Arts"
      ],
      "text/html": "<div>\n<style scoped>\n    .dataframe tbody tr th:only-of-type {\n        vertical-align: middle;\n    }\n\n    .dataframe tbody tr th {\n        vertical-align: top;\n    }\n\n    .dataframe thead th {\n        text-align: right;\n    }\n</style>\n<table border=\"1\" class=\"dataframe\">\n  <thead>\n    <tr style=\"text-align: right;\">\n      <th></th>\n      <th>Role</th>\n      <th>School</th>\n    </tr>\n    <tr>\n      <th>Name</th>\n      <th></th>\n      <th></th>\n    </tr>\n  </thead>\n  <tbody>\n    <tr>\n      <th>Kevin</th>\n      <td>Assistant Manager</td>\n      <td>NaN</td>\n    </tr>\n    <tr>\n      <th>Sam</th>\n      <td>Manager</td>\n      <td>Maths</td>\n    </tr>\n    <tr>\n      <th>Jeanette</th>\n      <td>Director</td>\n      <td>Arts</td>\n    </tr>\n  </tbody>\n</table>\n</div>"
     },
     "metadata": {},
     "execution_count": 11
    }
   ],
   "source": [
    "pd.merge(staff_df, student_df, how='left', left_index=True, right_index=True) # joining against staff_df"
   ]
  },
  {
   "source": [
    "## merge() - right (2nd df) - list of all students, regardless of whether they were staff or not"
   ],
   "cell_type": "markdown",
   "metadata": {}
  },
  {
   "cell_type": "code",
   "execution_count": 12,
   "metadata": {},
   "outputs": [
    {
     "output_type": "execute_result",
     "data": {
      "text/plain": [
       "              Role    School\n",
       "Name                        \n",
       "Jeanette  Director      Arts\n",
       "Melvin         NaN  Business\n",
       "Sam        Manager     Maths"
      ],
      "text/html": "<div>\n<style scoped>\n    .dataframe tbody tr th:only-of-type {\n        vertical-align: middle;\n    }\n\n    .dataframe tbody tr th {\n        vertical-align: top;\n    }\n\n    .dataframe thead th {\n        text-align: right;\n    }\n</style>\n<table border=\"1\" class=\"dataframe\">\n  <thead>\n    <tr style=\"text-align: right;\">\n      <th></th>\n      <th>Role</th>\n      <th>School</th>\n    </tr>\n    <tr>\n      <th>Name</th>\n      <th></th>\n      <th></th>\n    </tr>\n  </thead>\n  <tbody>\n    <tr>\n      <th>Jeanette</th>\n      <td>Director</td>\n      <td>Arts</td>\n    </tr>\n    <tr>\n      <th>Melvin</th>\n      <td>NaN</td>\n      <td>Business</td>\n    </tr>\n    <tr>\n      <th>Sam</th>\n      <td>Manager</td>\n      <td>Maths</td>\n    </tr>\n  </tbody>\n</table>\n</div>"
     },
     "metadata": {},
     "execution_count": 12
    }
   ],
   "source": [
    "pd.merge(staff_df, student_df, how='right', left_index=True, right_index=True) # joining against student_df"
   ]
  },
  {
   "cell_type": "code",
   "execution_count": 13,
   "metadata": {},
   "outputs": [
    {
     "output_type": "execute_result",
     "data": {
      "text/plain": [
       "            School\n",
       "Name              \n",
       "Jeanette      Arts\n",
       "Melvin    Business\n",
       "Sam          Maths"
      ],
      "text/html": "<div>\n<style scoped>\n    .dataframe tbody tr th:only-of-type {\n        vertical-align: middle;\n    }\n\n    .dataframe tbody tr th {\n        vertical-align: top;\n    }\n\n    .dataframe thead th {\n        text-align: right;\n    }\n</style>\n<table border=\"1\" class=\"dataframe\">\n  <thead>\n    <tr style=\"text-align: right;\">\n      <th></th>\n      <th>School</th>\n    </tr>\n    <tr>\n      <th>Name</th>\n      <th></th>\n    </tr>\n  </thead>\n  <tbody>\n    <tr>\n      <th>Jeanette</th>\n      <td>Arts</td>\n    </tr>\n    <tr>\n      <th>Melvin</th>\n      <td>Business</td>\n    </tr>\n    <tr>\n      <th>Sam</th>\n      <td>Maths</td>\n    </tr>\n  </tbody>\n</table>\n</div>"
     },
     "metadata": {},
     "execution_count": 13
    }
   ],
   "source": [
    "student_df"
   ]
  },
  {
   "source": [
    "## "
   ],
   "cell_type": "markdown",
   "metadata": {}
  },
  {
   "cell_type": "code",
   "execution_count": 14,
   "metadata": {},
   "outputs": [],
   "source": [
    "staff_df = pd.DataFrame([\n",
    "    {'Name': 'Kevin',\n",
    "    'Role': 'Assistant Manager',\n",
    "    'Location':'Michigan'},\n",
    "    {'Name': 'Sam',\n",
    "    'Role': 'Manager',\n",
    "    'Location':'Pennsylvania'},\n",
    "    {'Name': 'Jeanette',\n",
    "    'Role': 'Director',\n",
    "    'Location':'Ohio'}])"
   ]
  },
  {
   "cell_type": "code",
   "execution_count": 15,
   "metadata": {},
   "outputs": [],
   "source": [
    "student_df = pd.DataFrame([\n",
    "    {'Name': 'Jeanette',\n",
    "    'School': 'Arts',\n",
    "    'Location':'543 tonnele Avenue'},\n",
    "    {'Name': 'Melvin',\n",
    "    'School': 'Business',\n",
    "    'Location':'620 West End Avenue'},\n",
    "    {'Name': 'Sam',\n",
    "    'School': 'Maths',\n",
    "    'Location': '391 South Beach Avenue'}\n",
    "])"
   ]
  },
  {
   "cell_type": "code",
   "execution_count": 16,
   "metadata": {},
   "outputs": [
    {
     "output_type": "execute_result",
     "data": {
      "text/plain": [
       "       Name               Role    Location_x School              Location_y\n",
       "0     Kevin  Assistant Manager      Michigan    NaN                     NaN\n",
       "1       Sam            Manager  Pennsylvania  Maths  391 South Beach Avenue\n",
       "2  Jeanette           Director          Ohio   Arts      543 tonnele Avenue"
      ],
      "text/html": "<div>\n<style scoped>\n    .dataframe tbody tr th:only-of-type {\n        vertical-align: middle;\n    }\n\n    .dataframe tbody tr th {\n        vertical-align: top;\n    }\n\n    .dataframe thead th {\n        text-align: right;\n    }\n</style>\n<table border=\"1\" class=\"dataframe\">\n  <thead>\n    <tr style=\"text-align: right;\">\n      <th></th>\n      <th>Name</th>\n      <th>Role</th>\n      <th>Location_x</th>\n      <th>School</th>\n      <th>Location_y</th>\n    </tr>\n  </thead>\n  <tbody>\n    <tr>\n      <th>0</th>\n      <td>Kevin</td>\n      <td>Assistant Manager</td>\n      <td>Michigan</td>\n      <td>NaN</td>\n      <td>NaN</td>\n    </tr>\n    <tr>\n      <th>1</th>\n      <td>Sam</td>\n      <td>Manager</td>\n      <td>Pennsylvania</td>\n      <td>Maths</td>\n      <td>391 South Beach Avenue</td>\n    </tr>\n    <tr>\n      <th>2</th>\n      <td>Jeanette</td>\n      <td>Director</td>\n      <td>Ohio</td>\n      <td>Arts</td>\n      <td>543 tonnele Avenue</td>\n    </tr>\n  </tbody>\n</table>\n</div>"
     },
     "metadata": {},
     "execution_count": 16
    }
   ],
   "source": [
    "pd.merge(staff_df, student_df, how='left', on='Name') # joining on NAME"
   ]
  },
  {
   "source": [],
   "cell_type": "markdown",
   "metadata": {}
  },
  {
   "cell_type": "code",
   "execution_count": 17,
   "metadata": {},
   "outputs": [],
   "source": [
    "staff_df = pd.DataFrame([\n",
    "    {'First Name': 'Kevin',\n",
    "    'Last Name': 'Kent',\n",
    "    'Role':'Manager'},\n",
    "\n",
    "    {'First Name': 'Sam', # inner join\n",
    "    'Last Name': 'Sanders',\n",
    "    'Role':'Assistant Manager'},\n",
    "    \n",
    "    {'First Name': 'Jeanette',\n",
    "    'Last Name': 'Johnsson',\n",
    "    'Role':'Director'}])"
   ]
  },
  {
   "cell_type": "code",
   "execution_count": 18,
   "metadata": {},
   "outputs": [],
   "source": [
    "student_df = pd.DataFrame([\n",
    "    {'First Name': 'Jeanette',\n",
    "    'Last Name': 'Brooks',\n",
    "    'School':'Arts'},\n",
    "\n",
    "    {'First Name': 'Melvin',\n",
    "    'Last Name': 'Matt',\n",
    "    'School': 'Music'},\n",
    "\n",
    "    {'First Name': 'Sam', # inner join\n",
    "    'Last Name': 'Sanders',\n",
    "    'School': 'Science'}\n",
    "])"
   ]
  },
  {
   "cell_type": "code",
   "execution_count": 19,
   "metadata": {},
   "outputs": [
    {
     "output_type": "execute_result",
     "data": {
      "text/plain": [
       "  First Name Last Name               Role   School\n",
       "0        Sam   Sanders  Assistant Manager  Science"
      ],
      "text/html": "<div>\n<style scoped>\n    .dataframe tbody tr th:only-of-type {\n        vertical-align: middle;\n    }\n\n    .dataframe tbody tr th {\n        vertical-align: top;\n    }\n\n    .dataframe thead th {\n        text-align: right;\n    }\n</style>\n<table border=\"1\" class=\"dataframe\">\n  <thead>\n    <tr style=\"text-align: right;\">\n      <th></th>\n      <th>First Name</th>\n      <th>Last Name</th>\n      <th>Role</th>\n      <th>School</th>\n    </tr>\n  </thead>\n  <tbody>\n    <tr>\n      <th>0</th>\n      <td>Sam</td>\n      <td>Sanders</td>\n      <td>Assistant Manager</td>\n      <td>Science</td>\n    </tr>\n  </tbody>\n</table>\n</div>"
     },
     "metadata": {},
     "execution_count": 19
    }
   ],
   "source": [
    "pd.merge(staff_df, student_df, how='inner', on=['First Name', 'Last Name'])"
   ]
  },
  {
   "source": [],
   "cell_type": "markdown",
   "metadata": {}
  },
  {
   "cell_type": "code",
   "execution_count": null,
   "metadata": {},
   "outputs": [],
   "source": [
    "# frames = [df1,df2,df3]\n",
    "# pd.concat(frames)\n",
    "# pd.concat(frames, keys=['2011', '2012', '2013'])"
   ]
  }
 ]
}