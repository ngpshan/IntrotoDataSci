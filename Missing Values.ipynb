{
 "metadata": {
  "language_info": {
   "codemirror_mode": {
    "name": "ipython",
    "version": 3
   },
   "file_extension": ".py",
   "mimetype": "text/x-python",
   "name": "python",
   "nbconvert_exporter": "python",
   "pygments_lexer": "ipython3",
   "version": "3.8.6-candidate"
  },
  "orig_nbformat": 2,
  "kernelspec": {
   "name": "Python 3.8.6 64-bit",
   "display_name": "Python 3.8.6 64-bit",
   "metadata": {
    "interpreter": {
     "hash": "23a0b241a33537883b39067dbbeaffacf56379d0e0386bed5fb7b1dd24f284a0"
    }
   }
  }
 },
 "nbformat": 4,
 "nbformat_minor": 2,
 "cells": [
  {
   "cell_type": "code",
   "execution_count": 1,
   "metadata": {},
   "outputs": [],
   "source": [
    "import pandas as pd"
   ]
  },
  {
   "source": [
    "### Missing at Random - if there are other variables that might be used to predict the variable which is Missing\n",
    "### Missing Completely at Random (MCAR) - no relationship to other variables"
   ],
   "cell_type": "markdown",
   "metadata": {}
  },
  {
   "cell_type": "code",
   "execution_count": 2,
   "metadata": {},
   "outputs": [
    {
     "output_type": "execute_result",
     "data": {
      "text/plain": [
       "   gender race/ethnicity parental level of education         lunch  \\\n",
       "0  female        group B           bachelor's degree      standard   \n",
       "1  female        group C                some college      standard   \n",
       "2  female        group B             master's degree      standard   \n",
       "3    male        group A          associate's degree  free/reduced   \n",
       "4    male        group C                some college      standard   \n",
       "5  female        group B          associate's degree      standard   \n",
       "6  female        group B                some college      standard   \n",
       "7    male        group B                some college  free/reduced   \n",
       "8    male        group D                 high school  free/reduced   \n",
       "9  female        group B                 high school  free/reduced   \n",
       "\n",
       "  test preparation course  math score  reading score  writing score  \n",
       "0                    none          72             72             74  \n",
       "1               completed          69             90             88  \n",
       "2                    none          90             95             93  \n",
       "3                    none          47             57             44  \n",
       "4                    none          76             78             75  \n",
       "5                    none          71             83             78  \n",
       "6               completed          88             95             92  \n",
       "7                    none          40             43             39  \n",
       "8               completed          64             64             67  \n",
       "9                    none          38             60             50  "
      ],
      "text/html": "<div>\n<style scoped>\n    .dataframe tbody tr th:only-of-type {\n        vertical-align: middle;\n    }\n\n    .dataframe tbody tr th {\n        vertical-align: top;\n    }\n\n    .dataframe thead th {\n        text-align: right;\n    }\n</style>\n<table border=\"1\" class=\"dataframe\">\n  <thead>\n    <tr style=\"text-align: right;\">\n      <th></th>\n      <th>gender</th>\n      <th>race/ethnicity</th>\n      <th>parental level of education</th>\n      <th>lunch</th>\n      <th>test preparation course</th>\n      <th>math score</th>\n      <th>reading score</th>\n      <th>writing score</th>\n    </tr>\n  </thead>\n  <tbody>\n    <tr>\n      <th>0</th>\n      <td>female</td>\n      <td>group B</td>\n      <td>bachelor's degree</td>\n      <td>standard</td>\n      <td>none</td>\n      <td>72</td>\n      <td>72</td>\n      <td>74</td>\n    </tr>\n    <tr>\n      <th>1</th>\n      <td>female</td>\n      <td>group C</td>\n      <td>some college</td>\n      <td>standard</td>\n      <td>completed</td>\n      <td>69</td>\n      <td>90</td>\n      <td>88</td>\n    </tr>\n    <tr>\n      <th>2</th>\n      <td>female</td>\n      <td>group B</td>\n      <td>master's degree</td>\n      <td>standard</td>\n      <td>none</td>\n      <td>90</td>\n      <td>95</td>\n      <td>93</td>\n    </tr>\n    <tr>\n      <th>3</th>\n      <td>male</td>\n      <td>group A</td>\n      <td>associate's degree</td>\n      <td>free/reduced</td>\n      <td>none</td>\n      <td>47</td>\n      <td>57</td>\n      <td>44</td>\n    </tr>\n    <tr>\n      <th>4</th>\n      <td>male</td>\n      <td>group C</td>\n      <td>some college</td>\n      <td>standard</td>\n      <td>none</td>\n      <td>76</td>\n      <td>78</td>\n      <td>75</td>\n    </tr>\n    <tr>\n      <th>5</th>\n      <td>female</td>\n      <td>group B</td>\n      <td>associate's degree</td>\n      <td>standard</td>\n      <td>none</td>\n      <td>71</td>\n      <td>83</td>\n      <td>78</td>\n    </tr>\n    <tr>\n      <th>6</th>\n      <td>female</td>\n      <td>group B</td>\n      <td>some college</td>\n      <td>standard</td>\n      <td>completed</td>\n      <td>88</td>\n      <td>95</td>\n      <td>92</td>\n    </tr>\n    <tr>\n      <th>7</th>\n      <td>male</td>\n      <td>group B</td>\n      <td>some college</td>\n      <td>free/reduced</td>\n      <td>none</td>\n      <td>40</td>\n      <td>43</td>\n      <td>39</td>\n    </tr>\n    <tr>\n      <th>8</th>\n      <td>male</td>\n      <td>group D</td>\n      <td>high school</td>\n      <td>free/reduced</td>\n      <td>completed</td>\n      <td>64</td>\n      <td>64</td>\n      <td>67</td>\n    </tr>\n    <tr>\n      <th>9</th>\n      <td>female</td>\n      <td>group B</td>\n      <td>high school</td>\n      <td>free/reduced</td>\n      <td>none</td>\n      <td>38</td>\n      <td>60</td>\n      <td>50</td>\n    </tr>\n  </tbody>\n</table>\n</div>"
     },
     "metadata": {},
     "execution_count": 2
    }
   ],
   "source": [
    "df = pd.read_csv('StudentsPerformance.csv')\n",
    "df.head(10)"
   ]
  },
  {
   "cell_type": "code",
   "execution_count": 3,
   "metadata": {},
   "outputs": [
    {
     "output_type": "execute_result",
     "data": {
      "text/plain": [
       "   gender  race/ethnicity  parental level of education  lunch  \\\n",
       "0   False           False                        False  False   \n",
       "1   False           False                        False  False   \n",
       "2   False           False                        False  False   \n",
       "3   False           False                        False  False   \n",
       "4   False           False                        False  False   \n",
       "5   False           False                        False  False   \n",
       "6   False           False                        False  False   \n",
       "7   False           False                        False  False   \n",
       "8   False           False                        False  False   \n",
       "9   False           False                        False  False   \n",
       "\n",
       "   test preparation course  math score  reading score  writing score  \n",
       "0                    False       False          False          False  \n",
       "1                    False       False          False          False  \n",
       "2                    False       False          False          False  \n",
       "3                    False       False          False          False  \n",
       "4                    False       False          False          False  \n",
       "5                    False       False          False          False  \n",
       "6                    False       False          False          False  \n",
       "7                    False       False          False          False  \n",
       "8                    False       False          False          False  \n",
       "9                    False       False          False          False  "
      ],
      "text/html": "<div>\n<style scoped>\n    .dataframe tbody tr th:only-of-type {\n        vertical-align: middle;\n    }\n\n    .dataframe tbody tr th {\n        vertical-align: top;\n    }\n\n    .dataframe thead th {\n        text-align: right;\n    }\n</style>\n<table border=\"1\" class=\"dataframe\">\n  <thead>\n    <tr style=\"text-align: right;\">\n      <th></th>\n      <th>gender</th>\n      <th>race/ethnicity</th>\n      <th>parental level of education</th>\n      <th>lunch</th>\n      <th>test preparation course</th>\n      <th>math score</th>\n      <th>reading score</th>\n      <th>writing score</th>\n    </tr>\n  </thead>\n  <tbody>\n    <tr>\n      <th>0</th>\n      <td>False</td>\n      <td>False</td>\n      <td>False</td>\n      <td>False</td>\n      <td>False</td>\n      <td>False</td>\n      <td>False</td>\n      <td>False</td>\n    </tr>\n    <tr>\n      <th>1</th>\n      <td>False</td>\n      <td>False</td>\n      <td>False</td>\n      <td>False</td>\n      <td>False</td>\n      <td>False</td>\n      <td>False</td>\n      <td>False</td>\n    </tr>\n    <tr>\n      <th>2</th>\n      <td>False</td>\n      <td>False</td>\n      <td>False</td>\n      <td>False</td>\n      <td>False</td>\n      <td>False</td>\n      <td>False</td>\n      <td>False</td>\n    </tr>\n    <tr>\n      <th>3</th>\n      <td>False</td>\n      <td>False</td>\n      <td>False</td>\n      <td>False</td>\n      <td>False</td>\n      <td>False</td>\n      <td>False</td>\n      <td>False</td>\n    </tr>\n    <tr>\n      <th>4</th>\n      <td>False</td>\n      <td>False</td>\n      <td>False</td>\n      <td>False</td>\n      <td>False</td>\n      <td>False</td>\n      <td>False</td>\n      <td>False</td>\n    </tr>\n    <tr>\n      <th>5</th>\n      <td>False</td>\n      <td>False</td>\n      <td>False</td>\n      <td>False</td>\n      <td>False</td>\n      <td>False</td>\n      <td>False</td>\n      <td>False</td>\n    </tr>\n    <tr>\n      <th>6</th>\n      <td>False</td>\n      <td>False</td>\n      <td>False</td>\n      <td>False</td>\n      <td>False</td>\n      <td>False</td>\n      <td>False</td>\n      <td>False</td>\n    </tr>\n    <tr>\n      <th>7</th>\n      <td>False</td>\n      <td>False</td>\n      <td>False</td>\n      <td>False</td>\n      <td>False</td>\n      <td>False</td>\n      <td>False</td>\n      <td>False</td>\n    </tr>\n    <tr>\n      <th>8</th>\n      <td>False</td>\n      <td>False</td>\n      <td>False</td>\n      <td>False</td>\n      <td>False</td>\n      <td>False</td>\n      <td>False</td>\n      <td>False</td>\n    </tr>\n    <tr>\n      <th>9</th>\n      <td>False</td>\n      <td>False</td>\n      <td>False</td>\n      <td>False</td>\n      <td>False</td>\n      <td>False</td>\n      <td>False</td>\n      <td>False</td>\n    </tr>\n  </tbody>\n</table>\n</div>"
     },
     "metadata": {},
     "execution_count": 3
    }
   ],
   "source": [
    "mask = df.isnull()\n",
    "mask.head(10)"
   ]
  },
  {
   "source": [
    "### dropna() function - drop rows with any missing data"
   ],
   "cell_type": "markdown",
   "metadata": {}
  },
  {
   "cell_type": "code",
   "execution_count": 4,
   "metadata": {},
   "outputs": [
    {
     "output_type": "execute_result",
     "data": {
      "text/plain": [
       "   gender race/ethnicity parental level of education         lunch  \\\n",
       "0  female        group B           bachelor's degree      standard   \n",
       "1  female        group C                some college      standard   \n",
       "2  female        group B             master's degree      standard   \n",
       "3    male        group A          associate's degree  free/reduced   \n",
       "4    male        group C                some college      standard   \n",
       "5  female        group B          associate's degree      standard   \n",
       "6  female        group B                some college      standard   \n",
       "7    male        group B                some college  free/reduced   \n",
       "8    male        group D                 high school  free/reduced   \n",
       "9  female        group B                 high school  free/reduced   \n",
       "\n",
       "  test preparation course  math score  reading score  writing score  \n",
       "0                    none          72             72             74  \n",
       "1               completed          69             90             88  \n",
       "2                    none          90             95             93  \n",
       "3                    none          47             57             44  \n",
       "4                    none          76             78             75  \n",
       "5                    none          71             83             78  \n",
       "6               completed          88             95             92  \n",
       "7                    none          40             43             39  \n",
       "8               completed          64             64             67  \n",
       "9                    none          38             60             50  "
      ],
      "text/html": "<div>\n<style scoped>\n    .dataframe tbody tr th:only-of-type {\n        vertical-align: middle;\n    }\n\n    .dataframe tbody tr th {\n        vertical-align: top;\n    }\n\n    .dataframe thead th {\n        text-align: right;\n    }\n</style>\n<table border=\"1\" class=\"dataframe\">\n  <thead>\n    <tr style=\"text-align: right;\">\n      <th></th>\n      <th>gender</th>\n      <th>race/ethnicity</th>\n      <th>parental level of education</th>\n      <th>lunch</th>\n      <th>test preparation course</th>\n      <th>math score</th>\n      <th>reading score</th>\n      <th>writing score</th>\n    </tr>\n  </thead>\n  <tbody>\n    <tr>\n      <th>0</th>\n      <td>female</td>\n      <td>group B</td>\n      <td>bachelor's degree</td>\n      <td>standard</td>\n      <td>none</td>\n      <td>72</td>\n      <td>72</td>\n      <td>74</td>\n    </tr>\n    <tr>\n      <th>1</th>\n      <td>female</td>\n      <td>group C</td>\n      <td>some college</td>\n      <td>standard</td>\n      <td>completed</td>\n      <td>69</td>\n      <td>90</td>\n      <td>88</td>\n    </tr>\n    <tr>\n      <th>2</th>\n      <td>female</td>\n      <td>group B</td>\n      <td>master's degree</td>\n      <td>standard</td>\n      <td>none</td>\n      <td>90</td>\n      <td>95</td>\n      <td>93</td>\n    </tr>\n    <tr>\n      <th>3</th>\n      <td>male</td>\n      <td>group A</td>\n      <td>associate's degree</td>\n      <td>free/reduced</td>\n      <td>none</td>\n      <td>47</td>\n      <td>57</td>\n      <td>44</td>\n    </tr>\n    <tr>\n      <th>4</th>\n      <td>male</td>\n      <td>group C</td>\n      <td>some college</td>\n      <td>standard</td>\n      <td>none</td>\n      <td>76</td>\n      <td>78</td>\n      <td>75</td>\n    </tr>\n    <tr>\n      <th>5</th>\n      <td>female</td>\n      <td>group B</td>\n      <td>associate's degree</td>\n      <td>standard</td>\n      <td>none</td>\n      <td>71</td>\n      <td>83</td>\n      <td>78</td>\n    </tr>\n    <tr>\n      <th>6</th>\n      <td>female</td>\n      <td>group B</td>\n      <td>some college</td>\n      <td>standard</td>\n      <td>completed</td>\n      <td>88</td>\n      <td>95</td>\n      <td>92</td>\n    </tr>\n    <tr>\n      <th>7</th>\n      <td>male</td>\n      <td>group B</td>\n      <td>some college</td>\n      <td>free/reduced</td>\n      <td>none</td>\n      <td>40</td>\n      <td>43</td>\n      <td>39</td>\n    </tr>\n    <tr>\n      <th>8</th>\n      <td>male</td>\n      <td>group D</td>\n      <td>high school</td>\n      <td>free/reduced</td>\n      <td>completed</td>\n      <td>64</td>\n      <td>64</td>\n      <td>67</td>\n    </tr>\n    <tr>\n      <th>9</th>\n      <td>female</td>\n      <td>group B</td>\n      <td>high school</td>\n      <td>free/reduced</td>\n      <td>none</td>\n      <td>38</td>\n      <td>60</td>\n      <td>50</td>\n    </tr>\n  </tbody>\n</table>\n</div>"
     },
     "metadata": {},
     "execution_count": 4
    }
   ],
   "source": [
    "df.dropna().head(10)"
   ]
  },
  {
   "source": [
    "### fillna() "
   ],
   "cell_type": "markdown",
   "metadata": {}
  },
  {
   "cell_type": "code",
   "execution_count": 6,
   "metadata": {},
   "outputs": [
    {
     "output_type": "execute_result",
     "data": {
      "text/plain": [
       "   gender race/ethnicity parental level of education         lunch  \\\n",
       "0  female        group B           bachelor's degree      standard   \n",
       "1  female        group C                some college      standard   \n",
       "2  female        group B             master's degree      standard   \n",
       "3    male        group A          associate's degree  free/reduced   \n",
       "4    male        group C                some college      standard   \n",
       "5  female        group B          associate's degree      standard   \n",
       "6  female        group B                some college      standard   \n",
       "7    male        group B                some college  free/reduced   \n",
       "8    male        group D                 high school  free/reduced   \n",
       "9  female        group B                 high school  free/reduced   \n",
       "\n",
       "  test preparation course  math score  reading score  writing score  \n",
       "0                    none          72             72             74  \n",
       "1               completed          69             90             88  \n",
       "2                    none          90             95             93  \n",
       "3                    none          47             57             44  \n",
       "4                    none          76             78             75  \n",
       "5                    none          71             83             78  \n",
       "6               completed          88             95             92  \n",
       "7                    none          40             43             39  \n",
       "8               completed          64             64             67  \n",
       "9                    none          38             60             50  "
      ],
      "text/html": "<div>\n<style scoped>\n    .dataframe tbody tr th:only-of-type {\n        vertical-align: middle;\n    }\n\n    .dataframe tbody tr th {\n        vertical-align: top;\n    }\n\n    .dataframe thead th {\n        text-align: right;\n    }\n</style>\n<table border=\"1\" class=\"dataframe\">\n  <thead>\n    <tr style=\"text-align: right;\">\n      <th></th>\n      <th>gender</th>\n      <th>race/ethnicity</th>\n      <th>parental level of education</th>\n      <th>lunch</th>\n      <th>test preparation course</th>\n      <th>math score</th>\n      <th>reading score</th>\n      <th>writing score</th>\n    </tr>\n  </thead>\n  <tbody>\n    <tr>\n      <th>0</th>\n      <td>female</td>\n      <td>group B</td>\n      <td>bachelor's degree</td>\n      <td>standard</td>\n      <td>none</td>\n      <td>72</td>\n      <td>72</td>\n      <td>74</td>\n    </tr>\n    <tr>\n      <th>1</th>\n      <td>female</td>\n      <td>group C</td>\n      <td>some college</td>\n      <td>standard</td>\n      <td>completed</td>\n      <td>69</td>\n      <td>90</td>\n      <td>88</td>\n    </tr>\n    <tr>\n      <th>2</th>\n      <td>female</td>\n      <td>group B</td>\n      <td>master's degree</td>\n      <td>standard</td>\n      <td>none</td>\n      <td>90</td>\n      <td>95</td>\n      <td>93</td>\n    </tr>\n    <tr>\n      <th>3</th>\n      <td>male</td>\n      <td>group A</td>\n      <td>associate's degree</td>\n      <td>free/reduced</td>\n      <td>none</td>\n      <td>47</td>\n      <td>57</td>\n      <td>44</td>\n    </tr>\n    <tr>\n      <th>4</th>\n      <td>male</td>\n      <td>group C</td>\n      <td>some college</td>\n      <td>standard</td>\n      <td>none</td>\n      <td>76</td>\n      <td>78</td>\n      <td>75</td>\n    </tr>\n    <tr>\n      <th>5</th>\n      <td>female</td>\n      <td>group B</td>\n      <td>associate's degree</td>\n      <td>standard</td>\n      <td>none</td>\n      <td>71</td>\n      <td>83</td>\n      <td>78</td>\n    </tr>\n    <tr>\n      <th>6</th>\n      <td>female</td>\n      <td>group B</td>\n      <td>some college</td>\n      <td>standard</td>\n      <td>completed</td>\n      <td>88</td>\n      <td>95</td>\n      <td>92</td>\n    </tr>\n    <tr>\n      <th>7</th>\n      <td>male</td>\n      <td>group B</td>\n      <td>some college</td>\n      <td>free/reduced</td>\n      <td>none</td>\n      <td>40</td>\n      <td>43</td>\n      <td>39</td>\n    </tr>\n    <tr>\n      <th>8</th>\n      <td>male</td>\n      <td>group D</td>\n      <td>high school</td>\n      <td>free/reduced</td>\n      <td>completed</td>\n      <td>64</td>\n      <td>64</td>\n      <td>67</td>\n    </tr>\n    <tr>\n      <th>9</th>\n      <td>female</td>\n      <td>group B</td>\n      <td>high school</td>\n      <td>free/reduced</td>\n      <td>none</td>\n      <td>38</td>\n      <td>60</td>\n      <td>50</td>\n    </tr>\n  </tbody>\n</table>\n</div>"
     },
     "metadata": {},
     "execution_count": 6
    }
   ],
   "source": [
    "df.fillna(0, inplace=True) # inplace modifies the df you have\n",
    "df.head(10)"
   ]
  },
  {
   "cell_type": "code",
   "execution_count": 15,
   "metadata": {},
   "outputs": [
    {
     "output_type": "execute_result",
     "data": {
      "text/plain": [
       "    Case No  Subject ID Admission Date\\n(dd/mm/yyyy)  \\\n",
       "0     90001           1                     7/1/2017   \n",
       "1     90002           2                     2/1/2017   \n",
       "2     90003           3                   26/12/2016   \n",
       "3     90004           3                    17/1/2017   \n",
       "4     90049           3                    20/3/2017   \n",
       "5     90032           3                    13/2/2017   \n",
       "6     90005           4                    28/1/2017   \n",
       "7     90006           5                     2/1/2017   \n",
       "8     90007           6                    13/1/2017   \n",
       "9     90008           7                     9/1/2017   \n",
       "10    90272           8                   16/12/2017   \n",
       "11    90126           8                     6/6/2017   \n",
       "12    90113           8                     3/6/2017   \n",
       "13    90053           8                     5/3/2017   \n",
       "14    90009           8                   20/12/2016   \n",
       "15    90010           9                     2/1/2017   \n",
       "16    90225          10                   26/10/2017   \n",
       "17    90011          10                   31/12/2016   \n",
       "18    90217          10                   11/10/2017   \n",
       "\n",
       "   Discharge Date\\n(dd/mm/yyyy)  Age\\n(Years)     Race  Gender  Adm Type Desc  \\\n",
       "0                     13/1/2017            65  Chinese    Male      Emergency   \n",
       "1                      4/1/2017            52  Chinese    Male      Emergency   \n",
       "2                      6/1/2017            73  Chinese  Female      Emergency   \n",
       "3                     20/1/2017            73  Chinese  Female  Elective inpa   \n",
       "4                     23/3/2017            73  Chinese  Female  Elective inpa   \n",
       "5                     16/2/2017            73  Chinese  Female  Elective inpa   \n",
       "6                     31/1/2017            74    Malay  Female      Emergency   \n",
       "7                      6/1/2017            53   Indian    Male      Emergency   \n",
       "8                     16/1/2017            69    Malay  Female      Emergency   \n",
       "9                     10/1/2017            51   Indian    Male      Emergency   \n",
       "10                   19/12/2017            57   Indian    Male      Emergency   \n",
       "11                     8/6/2017            57   Indian    Male      Emergency   \n",
       "12                     3/6/2017            57   Indian    Male      Emergency   \n",
       "13                    13/3/2017            56   Indian    Male      Emergency   \n",
       "14                     3/1/2017            56   Indian    Male      Emergency   \n",
       "15                     4/1/2017            52   Indian    Male      Emergency   \n",
       "16                   29/10/2017            74  Chinese    Male      Emergency   \n",
       "17                     3/1/2017            73  Chinese    Male      Emergency   \n",
       "18                   16/10/2017            74  Chinese    Male      Emergency   \n",
       "\n",
       "   Age Group      LOS  Readmitted_30  \n",
       "0      51-60   6 days              0  \n",
       "1      41-50   2 days              0  \n",
       "2      61-70  11 days              1  \n",
       "3      61-70   3 days              0  \n",
       "4      61-70   3 days              1  \n",
       "5      61-70   3 days              0  \n",
       "6      61-70   3 days              0  \n",
       "7      41-50   4 days              0  \n",
       "8      51-60   3 days              0  \n",
       "9      41-50   1 days              0  \n",
       "10     41-50   3 days              1  \n",
       "11     41-50   2 days              1  \n",
       "12     41-50   0 days              1  \n",
       "13     41-50   8 days              1  \n",
       "14     41-50  14 days              0  \n",
       "15     41-50   2 days              0  \n",
       "16     61-70   3 days              1  \n",
       "17     61-70   3 days              0  \n",
       "18     61-70   5 days              0  "
      ],
      "text/html": "<div>\n<style scoped>\n    .dataframe tbody tr th:only-of-type {\n        vertical-align: middle;\n    }\n\n    .dataframe tbody tr th {\n        vertical-align: top;\n    }\n\n    .dataframe thead th {\n        text-align: right;\n    }\n</style>\n<table border=\"1\" class=\"dataframe\">\n  <thead>\n    <tr style=\"text-align: right;\">\n      <th></th>\n      <th>Case No</th>\n      <th>Subject ID</th>\n      <th>Admission Date\\n(dd/mm/yyyy)</th>\n      <th>Discharge Date\\n(dd/mm/yyyy)</th>\n      <th>Age\\n(Years)</th>\n      <th>Race</th>\n      <th>Gender</th>\n      <th>Adm Type Desc</th>\n      <th>Age Group</th>\n      <th>LOS</th>\n      <th>Readmitted_30</th>\n    </tr>\n  </thead>\n  <tbody>\n    <tr>\n      <th>0</th>\n      <td>90001</td>\n      <td>1</td>\n      <td>7/1/2017</td>\n      <td>13/1/2017</td>\n      <td>65</td>\n      <td>Chinese</td>\n      <td>Male</td>\n      <td>Emergency</td>\n      <td>51-60</td>\n      <td>6 days</td>\n      <td>0</td>\n    </tr>\n    <tr>\n      <th>1</th>\n      <td>90002</td>\n      <td>2</td>\n      <td>2/1/2017</td>\n      <td>4/1/2017</td>\n      <td>52</td>\n      <td>Chinese</td>\n      <td>Male</td>\n      <td>Emergency</td>\n      <td>41-50</td>\n      <td>2 days</td>\n      <td>0</td>\n    </tr>\n    <tr>\n      <th>2</th>\n      <td>90003</td>\n      <td>3</td>\n      <td>26/12/2016</td>\n      <td>6/1/2017</td>\n      <td>73</td>\n      <td>Chinese</td>\n      <td>Female</td>\n      <td>Emergency</td>\n      <td>61-70</td>\n      <td>11 days</td>\n      <td>1</td>\n    </tr>\n    <tr>\n      <th>3</th>\n      <td>90004</td>\n      <td>3</td>\n      <td>17/1/2017</td>\n      <td>20/1/2017</td>\n      <td>73</td>\n      <td>Chinese</td>\n      <td>Female</td>\n      <td>Elective inpa</td>\n      <td>61-70</td>\n      <td>3 days</td>\n      <td>0</td>\n    </tr>\n    <tr>\n      <th>4</th>\n      <td>90049</td>\n      <td>3</td>\n      <td>20/3/2017</td>\n      <td>23/3/2017</td>\n      <td>73</td>\n      <td>Chinese</td>\n      <td>Female</td>\n      <td>Elective inpa</td>\n      <td>61-70</td>\n      <td>3 days</td>\n      <td>1</td>\n    </tr>\n    <tr>\n      <th>5</th>\n      <td>90032</td>\n      <td>3</td>\n      <td>13/2/2017</td>\n      <td>16/2/2017</td>\n      <td>73</td>\n      <td>Chinese</td>\n      <td>Female</td>\n      <td>Elective inpa</td>\n      <td>61-70</td>\n      <td>3 days</td>\n      <td>0</td>\n    </tr>\n    <tr>\n      <th>6</th>\n      <td>90005</td>\n      <td>4</td>\n      <td>28/1/2017</td>\n      <td>31/1/2017</td>\n      <td>74</td>\n      <td>Malay</td>\n      <td>Female</td>\n      <td>Emergency</td>\n      <td>61-70</td>\n      <td>3 days</td>\n      <td>0</td>\n    </tr>\n    <tr>\n      <th>7</th>\n      <td>90006</td>\n      <td>5</td>\n      <td>2/1/2017</td>\n      <td>6/1/2017</td>\n      <td>53</td>\n      <td>Indian</td>\n      <td>Male</td>\n      <td>Emergency</td>\n      <td>41-50</td>\n      <td>4 days</td>\n      <td>0</td>\n    </tr>\n    <tr>\n      <th>8</th>\n      <td>90007</td>\n      <td>6</td>\n      <td>13/1/2017</td>\n      <td>16/1/2017</td>\n      <td>69</td>\n      <td>Malay</td>\n      <td>Female</td>\n      <td>Emergency</td>\n      <td>51-60</td>\n      <td>3 days</td>\n      <td>0</td>\n    </tr>\n    <tr>\n      <th>9</th>\n      <td>90008</td>\n      <td>7</td>\n      <td>9/1/2017</td>\n      <td>10/1/2017</td>\n      <td>51</td>\n      <td>Indian</td>\n      <td>Male</td>\n      <td>Emergency</td>\n      <td>41-50</td>\n      <td>1 days</td>\n      <td>0</td>\n    </tr>\n    <tr>\n      <th>10</th>\n      <td>90272</td>\n      <td>8</td>\n      <td>16/12/2017</td>\n      <td>19/12/2017</td>\n      <td>57</td>\n      <td>Indian</td>\n      <td>Male</td>\n      <td>Emergency</td>\n      <td>41-50</td>\n      <td>3 days</td>\n      <td>1</td>\n    </tr>\n    <tr>\n      <th>11</th>\n      <td>90126</td>\n      <td>8</td>\n      <td>6/6/2017</td>\n      <td>8/6/2017</td>\n      <td>57</td>\n      <td>Indian</td>\n      <td>Male</td>\n      <td>Emergency</td>\n      <td>41-50</td>\n      <td>2 days</td>\n      <td>1</td>\n    </tr>\n    <tr>\n      <th>12</th>\n      <td>90113</td>\n      <td>8</td>\n      <td>3/6/2017</td>\n      <td>3/6/2017</td>\n      <td>57</td>\n      <td>Indian</td>\n      <td>Male</td>\n      <td>Emergency</td>\n      <td>41-50</td>\n      <td>0 days</td>\n      <td>1</td>\n    </tr>\n    <tr>\n      <th>13</th>\n      <td>90053</td>\n      <td>8</td>\n      <td>5/3/2017</td>\n      <td>13/3/2017</td>\n      <td>56</td>\n      <td>Indian</td>\n      <td>Male</td>\n      <td>Emergency</td>\n      <td>41-50</td>\n      <td>8 days</td>\n      <td>1</td>\n    </tr>\n    <tr>\n      <th>14</th>\n      <td>90009</td>\n      <td>8</td>\n      <td>20/12/2016</td>\n      <td>3/1/2017</td>\n      <td>56</td>\n      <td>Indian</td>\n      <td>Male</td>\n      <td>Emergency</td>\n      <td>41-50</td>\n      <td>14 days</td>\n      <td>0</td>\n    </tr>\n    <tr>\n      <th>15</th>\n      <td>90010</td>\n      <td>9</td>\n      <td>2/1/2017</td>\n      <td>4/1/2017</td>\n      <td>52</td>\n      <td>Indian</td>\n      <td>Male</td>\n      <td>Emergency</td>\n      <td>41-50</td>\n      <td>2 days</td>\n      <td>0</td>\n    </tr>\n    <tr>\n      <th>16</th>\n      <td>90225</td>\n      <td>10</td>\n      <td>26/10/2017</td>\n      <td>29/10/2017</td>\n      <td>74</td>\n      <td>Chinese</td>\n      <td>Male</td>\n      <td>Emergency</td>\n      <td>61-70</td>\n      <td>3 days</td>\n      <td>1</td>\n    </tr>\n    <tr>\n      <th>17</th>\n      <td>90011</td>\n      <td>10</td>\n      <td>31/12/2016</td>\n      <td>3/1/2017</td>\n      <td>73</td>\n      <td>Chinese</td>\n      <td>Male</td>\n      <td>Emergency</td>\n      <td>61-70</td>\n      <td>3 days</td>\n      <td>0</td>\n    </tr>\n    <tr>\n      <th>18</th>\n      <td>90217</td>\n      <td>10</td>\n      <td>11/10/2017</td>\n      <td>16/10/2017</td>\n      <td>74</td>\n      <td>Chinese</td>\n      <td>Male</td>\n      <td>Emergency</td>\n      <td>61-70</td>\n      <td>5 days</td>\n      <td>0</td>\n    </tr>\n  </tbody>\n</table>\n</div>"
     },
     "metadata": {},
     "execution_count": 15
    }
   ],
   "source": [
    "df = pd.read_csv('Inpatient.csv')\n",
    "df.head(20)"
   ]
  },
  {
   "cell_type": "code",
   "execution_count": 16,
   "metadata": {},
   "outputs": [
    {
     "output_type": "execute_result",
     "data": {
      "text/plain": [
       "                                         index  Case No  \\\n",
       "Subject ID Admission Date\\n(dd/mm/yyyy)                   \n",
       "1          7/1/2017                          0    90001   \n",
       "2          2/1/2017                          1    90002   \n",
       "3          26/12/2016                        2    90003   \n",
       "           17/1/2017                         3    90004   \n",
       "           20/3/2017                         4    90049   \n",
       "           13/2/2017                         5    90032   \n",
       "4          28/1/2017                         6    90005   \n",
       "5          2/1/2017                          7    90006   \n",
       "6          13/1/2017                         8    90007   \n",
       "7          9/1/2017                          9    90008   \n",
       "8          16/12/2017                       10    90272   \n",
       "           6/6/2017                         11    90126   \n",
       "           3/6/2017                         12    90113   \n",
       "           5/3/2017                         13    90053   \n",
       "           20/12/2016                       14    90009   \n",
       "9          2/1/2017                         15    90010   \n",
       "10         26/10/2017                       16    90225   \n",
       "           31/12/2016                       17    90011   \n",
       "           11/10/2017                       18    90217   \n",
       "\n",
       "                                        Discharge Date\\n(dd/mm/yyyy)  \\\n",
       "Subject ID Admission Date\\n(dd/mm/yyyy)                                \n",
       "1          7/1/2017                                        13/1/2017   \n",
       "2          2/1/2017                                         4/1/2017   \n",
       "3          26/12/2016                                       6/1/2017   \n",
       "           17/1/2017                                       20/1/2017   \n",
       "           20/3/2017                                       23/3/2017   \n",
       "           13/2/2017                                       16/2/2017   \n",
       "4          28/1/2017                                       31/1/2017   \n",
       "5          2/1/2017                                         6/1/2017   \n",
       "6          13/1/2017                                       16/1/2017   \n",
       "7          9/1/2017                                        10/1/2017   \n",
       "8          16/12/2017                                     19/12/2017   \n",
       "           6/6/2017                                         8/6/2017   \n",
       "           3/6/2017                                         3/6/2017   \n",
       "           5/3/2017                                        13/3/2017   \n",
       "           20/12/2016                                       3/1/2017   \n",
       "9          2/1/2017                                         4/1/2017   \n",
       "10         26/10/2017                                     29/10/2017   \n",
       "           31/12/2016                                       3/1/2017   \n",
       "           11/10/2017                                     16/10/2017   \n",
       "\n",
       "                                         Age\\n(Years)     Race  Gender  \\\n",
       "Subject ID Admission Date\\n(dd/mm/yyyy)                                  \n",
       "1          7/1/2017                                65  Chinese    Male   \n",
       "2          2/1/2017                                52  Chinese    Male   \n",
       "3          26/12/2016                              73  Chinese  Female   \n",
       "           17/1/2017                               73  Chinese  Female   \n",
       "           20/3/2017                               73  Chinese  Female   \n",
       "           13/2/2017                               73  Chinese  Female   \n",
       "4          28/1/2017                               74    Malay  Female   \n",
       "5          2/1/2017                                53   Indian    Male   \n",
       "6          13/1/2017                               69    Malay  Female   \n",
       "7          9/1/2017                                51   Indian    Male   \n",
       "8          16/12/2017                              57   Indian    Male   \n",
       "           6/6/2017                                57   Indian    Male   \n",
       "           3/6/2017                                57   Indian    Male   \n",
       "           5/3/2017                                56   Indian    Male   \n",
       "           20/12/2016                              56   Indian    Male   \n",
       "9          2/1/2017                                52   Indian    Male   \n",
       "10         26/10/2017                              74  Chinese    Male   \n",
       "           31/12/2016                              73  Chinese    Male   \n",
       "           11/10/2017                              74  Chinese    Male   \n",
       "\n",
       "                                         Adm Type Desc Age Group      LOS  \\\n",
       "Subject ID Admission Date\\n(dd/mm/yyyy)                                     \n",
       "1          7/1/2017                          Emergency     51-60   6 days   \n",
       "2          2/1/2017                          Emergency     41-50   2 days   \n",
       "3          26/12/2016                        Emergency     61-70  11 days   \n",
       "           17/1/2017                     Elective inpa     61-70   3 days   \n",
       "           20/3/2017                     Elective inpa     61-70   3 days   \n",
       "           13/2/2017                     Elective inpa     61-70   3 days   \n",
       "4          28/1/2017                         Emergency     61-70   3 days   \n",
       "5          2/1/2017                          Emergency     41-50   4 days   \n",
       "6          13/1/2017                         Emergency     51-60   3 days   \n",
       "7          9/1/2017                          Emergency     41-50   1 days   \n",
       "8          16/12/2017                        Emergency     41-50   3 days   \n",
       "           6/6/2017                          Emergency     41-50   2 days   \n",
       "           3/6/2017                          Emergency     41-50   0 days   \n",
       "           5/3/2017                          Emergency     41-50   8 days   \n",
       "           20/12/2016                        Emergency     41-50  14 days   \n",
       "9          2/1/2017                          Emergency     41-50   2 days   \n",
       "10         26/10/2017                        Emergency     61-70   3 days   \n",
       "           31/12/2016                        Emergency     61-70   3 days   \n",
       "           11/10/2017                        Emergency     61-70   5 days   \n",
       "\n",
       "                                         Readmitted_30  \n",
       "Subject ID Admission Date\\n(dd/mm/yyyy)                 \n",
       "1          7/1/2017                                  0  \n",
       "2          2/1/2017                                  0  \n",
       "3          26/12/2016                                1  \n",
       "           17/1/2017                                 0  \n",
       "           20/3/2017                                 1  \n",
       "           13/2/2017                                 0  \n",
       "4          28/1/2017                                 0  \n",
       "5          2/1/2017                                  0  \n",
       "6          13/1/2017                                 0  \n",
       "7          9/1/2017                                  0  \n",
       "8          16/12/2017                                1  \n",
       "           6/6/2017                                  1  \n",
       "           3/6/2017                                  1  \n",
       "           5/3/2017                                  1  \n",
       "           20/12/2016                                0  \n",
       "9          2/1/2017                                  0  \n",
       "10         26/10/2017                                1  \n",
       "           31/12/2016                                0  \n",
       "           11/10/2017                                0  "
      ],
      "text/html": "<div>\n<style scoped>\n    .dataframe tbody tr th:only-of-type {\n        vertical-align: middle;\n    }\n\n    .dataframe tbody tr th {\n        vertical-align: top;\n    }\n\n    .dataframe thead th {\n        text-align: right;\n    }\n</style>\n<table border=\"1\" class=\"dataframe\">\n  <thead>\n    <tr style=\"text-align: right;\">\n      <th></th>\n      <th></th>\n      <th>index</th>\n      <th>Case No</th>\n      <th>Discharge Date\\n(dd/mm/yyyy)</th>\n      <th>Age\\n(Years)</th>\n      <th>Race</th>\n      <th>Gender</th>\n      <th>Adm Type Desc</th>\n      <th>Age Group</th>\n      <th>LOS</th>\n      <th>Readmitted_30</th>\n    </tr>\n    <tr>\n      <th>Subject ID</th>\n      <th>Admission Date\n(dd/mm/yyyy)</th>\n      <th></th>\n      <th></th>\n      <th></th>\n      <th></th>\n      <th></th>\n      <th></th>\n      <th></th>\n      <th></th>\n      <th></th>\n      <th></th>\n    </tr>\n  </thead>\n  <tbody>\n    <tr>\n      <th>1</th>\n      <th>7/1/2017</th>\n      <td>0</td>\n      <td>90001</td>\n      <td>13/1/2017</td>\n      <td>65</td>\n      <td>Chinese</td>\n      <td>Male</td>\n      <td>Emergency</td>\n      <td>51-60</td>\n      <td>6 days</td>\n      <td>0</td>\n    </tr>\n    <tr>\n      <th>2</th>\n      <th>2/1/2017</th>\n      <td>1</td>\n      <td>90002</td>\n      <td>4/1/2017</td>\n      <td>52</td>\n      <td>Chinese</td>\n      <td>Male</td>\n      <td>Emergency</td>\n      <td>41-50</td>\n      <td>2 days</td>\n      <td>0</td>\n    </tr>\n    <tr>\n      <th rowspan=\"4\" valign=\"top\">3</th>\n      <th>26/12/2016</th>\n      <td>2</td>\n      <td>90003</td>\n      <td>6/1/2017</td>\n      <td>73</td>\n      <td>Chinese</td>\n      <td>Female</td>\n      <td>Emergency</td>\n      <td>61-70</td>\n      <td>11 days</td>\n      <td>1</td>\n    </tr>\n    <tr>\n      <th>17/1/2017</th>\n      <td>3</td>\n      <td>90004</td>\n      <td>20/1/2017</td>\n      <td>73</td>\n      <td>Chinese</td>\n      <td>Female</td>\n      <td>Elective inpa</td>\n      <td>61-70</td>\n      <td>3 days</td>\n      <td>0</td>\n    </tr>\n    <tr>\n      <th>20/3/2017</th>\n      <td>4</td>\n      <td>90049</td>\n      <td>23/3/2017</td>\n      <td>73</td>\n      <td>Chinese</td>\n      <td>Female</td>\n      <td>Elective inpa</td>\n      <td>61-70</td>\n      <td>3 days</td>\n      <td>1</td>\n    </tr>\n    <tr>\n      <th>13/2/2017</th>\n      <td>5</td>\n      <td>90032</td>\n      <td>16/2/2017</td>\n      <td>73</td>\n      <td>Chinese</td>\n      <td>Female</td>\n      <td>Elective inpa</td>\n      <td>61-70</td>\n      <td>3 days</td>\n      <td>0</td>\n    </tr>\n    <tr>\n      <th>4</th>\n      <th>28/1/2017</th>\n      <td>6</td>\n      <td>90005</td>\n      <td>31/1/2017</td>\n      <td>74</td>\n      <td>Malay</td>\n      <td>Female</td>\n      <td>Emergency</td>\n      <td>61-70</td>\n      <td>3 days</td>\n      <td>0</td>\n    </tr>\n    <tr>\n      <th>5</th>\n      <th>2/1/2017</th>\n      <td>7</td>\n      <td>90006</td>\n      <td>6/1/2017</td>\n      <td>53</td>\n      <td>Indian</td>\n      <td>Male</td>\n      <td>Emergency</td>\n      <td>41-50</td>\n      <td>4 days</td>\n      <td>0</td>\n    </tr>\n    <tr>\n      <th>6</th>\n      <th>13/1/2017</th>\n      <td>8</td>\n      <td>90007</td>\n      <td>16/1/2017</td>\n      <td>69</td>\n      <td>Malay</td>\n      <td>Female</td>\n      <td>Emergency</td>\n      <td>51-60</td>\n      <td>3 days</td>\n      <td>0</td>\n    </tr>\n    <tr>\n      <th>7</th>\n      <th>9/1/2017</th>\n      <td>9</td>\n      <td>90008</td>\n      <td>10/1/2017</td>\n      <td>51</td>\n      <td>Indian</td>\n      <td>Male</td>\n      <td>Emergency</td>\n      <td>41-50</td>\n      <td>1 days</td>\n      <td>0</td>\n    </tr>\n    <tr>\n      <th rowspan=\"5\" valign=\"top\">8</th>\n      <th>16/12/2017</th>\n      <td>10</td>\n      <td>90272</td>\n      <td>19/12/2017</td>\n      <td>57</td>\n      <td>Indian</td>\n      <td>Male</td>\n      <td>Emergency</td>\n      <td>41-50</td>\n      <td>3 days</td>\n      <td>1</td>\n    </tr>\n    <tr>\n      <th>6/6/2017</th>\n      <td>11</td>\n      <td>90126</td>\n      <td>8/6/2017</td>\n      <td>57</td>\n      <td>Indian</td>\n      <td>Male</td>\n      <td>Emergency</td>\n      <td>41-50</td>\n      <td>2 days</td>\n      <td>1</td>\n    </tr>\n    <tr>\n      <th>3/6/2017</th>\n      <td>12</td>\n      <td>90113</td>\n      <td>3/6/2017</td>\n      <td>57</td>\n      <td>Indian</td>\n      <td>Male</td>\n      <td>Emergency</td>\n      <td>41-50</td>\n      <td>0 days</td>\n      <td>1</td>\n    </tr>\n    <tr>\n      <th>5/3/2017</th>\n      <td>13</td>\n      <td>90053</td>\n      <td>13/3/2017</td>\n      <td>56</td>\n      <td>Indian</td>\n      <td>Male</td>\n      <td>Emergency</td>\n      <td>41-50</td>\n      <td>8 days</td>\n      <td>1</td>\n    </tr>\n    <tr>\n      <th>20/12/2016</th>\n      <td>14</td>\n      <td>90009</td>\n      <td>3/1/2017</td>\n      <td>56</td>\n      <td>Indian</td>\n      <td>Male</td>\n      <td>Emergency</td>\n      <td>41-50</td>\n      <td>14 days</td>\n      <td>0</td>\n    </tr>\n    <tr>\n      <th>9</th>\n      <th>2/1/2017</th>\n      <td>15</td>\n      <td>90010</td>\n      <td>4/1/2017</td>\n      <td>52</td>\n      <td>Indian</td>\n      <td>Male</td>\n      <td>Emergency</td>\n      <td>41-50</td>\n      <td>2 days</td>\n      <td>0</td>\n    </tr>\n    <tr>\n      <th rowspan=\"3\" valign=\"top\">10</th>\n      <th>26/10/2017</th>\n      <td>16</td>\n      <td>90225</td>\n      <td>29/10/2017</td>\n      <td>74</td>\n      <td>Chinese</td>\n      <td>Male</td>\n      <td>Emergency</td>\n      <td>61-70</td>\n      <td>3 days</td>\n      <td>1</td>\n    </tr>\n    <tr>\n      <th>31/12/2016</th>\n      <td>17</td>\n      <td>90011</td>\n      <td>3/1/2017</td>\n      <td>73</td>\n      <td>Chinese</td>\n      <td>Male</td>\n      <td>Emergency</td>\n      <td>61-70</td>\n      <td>3 days</td>\n      <td>0</td>\n    </tr>\n    <tr>\n      <th>11/10/2017</th>\n      <td>18</td>\n      <td>90217</td>\n      <td>16/10/2017</td>\n      <td>74</td>\n      <td>Chinese</td>\n      <td>Male</td>\n      <td>Emergency</td>\n      <td>61-70</td>\n      <td>5 days</td>\n      <td>0</td>\n    </tr>\n  </tbody>\n</table>\n</div>"
     },
     "metadata": {},
     "execution_count": 16
    }
   ],
   "source": [
    "df = df.reset_index()\n",
    "df = df.set_index(['Subject ID', 'Admission Date\\n(dd/mm/yyyy)'])\n",
    "df.head(20)"
   ]
  },
  {
   "source": [
    "### ffill - fill missing data"
   ],
   "cell_type": "markdown",
   "metadata": {}
  },
  {
   "cell_type": "code",
   "execution_count": 17,
   "metadata": {},
   "outputs": [
    {
     "output_type": "execute_result",
     "data": {
      "text/plain": [
       "                                         index  Case No  \\\n",
       "Subject ID Admission Date\\n(dd/mm/yyyy)                   \n",
       "1          7/1/2017                          0    90001   \n",
       "2          2/1/2017                          1    90002   \n",
       "3          26/12/2016                        2    90003   \n",
       "           17/1/2017                         3    90004   \n",
       "           20/3/2017                         4    90049   \n",
       "\n",
       "                                        Discharge Date\\n(dd/mm/yyyy)  \\\n",
       "Subject ID Admission Date\\n(dd/mm/yyyy)                                \n",
       "1          7/1/2017                                        13/1/2017   \n",
       "2          2/1/2017                                         4/1/2017   \n",
       "3          26/12/2016                                       6/1/2017   \n",
       "           17/1/2017                                       20/1/2017   \n",
       "           20/3/2017                                       23/3/2017   \n",
       "\n",
       "                                         Age\\n(Years)     Race  Gender  \\\n",
       "Subject ID Admission Date\\n(dd/mm/yyyy)                                  \n",
       "1          7/1/2017                                65  Chinese    Male   \n",
       "2          2/1/2017                                52  Chinese    Male   \n",
       "3          26/12/2016                              73  Chinese  Female   \n",
       "           17/1/2017                               73  Chinese  Female   \n",
       "           20/3/2017                               73  Chinese  Female   \n",
       "\n",
       "                                         Adm Type Desc Age Group      LOS  \\\n",
       "Subject ID Admission Date\\n(dd/mm/yyyy)                                     \n",
       "1          7/1/2017                          Emergency     51-60   6 days   \n",
       "2          2/1/2017                          Emergency     41-50   2 days   \n",
       "3          26/12/2016                        Emergency     61-70  11 days   \n",
       "           17/1/2017                     Elective inpa     61-70   3 days   \n",
       "           20/3/2017                     Elective inpa     61-70   3 days   \n",
       "\n",
       "                                         Readmitted_30  \n",
       "Subject ID Admission Date\\n(dd/mm/yyyy)                 \n",
       "1          7/1/2017                                  0  \n",
       "2          2/1/2017                                  0  \n",
       "3          26/12/2016                                1  \n",
       "           17/1/2017                                 0  \n",
       "           20/3/2017                                 1  "
      ],
      "text/html": "<div>\n<style scoped>\n    .dataframe tbody tr th:only-of-type {\n        vertical-align: middle;\n    }\n\n    .dataframe tbody tr th {\n        vertical-align: top;\n    }\n\n    .dataframe thead th {\n        text-align: right;\n    }\n</style>\n<table border=\"1\" class=\"dataframe\">\n  <thead>\n    <tr style=\"text-align: right;\">\n      <th></th>\n      <th></th>\n      <th>index</th>\n      <th>Case No</th>\n      <th>Discharge Date\\n(dd/mm/yyyy)</th>\n      <th>Age\\n(Years)</th>\n      <th>Race</th>\n      <th>Gender</th>\n      <th>Adm Type Desc</th>\n      <th>Age Group</th>\n      <th>LOS</th>\n      <th>Readmitted_30</th>\n    </tr>\n    <tr>\n      <th>Subject ID</th>\n      <th>Admission Date\n(dd/mm/yyyy)</th>\n      <th></th>\n      <th></th>\n      <th></th>\n      <th></th>\n      <th></th>\n      <th></th>\n      <th></th>\n      <th></th>\n      <th></th>\n      <th></th>\n    </tr>\n  </thead>\n  <tbody>\n    <tr>\n      <th>1</th>\n      <th>7/1/2017</th>\n      <td>0</td>\n      <td>90001</td>\n      <td>13/1/2017</td>\n      <td>65</td>\n      <td>Chinese</td>\n      <td>Male</td>\n      <td>Emergency</td>\n      <td>51-60</td>\n      <td>6 days</td>\n      <td>0</td>\n    </tr>\n    <tr>\n      <th>2</th>\n      <th>2/1/2017</th>\n      <td>1</td>\n      <td>90002</td>\n      <td>4/1/2017</td>\n      <td>52</td>\n      <td>Chinese</td>\n      <td>Male</td>\n      <td>Emergency</td>\n      <td>41-50</td>\n      <td>2 days</td>\n      <td>0</td>\n    </tr>\n    <tr>\n      <th rowspan=\"3\" valign=\"top\">3</th>\n      <th>26/12/2016</th>\n      <td>2</td>\n      <td>90003</td>\n      <td>6/1/2017</td>\n      <td>73</td>\n      <td>Chinese</td>\n      <td>Female</td>\n      <td>Emergency</td>\n      <td>61-70</td>\n      <td>11 days</td>\n      <td>1</td>\n    </tr>\n    <tr>\n      <th>17/1/2017</th>\n      <td>3</td>\n      <td>90004</td>\n      <td>20/1/2017</td>\n      <td>73</td>\n      <td>Chinese</td>\n      <td>Female</td>\n      <td>Elective inpa</td>\n      <td>61-70</td>\n      <td>3 days</td>\n      <td>0</td>\n    </tr>\n    <tr>\n      <th>20/3/2017</th>\n      <td>4</td>\n      <td>90049</td>\n      <td>23/3/2017</td>\n      <td>73</td>\n      <td>Chinese</td>\n      <td>Female</td>\n      <td>Elective inpa</td>\n      <td>61-70</td>\n      <td>3 days</td>\n      <td>1</td>\n    </tr>\n  </tbody>\n</table>\n</div>"
     },
     "metadata": {},
     "execution_count": 17
    }
   ],
   "source": [
    "df = df.fillna(method='ffill')\n",
    "df.head()"
   ]
  },
  {
   "cell_type": "code",
   "execution_count": 19,
   "metadata": {},
   "outputs": [
    {
     "output_type": "execute_result",
     "data": {
      "text/plain": [
       "   A  B  C\n",
       "0  1  3  a\n",
       "1  1  6  b\n",
       "2  2  3  c\n",
       "3  3  8  d\n",
       "4  4  9  e"
      ],
      "text/html": "<div>\n<style scoped>\n    .dataframe tbody tr th:only-of-type {\n        vertical-align: middle;\n    }\n\n    .dataframe tbody tr th {\n        vertical-align: top;\n    }\n\n    .dataframe thead th {\n        text-align: right;\n    }\n</style>\n<table border=\"1\" class=\"dataframe\">\n  <thead>\n    <tr style=\"text-align: right;\">\n      <th></th>\n      <th>A</th>\n      <th>B</th>\n      <th>C</th>\n    </tr>\n  </thead>\n  <tbody>\n    <tr>\n      <th>0</th>\n      <td>1</td>\n      <td>3</td>\n      <td>a</td>\n    </tr>\n    <tr>\n      <th>1</th>\n      <td>1</td>\n      <td>6</td>\n      <td>b</td>\n    </tr>\n    <tr>\n      <th>2</th>\n      <td>2</td>\n      <td>3</td>\n      <td>c</td>\n    </tr>\n    <tr>\n      <th>3</th>\n      <td>3</td>\n      <td>8</td>\n      <td>d</td>\n    </tr>\n    <tr>\n      <th>4</th>\n      <td>4</td>\n      <td>9</td>\n      <td>e</td>\n    </tr>\n  </tbody>\n</table>\n</div>"
     },
     "metadata": {},
     "execution_count": 19
    }
   ],
   "source": [
    "df = pd.DataFrame({\n",
    "    'A': [1,1,2,3,4],\n",
    "    'B': [3,6,3,8,9],\n",
    "    'C': ['a','b','c','d','e']\n",
    "})\n",
    "df"
   ]
  },
  {
   "source": [
    "### replace()"
   ],
   "cell_type": "markdown",
   "metadata": {}
  },
  {
   "cell_type": "code",
   "execution_count": 20,
   "metadata": {},
   "outputs": [
    {
     "output_type": "execute_result",
     "data": {
      "text/plain": [
       "     A  B  C\n",
       "0  100  3  a\n",
       "1  100  6  b\n",
       "2    2  3  c\n",
       "3    3  8  d\n",
       "4    4  9  e"
      ],
      "text/html": "<div>\n<style scoped>\n    .dataframe tbody tr th:only-of-type {\n        vertical-align: middle;\n    }\n\n    .dataframe tbody tr th {\n        vertical-align: top;\n    }\n\n    .dataframe thead th {\n        text-align: right;\n    }\n</style>\n<table border=\"1\" class=\"dataframe\">\n  <thead>\n    <tr style=\"text-align: right;\">\n      <th></th>\n      <th>A</th>\n      <th>B</th>\n      <th>C</th>\n    </tr>\n  </thead>\n  <tbody>\n    <tr>\n      <th>0</th>\n      <td>100</td>\n      <td>3</td>\n      <td>a</td>\n    </tr>\n    <tr>\n      <th>1</th>\n      <td>100</td>\n      <td>6</td>\n      <td>b</td>\n    </tr>\n    <tr>\n      <th>2</th>\n      <td>2</td>\n      <td>3</td>\n      <td>c</td>\n    </tr>\n    <tr>\n      <th>3</th>\n      <td>3</td>\n      <td>8</td>\n      <td>d</td>\n    </tr>\n    <tr>\n      <th>4</th>\n      <td>4</td>\n      <td>9</td>\n      <td>e</td>\n    </tr>\n  </tbody>\n</table>\n</div>"
     },
     "metadata": {},
     "execution_count": 20
    }
   ],
   "source": [
    "df.replace(1,100)"
   ]
  },
  {
   "cell_type": "code",
   "execution_count": 21,
   "metadata": {},
   "outputs": [
    {
     "output_type": "execute_result",
     "data": {
      "text/plain": [
       "     A    B  C\n",
       "0  100  300  a\n",
       "1  100    6  b\n",
       "2    2  300  c\n",
       "3  300    8  d\n",
       "4    4    9  e"
      ],
      "text/html": "<div>\n<style scoped>\n    .dataframe tbody tr th:only-of-type {\n        vertical-align: middle;\n    }\n\n    .dataframe tbody tr th {\n        vertical-align: top;\n    }\n\n    .dataframe thead th {\n        text-align: right;\n    }\n</style>\n<table border=\"1\" class=\"dataframe\">\n  <thead>\n    <tr style=\"text-align: right;\">\n      <th></th>\n      <th>A</th>\n      <th>B</th>\n      <th>C</th>\n    </tr>\n  </thead>\n  <tbody>\n    <tr>\n      <th>0</th>\n      <td>100</td>\n      <td>300</td>\n      <td>a</td>\n    </tr>\n    <tr>\n      <th>1</th>\n      <td>100</td>\n      <td>6</td>\n      <td>b</td>\n    </tr>\n    <tr>\n      <th>2</th>\n      <td>2</td>\n      <td>300</td>\n      <td>c</td>\n    </tr>\n    <tr>\n      <th>3</th>\n      <td>300</td>\n      <td>8</td>\n      <td>d</td>\n    </tr>\n    <tr>\n      <th>4</th>\n      <td>4</td>\n      <td>9</td>\n      <td>e</td>\n    </tr>\n  </tbody>\n</table>\n</div>"
     },
     "metadata": {},
     "execution_count": 21
    }
   ],
   "source": [
    "df.replace([1,3], [100,300])"
   ]
  },
  {
   "cell_type": "code",
   "execution_count": 23,
   "metadata": {},
   "outputs": [
    {
     "output_type": "execute_result",
     "data": {
      "text/plain": [
       "   A  B  C\n",
       "0  1  3  a\n",
       "1  1  6  b\n",
       "2  2  3  c\n",
       "3  3  8  d\n",
       "4  4  9  e"
      ],
      "text/html": "<div>\n<style scoped>\n    .dataframe tbody tr th:only-of-type {\n        vertical-align: middle;\n    }\n\n    .dataframe tbody tr th {\n        vertical-align: top;\n    }\n\n    .dataframe thead th {\n        text-align: right;\n    }\n</style>\n<table border=\"1\" class=\"dataframe\">\n  <thead>\n    <tr style=\"text-align: right;\">\n      <th></th>\n      <th>A</th>\n      <th>B</th>\n      <th>C</th>\n    </tr>\n  </thead>\n  <tbody>\n    <tr>\n      <th>0</th>\n      <td>1</td>\n      <td>3</td>\n      <td>a</td>\n    </tr>\n    <tr>\n      <th>1</th>\n      <td>1</td>\n      <td>6</td>\n      <td>b</td>\n    </tr>\n    <tr>\n      <th>2</th>\n      <td>2</td>\n      <td>3</td>\n      <td>c</td>\n    </tr>\n    <tr>\n      <th>3</th>\n      <td>3</td>\n      <td>8</td>\n      <td>d</td>\n    </tr>\n    <tr>\n      <th>4</th>\n      <td>4</td>\n      <td>9</td>\n      <td>e</td>\n    </tr>\n  </tbody>\n</table>\n</div>"
     },
     "metadata": {},
     "execution_count": 23
    }
   ],
   "source": [
    "# want to detect all html pages (ends with .html) - overwrite that with 'webpage'\n",
    "df.replace(to_replace=\".*.html$\", value=\"webpage\", regex=True)"
   ]
  }
 ]
}