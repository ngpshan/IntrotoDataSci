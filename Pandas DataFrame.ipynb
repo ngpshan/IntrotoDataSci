{
 "metadata": {
  "language_info": {
   "codemirror_mode": {
    "name": "ipython",
    "version": 3
   },
   "file_extension": ".py",
   "mimetype": "text/x-python",
   "name": "python",
   "nbconvert_exporter": "python",
   "pygments_lexer": "ipython3",
   "version": "3.8.6-candidate"
  },
  "orig_nbformat": 2,
  "kernelspec": {
   "name": "Python 3.8.6 64-bit",
   "display_name": "Python 3.8.6 64-bit",
   "metadata": {
    "interpreter": {
     "hash": "23a0b241a33537883b39067dbbeaffacf56379d0e0386bed5fb7b1dd24f284a0"
    }
   }
  }
 },
 "nbformat": 4,
 "nbformat_minor": 2,
 "cells": [
  {
   "source": [
    "## DataFrame data structure"
   ],
   "cell_type": "markdown",
   "metadata": {}
  },
  {
   "cell_type": "code",
   "execution_count": 2,
   "metadata": {},
   "outputs": [],
   "source": [
    "# think of df as a two-axes labeled array\n",
    "import pandas as pd"
   ]
  },
  {
   "cell_type": "code",
   "execution_count": 5,
   "metadata": {},
   "outputs": [],
   "source": [
    "record1 = pd.Series({\n",
    "    'Name':'Abby',\n",
    "    'Department':'Intensive Care Unit (ICU)',\n",
    "    'Age':29\n",
    "})\n",
    "\n",
    "record2 = pd.Series({\n",
    "    'Name':'Justin',\n",
    "    'Department':'Occupational Therapy',\n",
    "    'Age':32\n",
    "})\n",
    "\n",
    "record3 = pd.Series({\n",
    "    'Name':'Harry',\n",
    "    'Department':'Pharmacy',\n",
    "    'Age':39\n",
    "})"
   ]
  },
  {
   "cell_type": "code",
   "execution_count": 8,
   "metadata": {},
   "outputs": [
    {
     "output_type": "execute_result",
     "data": {
      "text/plain": [
       "             Name                 Department  Age\n",
       "hospital1    Abby  Intensive Care Unit (ICU)   29\n",
       "hospital2  Justin       Occupational Therapy   32\n",
       "hospital1   Harry                   Pharmacy   39"
      ],
      "text/html": "<div>\n<style scoped>\n    .dataframe tbody tr th:only-of-type {\n        vertical-align: middle;\n    }\n\n    .dataframe tbody tr th {\n        vertical-align: top;\n    }\n\n    .dataframe thead th {\n        text-align: right;\n    }\n</style>\n<table border=\"1\" class=\"dataframe\">\n  <thead>\n    <tr style=\"text-align: right;\">\n      <th></th>\n      <th>Name</th>\n      <th>Department</th>\n      <th>Age</th>\n    </tr>\n  </thead>\n  <tbody>\n    <tr>\n      <th>hospital1</th>\n      <td>Abby</td>\n      <td>Intensive Care Unit (ICU)</td>\n      <td>29</td>\n    </tr>\n    <tr>\n      <th>hospital2</th>\n      <td>Justin</td>\n      <td>Occupational Therapy</td>\n      <td>32</td>\n    </tr>\n    <tr>\n      <th>hospital1</th>\n      <td>Harry</td>\n      <td>Pharmacy</td>\n      <td>39</td>\n    </tr>\n  </tbody>\n</table>\n</div>"
     },
     "metadata": {},
     "execution_count": 8
    }
   ],
   "source": [
    "df = pd.DataFrame([record1,record2,record3], index=['hospital1','hospital2','hospital1'])\n",
    "df.head() # jupyter creates a nice bit of HTML to render the resulting df. "
   ]
  },
  {
   "cell_type": "code",
   "execution_count": 14,
   "metadata": {},
   "outputs": [
    {
     "output_type": "execute_result",
     "data": {
      "text/plain": [
       "             Name                 Department  Age\n",
       "hospitalA    Abby  Intensive Care Unit (ICU)   29\n",
       "hospitalB  Justin       Occupational Therapy   32\n",
       "hospitalA   Harry                   Pharmacy   39"
      ],
      "text/html": "<div>\n<style scoped>\n    .dataframe tbody tr th:only-of-type {\n        vertical-align: middle;\n    }\n\n    .dataframe tbody tr th {\n        vertical-align: top;\n    }\n\n    .dataframe thead th {\n        text-align: right;\n    }\n</style>\n<table border=\"1\" class=\"dataframe\">\n  <thead>\n    <tr style=\"text-align: right;\">\n      <th></th>\n      <th>Name</th>\n      <th>Department</th>\n      <th>Age</th>\n    </tr>\n  </thead>\n  <tbody>\n    <tr>\n      <th>hospitalA</th>\n      <td>Abby</td>\n      <td>Intensive Care Unit (ICU)</td>\n      <td>29</td>\n    </tr>\n    <tr>\n      <th>hospitalB</th>\n      <td>Justin</td>\n      <td>Occupational Therapy</td>\n      <td>32</td>\n    </tr>\n    <tr>\n      <th>hospitalA</th>\n      <td>Harry</td>\n      <td>Pharmacy</td>\n      <td>39</td>\n    </tr>\n  </tbody>\n</table>\n</div>"
     },
     "metadata": {},
     "execution_count": 14
    }
   ],
   "source": [
    "# list of dictionaries, each dict represents a row of data\n",
    "employees = [{\n",
    "    'Name':'Abby',\n",
    "    'Department':'Intensive Care Unit (ICU)',\n",
    "    'Age':29},\n",
    "    {\n",
    "    'Name':'Justin',\n",
    "    'Department':'Occupational Therapy',\n",
    "    'Age':32},\n",
    "    {\n",
    "    'Name':'Harry',\n",
    "    'Department':'Pharmacy',\n",
    "    'Age':39}]\n",
    "\n",
    "df = pd.DataFrame(employees, index=['hospitalA','hospitalB','hospitalA'])\n",
    "df.head()"
   ]
  },
  {
   "cell_type": "code",
   "execution_count": 15,
   "metadata": {},
   "outputs": [
    {
     "output_type": "execute_result",
     "data": {
      "text/plain": [
       "            Name                 Department  Age\n",
       "hospitalA   Abby  Intensive Care Unit (ICU)   29\n",
       "hospitalA  Harry                   Pharmacy   39"
      ],
      "text/html": "<div>\n<style scoped>\n    .dataframe tbody tr th:only-of-type {\n        vertical-align: middle;\n    }\n\n    .dataframe tbody tr th {\n        vertical-align: top;\n    }\n\n    .dataframe thead th {\n        text-align: right;\n    }\n</style>\n<table border=\"1\" class=\"dataframe\">\n  <thead>\n    <tr style=\"text-align: right;\">\n      <th></th>\n      <th>Name</th>\n      <th>Department</th>\n      <th>Age</th>\n    </tr>\n  </thead>\n  <tbody>\n    <tr>\n      <th>hospitalA</th>\n      <td>Abby</td>\n      <td>Intensive Care Unit (ICU)</td>\n      <td>29</td>\n    </tr>\n    <tr>\n      <th>hospitalA</th>\n      <td>Harry</td>\n      <td>Pharmacy</td>\n      <td>39</td>\n    </tr>\n  </tbody>\n</table>\n</div>"
     },
     "metadata": {},
     "execution_count": 15
    }
   ],
   "source": [
    "# query .loc attribute - select hospitalA data\n",
    "df.loc['hospitalA']"
   ]
  },
  {
   "cell_type": "code",
   "execution_count": 17,
   "metadata": {},
   "outputs": [
    {
     "output_type": "execute_result",
     "data": {
      "text/plain": [
       "pandas.core.series.Series"
      ]
     },
     "metadata": {},
     "execution_count": 17
    }
   ],
   "source": [
    "# check data type - type() function\n",
    "type(df.loc['hospitalB'])"
   ]
  },
  {
   "cell_type": "code",
   "execution_count": 18,
   "metadata": {},
   "outputs": [
    {
     "output_type": "execute_result",
     "data": {
      "text/plain": [
       "pandas.core.frame.DataFrame"
      ]
     },
     "metadata": {},
     "execution_count": 18
    }
   ],
   "source": [
    "type(df.loc['hospitalA'])"
   ]
  },
  {
   "cell_type": "code",
   "execution_count": 20,
   "metadata": {},
   "outputs": [
    {
     "output_type": "execute_result",
     "data": {
      "text/plain": [
       "hospitalA     Abby\n",
       "hospitalA    Harry\n",
       "Name: Name, dtype: object"
      ]
     },
     "metadata": {},
     "execution_count": 20
    }
   ],
   "source": [
    "df.loc['hospitalA', 'Name'] # if we are only interested in hospital employee's names"
   ]
  },
  {
   "cell_type": "code",
   "execution_count": 21,
   "metadata": {},
   "outputs": [
    {
     "output_type": "execute_result",
     "data": {
      "text/plain": [
       "                            hospitalA             hospitalB hospitalA\n",
       "Name                             Abby                Justin     Harry\n",
       "Department  Intensive Care Unit (ICU)  Occupational Therapy  Pharmacy\n",
       "Age                                29                    32        39"
      ],
      "text/html": "<div>\n<style scoped>\n    .dataframe tbody tr th:only-of-type {\n        vertical-align: middle;\n    }\n\n    .dataframe tbody tr th {\n        vertical-align: top;\n    }\n\n    .dataframe thead th {\n        text-align: right;\n    }\n</style>\n<table border=\"1\" class=\"dataframe\">\n  <thead>\n    <tr style=\"text-align: right;\">\n      <th></th>\n      <th>hospitalA</th>\n      <th>hospitalB</th>\n      <th>hospitalA</th>\n    </tr>\n  </thead>\n  <tbody>\n    <tr>\n      <th>Name</th>\n      <td>Abby</td>\n      <td>Justin</td>\n      <td>Harry</td>\n    </tr>\n    <tr>\n      <th>Department</th>\n      <td>Intensive Care Unit (ICU)</td>\n      <td>Occupational Therapy</td>\n      <td>Pharmacy</td>\n    </tr>\n    <tr>\n      <th>Age</th>\n      <td>29</td>\n      <td>32</td>\n      <td>39</td>\n    </tr>\n  </tbody>\n</table>\n</div>"
     },
     "metadata": {},
     "execution_count": 21
    }
   ],
   "source": [
    "df.T # transpose the matrix - pivots all the rows into cols & all cols into rows"
   ]
  },
  {
   "cell_type": "code",
   "execution_count": 22,
   "metadata": {},
   "outputs": [
    {
     "output_type": "execute_result",
     "data": {
      "text/plain": [
       "hospitalA      Abby\n",
       "hospitalB    Justin\n",
       "hospitalA     Harry\n",
       "Name: Name, dtype: object"
      ]
     },
     "metadata": {},
     "execution_count": 22
    }
   ],
   "source": [
    "df.T.loc['Name']"
   ]
  },
  {
   "cell_type": "code",
   "execution_count": 23,
   "metadata": {},
   "outputs": [
    {
     "output_type": "execute_result",
     "data": {
      "text/plain": [
       "hospitalA      Abby\n",
       "hospitalB    Justin\n",
       "hospitalA     Harry\n",
       "Name: Name, dtype: object"
      ]
     },
     "metadata": {},
     "execution_count": 23
    }
   ],
   "source": [
    "# cols always have a name\n",
    "df['Name']"
   ]
  },
  {
   "cell_type": "code",
   "execution_count": 26,
   "metadata": {},
   "outputs": [
    {
     "output_type": "execute_result",
     "data": {
      "text/plain": [
       "pandas.core.series.Series"
      ]
     },
     "metadata": {},
     "execution_count": 26
    }
   ],
   "source": [
    "type(df['Name']) # Series object"
   ]
  },
  {
   "cell_type": "code",
   "execution_count": 28,
   "metadata": {},
   "outputs": [
    {
     "output_type": "execute_result",
     "data": {
      "text/plain": [
       "hospitalA     Abby\n",
       "hospitalA    Harry\n",
       "Name: Name, dtype: object"
      ]
     },
     "metadata": {},
     "execution_count": 28
    }
   ],
   "source": [
    "df.loc['hospitalA']['Name'] # select all rows related to hospitalA"
   ]
  },
  {
   "cell_type": "code",
   "execution_count": 29,
   "metadata": {},
   "outputs": [
    {
     "output_type": "execute_result",
     "data": {
      "text/plain": [
       "pandas.core.series.Series"
      ]
     },
     "metadata": {},
     "execution_count": 29
    }
   ],
   "source": [
    "type(df.loc['hospitalA']['Name'])"
   ]
  },
  {
   "cell_type": "code",
   "execution_count": 31,
   "metadata": {},
   "outputs": [
    {
     "output_type": "execute_result",
     "data": {
      "text/plain": [
       "             Name  Age\n",
       "hospitalA    Abby   29\n",
       "hospitalB  Justin   32\n",
       "hospitalA   Harry   39"
      ],
      "text/html": "<div>\n<style scoped>\n    .dataframe tbody tr th:only-of-type {\n        vertical-align: middle;\n    }\n\n    .dataframe tbody tr th {\n        vertical-align: top;\n    }\n\n    .dataframe thead th {\n        text-align: right;\n    }\n</style>\n<table border=\"1\" class=\"dataframe\">\n  <thead>\n    <tr style=\"text-align: right;\">\n      <th></th>\n      <th>Name</th>\n      <th>Age</th>\n    </tr>\n  </thead>\n  <tbody>\n    <tr>\n      <th>hospitalA</th>\n      <td>Abby</td>\n      <td>29</td>\n    </tr>\n    <tr>\n      <th>hospitalB</th>\n      <td>Justin</td>\n      <td>32</td>\n    </tr>\n    <tr>\n      <th>hospitalA</th>\n      <td>Harry</td>\n      <td>39</td>\n    </tr>\n  </tbody>\n</table>\n</div>"
     },
     "metadata": {},
     "execution_count": 31
    }
   ],
   "source": [
    "df.loc[:, ['Name', 'Age']] # select ALL ROWS & col name as 2nd parameter as a string"
   ]
  },
  {
   "source": [
    "## drop() function"
   ],
   "cell_type": "markdown",
   "metadata": {}
  },
  {
   "cell_type": "code",
   "execution_count": 33,
   "metadata": {},
   "outputs": [
    {
     "output_type": "execute_result",
     "data": {
      "text/plain": [
       "            Name                 Department  Age\n",
       "hospitalA   Abby  Intensive Care Unit (ICU)   29\n",
       "hospitalA  Harry                   Pharmacy   39"
      ],
      "text/html": "<div>\n<style scoped>\n    .dataframe tbody tr th:only-of-type {\n        vertical-align: middle;\n    }\n\n    .dataframe tbody tr th {\n        vertical-align: top;\n    }\n\n    .dataframe thead th {\n        text-align: right;\n    }\n</style>\n<table border=\"1\" class=\"dataframe\">\n  <thead>\n    <tr style=\"text-align: right;\">\n      <th></th>\n      <th>Name</th>\n      <th>Department</th>\n      <th>Age</th>\n    </tr>\n  </thead>\n  <tbody>\n    <tr>\n      <th>hospitalA</th>\n      <td>Abby</td>\n      <td>Intensive Care Unit (ICU)</td>\n      <td>29</td>\n    </tr>\n    <tr>\n      <th>hospitalA</th>\n      <td>Harry</td>\n      <td>Pharmacy</td>\n      <td>39</td>\n    </tr>\n  </tbody>\n</table>\n</div>"
     },
     "metadata": {},
     "execution_count": 33
    }
   ],
   "source": [
    "df.drop('hospitalB') # returns a copy of the df, with the given rows removed"
   ]
  },
  {
   "cell_type": "code",
   "execution_count": 34,
   "metadata": {},
   "outputs": [
    {
     "output_type": "execute_result",
     "data": {
      "text/plain": [
       "             Name                 Department  Age\n",
       "hospitalA    Abby  Intensive Care Unit (ICU)   29\n",
       "hospitalB  Justin       Occupational Therapy   32\n",
       "hospitalA   Harry                   Pharmacy   39"
      ],
      "text/html": "<div>\n<style scoped>\n    .dataframe tbody tr th:only-of-type {\n        vertical-align: middle;\n    }\n\n    .dataframe tbody tr th {\n        vertical-align: top;\n    }\n\n    .dataframe thead th {\n        text-align: right;\n    }\n</style>\n<table border=\"1\" class=\"dataframe\">\n  <thead>\n    <tr style=\"text-align: right;\">\n      <th></th>\n      <th>Name</th>\n      <th>Department</th>\n      <th>Age</th>\n    </tr>\n  </thead>\n  <tbody>\n    <tr>\n      <th>hospitalA</th>\n      <td>Abby</td>\n      <td>Intensive Care Unit (ICU)</td>\n      <td>29</td>\n    </tr>\n    <tr>\n      <th>hospitalB</th>\n      <td>Justin</td>\n      <td>Occupational Therapy</td>\n      <td>32</td>\n    </tr>\n    <tr>\n      <th>hospitalA</th>\n      <td>Harry</td>\n      <td>Pharmacy</td>\n      <td>39</td>\n    </tr>\n  </tbody>\n</table>\n</div>"
     },
     "metadata": {},
     "execution_count": 34
    }
   ],
   "source": [
    "df"
   ]
  },
  {
   "cell_type": "code",
   "execution_count": 35,
   "metadata": {},
   "outputs": [
    {
     "output_type": "execute_result",
     "data": {
      "text/plain": [
       "                          Department  Age\n",
       "hospitalA  Intensive Care Unit (ICU)   29\n",
       "hospitalB       Occupational Therapy   32\n",
       "hospitalA                   Pharmacy   39"
      ],
      "text/html": "<div>\n<style scoped>\n    .dataframe tbody tr th:only-of-type {\n        vertical-align: middle;\n    }\n\n    .dataframe tbody tr th {\n        vertical-align: top;\n    }\n\n    .dataframe thead th {\n        text-align: right;\n    }\n</style>\n<table border=\"1\" class=\"dataframe\">\n  <thead>\n    <tr style=\"text-align: right;\">\n      <th></th>\n      <th>Department</th>\n      <th>Age</th>\n    </tr>\n  </thead>\n  <tbody>\n    <tr>\n      <th>hospitalA</th>\n      <td>Intensive Care Unit (ICU)</td>\n      <td>29</td>\n    </tr>\n    <tr>\n      <th>hospitalB</th>\n      <td>Occupational Therapy</td>\n      <td>32</td>\n    </tr>\n    <tr>\n      <th>hospitalA</th>\n      <td>Pharmacy</td>\n      <td>39</td>\n    </tr>\n  </tbody>\n</table>\n</div>"
     },
     "metadata": {},
     "execution_count": 35
    }
   ],
   "source": [
    "copy_df = df.copy() # make a copy of df - copy()\n",
    "# inplace=True, df will be updated & default axes is 0 (row axis), set axis=1 to drop column\n",
    "copy_df.drop('Name', inplace=True, axis=1)\n",
    "copy_df"
   ]
  },
  {
   "source": [
    "## del keyword"
   ],
   "cell_type": "markdown",
   "metadata": {}
  },
  {
   "cell_type": "code",
   "execution_count": 37,
   "metadata": {},
   "outputs": [
    {
     "output_type": "execute_result",
     "data": {
      "text/plain": [
       "           Age\n",
       "hospitalA   29\n",
       "hospitalB   32\n",
       "hospitalA   39"
      ],
      "text/html": "<div>\n<style scoped>\n    .dataframe tbody tr th:only-of-type {\n        vertical-align: middle;\n    }\n\n    .dataframe tbody tr th {\n        vertical-align: top;\n    }\n\n    .dataframe thead th {\n        text-align: right;\n    }\n</style>\n<table border=\"1\" class=\"dataframe\">\n  <thead>\n    <tr style=\"text-align: right;\">\n      <th></th>\n      <th>Age</th>\n    </tr>\n  </thead>\n  <tbody>\n    <tr>\n      <th>hospitalA</th>\n      <td>29</td>\n    </tr>\n    <tr>\n      <th>hospitalB</th>\n      <td>32</td>\n    </tr>\n    <tr>\n      <th>hospitalA</th>\n      <td>39</td>\n    </tr>\n  </tbody>\n</table>\n</div>"
     },
     "metadata": {},
     "execution_count": 37
    }
   ],
   "source": [
    "del copy_df['Department'] # immediate effect, doesn't return a view\n",
    "copy_df"
   ]
  },
  {
   "source": [
    "## Add new col to df"
   ],
   "cell_type": "markdown",
   "metadata": {}
  },
  {
   "cell_type": "code",
   "execution_count": 38,
   "metadata": {},
   "outputs": [],
   "source": [
    "df['DOB'] = None\n",
    "df['Employee ID'] = ['ER52', 'BN70', 'SW34']"
   ]
  },
  {
   "cell_type": "code",
   "execution_count": 39,
   "metadata": {},
   "outputs": [
    {
     "output_type": "execute_result",
     "data": {
      "text/plain": [
       "             Name                 Department  Age   DOB Employee ID\n",
       "hospitalA    Abby  Intensive Care Unit (ICU)   29  None        ER52\n",
       "hospitalB  Justin       Occupational Therapy   32  None        BN70\n",
       "hospitalA   Harry                   Pharmacy   39  None        SW34"
      ],
      "text/html": "<div>\n<style scoped>\n    .dataframe tbody tr th:only-of-type {\n        vertical-align: middle;\n    }\n\n    .dataframe tbody tr th {\n        vertical-align: top;\n    }\n\n    .dataframe thead th {\n        text-align: right;\n    }\n</style>\n<table border=\"1\" class=\"dataframe\">\n  <thead>\n    <tr style=\"text-align: right;\">\n      <th></th>\n      <th>Name</th>\n      <th>Department</th>\n      <th>Age</th>\n      <th>DOB</th>\n      <th>Employee ID</th>\n    </tr>\n  </thead>\n  <tbody>\n    <tr>\n      <th>hospitalA</th>\n      <td>Abby</td>\n      <td>Intensive Care Unit (ICU)</td>\n      <td>29</td>\n      <td>None</td>\n      <td>ER52</td>\n    </tr>\n    <tr>\n      <th>hospitalB</th>\n      <td>Justin</td>\n      <td>Occupational Therapy</td>\n      <td>32</td>\n      <td>None</td>\n      <td>BN70</td>\n    </tr>\n    <tr>\n      <th>hospitalA</th>\n      <td>Harry</td>\n      <td>Pharmacy</td>\n      <td>39</td>\n      <td>None</td>\n      <td>SW34</td>\n    </tr>\n  </tbody>\n</table>\n</div>"
     },
     "metadata": {},
     "execution_count": 39
    }
   ],
   "source": [
    "df"
   ]
  }
 ]
}