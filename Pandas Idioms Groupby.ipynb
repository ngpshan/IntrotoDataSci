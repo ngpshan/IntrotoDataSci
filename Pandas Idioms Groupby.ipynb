{
 "metadata": {
  "language_info": {
   "codemirror_mode": {
    "name": "ipython",
    "version": 3
   },
   "file_extension": ".py",
   "mimetype": "text/x-python",
   "name": "python",
   "nbconvert_exporter": "python",
   "pygments_lexer": "ipython3",
   "version": "3.8.6-candidate"
  },
  "orig_nbformat": 2,
  "kernelspec": {
   "name": "Python 3.8.6 64-bit",
   "display_name": "Python 3.8.6 64-bit",
   "metadata": {
    "interpreter": {
     "hash": "23a0b241a33537883b39067dbbeaffacf56379d0e0386bed5fb7b1dd24f284a0"
    }
   }
  }
 },
 "nbformat": 4,
 "nbformat_minor": 2,
 "cells": [
  {
   "cell_type": "code",
   "execution_count": 1,
   "metadata": {},
   "outputs": [],
   "source": [
    "import pandas as pd\n",
    "import numpy as np\n",
    "import timeit"
   ]
  },
  {
   "cell_type": "code",
   "execution_count": 2,
   "metadata": {},
   "outputs": [
    {
     "output_type": "execute_result",
     "data": {
      "text/plain": [
       "   CensusTract    State   County  TotalPop   Men  Women  Hispanic  White  \\\n",
       "0   1001020100  Alabama  Autauga      1948   940   1008       0.9   87.4   \n",
       "1   1001020200  Alabama  Autauga      2156  1059   1097       0.8   40.4   \n",
       "2   1001020300  Alabama  Autauga      2968  1364   1604       0.0   74.5   \n",
       "3   1001020400  Alabama  Autauga      4423  2172   2251      10.5   82.8   \n",
       "4   1001020500  Alabama  Autauga     10763  4922   5841       0.7   68.5   \n",
       "\n",
       "   Black  Native  ...  Walk  OtherTransp  WorkAtHome  MeanCommute  Employed  \\\n",
       "0    7.7     0.3  ...   0.5          2.3         2.1         25.0       943   \n",
       "1   53.3     0.0  ...   0.0          0.7         0.0         23.4       753   \n",
       "2   18.6     0.5  ...   0.0          0.0         2.5         19.6      1373   \n",
       "3    3.7     1.6  ...   0.0          2.6         1.6         25.3      1782   \n",
       "4   24.8     0.0  ...   0.0          0.6         0.9         24.8      5037   \n",
       "\n",
       "   PrivateWork  PublicWork  SelfEmployed  FamilyWork  Unemployment  \n",
       "0         77.1        18.3           4.6         0.0           5.4  \n",
       "1         77.0        16.9           6.1         0.0          13.3  \n",
       "2         64.1        23.6          12.3         0.0           6.2  \n",
       "3         75.7        21.2           3.1         0.0          10.8  \n",
       "4         67.1        27.6           5.3         0.0           4.2  \n",
       "\n",
       "[5 rows x 37 columns]"
      ],
      "text/html": "<div>\n<style scoped>\n    .dataframe tbody tr th:only-of-type {\n        vertical-align: middle;\n    }\n\n    .dataframe tbody tr th {\n        vertical-align: top;\n    }\n\n    .dataframe thead th {\n        text-align: right;\n    }\n</style>\n<table border=\"1\" class=\"dataframe\">\n  <thead>\n    <tr style=\"text-align: right;\">\n      <th></th>\n      <th>CensusTract</th>\n      <th>State</th>\n      <th>County</th>\n      <th>TotalPop</th>\n      <th>Men</th>\n      <th>Women</th>\n      <th>Hispanic</th>\n      <th>White</th>\n      <th>Black</th>\n      <th>Native</th>\n      <th>...</th>\n      <th>Walk</th>\n      <th>OtherTransp</th>\n      <th>WorkAtHome</th>\n      <th>MeanCommute</th>\n      <th>Employed</th>\n      <th>PrivateWork</th>\n      <th>PublicWork</th>\n      <th>SelfEmployed</th>\n      <th>FamilyWork</th>\n      <th>Unemployment</th>\n    </tr>\n  </thead>\n  <tbody>\n    <tr>\n      <th>0</th>\n      <td>1001020100</td>\n      <td>Alabama</td>\n      <td>Autauga</td>\n      <td>1948</td>\n      <td>940</td>\n      <td>1008</td>\n      <td>0.9</td>\n      <td>87.4</td>\n      <td>7.7</td>\n      <td>0.3</td>\n      <td>...</td>\n      <td>0.5</td>\n      <td>2.3</td>\n      <td>2.1</td>\n      <td>25.0</td>\n      <td>943</td>\n      <td>77.1</td>\n      <td>18.3</td>\n      <td>4.6</td>\n      <td>0.0</td>\n      <td>5.4</td>\n    </tr>\n    <tr>\n      <th>1</th>\n      <td>1001020200</td>\n      <td>Alabama</td>\n      <td>Autauga</td>\n      <td>2156</td>\n      <td>1059</td>\n      <td>1097</td>\n      <td>0.8</td>\n      <td>40.4</td>\n      <td>53.3</td>\n      <td>0.0</td>\n      <td>...</td>\n      <td>0.0</td>\n      <td>0.7</td>\n      <td>0.0</td>\n      <td>23.4</td>\n      <td>753</td>\n      <td>77.0</td>\n      <td>16.9</td>\n      <td>6.1</td>\n      <td>0.0</td>\n      <td>13.3</td>\n    </tr>\n    <tr>\n      <th>2</th>\n      <td>1001020300</td>\n      <td>Alabama</td>\n      <td>Autauga</td>\n      <td>2968</td>\n      <td>1364</td>\n      <td>1604</td>\n      <td>0.0</td>\n      <td>74.5</td>\n      <td>18.6</td>\n      <td>0.5</td>\n      <td>...</td>\n      <td>0.0</td>\n      <td>0.0</td>\n      <td>2.5</td>\n      <td>19.6</td>\n      <td>1373</td>\n      <td>64.1</td>\n      <td>23.6</td>\n      <td>12.3</td>\n      <td>0.0</td>\n      <td>6.2</td>\n    </tr>\n    <tr>\n      <th>3</th>\n      <td>1001020400</td>\n      <td>Alabama</td>\n      <td>Autauga</td>\n      <td>4423</td>\n      <td>2172</td>\n      <td>2251</td>\n      <td>10.5</td>\n      <td>82.8</td>\n      <td>3.7</td>\n      <td>1.6</td>\n      <td>...</td>\n      <td>0.0</td>\n      <td>2.6</td>\n      <td>1.6</td>\n      <td>25.3</td>\n      <td>1782</td>\n      <td>75.7</td>\n      <td>21.2</td>\n      <td>3.1</td>\n      <td>0.0</td>\n      <td>10.8</td>\n    </tr>\n    <tr>\n      <th>4</th>\n      <td>1001020500</td>\n      <td>Alabama</td>\n      <td>Autauga</td>\n      <td>10763</td>\n      <td>4922</td>\n      <td>5841</td>\n      <td>0.7</td>\n      <td>68.5</td>\n      <td>24.8</td>\n      <td>0.0</td>\n      <td>...</td>\n      <td>0.0</td>\n      <td>0.6</td>\n      <td>0.9</td>\n      <td>24.8</td>\n      <td>5037</td>\n      <td>67.1</td>\n      <td>27.6</td>\n      <td>5.3</td>\n      <td>0.0</td>\n      <td>4.2</td>\n    </tr>\n  </tbody>\n</table>\n<p>5 rows × 37 columns</p>\n</div>"
     },
     "metadata": {},
     "execution_count": 2
    }
   ],
   "source": [
    "df = pd.read_csv('2015census.csv')\n",
    "df.head()"
   ]
  },
  {
   "cell_type": "code",
   "execution_count": 8,
   "metadata": {},
   "outputs": [
    {
     "output_type": "execute_result",
     "data": {
      "text/plain": [
       "                  CensusTract     State     Men   Women  Hispanic  White  \\\n",
       "County TotalPop                                                            \n",
       "Albany 2001.0    3.600100e+10  New York   868.0  1133.0      24.3   18.2   \n",
       "       4519.0    3.600100e+10  New York  2224.0  2295.0      11.8    9.0   \n",
       "       5244.0    3.600100e+10  New York  2643.0  2601.0       6.6   45.7   \n",
       "       2423.0    3.600100e+10  New York   927.0  1496.0       4.4   86.8   \n",
       "       4654.0    3.600100e+10  New York  2100.0  2554.0       8.4   66.2   \n",
       "...                       ...       ...     ...     ...       ...    ...   \n",
       "Yates  6110.0    3.612315e+10  New York  3067.0  3043.0       4.3   94.4   \n",
       "       5402.0    3.612315e+10  New York  2469.0  2933.0       0.5   95.7   \n",
       "       5481.0    3.612315e+10  New York  2678.0  2803.0       2.7   96.2   \n",
       "       3781.0    3.612315e+10  New York  1812.0  1969.0       0.9   94.6   \n",
       "       4413.0    3.612315e+10  New York  2245.0  2168.0       0.9   97.0   \n",
       "\n",
       "                 Black  Native  Asian  Pacific  ...  Walk  \\\n",
       "County TotalPop                                 ...         \n",
       "Albany 2001.0     51.5     0.0    2.4      0.0  ...   3.7   \n",
       "       4519.0     75.3     0.0    0.3      0.0  ...  11.9   \n",
       "       5244.0     37.5     0.3    2.6      0.0  ...   3.3   \n",
       "       2423.0      4.2     1.9    2.7      0.0  ...   0.0   \n",
       "       4654.0     15.3     0.8    7.5      0.0  ...   1.2   \n",
       "...                ...     ...    ...      ...  ...   ...   \n",
       "Yates  6110.0      0.5     0.1    0.1      0.1  ...   4.3   \n",
       "       5402.0      2.4     0.0    0.2      0.0  ...  10.3   \n",
       "       5481.0      0.4     0.0    0.1      0.0  ...   2.8   \n",
       "       3781.0      1.2     0.5    1.6      0.0  ...  18.8   \n",
       "       4413.0      0.3     0.0    1.2      0.0  ...   9.0   \n",
       "\n",
       "                 OtherTransportation  WorkAtHome  MeanCommute  Employed  \\\n",
       "County TotalPop                                                           \n",
       "Albany 2001.0                    0.0         1.4         19.7     641.0   \n",
       "       4519.0                    0.0         1.9         22.9    1866.0   \n",
       "       5244.0                    0.8         1.9         18.6    2125.0   \n",
       "       2423.0                    0.5         0.7         18.8     885.0   \n",
       "       4654.0                    3.0         0.4         19.4    2678.0   \n",
       "...                              ...         ...          ...       ...   \n",
       "Yates  6110.0                    4.7         7.5         25.2    2955.0   \n",
       "       5402.0                    2.8         7.9         17.5    2349.0   \n",
       "       5481.0                    1.9         5.9         29.3    2582.0   \n",
       "       3781.0                    2.1         7.0         15.6    1765.0   \n",
       "       4413.0                    5.4        11.4         23.5    1845.0   \n",
       "\n",
       "                 PrivateWork  PublicWork  SelfEmployed  FamilyWork  \\\n",
       "County TotalPop                                                      \n",
       "Albany 2001.0           70.2        28.4           1.4         0.0   \n",
       "       4519.0           73.6        22.6           3.9         0.0   \n",
       "       5244.0           73.4        23.0           3.6         0.0   \n",
       "       2423.0           60.0        33.7           6.3         0.0   \n",
       "       4654.0           67.2        27.4           5.3         0.0   \n",
       "...                      ...         ...           ...         ...   \n",
       "Yates  6110.0           70.2        16.8          12.1         0.9   \n",
       "       5402.0           71.6        12.0          15.5         0.9   \n",
       "       5481.0           75.8        12.7          11.3         0.2   \n",
       "       3781.0           77.5        12.9           9.6         0.0   \n",
       "       4413.0           64.7        14.3          18.0         3.0   \n",
       "\n",
       "                 Unemployment  \n",
       "County TotalPop                \n",
       "Albany 2001.0            20.4  \n",
       "       4519.0             7.9  \n",
       "       5244.0             9.7  \n",
       "       2423.0             7.9  \n",
       "       4654.0             7.4  \n",
       "...                       ...  \n",
       "Yates  6110.0             7.9  \n",
       "       5402.0             6.4  \n",
       "       5481.0             7.3  \n",
       "       3781.0             4.3  \n",
       "       4413.0             7.4  \n",
       "\n",
       "[4783 rows x 35 columns]"
      ],
      "text/html": "<div>\n<style scoped>\n    .dataframe tbody tr th:only-of-type {\n        vertical-align: middle;\n    }\n\n    .dataframe tbody tr th {\n        vertical-align: top;\n    }\n\n    .dataframe thead th {\n        text-align: right;\n    }\n</style>\n<table border=\"1\" class=\"dataframe\">\n  <thead>\n    <tr style=\"text-align: right;\">\n      <th></th>\n      <th></th>\n      <th>CensusTract</th>\n      <th>State</th>\n      <th>Men</th>\n      <th>Women</th>\n      <th>Hispanic</th>\n      <th>White</th>\n      <th>Black</th>\n      <th>Native</th>\n      <th>Asian</th>\n      <th>Pacific</th>\n      <th>...</th>\n      <th>Walk</th>\n      <th>OtherTransportation</th>\n      <th>WorkAtHome</th>\n      <th>MeanCommute</th>\n      <th>Employed</th>\n      <th>PrivateWork</th>\n      <th>PublicWork</th>\n      <th>SelfEmployed</th>\n      <th>FamilyWork</th>\n      <th>Unemployment</th>\n    </tr>\n    <tr>\n      <th>County</th>\n      <th>TotalPop</th>\n      <th></th>\n      <th></th>\n      <th></th>\n      <th></th>\n      <th></th>\n      <th></th>\n      <th></th>\n      <th></th>\n      <th></th>\n      <th></th>\n      <th></th>\n      <th></th>\n      <th></th>\n      <th></th>\n      <th></th>\n      <th></th>\n      <th></th>\n      <th></th>\n      <th></th>\n      <th></th>\n      <th></th>\n    </tr>\n  </thead>\n  <tbody>\n    <tr>\n      <th rowspan=\"5\" valign=\"top\">Albany</th>\n      <th>2001.0</th>\n      <td>3.600100e+10</td>\n      <td>New York</td>\n      <td>868.0</td>\n      <td>1133.0</td>\n      <td>24.3</td>\n      <td>18.2</td>\n      <td>51.5</td>\n      <td>0.0</td>\n      <td>2.4</td>\n      <td>0.0</td>\n      <td>...</td>\n      <td>3.7</td>\n      <td>0.0</td>\n      <td>1.4</td>\n      <td>19.7</td>\n      <td>641.0</td>\n      <td>70.2</td>\n      <td>28.4</td>\n      <td>1.4</td>\n      <td>0.0</td>\n      <td>20.4</td>\n    </tr>\n    <tr>\n      <th>4519.0</th>\n      <td>3.600100e+10</td>\n      <td>New York</td>\n      <td>2224.0</td>\n      <td>2295.0</td>\n      <td>11.8</td>\n      <td>9.0</td>\n      <td>75.3</td>\n      <td>0.0</td>\n      <td>0.3</td>\n      <td>0.0</td>\n      <td>...</td>\n      <td>11.9</td>\n      <td>0.0</td>\n      <td>1.9</td>\n      <td>22.9</td>\n      <td>1866.0</td>\n      <td>73.6</td>\n      <td>22.6</td>\n      <td>3.9</td>\n      <td>0.0</td>\n      <td>7.9</td>\n    </tr>\n    <tr>\n      <th>5244.0</th>\n      <td>3.600100e+10</td>\n      <td>New York</td>\n      <td>2643.0</td>\n      <td>2601.0</td>\n      <td>6.6</td>\n      <td>45.7</td>\n      <td>37.5</td>\n      <td>0.3</td>\n      <td>2.6</td>\n      <td>0.0</td>\n      <td>...</td>\n      <td>3.3</td>\n      <td>0.8</td>\n      <td>1.9</td>\n      <td>18.6</td>\n      <td>2125.0</td>\n      <td>73.4</td>\n      <td>23.0</td>\n      <td>3.6</td>\n      <td>0.0</td>\n      <td>9.7</td>\n    </tr>\n    <tr>\n      <th>2423.0</th>\n      <td>3.600100e+10</td>\n      <td>New York</td>\n      <td>927.0</td>\n      <td>1496.0</td>\n      <td>4.4</td>\n      <td>86.8</td>\n      <td>4.2</td>\n      <td>1.9</td>\n      <td>2.7</td>\n      <td>0.0</td>\n      <td>...</td>\n      <td>0.0</td>\n      <td>0.5</td>\n      <td>0.7</td>\n      <td>18.8</td>\n      <td>885.0</td>\n      <td>60.0</td>\n      <td>33.7</td>\n      <td>6.3</td>\n      <td>0.0</td>\n      <td>7.9</td>\n    </tr>\n    <tr>\n      <th>4654.0</th>\n      <td>3.600100e+10</td>\n      <td>New York</td>\n      <td>2100.0</td>\n      <td>2554.0</td>\n      <td>8.4</td>\n      <td>66.2</td>\n      <td>15.3</td>\n      <td>0.8</td>\n      <td>7.5</td>\n      <td>0.0</td>\n      <td>...</td>\n      <td>1.2</td>\n      <td>3.0</td>\n      <td>0.4</td>\n      <td>19.4</td>\n      <td>2678.0</td>\n      <td>67.2</td>\n      <td>27.4</td>\n      <td>5.3</td>\n      <td>0.0</td>\n      <td>7.4</td>\n    </tr>\n    <tr>\n      <th>...</th>\n      <th>...</th>\n      <td>...</td>\n      <td>...</td>\n      <td>...</td>\n      <td>...</td>\n      <td>...</td>\n      <td>...</td>\n      <td>...</td>\n      <td>...</td>\n      <td>...</td>\n      <td>...</td>\n      <td>...</td>\n      <td>...</td>\n      <td>...</td>\n      <td>...</td>\n      <td>...</td>\n      <td>...</td>\n      <td>...</td>\n      <td>...</td>\n      <td>...</td>\n      <td>...</td>\n      <td>...</td>\n    </tr>\n    <tr>\n      <th rowspan=\"5\" valign=\"top\">Yates</th>\n      <th>6110.0</th>\n      <td>3.612315e+10</td>\n      <td>New York</td>\n      <td>3067.0</td>\n      <td>3043.0</td>\n      <td>4.3</td>\n      <td>94.4</td>\n      <td>0.5</td>\n      <td>0.1</td>\n      <td>0.1</td>\n      <td>0.1</td>\n      <td>...</td>\n      <td>4.3</td>\n      <td>4.7</td>\n      <td>7.5</td>\n      <td>25.2</td>\n      <td>2955.0</td>\n      <td>70.2</td>\n      <td>16.8</td>\n      <td>12.1</td>\n      <td>0.9</td>\n      <td>7.9</td>\n    </tr>\n    <tr>\n      <th>5402.0</th>\n      <td>3.612315e+10</td>\n      <td>New York</td>\n      <td>2469.0</td>\n      <td>2933.0</td>\n      <td>0.5</td>\n      <td>95.7</td>\n      <td>2.4</td>\n      <td>0.0</td>\n      <td>0.2</td>\n      <td>0.0</td>\n      <td>...</td>\n      <td>10.3</td>\n      <td>2.8</td>\n      <td>7.9</td>\n      <td>17.5</td>\n      <td>2349.0</td>\n      <td>71.6</td>\n      <td>12.0</td>\n      <td>15.5</td>\n      <td>0.9</td>\n      <td>6.4</td>\n    </tr>\n    <tr>\n      <th>5481.0</th>\n      <td>3.612315e+10</td>\n      <td>New York</td>\n      <td>2678.0</td>\n      <td>2803.0</td>\n      <td>2.7</td>\n      <td>96.2</td>\n      <td>0.4</td>\n      <td>0.0</td>\n      <td>0.1</td>\n      <td>0.0</td>\n      <td>...</td>\n      <td>2.8</td>\n      <td>1.9</td>\n      <td>5.9</td>\n      <td>29.3</td>\n      <td>2582.0</td>\n      <td>75.8</td>\n      <td>12.7</td>\n      <td>11.3</td>\n      <td>0.2</td>\n      <td>7.3</td>\n    </tr>\n    <tr>\n      <th>3781.0</th>\n      <td>3.612315e+10</td>\n      <td>New York</td>\n      <td>1812.0</td>\n      <td>1969.0</td>\n      <td>0.9</td>\n      <td>94.6</td>\n      <td>1.2</td>\n      <td>0.5</td>\n      <td>1.6</td>\n      <td>0.0</td>\n      <td>...</td>\n      <td>18.8</td>\n      <td>2.1</td>\n      <td>7.0</td>\n      <td>15.6</td>\n      <td>1765.0</td>\n      <td>77.5</td>\n      <td>12.9</td>\n      <td>9.6</td>\n      <td>0.0</td>\n      <td>4.3</td>\n    </tr>\n    <tr>\n      <th>4413.0</th>\n      <td>3.612315e+10</td>\n      <td>New York</td>\n      <td>2245.0</td>\n      <td>2168.0</td>\n      <td>0.9</td>\n      <td>97.0</td>\n      <td>0.3</td>\n      <td>0.0</td>\n      <td>1.2</td>\n      <td>0.0</td>\n      <td>...</td>\n      <td>9.0</td>\n      <td>5.4</td>\n      <td>11.4</td>\n      <td>23.5</td>\n      <td>1845.0</td>\n      <td>64.7</td>\n      <td>14.3</td>\n      <td>18.0</td>\n      <td>3.0</td>\n      <td>7.4</td>\n    </tr>\n  </tbody>\n</table>\n<p>4783 rows × 35 columns</p>\n</div>"
     },
     "metadata": {},
     "execution_count": 8
    }
   ],
   "source": [
    "(\n",
    "    df.where(df['State']=='New York')\n",
    "    .dropna()\n",
    "    .set_index(['County','TotalPop'])\n",
    "    .rename(columns={'OtherTransp':'OtherTransportation'})\n",
    ")"
   ]
  },
  {
   "cell_type": "code",
   "execution_count": 12,
   "metadata": {},
   "outputs": [
    {
     "output_type": "execute_result",
     "data": {
      "text/plain": [
       "1.335218399999576"
      ]
     },
     "metadata": {},
     "execution_count": 12
    }
   ],
   "source": [
    "def first_approach():\n",
    "    global df\n",
    "\n",
    "    return (\n",
    "    df.where(df['State']=='New York')\n",
    "    .dropna()\n",
    "    .set_index(['County','TotalPop'])\n",
    "    .rename(columns={'OtherTransp':'OtherTransportation'})\n",
    ")\n",
    "\n",
    "timeit.timeit(first_approach, number=10)"
   ]
  },
  {
   "cell_type": "code",
   "execution_count": 11,
   "metadata": {},
   "outputs": [
    {
     "output_type": "execute_result",
     "data": {
      "text/plain": [
       "0.15701610000178334"
      ]
     },
     "metadata": {},
     "execution_count": 11
    }
   ],
   "source": [
    "def second_approach():\n",
    "    global df\n",
    "    new_df = df[df['State']=='New York']\n",
    "    new_df.set_index(['County','TotalPop'], inplace=True)\n",
    "    return new_df.rename(columns={'OtherTransp':'OtherTransportation'})\n",
    "\n",
    "timeit.timeit(second_approach, number=10)"
   ]
  },
  {
   "source": [],
   "cell_type": "markdown",
   "metadata": {}
  },
  {
   "cell_type": "code",
   "execution_count": 18,
   "metadata": {},
   "outputs": [],
   "source": [
    "def get_state_region(x):\n",
    "    northeast = ['New York', 'New Jersey', 'Massachusetts', 'Pennsylvania']\n",
    "    midwest = ['Michigan', 'Ohio', 'North Dakota', 'Iowa']\n",
    "    south=['Florida', 'Georgia', 'Alabama', 'Texas']\n",
    "    west = ['Colorado', 'Hawaii', 'Utah', 'Alaska']\n",
    "\n",
    "    if x in northeast:\n",
    "        return 'Northeast'\n",
    "    elif x in midwest:\n",
    "        return 'Midwest'\n",
    "    elif x in south:\n",
    "        return 'South'\n",
    "    else:\n",
    "        return 'West'"
   ]
  },
  {
   "cell_type": "code",
   "execution_count": 20,
   "metadata": {},
   "outputs": [
    {
     "output_type": "execute_result",
     "data": {
      "text/plain": [
       "   CensusTract    State   County  TotalPop   Men  Women  Hispanic  White  \\\n",
       "0   1001020100  Alabama  Autauga      1948   940   1008       0.9   87.4   \n",
       "1   1001020200  Alabama  Autauga      2156  1059   1097       0.8   40.4   \n",
       "2   1001020300  Alabama  Autauga      2968  1364   1604       0.0   74.5   \n",
       "3   1001020400  Alabama  Autauga      4423  2172   2251      10.5   82.8   \n",
       "4   1001020500  Alabama  Autauga     10763  4922   5841       0.7   68.5   \n",
       "5   1001020600  Alabama  Autauga      3851  1787   2064      13.1   72.9   \n",
       "6   1001020700  Alabama  Autauga      2761  1210   1551       3.8   74.5   \n",
       "7   1001020801  Alabama  Autauga      3187  1502   1685       1.3   84.0   \n",
       "8   1001020802  Alabama  Autauga     10915  5486   5429       1.4   89.5   \n",
       "9   1001020900  Alabama  Autauga      5668  2897   2771       0.4   85.5   \n",
       "\n",
       "   Black  Native  ...  OtherTransp  WorkAtHome  MeanCommute  Employed  \\\n",
       "0    7.7     0.3  ...          2.3         2.1         25.0       943   \n",
       "1   53.3     0.0  ...          0.7         0.0         23.4       753   \n",
       "2   18.6     0.5  ...          0.0         2.5         19.6      1373   \n",
       "3    3.7     1.6  ...          2.6         1.6         25.3      1782   \n",
       "4   24.8     0.0  ...          0.6         0.9         24.8      5037   \n",
       "5   11.9     0.0  ...          6.0         4.5         19.8      1560   \n",
       "6   19.7     0.0  ...          0.0         0.0         20.0      1166   \n",
       "7   10.7     3.1  ...          1.7         5.9         24.3      1502   \n",
       "8    8.4     0.0  ...          0.0         1.3         29.4      4348   \n",
       "9   12.1     0.0  ...          1.2         2.1         32.9      2485   \n",
       "\n",
       "   PrivateWork  PublicWork  SelfEmployed  FamilyWork  Unemployment  \\\n",
       "0         77.1        18.3           4.6         0.0           5.4   \n",
       "1         77.0        16.9           6.1         0.0          13.3   \n",
       "2         64.1        23.6          12.3         0.0           6.2   \n",
       "3         75.7        21.2           3.1         0.0          10.8   \n",
       "4         67.1        27.6           5.3         0.0           4.2   \n",
       "5         79.4        14.7           5.8         0.0          10.9   \n",
       "6         82.0        14.6           3.4         0.0          11.4   \n",
       "7         78.1        14.8           7.1         0.0           8.2   \n",
       "8         73.3        22.1           4.6         0.0           8.7   \n",
       "9         77.9        15.2           6.9         0.0           7.2   \n",
       "\n",
       "   state_region  \n",
       "0         South  \n",
       "1         South  \n",
       "2         South  \n",
       "3         South  \n",
       "4         South  \n",
       "5         South  \n",
       "6         South  \n",
       "7         South  \n",
       "8         South  \n",
       "9         South  \n",
       "\n",
       "[10 rows x 38 columns]"
      ],
      "text/html": "<div>\n<style scoped>\n    .dataframe tbody tr th:only-of-type {\n        vertical-align: middle;\n    }\n\n    .dataframe tbody tr th {\n        vertical-align: top;\n    }\n\n    .dataframe thead th {\n        text-align: right;\n    }\n</style>\n<table border=\"1\" class=\"dataframe\">\n  <thead>\n    <tr style=\"text-align: right;\">\n      <th></th>\n      <th>CensusTract</th>\n      <th>State</th>\n      <th>County</th>\n      <th>TotalPop</th>\n      <th>Men</th>\n      <th>Women</th>\n      <th>Hispanic</th>\n      <th>White</th>\n      <th>Black</th>\n      <th>Native</th>\n      <th>...</th>\n      <th>OtherTransp</th>\n      <th>WorkAtHome</th>\n      <th>MeanCommute</th>\n      <th>Employed</th>\n      <th>PrivateWork</th>\n      <th>PublicWork</th>\n      <th>SelfEmployed</th>\n      <th>FamilyWork</th>\n      <th>Unemployment</th>\n      <th>state_region</th>\n    </tr>\n  </thead>\n  <tbody>\n    <tr>\n      <th>0</th>\n      <td>1001020100</td>\n      <td>Alabama</td>\n      <td>Autauga</td>\n      <td>1948</td>\n      <td>940</td>\n      <td>1008</td>\n      <td>0.9</td>\n      <td>87.4</td>\n      <td>7.7</td>\n      <td>0.3</td>\n      <td>...</td>\n      <td>2.3</td>\n      <td>2.1</td>\n      <td>25.0</td>\n      <td>943</td>\n      <td>77.1</td>\n      <td>18.3</td>\n      <td>4.6</td>\n      <td>0.0</td>\n      <td>5.4</td>\n      <td>South</td>\n    </tr>\n    <tr>\n      <th>1</th>\n      <td>1001020200</td>\n      <td>Alabama</td>\n      <td>Autauga</td>\n      <td>2156</td>\n      <td>1059</td>\n      <td>1097</td>\n      <td>0.8</td>\n      <td>40.4</td>\n      <td>53.3</td>\n      <td>0.0</td>\n      <td>...</td>\n      <td>0.7</td>\n      <td>0.0</td>\n      <td>23.4</td>\n      <td>753</td>\n      <td>77.0</td>\n      <td>16.9</td>\n      <td>6.1</td>\n      <td>0.0</td>\n      <td>13.3</td>\n      <td>South</td>\n    </tr>\n    <tr>\n      <th>2</th>\n      <td>1001020300</td>\n      <td>Alabama</td>\n      <td>Autauga</td>\n      <td>2968</td>\n      <td>1364</td>\n      <td>1604</td>\n      <td>0.0</td>\n      <td>74.5</td>\n      <td>18.6</td>\n      <td>0.5</td>\n      <td>...</td>\n      <td>0.0</td>\n      <td>2.5</td>\n      <td>19.6</td>\n      <td>1373</td>\n      <td>64.1</td>\n      <td>23.6</td>\n      <td>12.3</td>\n      <td>0.0</td>\n      <td>6.2</td>\n      <td>South</td>\n    </tr>\n    <tr>\n      <th>3</th>\n      <td>1001020400</td>\n      <td>Alabama</td>\n      <td>Autauga</td>\n      <td>4423</td>\n      <td>2172</td>\n      <td>2251</td>\n      <td>10.5</td>\n      <td>82.8</td>\n      <td>3.7</td>\n      <td>1.6</td>\n      <td>...</td>\n      <td>2.6</td>\n      <td>1.6</td>\n      <td>25.3</td>\n      <td>1782</td>\n      <td>75.7</td>\n      <td>21.2</td>\n      <td>3.1</td>\n      <td>0.0</td>\n      <td>10.8</td>\n      <td>South</td>\n    </tr>\n    <tr>\n      <th>4</th>\n      <td>1001020500</td>\n      <td>Alabama</td>\n      <td>Autauga</td>\n      <td>10763</td>\n      <td>4922</td>\n      <td>5841</td>\n      <td>0.7</td>\n      <td>68.5</td>\n      <td>24.8</td>\n      <td>0.0</td>\n      <td>...</td>\n      <td>0.6</td>\n      <td>0.9</td>\n      <td>24.8</td>\n      <td>5037</td>\n      <td>67.1</td>\n      <td>27.6</td>\n      <td>5.3</td>\n      <td>0.0</td>\n      <td>4.2</td>\n      <td>South</td>\n    </tr>\n    <tr>\n      <th>5</th>\n      <td>1001020600</td>\n      <td>Alabama</td>\n      <td>Autauga</td>\n      <td>3851</td>\n      <td>1787</td>\n      <td>2064</td>\n      <td>13.1</td>\n      <td>72.9</td>\n      <td>11.9</td>\n      <td>0.0</td>\n      <td>...</td>\n      <td>6.0</td>\n      <td>4.5</td>\n      <td>19.8</td>\n      <td>1560</td>\n      <td>79.4</td>\n      <td>14.7</td>\n      <td>5.8</td>\n      <td>0.0</td>\n      <td>10.9</td>\n      <td>South</td>\n    </tr>\n    <tr>\n      <th>6</th>\n      <td>1001020700</td>\n      <td>Alabama</td>\n      <td>Autauga</td>\n      <td>2761</td>\n      <td>1210</td>\n      <td>1551</td>\n      <td>3.8</td>\n      <td>74.5</td>\n      <td>19.7</td>\n      <td>0.0</td>\n      <td>...</td>\n      <td>0.0</td>\n      <td>0.0</td>\n      <td>20.0</td>\n      <td>1166</td>\n      <td>82.0</td>\n      <td>14.6</td>\n      <td>3.4</td>\n      <td>0.0</td>\n      <td>11.4</td>\n      <td>South</td>\n    </tr>\n    <tr>\n      <th>7</th>\n      <td>1001020801</td>\n      <td>Alabama</td>\n      <td>Autauga</td>\n      <td>3187</td>\n      <td>1502</td>\n      <td>1685</td>\n      <td>1.3</td>\n      <td>84.0</td>\n      <td>10.7</td>\n      <td>3.1</td>\n      <td>...</td>\n      <td>1.7</td>\n      <td>5.9</td>\n      <td>24.3</td>\n      <td>1502</td>\n      <td>78.1</td>\n      <td>14.8</td>\n      <td>7.1</td>\n      <td>0.0</td>\n      <td>8.2</td>\n      <td>South</td>\n    </tr>\n    <tr>\n      <th>8</th>\n      <td>1001020802</td>\n      <td>Alabama</td>\n      <td>Autauga</td>\n      <td>10915</td>\n      <td>5486</td>\n      <td>5429</td>\n      <td>1.4</td>\n      <td>89.5</td>\n      <td>8.4</td>\n      <td>0.0</td>\n      <td>...</td>\n      <td>0.0</td>\n      <td>1.3</td>\n      <td>29.4</td>\n      <td>4348</td>\n      <td>73.3</td>\n      <td>22.1</td>\n      <td>4.6</td>\n      <td>0.0</td>\n      <td>8.7</td>\n      <td>South</td>\n    </tr>\n    <tr>\n      <th>9</th>\n      <td>1001020900</td>\n      <td>Alabama</td>\n      <td>Autauga</td>\n      <td>5668</td>\n      <td>2897</td>\n      <td>2771</td>\n      <td>0.4</td>\n      <td>85.5</td>\n      <td>12.1</td>\n      <td>0.0</td>\n      <td>...</td>\n      <td>1.2</td>\n      <td>2.1</td>\n      <td>32.9</td>\n      <td>2485</td>\n      <td>77.9</td>\n      <td>15.2</td>\n      <td>6.9</td>\n      <td>0.0</td>\n      <td>7.2</td>\n      <td>South</td>\n    </tr>\n  </tbody>\n</table>\n<p>10 rows × 38 columns</p>\n</div>"
     },
     "metadata": {},
     "execution_count": 20
    }
   ],
   "source": [
    "df = pd.read_csv('2015census.csv')\n",
    "\n",
    "df['state_region'] = df['State'].apply( lambda x: get_state_region(x) )\n"
   ]
  },
  {
   "cell_type": "code",
   "execution_count": 22,
   "metadata": {},
   "outputs": [
    {
     "output_type": "execute_result",
     "data": {
      "text/plain": [
       "     State state_region\n",
       "0  Alabama        South\n",
       "1  Alabama        South\n",
       "2  Alabama        South\n",
       "3  Alabama        South\n",
       "4  Alabama        South"
      ],
      "text/html": "<div>\n<style scoped>\n    .dataframe tbody tr th:only-of-type {\n        vertical-align: middle;\n    }\n\n    .dataframe tbody tr th {\n        vertical-align: top;\n    }\n\n    .dataframe thead th {\n        text-align: right;\n    }\n</style>\n<table border=\"1\" class=\"dataframe\">\n  <thead>\n    <tr style=\"text-align: right;\">\n      <th></th>\n      <th>State</th>\n      <th>state_region</th>\n    </tr>\n  </thead>\n  <tbody>\n    <tr>\n      <th>0</th>\n      <td>Alabama</td>\n      <td>South</td>\n    </tr>\n    <tr>\n      <th>1</th>\n      <td>Alabama</td>\n      <td>South</td>\n    </tr>\n    <tr>\n      <th>2</th>\n      <td>Alabama</td>\n      <td>South</td>\n    </tr>\n    <tr>\n      <th>3</th>\n      <td>Alabama</td>\n      <td>South</td>\n    </tr>\n    <tr>\n      <th>4</th>\n      <td>Alabama</td>\n      <td>South</td>\n    </tr>\n  </tbody>\n</table>\n</div>"
     },
     "metadata": {},
     "execution_count": 22
    }
   ],
   "source": [
    "df[['State', 'state_region']].head()"
   ]
  },
  {
   "source": [
    "# Group by "
   ],
   "cell_type": "markdown",
   "metadata": {}
  },
  {
   "cell_type": "code",
   "execution_count": 3,
   "metadata": {},
   "outputs": [
    {
     "output_type": "execute_result",
     "data": {
      "text/plain": [
       "       CensusTract     State  County  TotalPop   Men  Women  Hispanic  White  \\\n",
       "43195  36001000100  New York  Albany      2001   868   1133      24.3   18.2   \n",
       "43196  36001000200  New York  Albany      4519  2224   2295      11.8    9.0   \n",
       "43197  36001000300  New York  Albany      5244  2643   2601       6.6   45.7   \n",
       "43198  36001000401  New York  Albany      2423   927   1496       4.4   86.8   \n",
       "43199  36001000403  New York  Albany      4654  2100   2554       8.4   66.2   \n",
       "43200  36001000404  New York  Albany      5033  2457   2576      10.9   63.9   \n",
       "43201  36001000501  New York  Albany      3758  1794   1964      20.9   41.4   \n",
       "43202  36001000502  New York  Albany      3747  1730   2017       6.3   69.1   \n",
       "43203  36001000600  New York  Albany      3851  2021   1830      20.6   31.3   \n",
       "43204  36001000700  New York  Albany      3927  1915   2012      15.0    6.3   \n",
       "\n",
       "       Black  Native  ...  Walk  OtherTransp  WorkAtHome  MeanCommute  \\\n",
       "43195   51.5     0.0  ...   3.7          0.0         1.4         19.7   \n",
       "43196   75.3     0.0  ...  11.9          0.0         1.9         22.9   \n",
       "43197   37.5     0.3  ...   3.3          0.8         1.9         18.6   \n",
       "43198    4.2     1.9  ...   0.0          0.5         0.7         18.8   \n",
       "43199   15.3     0.8  ...   1.2          3.0         0.4         19.4   \n",
       "43200   13.5     0.0  ...  38.9          2.5         7.6         14.7   \n",
       "43201   24.8     0.4  ...   4.5          5.7         4.1         20.5   \n",
       "43202   10.1     0.0  ...  10.2          4.1         4.7         16.9   \n",
       "43203   37.6     0.5  ...  11.9          4.3         1.2         18.7   \n",
       "43204   75.9     0.0  ...   2.8          5.3         3.2         19.1   \n",
       "\n",
       "       Employed  PrivateWork  PublicWork  SelfEmployed  FamilyWork  \\\n",
       "43195       641         70.2        28.4           1.4         0.0   \n",
       "43196      1866         73.6        22.6           3.9         0.0   \n",
       "43197      2125         73.4        23.0           3.6         0.0   \n",
       "43198       885         60.0        33.7           6.3         0.0   \n",
       "43199      2678         67.2        27.4           5.3         0.0   \n",
       "43200      1067         78.8        20.8           0.0         0.4   \n",
       "43201      1799         72.4        24.1           3.4         0.0   \n",
       "43202      1517         79.9        17.9           2.2         0.0   \n",
       "43203      1607         85.5        12.3           2.2         0.0   \n",
       "43204      1519         73.4        19.9           6.6         0.0   \n",
       "\n",
       "       Unemployment  \n",
       "43195          20.4  \n",
       "43196           7.9  \n",
       "43197           9.7  \n",
       "43198           7.9  \n",
       "43199           7.4  \n",
       "43200          20.4  \n",
       "43201          10.5  \n",
       "43202          10.4  \n",
       "43203          11.6  \n",
       "43204          20.4  \n",
       "\n",
       "[10 rows x 37 columns]"
      ],
      "text/html": "<div>\n<style scoped>\n    .dataframe tbody tr th:only-of-type {\n        vertical-align: middle;\n    }\n\n    .dataframe tbody tr th {\n        vertical-align: top;\n    }\n\n    .dataframe thead th {\n        text-align: right;\n    }\n</style>\n<table border=\"1\" class=\"dataframe\">\n  <thead>\n    <tr style=\"text-align: right;\">\n      <th></th>\n      <th>CensusTract</th>\n      <th>State</th>\n      <th>County</th>\n      <th>TotalPop</th>\n      <th>Men</th>\n      <th>Women</th>\n      <th>Hispanic</th>\n      <th>White</th>\n      <th>Black</th>\n      <th>Native</th>\n      <th>...</th>\n      <th>Walk</th>\n      <th>OtherTransp</th>\n      <th>WorkAtHome</th>\n      <th>MeanCommute</th>\n      <th>Employed</th>\n      <th>PrivateWork</th>\n      <th>PublicWork</th>\n      <th>SelfEmployed</th>\n      <th>FamilyWork</th>\n      <th>Unemployment</th>\n    </tr>\n  </thead>\n  <tbody>\n    <tr>\n      <th>43195</th>\n      <td>36001000100</td>\n      <td>New York</td>\n      <td>Albany</td>\n      <td>2001</td>\n      <td>868</td>\n      <td>1133</td>\n      <td>24.3</td>\n      <td>18.2</td>\n      <td>51.5</td>\n      <td>0.0</td>\n      <td>...</td>\n      <td>3.7</td>\n      <td>0.0</td>\n      <td>1.4</td>\n      <td>19.7</td>\n      <td>641</td>\n      <td>70.2</td>\n      <td>28.4</td>\n      <td>1.4</td>\n      <td>0.0</td>\n      <td>20.4</td>\n    </tr>\n    <tr>\n      <th>43196</th>\n      <td>36001000200</td>\n      <td>New York</td>\n      <td>Albany</td>\n      <td>4519</td>\n      <td>2224</td>\n      <td>2295</td>\n      <td>11.8</td>\n      <td>9.0</td>\n      <td>75.3</td>\n      <td>0.0</td>\n      <td>...</td>\n      <td>11.9</td>\n      <td>0.0</td>\n      <td>1.9</td>\n      <td>22.9</td>\n      <td>1866</td>\n      <td>73.6</td>\n      <td>22.6</td>\n      <td>3.9</td>\n      <td>0.0</td>\n      <td>7.9</td>\n    </tr>\n    <tr>\n      <th>43197</th>\n      <td>36001000300</td>\n      <td>New York</td>\n      <td>Albany</td>\n      <td>5244</td>\n      <td>2643</td>\n      <td>2601</td>\n      <td>6.6</td>\n      <td>45.7</td>\n      <td>37.5</td>\n      <td>0.3</td>\n      <td>...</td>\n      <td>3.3</td>\n      <td>0.8</td>\n      <td>1.9</td>\n      <td>18.6</td>\n      <td>2125</td>\n      <td>73.4</td>\n      <td>23.0</td>\n      <td>3.6</td>\n      <td>0.0</td>\n      <td>9.7</td>\n    </tr>\n    <tr>\n      <th>43198</th>\n      <td>36001000401</td>\n      <td>New York</td>\n      <td>Albany</td>\n      <td>2423</td>\n      <td>927</td>\n      <td>1496</td>\n      <td>4.4</td>\n      <td>86.8</td>\n      <td>4.2</td>\n      <td>1.9</td>\n      <td>...</td>\n      <td>0.0</td>\n      <td>0.5</td>\n      <td>0.7</td>\n      <td>18.8</td>\n      <td>885</td>\n      <td>60.0</td>\n      <td>33.7</td>\n      <td>6.3</td>\n      <td>0.0</td>\n      <td>7.9</td>\n    </tr>\n    <tr>\n      <th>43199</th>\n      <td>36001000403</td>\n      <td>New York</td>\n      <td>Albany</td>\n      <td>4654</td>\n      <td>2100</td>\n      <td>2554</td>\n      <td>8.4</td>\n      <td>66.2</td>\n      <td>15.3</td>\n      <td>0.8</td>\n      <td>...</td>\n      <td>1.2</td>\n      <td>3.0</td>\n      <td>0.4</td>\n      <td>19.4</td>\n      <td>2678</td>\n      <td>67.2</td>\n      <td>27.4</td>\n      <td>5.3</td>\n      <td>0.0</td>\n      <td>7.4</td>\n    </tr>\n    <tr>\n      <th>43200</th>\n      <td>36001000404</td>\n      <td>New York</td>\n      <td>Albany</td>\n      <td>5033</td>\n      <td>2457</td>\n      <td>2576</td>\n      <td>10.9</td>\n      <td>63.9</td>\n      <td>13.5</td>\n      <td>0.0</td>\n      <td>...</td>\n      <td>38.9</td>\n      <td>2.5</td>\n      <td>7.6</td>\n      <td>14.7</td>\n      <td>1067</td>\n      <td>78.8</td>\n      <td>20.8</td>\n      <td>0.0</td>\n      <td>0.4</td>\n      <td>20.4</td>\n    </tr>\n    <tr>\n      <th>43201</th>\n      <td>36001000501</td>\n      <td>New York</td>\n      <td>Albany</td>\n      <td>3758</td>\n      <td>1794</td>\n      <td>1964</td>\n      <td>20.9</td>\n      <td>41.4</td>\n      <td>24.8</td>\n      <td>0.4</td>\n      <td>...</td>\n      <td>4.5</td>\n      <td>5.7</td>\n      <td>4.1</td>\n      <td>20.5</td>\n      <td>1799</td>\n      <td>72.4</td>\n      <td>24.1</td>\n      <td>3.4</td>\n      <td>0.0</td>\n      <td>10.5</td>\n    </tr>\n    <tr>\n      <th>43202</th>\n      <td>36001000502</td>\n      <td>New York</td>\n      <td>Albany</td>\n      <td>3747</td>\n      <td>1730</td>\n      <td>2017</td>\n      <td>6.3</td>\n      <td>69.1</td>\n      <td>10.1</td>\n      <td>0.0</td>\n      <td>...</td>\n      <td>10.2</td>\n      <td>4.1</td>\n      <td>4.7</td>\n      <td>16.9</td>\n      <td>1517</td>\n      <td>79.9</td>\n      <td>17.9</td>\n      <td>2.2</td>\n      <td>0.0</td>\n      <td>10.4</td>\n    </tr>\n    <tr>\n      <th>43203</th>\n      <td>36001000600</td>\n      <td>New York</td>\n      <td>Albany</td>\n      <td>3851</td>\n      <td>2021</td>\n      <td>1830</td>\n      <td>20.6</td>\n      <td>31.3</td>\n      <td>37.6</td>\n      <td>0.5</td>\n      <td>...</td>\n      <td>11.9</td>\n      <td>4.3</td>\n      <td>1.2</td>\n      <td>18.7</td>\n      <td>1607</td>\n      <td>85.5</td>\n      <td>12.3</td>\n      <td>2.2</td>\n      <td>0.0</td>\n      <td>11.6</td>\n    </tr>\n    <tr>\n      <th>43204</th>\n      <td>36001000700</td>\n      <td>New York</td>\n      <td>Albany</td>\n      <td>3927</td>\n      <td>1915</td>\n      <td>2012</td>\n      <td>15.0</td>\n      <td>6.3</td>\n      <td>75.9</td>\n      <td>0.0</td>\n      <td>...</td>\n      <td>2.8</td>\n      <td>5.3</td>\n      <td>3.2</td>\n      <td>19.1</td>\n      <td>1519</td>\n      <td>73.4</td>\n      <td>19.9</td>\n      <td>6.6</td>\n      <td>0.0</td>\n      <td>20.4</td>\n    </tr>\n  </tbody>\n</table>\n<p>10 rows × 37 columns</p>\n</div>"
     },
     "metadata": {},
     "execution_count": 3
    }
   ],
   "source": [
    "df = df[df['State']=='New York']\n",
    "df.head(10)"
   ]
  },
  {
   "cell_type": "code",
   "execution_count": 4,
   "metadata": {},
   "outputs": [
    {
     "output_type": "execute_result",
     "data": {
      "text/plain": [
       "                Asian\n",
       "County               \n",
       "Albany       5.362667\n",
       "Allegany     0.915385\n",
       "Bronx             NaN\n",
       "Broome       3.461818\n",
       "Cattaraugus       NaN\n",
       "...               ...\n",
       "Washington   0.458824\n",
       "Wayne             NaN\n",
       "Westchester       NaN\n",
       "Wyoming      0.400000\n",
       "Yates        0.640000\n",
       "\n",
       "[62 rows x 1 columns]"
      ],
      "text/html": "<div>\n<style scoped>\n    .dataframe tbody tr th:only-of-type {\n        vertical-align: middle;\n    }\n\n    .dataframe tbody tr th {\n        vertical-align: top;\n    }\n\n    .dataframe thead th {\n        text-align: right;\n    }\n</style>\n<table border=\"1\" class=\"dataframe\">\n  <thead>\n    <tr style=\"text-align: right;\">\n      <th></th>\n      <th>Asian</th>\n    </tr>\n    <tr>\n      <th>County</th>\n      <th></th>\n    </tr>\n  </thead>\n  <tbody>\n    <tr>\n      <th>Albany</th>\n      <td>5.362667</td>\n    </tr>\n    <tr>\n      <th>Allegany</th>\n      <td>0.915385</td>\n    </tr>\n    <tr>\n      <th>Bronx</th>\n      <td>NaN</td>\n    </tr>\n    <tr>\n      <th>Broome</th>\n      <td>3.461818</td>\n    </tr>\n    <tr>\n      <th>Cattaraugus</th>\n      <td>NaN</td>\n    </tr>\n    <tr>\n      <th>...</th>\n      <td>...</td>\n    </tr>\n    <tr>\n      <th>Washington</th>\n      <td>0.458824</td>\n    </tr>\n    <tr>\n      <th>Wayne</th>\n      <td>NaN</td>\n    </tr>\n    <tr>\n      <th>Westchester</th>\n      <td>NaN</td>\n    </tr>\n    <tr>\n      <th>Wyoming</th>\n      <td>0.400000</td>\n    </tr>\n    <tr>\n      <th>Yates</th>\n      <td>0.640000</td>\n    </tr>\n  </tbody>\n</table>\n<p>62 rows × 1 columns</p>\n</div>"
     },
     "metadata": {},
     "execution_count": 4
    }
   ],
   "source": [
    "df = df.reset_index()\n",
    "# group by Country     find average 'Asian' scores\n",
    "df.groupby('County').agg({'Asian':np.average})"
   ]
  },
  {
   "cell_type": "code",
   "execution_count": 10,
   "metadata": {},
   "outputs": [
    {
     "output_type": "execute_result",
     "data": {
      "text/plain": [
       "                  Asian                 Black   Hispanic      White\n",
       "                nanmean     nanstd    nanmean    nanmean    nanmean\n",
       "County                                                             \n",
       "Albany         5.362667   4.831087  12.740000   5.738667  73.268000\n",
       "Allegany       0.915385   1.172495   0.938462   1.315385  88.061538\n",
       "Bronx          3.780357   5.299138  28.975000  52.459524  12.916667\n",
       "Broome         3.461818   5.121396   5.747273   4.167273  83.976364\n",
       "Cattaraugus    1.420000   3.025088   1.405000   1.645000  88.015000\n",
       "Cayuga         0.468421   0.541657   3.821053   2.615789  91.068421\n",
       "Chautauqua     0.694286   1.181211   2.565714   7.591429  87.142857\n",
       "Chemung        1.236364   1.700853   7.577273   3.259091  84.218182\n",
       "Chenango       0.558333   0.690794   0.883333   2.225000  94.733333\n",
       "Clinton        1.568421   1.492966   3.468421   2.752632  90.621053\n",
       "Columbia       1.709524   2.283617   3.885714   4.038095  87.961905\n",
       "Cortland       0.975000   1.183312   1.575000   2.775000  92.508333\n",
       "Delaware       0.628571   0.482667   2.564286   4.128571  91.150000\n",
       "Dutchess       3.735443   4.564075   9.994937  11.534177  72.325316\n",
       "Erie           3.044492   5.725666  15.725847   5.463983  72.646610\n",
       "Essex          0.692308   0.861647   1.769231   2.215385  93.984615\n",
       "Franklin       0.435714   0.571916   3.907143   2.528571  83.828571\n",
       "Fulton         0.633333   0.936305   1.413333   2.660000  93.433333\n",
       "Genesee        1.180000   2.090181   3.386667   2.993333  84.366667\n",
       "Greene         0.880000   1.228355   5.953333   5.613333  85.966667\n",
       "Hamilton       0.125000   0.125831   0.575000   1.350000  94.300000\n",
       "Herkimer       0.326316   0.465286   0.784211   1.726316  95.631579\n",
       "Jefferson      1.356000   1.670848   5.512000   7.016000  82.528000\n",
       "Kings         11.041545  14.736424  31.331558  18.255393  37.301598\n",
       "Lewis          0.342857   0.373529   0.871429   1.457143  96.471429\n",
       "Livingston     1.400000   1.958863   4.020000   4.380000  88.126667\n",
       "Madison        0.831250   1.388389   1.718750   1.962500  93.556250\n",
       "Monroe         3.275916   4.207218  19.977487  10.346073  63.794764\n",
       "Montgomery     0.681250   0.765261   1.662500  16.106250  79.325000\n",
       "Nassau         8.336201   8.926415   9.927957  15.205018  64.529749\n",
       "New York      12.226502  12.540806  13.878092  22.646290  48.193993\n",
       "Niagara        1.110000   1.670045  10.241667   2.683333  81.936667\n",
       "Oneida         3.780282   6.612966   7.209859   6.253521  80.119718\n",
       "Onondaga       3.746429   5.844599  13.322143   5.806429  73.457857\n",
       "Ontario        1.064000   1.458275   2.936000   4.808000  89.496000\n",
       "Orange         2.526582   2.426336   9.624051  19.458228  65.626582\n",
       "Orleans        0.670000   0.853815   4.880000   4.250000  87.880000\n",
       "Oswego         0.651724   0.735634   0.700000   2.406897  94.479310\n",
       "Otsego         1.352941   1.042903   1.882353   3.558824  91.505882\n",
       "Putnam         2.057895   1.844606   2.273684  12.042105  81.878947\n",
       "Queens        22.687538  20.013030  19.390462  26.014462  27.339538\n",
       "Rensselaer     2.066667   3.033284   6.495238   4.426190  83.857143\n",
       "Richmond       7.745370   5.773066  10.837037  18.544444  60.923148\n",
       "Rockland       6.100000   4.638258  10.806154  16.430769  64.572308\n",
       "Saratoga       2.292000   3.082858   1.496000   2.722000  91.668000\n",
       "Schenectady    4.104651   4.199601  10.302326   6.972093  73.818605\n",
       "Schoharie      0.650000   0.694879   2.700000   4.037500  90.925000\n",
       "Schuyler       0.580000   0.342053   0.980000   1.760000  95.080000\n",
       "Seneca         0.820000   0.769993   2.720000   2.590000  91.620000\n",
       "St. Lawrence   1.042857   1.116684   2.139286   2.339286  91.914286\n",
       "Steuben        1.013333   2.075594   1.373333   1.403333  94.600000\n",
       "Suffolk        3.598758   4.043286   6.486335  15.945031  72.326708\n",
       "Sullivan       1.783333   1.797744   6.512500  13.237500  76.041667\n",
       "Tioga          0.580000   0.692499   0.740000   1.770000  95.460000\n",
       "Tompkins       9.517391  11.204165   4.191304   5.130435  77.821739\n",
       "Ulster         2.065957   2.415014   5.400000   9.195745  80.334043\n",
       "Warren         0.773684   1.206391   1.021053   2.094737  94.789474\n",
       "Washington     0.458824   0.567956   1.847059   2.282353  94.000000\n",
       "Wayne          0.622727   0.661839   3.345455   4.190909  90.113636\n",
       "Westchester    5.696847   4.527027  14.841441  22.223874  54.975225\n",
       "Wyoming        0.400000   0.466905   3.063636   2.445455  92.963636\n",
       "Yates          0.640000   0.709225   0.960000   1.860000  95.580000"
      ],
      "text/html": "<div>\n<style scoped>\n    .dataframe tbody tr th:only-of-type {\n        vertical-align: middle;\n    }\n\n    .dataframe tbody tr th {\n        vertical-align: top;\n    }\n\n    .dataframe thead tr th {\n        text-align: left;\n    }\n\n    .dataframe thead tr:last-of-type th {\n        text-align: right;\n    }\n</style>\n<table border=\"1\" class=\"dataframe\">\n  <thead>\n    <tr>\n      <th></th>\n      <th colspan=\"2\" halign=\"left\">Asian</th>\n      <th>Black</th>\n      <th>Hispanic</th>\n      <th>White</th>\n    </tr>\n    <tr>\n      <th></th>\n      <th>nanmean</th>\n      <th>nanstd</th>\n      <th>nanmean</th>\n      <th>nanmean</th>\n      <th>nanmean</th>\n    </tr>\n    <tr>\n      <th>County</th>\n      <th></th>\n      <th></th>\n      <th></th>\n      <th></th>\n      <th></th>\n    </tr>\n  </thead>\n  <tbody>\n    <tr>\n      <th>Albany</th>\n      <td>5.362667</td>\n      <td>4.831087</td>\n      <td>12.740000</td>\n      <td>5.738667</td>\n      <td>73.268000</td>\n    </tr>\n    <tr>\n      <th>Allegany</th>\n      <td>0.915385</td>\n      <td>1.172495</td>\n      <td>0.938462</td>\n      <td>1.315385</td>\n      <td>88.061538</td>\n    </tr>\n    <tr>\n      <th>Bronx</th>\n      <td>3.780357</td>\n      <td>5.299138</td>\n      <td>28.975000</td>\n      <td>52.459524</td>\n      <td>12.916667</td>\n    </tr>\n    <tr>\n      <th>Broome</th>\n      <td>3.461818</td>\n      <td>5.121396</td>\n      <td>5.747273</td>\n      <td>4.167273</td>\n      <td>83.976364</td>\n    </tr>\n    <tr>\n      <th>Cattaraugus</th>\n      <td>1.420000</td>\n      <td>3.025088</td>\n      <td>1.405000</td>\n      <td>1.645000</td>\n      <td>88.015000</td>\n    </tr>\n    <tr>\n      <th>Cayuga</th>\n      <td>0.468421</td>\n      <td>0.541657</td>\n      <td>3.821053</td>\n      <td>2.615789</td>\n      <td>91.068421</td>\n    </tr>\n    <tr>\n      <th>Chautauqua</th>\n      <td>0.694286</td>\n      <td>1.181211</td>\n      <td>2.565714</td>\n      <td>7.591429</td>\n      <td>87.142857</td>\n    </tr>\n    <tr>\n      <th>Chemung</th>\n      <td>1.236364</td>\n      <td>1.700853</td>\n      <td>7.577273</td>\n      <td>3.259091</td>\n      <td>84.218182</td>\n    </tr>\n    <tr>\n      <th>Chenango</th>\n      <td>0.558333</td>\n      <td>0.690794</td>\n      <td>0.883333</td>\n      <td>2.225000</td>\n      <td>94.733333</td>\n    </tr>\n    <tr>\n      <th>Clinton</th>\n      <td>1.568421</td>\n      <td>1.492966</td>\n      <td>3.468421</td>\n      <td>2.752632</td>\n      <td>90.621053</td>\n    </tr>\n    <tr>\n      <th>Columbia</th>\n      <td>1.709524</td>\n      <td>2.283617</td>\n      <td>3.885714</td>\n      <td>4.038095</td>\n      <td>87.961905</td>\n    </tr>\n    <tr>\n      <th>Cortland</th>\n      <td>0.975000</td>\n      <td>1.183312</td>\n      <td>1.575000</td>\n      <td>2.775000</td>\n      <td>92.508333</td>\n    </tr>\n    <tr>\n      <th>Delaware</th>\n      <td>0.628571</td>\n      <td>0.482667</td>\n      <td>2.564286</td>\n      <td>4.128571</td>\n      <td>91.150000</td>\n    </tr>\n    <tr>\n      <th>Dutchess</th>\n      <td>3.735443</td>\n      <td>4.564075</td>\n      <td>9.994937</td>\n      <td>11.534177</td>\n      <td>72.325316</td>\n    </tr>\n    <tr>\n      <th>Erie</th>\n      <td>3.044492</td>\n      <td>5.725666</td>\n      <td>15.725847</td>\n      <td>5.463983</td>\n      <td>72.646610</td>\n    </tr>\n    <tr>\n      <th>Essex</th>\n      <td>0.692308</td>\n      <td>0.861647</td>\n      <td>1.769231</td>\n      <td>2.215385</td>\n      <td>93.984615</td>\n    </tr>\n    <tr>\n      <th>Franklin</th>\n      <td>0.435714</td>\n      <td>0.571916</td>\n      <td>3.907143</td>\n      <td>2.528571</td>\n      <td>83.828571</td>\n    </tr>\n    <tr>\n      <th>Fulton</th>\n      <td>0.633333</td>\n      <td>0.936305</td>\n      <td>1.413333</td>\n      <td>2.660000</td>\n      <td>93.433333</td>\n    </tr>\n    <tr>\n      <th>Genesee</th>\n      <td>1.180000</td>\n      <td>2.090181</td>\n      <td>3.386667</td>\n      <td>2.993333</td>\n      <td>84.366667</td>\n    </tr>\n    <tr>\n      <th>Greene</th>\n      <td>0.880000</td>\n      <td>1.228355</td>\n      <td>5.953333</td>\n      <td>5.613333</td>\n      <td>85.966667</td>\n    </tr>\n    <tr>\n      <th>Hamilton</th>\n      <td>0.125000</td>\n      <td>0.125831</td>\n      <td>0.575000</td>\n      <td>1.350000</td>\n      <td>94.300000</td>\n    </tr>\n    <tr>\n      <th>Herkimer</th>\n      <td>0.326316</td>\n      <td>0.465286</td>\n      <td>0.784211</td>\n      <td>1.726316</td>\n      <td>95.631579</td>\n    </tr>\n    <tr>\n      <th>Jefferson</th>\n      <td>1.356000</td>\n      <td>1.670848</td>\n      <td>5.512000</td>\n      <td>7.016000</td>\n      <td>82.528000</td>\n    </tr>\n    <tr>\n      <th>Kings</th>\n      <td>11.041545</td>\n      <td>14.736424</td>\n      <td>31.331558</td>\n      <td>18.255393</td>\n      <td>37.301598</td>\n    </tr>\n    <tr>\n      <th>Lewis</th>\n      <td>0.342857</td>\n      <td>0.373529</td>\n      <td>0.871429</td>\n      <td>1.457143</td>\n      <td>96.471429</td>\n    </tr>\n    <tr>\n      <th>Livingston</th>\n      <td>1.400000</td>\n      <td>1.958863</td>\n      <td>4.020000</td>\n      <td>4.380000</td>\n      <td>88.126667</td>\n    </tr>\n    <tr>\n      <th>Madison</th>\n      <td>0.831250</td>\n      <td>1.388389</td>\n      <td>1.718750</td>\n      <td>1.962500</td>\n      <td>93.556250</td>\n    </tr>\n    <tr>\n      <th>Monroe</th>\n      <td>3.275916</td>\n      <td>4.207218</td>\n      <td>19.977487</td>\n      <td>10.346073</td>\n      <td>63.794764</td>\n    </tr>\n    <tr>\n      <th>Montgomery</th>\n      <td>0.681250</td>\n      <td>0.765261</td>\n      <td>1.662500</td>\n      <td>16.106250</td>\n      <td>79.325000</td>\n    </tr>\n    <tr>\n      <th>Nassau</th>\n      <td>8.336201</td>\n      <td>8.926415</td>\n      <td>9.927957</td>\n      <td>15.205018</td>\n      <td>64.529749</td>\n    </tr>\n    <tr>\n      <th>New York</th>\n      <td>12.226502</td>\n      <td>12.540806</td>\n      <td>13.878092</td>\n      <td>22.646290</td>\n      <td>48.193993</td>\n    </tr>\n    <tr>\n      <th>Niagara</th>\n      <td>1.110000</td>\n      <td>1.670045</td>\n      <td>10.241667</td>\n      <td>2.683333</td>\n      <td>81.936667</td>\n    </tr>\n    <tr>\n      <th>Oneida</th>\n      <td>3.780282</td>\n      <td>6.612966</td>\n      <td>7.209859</td>\n      <td>6.253521</td>\n      <td>80.119718</td>\n    </tr>\n    <tr>\n      <th>Onondaga</th>\n      <td>3.746429</td>\n      <td>5.844599</td>\n      <td>13.322143</td>\n      <td>5.806429</td>\n      <td>73.457857</td>\n    </tr>\n    <tr>\n      <th>Ontario</th>\n      <td>1.064000</td>\n      <td>1.458275</td>\n      <td>2.936000</td>\n      <td>4.808000</td>\n      <td>89.496000</td>\n    </tr>\n    <tr>\n      <th>Orange</th>\n      <td>2.526582</td>\n      <td>2.426336</td>\n      <td>9.624051</td>\n      <td>19.458228</td>\n      <td>65.626582</td>\n    </tr>\n    <tr>\n      <th>Orleans</th>\n      <td>0.670000</td>\n      <td>0.853815</td>\n      <td>4.880000</td>\n      <td>4.250000</td>\n      <td>87.880000</td>\n    </tr>\n    <tr>\n      <th>Oswego</th>\n      <td>0.651724</td>\n      <td>0.735634</td>\n      <td>0.700000</td>\n      <td>2.406897</td>\n      <td>94.479310</td>\n    </tr>\n    <tr>\n      <th>Otsego</th>\n      <td>1.352941</td>\n      <td>1.042903</td>\n      <td>1.882353</td>\n      <td>3.558824</td>\n      <td>91.505882</td>\n    </tr>\n    <tr>\n      <th>Putnam</th>\n      <td>2.057895</td>\n      <td>1.844606</td>\n      <td>2.273684</td>\n      <td>12.042105</td>\n      <td>81.878947</td>\n    </tr>\n    <tr>\n      <th>Queens</th>\n      <td>22.687538</td>\n      <td>20.013030</td>\n      <td>19.390462</td>\n      <td>26.014462</td>\n      <td>27.339538</td>\n    </tr>\n    <tr>\n      <th>Rensselaer</th>\n      <td>2.066667</td>\n      <td>3.033284</td>\n      <td>6.495238</td>\n      <td>4.426190</td>\n      <td>83.857143</td>\n    </tr>\n    <tr>\n      <th>Richmond</th>\n      <td>7.745370</td>\n      <td>5.773066</td>\n      <td>10.837037</td>\n      <td>18.544444</td>\n      <td>60.923148</td>\n    </tr>\n    <tr>\n      <th>Rockland</th>\n      <td>6.100000</td>\n      <td>4.638258</td>\n      <td>10.806154</td>\n      <td>16.430769</td>\n      <td>64.572308</td>\n    </tr>\n    <tr>\n      <th>Saratoga</th>\n      <td>2.292000</td>\n      <td>3.082858</td>\n      <td>1.496000</td>\n      <td>2.722000</td>\n      <td>91.668000</td>\n    </tr>\n    <tr>\n      <th>Schenectady</th>\n      <td>4.104651</td>\n      <td>4.199601</td>\n      <td>10.302326</td>\n      <td>6.972093</td>\n      <td>73.818605</td>\n    </tr>\n    <tr>\n      <th>Schoharie</th>\n      <td>0.650000</td>\n      <td>0.694879</td>\n      <td>2.700000</td>\n      <td>4.037500</td>\n      <td>90.925000</td>\n    </tr>\n    <tr>\n      <th>Schuyler</th>\n      <td>0.580000</td>\n      <td>0.342053</td>\n      <td>0.980000</td>\n      <td>1.760000</td>\n      <td>95.080000</td>\n    </tr>\n    <tr>\n      <th>Seneca</th>\n      <td>0.820000</td>\n      <td>0.769993</td>\n      <td>2.720000</td>\n      <td>2.590000</td>\n      <td>91.620000</td>\n    </tr>\n    <tr>\n      <th>St. Lawrence</th>\n      <td>1.042857</td>\n      <td>1.116684</td>\n      <td>2.139286</td>\n      <td>2.339286</td>\n      <td>91.914286</td>\n    </tr>\n    <tr>\n      <th>Steuben</th>\n      <td>1.013333</td>\n      <td>2.075594</td>\n      <td>1.373333</td>\n      <td>1.403333</td>\n      <td>94.600000</td>\n    </tr>\n    <tr>\n      <th>Suffolk</th>\n      <td>3.598758</td>\n      <td>4.043286</td>\n      <td>6.486335</td>\n      <td>15.945031</td>\n      <td>72.326708</td>\n    </tr>\n    <tr>\n      <th>Sullivan</th>\n      <td>1.783333</td>\n      <td>1.797744</td>\n      <td>6.512500</td>\n      <td>13.237500</td>\n      <td>76.041667</td>\n    </tr>\n    <tr>\n      <th>Tioga</th>\n      <td>0.580000</td>\n      <td>0.692499</td>\n      <td>0.740000</td>\n      <td>1.770000</td>\n      <td>95.460000</td>\n    </tr>\n    <tr>\n      <th>Tompkins</th>\n      <td>9.517391</td>\n      <td>11.204165</td>\n      <td>4.191304</td>\n      <td>5.130435</td>\n      <td>77.821739</td>\n    </tr>\n    <tr>\n      <th>Ulster</th>\n      <td>2.065957</td>\n      <td>2.415014</td>\n      <td>5.400000</td>\n      <td>9.195745</td>\n      <td>80.334043</td>\n    </tr>\n    <tr>\n      <th>Warren</th>\n      <td>0.773684</td>\n      <td>1.206391</td>\n      <td>1.021053</td>\n      <td>2.094737</td>\n      <td>94.789474</td>\n    </tr>\n    <tr>\n      <th>Washington</th>\n      <td>0.458824</td>\n      <td>0.567956</td>\n      <td>1.847059</td>\n      <td>2.282353</td>\n      <td>94.000000</td>\n    </tr>\n    <tr>\n      <th>Wayne</th>\n      <td>0.622727</td>\n      <td>0.661839</td>\n      <td>3.345455</td>\n      <td>4.190909</td>\n      <td>90.113636</td>\n    </tr>\n    <tr>\n      <th>Westchester</th>\n      <td>5.696847</td>\n      <td>4.527027</td>\n      <td>14.841441</td>\n      <td>22.223874</td>\n      <td>54.975225</td>\n    </tr>\n    <tr>\n      <th>Wyoming</th>\n      <td>0.400000</td>\n      <td>0.466905</td>\n      <td>3.063636</td>\n      <td>2.445455</td>\n      <td>92.963636</td>\n    </tr>\n    <tr>\n      <th>Yates</th>\n      <td>0.640000</td>\n      <td>0.709225</td>\n      <td>0.960000</td>\n      <td>1.860000</td>\n      <td>95.580000</td>\n    </tr>\n  </tbody>\n</table>\n</div>"
     },
     "metadata": {},
     "execution_count": 10
    }
   ],
   "source": [
    "pd.options.display.max_rows = 62\n",
    "\n",
    "df.groupby('County').agg(   # group by - creates a new group by object. invoke agg() function on that object.  agg() function apply 1/more functions we specify to the df, return a single row per df/group. \n",
    "                                 # 3 dictionary entries. each with key indicate which column we want (black, asian, hispanic)\n",
    "    {'Asian':(np.nanmean, np.nanstd),  # supplied a tuple of 2 functions - references to functions - returns single values\n",
    "    'Black': np.nanmean, \n",
    "    'Hispanic': np.nanmean,\n",
    "    'White':np.nanmean}) \n",
    "# excludes NAN"
   ]
  },
  {
   "source": [
    "## Transformation"
   ],
   "cell_type": "markdown",
   "metadata": {}
  },
  {
   "cell_type": "code",
   "execution_count": 11,
   "metadata": {},
   "outputs": [
    {
     "output_type": "execute_result",
     "data": {
      "text/plain": [
       "   index  CensusTract     State  County  TotalPop   Men  Women  Hispanic  \\\n",
       "0  43195  36001000100  New York  Albany      2001   868   1133      24.3   \n",
       "1  43196  36001000200  New York  Albany      4519  2224   2295      11.8   \n",
       "2  43197  36001000300  New York  Albany      5244  2643   2601       6.6   \n",
       "3  43198  36001000401  New York  Albany      2423   927   1496       4.4   \n",
       "4  43199  36001000403  New York  Albany      4654  2100   2554       8.4   \n",
       "\n",
       "   White  Black  ...  Walk  OtherTransp  WorkAtHome  MeanCommute  Employed  \\\n",
       "0   18.2   51.5  ...   3.7          0.0         1.4         19.7       641   \n",
       "1    9.0   75.3  ...  11.9          0.0         1.9         22.9      1866   \n",
       "2   45.7   37.5  ...   3.3          0.8         1.9         18.6      2125   \n",
       "3   86.8    4.2  ...   0.0          0.5         0.7         18.8       885   \n",
       "4   66.2   15.3  ...   1.2          3.0         0.4         19.4      2678   \n",
       "\n",
       "   PrivateWork  PublicWork  SelfEmployed  FamilyWork  Unemployment  \n",
       "0         70.2        28.4           1.4         0.0          20.4  \n",
       "1         73.6        22.6           3.9         0.0           7.9  \n",
       "2         73.4        23.0           3.6         0.0           9.7  \n",
       "3         60.0        33.7           6.3         0.0           7.9  \n",
       "4         67.2        27.4           5.3         0.0           7.4  \n",
       "\n",
       "[5 rows x 38 columns]"
      ],
      "text/html": "<div>\n<style scoped>\n    .dataframe tbody tr th:only-of-type {\n        vertical-align: middle;\n    }\n\n    .dataframe tbody tr th {\n        vertical-align: top;\n    }\n\n    .dataframe thead th {\n        text-align: right;\n    }\n</style>\n<table border=\"1\" class=\"dataframe\">\n  <thead>\n    <tr style=\"text-align: right;\">\n      <th></th>\n      <th>index</th>\n      <th>CensusTract</th>\n      <th>State</th>\n      <th>County</th>\n      <th>TotalPop</th>\n      <th>Men</th>\n      <th>Women</th>\n      <th>Hispanic</th>\n      <th>White</th>\n      <th>Black</th>\n      <th>...</th>\n      <th>Walk</th>\n      <th>OtherTransp</th>\n      <th>WorkAtHome</th>\n      <th>MeanCommute</th>\n      <th>Employed</th>\n      <th>PrivateWork</th>\n      <th>PublicWork</th>\n      <th>SelfEmployed</th>\n      <th>FamilyWork</th>\n      <th>Unemployment</th>\n    </tr>\n  </thead>\n  <tbody>\n    <tr>\n      <th>0</th>\n      <td>43195</td>\n      <td>36001000100</td>\n      <td>New York</td>\n      <td>Albany</td>\n      <td>2001</td>\n      <td>868</td>\n      <td>1133</td>\n      <td>24.3</td>\n      <td>18.2</td>\n      <td>51.5</td>\n      <td>...</td>\n      <td>3.7</td>\n      <td>0.0</td>\n      <td>1.4</td>\n      <td>19.7</td>\n      <td>641</td>\n      <td>70.2</td>\n      <td>28.4</td>\n      <td>1.4</td>\n      <td>0.0</td>\n      <td>20.4</td>\n    </tr>\n    <tr>\n      <th>1</th>\n      <td>43196</td>\n      <td>36001000200</td>\n      <td>New York</td>\n      <td>Albany</td>\n      <td>4519</td>\n      <td>2224</td>\n      <td>2295</td>\n      <td>11.8</td>\n      <td>9.0</td>\n      <td>75.3</td>\n      <td>...</td>\n      <td>11.9</td>\n      <td>0.0</td>\n      <td>1.9</td>\n      <td>22.9</td>\n      <td>1866</td>\n      <td>73.6</td>\n      <td>22.6</td>\n      <td>3.9</td>\n      <td>0.0</td>\n      <td>7.9</td>\n    </tr>\n    <tr>\n      <th>2</th>\n      <td>43197</td>\n      <td>36001000300</td>\n      <td>New York</td>\n      <td>Albany</td>\n      <td>5244</td>\n      <td>2643</td>\n      <td>2601</td>\n      <td>6.6</td>\n      <td>45.7</td>\n      <td>37.5</td>\n      <td>...</td>\n      <td>3.3</td>\n      <td>0.8</td>\n      <td>1.9</td>\n      <td>18.6</td>\n      <td>2125</td>\n      <td>73.4</td>\n      <td>23.0</td>\n      <td>3.6</td>\n      <td>0.0</td>\n      <td>9.7</td>\n    </tr>\n    <tr>\n      <th>3</th>\n      <td>43198</td>\n      <td>36001000401</td>\n      <td>New York</td>\n      <td>Albany</td>\n      <td>2423</td>\n      <td>927</td>\n      <td>1496</td>\n      <td>4.4</td>\n      <td>86.8</td>\n      <td>4.2</td>\n      <td>...</td>\n      <td>0.0</td>\n      <td>0.5</td>\n      <td>0.7</td>\n      <td>18.8</td>\n      <td>885</td>\n      <td>60.0</td>\n      <td>33.7</td>\n      <td>6.3</td>\n      <td>0.0</td>\n      <td>7.9</td>\n    </tr>\n    <tr>\n      <th>4</th>\n      <td>43199</td>\n      <td>36001000403</td>\n      <td>New York</td>\n      <td>Albany</td>\n      <td>4654</td>\n      <td>2100</td>\n      <td>2554</td>\n      <td>8.4</td>\n      <td>66.2</td>\n      <td>15.3</td>\n      <td>...</td>\n      <td>1.2</td>\n      <td>3.0</td>\n      <td>0.4</td>\n      <td>19.4</td>\n      <td>2678</td>\n      <td>67.2</td>\n      <td>27.4</td>\n      <td>5.3</td>\n      <td>0.0</td>\n      <td>7.4</td>\n    </tr>\n  </tbody>\n</table>\n<p>5 rows × 38 columns</p>\n</div>"
     },
     "metadata": {},
     "execution_count": 11
    }
   ],
   "source": [
    "df.head()"
   ]
  },
  {
   "cell_type": "code",
   "execution_count": 28,
   "metadata": {},
   "outputs": [],
   "source": [
    "cols = ['IncomePerCap', 'County']"
   ]
  },
  {
   "cell_type": "code",
   "execution_count": 29,
   "metadata": {},
   "outputs": [
    {
     "output_type": "execute_result",
     "data": {
      "text/plain": [
       "   IncomePerCap\n",
       "0  24386.916667\n",
       "1  24386.916667\n",
       "2  24386.916667\n",
       "3  24386.916667\n",
       "4  24386.916667"
      ],
      "text/html": "<div>\n<style scoped>\n    .dataframe tbody tr th:only-of-type {\n        vertical-align: middle;\n    }\n\n    .dataframe tbody tr th {\n        vertical-align: top;\n    }\n\n    .dataframe thead th {\n        text-align: right;\n    }\n</style>\n<table border=\"1\" class=\"dataframe\">\n  <thead>\n    <tr style=\"text-align: right;\">\n      <th></th>\n      <th>IncomePerCap</th>\n    </tr>\n  </thead>\n  <tbody>\n    <tr>\n      <th>0</th>\n      <td>24386.916667</td>\n    </tr>\n    <tr>\n      <th>1</th>\n      <td>24386.916667</td>\n    </tr>\n    <tr>\n      <th>2</th>\n      <td>24386.916667</td>\n    </tr>\n    <tr>\n      <th>3</th>\n      <td>24386.916667</td>\n    </tr>\n    <tr>\n      <th>4</th>\n      <td>24386.916667</td>\n    </tr>\n  </tbody>\n</table>\n</div>"
     },
     "metadata": {},
     "execution_count": 29
    }
   ],
   "source": [
    "transform_df = df[cols].groupby('County').transform(np.nanmean)\n",
    "transform_df.head()"
   ]
  },
  {
   "cell_type": "code",
   "execution_count": 27,
   "metadata": {},
   "outputs": [],
   "source": [
    "df = pd.read_csv('2015census.csv')\n",
    "#df.head()"
   ]
  },
  {
   "cell_type": "code",
   "execution_count": 30,
   "metadata": {},
   "outputs": [
    {
     "output_type": "execute_result",
     "data": {
      "text/plain": [
       "   CensusTract    State   County  TotalPop   Men  Women  Hispanic  White  \\\n",
       "0   1001020100  Alabama  Autauga      1948   940   1008       0.9   87.4   \n",
       "1   1001020200  Alabama  Autauga      2156  1059   1097       0.8   40.4   \n",
       "2   1001020300  Alabama  Autauga      2968  1364   1604       0.0   74.5   \n",
       "3   1001020400  Alabama  Autauga      4423  2172   2251      10.5   82.8   \n",
       "4   1001020500  Alabama  Autauga     10763  4922   5841       0.7   68.5   \n",
       "\n",
       "   Black  Native  ...  OtherTransp  WorkAtHome  MeanCommute  Employed  \\\n",
       "0    7.7     0.3  ...          2.3         2.1         25.0       943   \n",
       "1   53.3     0.0  ...          0.7         0.0         23.4       753   \n",
       "2   18.6     0.5  ...          0.0         2.5         19.6      1373   \n",
       "3    3.7     1.6  ...          2.6         1.6         25.3      1782   \n",
       "4   24.8     0.0  ...          0.6         0.9         24.8      5037   \n",
       "\n",
       "   PrivateWork  PublicWork  SelfEmployed  FamilyWork  Unemployment  \\\n",
       "0         77.1        18.3           4.6         0.0           5.4   \n",
       "1         77.0        16.9           6.1         0.0          13.3   \n",
       "2         64.1        23.6          12.3         0.0           6.2   \n",
       "3         75.7        21.2           3.1         0.0          10.8   \n",
       "4         67.1        27.6           5.3         0.0           4.2   \n",
       "\n",
       "   meanIncomePerCap  \n",
       "0      24386.916667  \n",
       "1      24386.916667  \n",
       "2      24386.916667  \n",
       "3      24386.916667  \n",
       "4      24386.916667  \n",
       "\n",
       "[5 rows x 38 columns]"
      ],
      "text/html": "<div>\n<style scoped>\n    .dataframe tbody tr th:only-of-type {\n        vertical-align: middle;\n    }\n\n    .dataframe tbody tr th {\n        vertical-align: top;\n    }\n\n    .dataframe thead th {\n        text-align: right;\n    }\n</style>\n<table border=\"1\" class=\"dataframe\">\n  <thead>\n    <tr style=\"text-align: right;\">\n      <th></th>\n      <th>CensusTract</th>\n      <th>State</th>\n      <th>County</th>\n      <th>TotalPop</th>\n      <th>Men</th>\n      <th>Women</th>\n      <th>Hispanic</th>\n      <th>White</th>\n      <th>Black</th>\n      <th>Native</th>\n      <th>...</th>\n      <th>OtherTransp</th>\n      <th>WorkAtHome</th>\n      <th>MeanCommute</th>\n      <th>Employed</th>\n      <th>PrivateWork</th>\n      <th>PublicWork</th>\n      <th>SelfEmployed</th>\n      <th>FamilyWork</th>\n      <th>Unemployment</th>\n      <th>meanIncomePerCap</th>\n    </tr>\n  </thead>\n  <tbody>\n    <tr>\n      <th>0</th>\n      <td>1001020100</td>\n      <td>Alabama</td>\n      <td>Autauga</td>\n      <td>1948</td>\n      <td>940</td>\n      <td>1008</td>\n      <td>0.9</td>\n      <td>87.4</td>\n      <td>7.7</td>\n      <td>0.3</td>\n      <td>...</td>\n      <td>2.3</td>\n      <td>2.1</td>\n      <td>25.0</td>\n      <td>943</td>\n      <td>77.1</td>\n      <td>18.3</td>\n      <td>4.6</td>\n      <td>0.0</td>\n      <td>5.4</td>\n      <td>24386.916667</td>\n    </tr>\n    <tr>\n      <th>1</th>\n      <td>1001020200</td>\n      <td>Alabama</td>\n      <td>Autauga</td>\n      <td>2156</td>\n      <td>1059</td>\n      <td>1097</td>\n      <td>0.8</td>\n      <td>40.4</td>\n      <td>53.3</td>\n      <td>0.0</td>\n      <td>...</td>\n      <td>0.7</td>\n      <td>0.0</td>\n      <td>23.4</td>\n      <td>753</td>\n      <td>77.0</td>\n      <td>16.9</td>\n      <td>6.1</td>\n      <td>0.0</td>\n      <td>13.3</td>\n      <td>24386.916667</td>\n    </tr>\n    <tr>\n      <th>2</th>\n      <td>1001020300</td>\n      <td>Alabama</td>\n      <td>Autauga</td>\n      <td>2968</td>\n      <td>1364</td>\n      <td>1604</td>\n      <td>0.0</td>\n      <td>74.5</td>\n      <td>18.6</td>\n      <td>0.5</td>\n      <td>...</td>\n      <td>0.0</td>\n      <td>2.5</td>\n      <td>19.6</td>\n      <td>1373</td>\n      <td>64.1</td>\n      <td>23.6</td>\n      <td>12.3</td>\n      <td>0.0</td>\n      <td>6.2</td>\n      <td>24386.916667</td>\n    </tr>\n    <tr>\n      <th>3</th>\n      <td>1001020400</td>\n      <td>Alabama</td>\n      <td>Autauga</td>\n      <td>4423</td>\n      <td>2172</td>\n      <td>2251</td>\n      <td>10.5</td>\n      <td>82.8</td>\n      <td>3.7</td>\n      <td>1.6</td>\n      <td>...</td>\n      <td>2.6</td>\n      <td>1.6</td>\n      <td>25.3</td>\n      <td>1782</td>\n      <td>75.7</td>\n      <td>21.2</td>\n      <td>3.1</td>\n      <td>0.0</td>\n      <td>10.8</td>\n      <td>24386.916667</td>\n    </tr>\n    <tr>\n      <th>4</th>\n      <td>1001020500</td>\n      <td>Alabama</td>\n      <td>Autauga</td>\n      <td>10763</td>\n      <td>4922</td>\n      <td>5841</td>\n      <td>0.7</td>\n      <td>68.5</td>\n      <td>24.8</td>\n      <td>0.0</td>\n      <td>...</td>\n      <td>0.6</td>\n      <td>0.9</td>\n      <td>24.8</td>\n      <td>5037</td>\n      <td>67.1</td>\n      <td>27.6</td>\n      <td>5.3</td>\n      <td>0.0</td>\n      <td>4.2</td>\n      <td>24386.916667</td>\n    </tr>\n  </tbody>\n</table>\n<p>5 rows × 38 columns</p>\n</div>"
     },
     "metadata": {},
     "execution_count": 30
    }
   ],
   "source": [
    "transform_df.rename({'IncomePerCap':'meanIncomePerCap'}, axis='columns', inplace=True)\n",
    "df = df.merge(transform_df, left_index=True, right_index=True)\n",
    "\n",
    "df.head()"
   ]
  },
  {
   "cell_type": "code",
   "execution_count": 33,
   "metadata": {},
   "outputs": [
    {
     "output_type": "execute_result",
     "data": {
      "text/plain": [
       "0      1326.083333\n",
       "1      6365.916667\n",
       "2      3697.916667\n",
       "3       261.916667\n",
       "4      3139.083333\n",
       "5      6093.083333\n",
       "6      3944.916667\n",
       "7      8426.083333\n",
       "8       358.916667\n",
       "9       323.083333\n",
       "10     1096.916667\n",
       "11     3580.916667\n",
       "12     5124.000000\n",
       "13     6639.000000\n",
       "14      438.000000\n",
       "15     4954.000000\n",
       "16     2098.000000\n",
       "17     9633.000000\n",
       "18    10887.000000\n",
       "19    12834.000000\n",
       "Name: mean_diff, dtype: float64"
      ]
     },
     "metadata": {},
     "execution_count": 33
    }
   ],
   "source": [
    "df['mean_diff'] = np.absolute(df['IncomePerCap']-df['meanIncomePerCap'])\n",
    "df['mean_diff'].head(20)"
   ]
  },
  {
   "cell_type": "code",
   "execution_count": 40,
   "metadata": {},
   "outputs": [
    {
     "output_type": "execute_result",
     "data": {
      "text/plain": [
       "       CensusTract       State         County  TotalPop   Men  Women  \\\n",
       "3842    6001441925  California        Alameda      6138  3056   3082   \n",
       "3846    6001442100  California        Alameda      5245  2535   2710   \n",
       "3862    6001443105  California        Alameda      4452  2142   2310   \n",
       "4141    6013355116  California   Contra Costa      7492  3938   3554   \n",
       "5946    6037407400  California    Los Angeles      2091  1036   1055   \n",
       "6135    6037480703  California    Los Angeles      3288  1560   1728   \n",
       "7594    6059052517  California         Orange     11322  5924   5398   \n",
       "7931    6059099904  California         Orange      6830  3442   3388   \n",
       "9912    6075017801  California  San Francisco      3115  1171   1944   \n",
       "10355   6081610303  California      San Mateo      8011  3700   4311   \n",
       "10570   6085503330  California    Santa Clara      8379  3974   4405   \n",
       "10657   6085505305  California    Santa Clara      5900  3206   2694   \n",
       "10670   6085506202  California    Santa Clara      7205  3475   3730   \n",
       "10701   6085507301  California    Santa Clara      6908  3161   3747   \n",
       "10707   6085507701  California    Santa Clara      3855  1967   1888   \n",
       "10712   6085507807  California    Santa Clara      3150  1500   1650   \n",
       "10713   6085507808  California    Santa Clara      5590  2551   3039   \n",
       "10715   6085507904  California    Santa Clara      3277  1717   1560   \n",
       "10722   6085508102  California    Santa Clara      3432  1626   1806   \n",
       "10740   6085508704  California    Santa Clara      5831  3149   2682   \n",
       "10748   6085509108  California    Santa Clara      4465  2327   2138   \n",
       "10777   6085510900  California    Santa Clara      5657  2827   2830   \n",
       "10779   6085511100  California    Santa Clara      5586  2743   2843   \n",
       "20373  15003000600      Hawaii       Honolulu      1335   598    737   \n",
       "21451  17031281900    Illinois           Cook      4888  2382   2506   \n",
       "30414  24027602303    Maryland         Howard      3799  1909   1890   \n",
       "41541  34017002900  New Jersey         Hudson      4214  2118   2096   \n",
       "41580  34017007600  New Jersey         Hudson      6432  3577   2855   \n",
       "41809  34023001410  New Jersey      Middlesex      4360  1984   2376   \n",
       "41940  34023008403  New Jersey      Middlesex      7522  3753   3769   \n",
       "44384  36047013200    New York          Kings      2397  1238   1159   \n",
       "45527  36059518501    New York         Nassau      6488  3139   3349   \n",
       "45657  36061007600    New York       New York      1912   843   1069   \n",
       "45678  36061009600    New York       New York       149    87     62   \n",
       "46955  36081129104    New York         Queens      4241  1956   2285   \n",
       "62561  48085031661       Texas         Collin      3030  1611   1419   \n",
       "69984  53033010402  Washington           King      5218  2846   2372   \n",
       "\n",
       "       Hispanic  White  Black  Native  ...  WorkAtHome  MeanCommute  Employed  \\\n",
       "3842        6.2   20.7    4.0     0.7  ...         4.2         39.6      3869   \n",
       "3846        4.2   17.3    0.6     0.6  ...         5.4         34.7      2341   \n",
       "3862        0.0   17.5    0.7     0.2  ...         8.8         31.7      2105   \n",
       "4141        4.6   19.4    1.6     0.3  ...         7.3         42.9      3414   \n",
       "5946       56.2    6.9    2.5     0.8  ...         4.6         32.1       944   \n",
       "6135       16.5   45.7    2.1     0.0  ...        15.2         28.3      1875   \n",
       "7594        4.9   47.1    5.9     0.0  ...         5.2         25.9      5489   \n",
       "7931       37.5   16.5    0.2     0.0  ...         2.6         24.5      3094   \n",
       "9912        3.1   27.7    4.5     0.0  ...        16.1         33.1      1055   \n",
       "10355       6.5   46.0    1.7     0.0  ...         6.7         28.9      4375   \n",
       "10570       9.7   10.2    0.0     0.0  ...         3.8         35.5      3975   \n",
       "10657      11.4   40.6    4.7     0.7  ...         4.2         20.5      2978   \n",
       "10670       5.6   43.7    1.7     0.0  ...         5.9         28.7      3642   \n",
       "10701       5.1   48.5    0.2     0.9  ...         4.1         32.3      2797   \n",
       "10707       5.3   26.8    0.0     0.0  ...         9.2         25.8      1857   \n",
       "10712       0.9   18.9    0.0     0.5  ...        12.6         27.4      1444   \n",
       "10713       1.1   23.2    0.6     0.0  ...         9.6         31.0      2571   \n",
       "10715       1.5   25.2    1.0     1.7  ...         9.9         29.0      1491   \n",
       "10722       3.4   20.9    0.0     1.2  ...         2.6         24.3      1767   \n",
       "10740      17.4   26.2    1.9     0.3  ...         6.8         23.0      3319   \n",
       "10748      25.2   37.6    1.1     0.2  ...         2.8         22.9      2760   \n",
       "10777       5.4   55.6    0.8     0.0  ...         8.3         21.9      2692   \n",
       "10779       7.9   54.9    0.8     0.2  ...         7.3         25.9      2427   \n",
       "20373       0.0   38.8    0.0     0.0  ...        12.5         31.8       558   \n",
       "21451       8.4   40.8    7.1     0.0  ...         1.4         24.9      3281   \n",
       "30414       2.1   55.6    8.4     0.0  ...         8.5         32.3      2183   \n",
       "41541      22.0   31.3   13.5     0.1  ...         7.7         37.7      2038   \n",
       "41580       7.6   34.3    2.3     0.0  ...         5.3         37.5      4827   \n",
       "41809       2.6   20.9    8.4     0.2  ...         2.3         39.6      2170   \n",
       "41940       3.9   41.1   11.9     0.2  ...         5.3         39.7      3905   \n",
       "44384      16.9   35.7    0.4     0.0  ...         2.7         44.3      1116   \n",
       "45527       1.3   62.9    2.9     0.0  ...         3.4         35.7      2972   \n",
       "45657       2.8   45.8    2.6     0.4  ...         7.2         23.4      1306   \n",
       "45678       4.7   55.0    0.0     8.1  ...         7.8         25.7       116   \n",
       "46955       5.7   43.6    3.0     0.0  ...         3.0         38.1      2277   \n",
       "62561       5.0   33.2    1.2     0.3  ...        12.8         31.0      1509   \n",
       "69984      11.6   20.9   10.9     0.0  ...         1.4         26.2      2914   \n",
       "\n",
       "       PrivateWork  PublicWork  SelfEmployed  FamilyWork  Unemployment  \\\n",
       "3842          92.6         4.7           2.7         0.0           4.5   \n",
       "3846          88.6         7.6           3.8         0.0           4.4   \n",
       "3862          81.2         7.9          10.5         0.4           7.2   \n",
       "4141          87.6        10.4           2.1         0.0           3.6   \n",
       "5946          83.2        12.9           3.9         0.0          15.2   \n",
       "6135          69.3        12.9          17.9         0.0           8.4   \n",
       "7594          83.7        12.8           3.4         0.0           8.4   \n",
       "7931          87.1         7.3           5.3         0.3           8.1   \n",
       "9912          78.1         8.2          13.6         0.0           6.7   \n",
       "10355         89.0         6.9           4.1         0.0           5.1   \n",
       "10570         84.0         9.5           6.4         0.0           3.9   \n",
       "10657         85.0        13.2           1.8         0.0           8.6   \n",
       "10670         87.0         4.2           8.8         0.0           6.1   \n",
       "10701         87.2         7.3           5.5         0.0           7.1   \n",
       "10707         85.0         7.5           7.5         0.0           5.4   \n",
       "10712         82.5         9.6           8.0         0.0           5.2   \n",
       "10713         83.8         7.7           8.2         0.3           4.0   \n",
       "10715         82.6         6.4          11.0         0.0           2.9   \n",
       "10722         96.5         0.6           2.9         0.0           5.8   \n",
       "10740         85.6         8.3           6.2         0.0           8.9   \n",
       "10748         88.9         5.6           5.5         0.0           6.0   \n",
       "10777         83.6         8.1           8.2         0.0           7.4   \n",
       "10779         83.2         8.4           8.3         0.0           5.3   \n",
       "20373         75.4        13.1          11.5         0.0           3.5   \n",
       "21451         86.9        11.3           1.8         0.0           6.8   \n",
       "30414         71.9        25.4           2.7         0.0           1.4   \n",
       "41541         85.6         9.7           4.7         0.0           8.1   \n",
       "41580         94.8         2.6           2.6         0.0           2.7   \n",
       "41809         84.3        12.6           2.7         0.4           7.6   \n",
       "41940         84.4        13.2           2.5         0.0           2.5   \n",
       "44384         82.8        10.3           6.9         0.0           6.5   \n",
       "45527         83.7        11.5           4.8         0.0           4.0   \n",
       "45657         92.2         1.4           6.1         0.3           3.5   \n",
       "45678        100.0         0.0           0.0         0.0           4.1   \n",
       "46955         79.4        14.6           5.9         0.0           4.6   \n",
       "62561         95.2         2.8           1.9         0.0           2.5   \n",
       "69984         81.0        16.4           2.6         0.0           4.6   \n",
       "\n",
       "       meanIncomePerCap     mean_diff  \n",
       "3842       38161.402778  16670.597222  \n",
       "3846       38161.402778  15367.597222  \n",
       "3862       38161.402778  17398.597222  \n",
       "4141       40143.734300  18377.265700  \n",
       "5946       28805.443632   4821.443632  \n",
       "6135       28805.443632  18249.556368  \n",
       "7594       33212.910256  14166.089744  \n",
       "7931       33212.910256  16071.910256  \n",
       "9912       53205.169231    930.169231  \n",
       "10355      50878.006410  24538.993590  \n",
       "10570      44715.360215   9908.639785  \n",
       "10657      44715.360215    454.360215  \n",
       "10670      44715.360215  13615.639785  \n",
       "10701      44715.360215  46339.639785  \n",
       "10707      44715.360215  26210.639785  \n",
       "10712      44715.360215  18174.639785  \n",
       "10713      44715.360215  15045.639785  \n",
       "10715      44715.360215  17743.639785  \n",
       "10722      44715.360215  19670.639785  \n",
       "10740      44715.360215   8353.639785  \n",
       "10748      44715.360215  11656.639785  \n",
       "10777      44715.360215  27057.639785  \n",
       "10779      44715.360215  35269.639785  \n",
       "20373      32360.252137  32549.747863  \n",
       "21451      30366.152914  27839.847086  \n",
       "30414      37691.770833  20306.229167  \n",
       "41541      34243.175758  10394.175758  \n",
       "41580      34243.175758  62882.824242  \n",
       "41809      40967.761278   5585.238722  \n",
       "41940      40967.761278  13608.238722  \n",
       "44384      27570.574003   2452.574003  \n",
       "45527      43671.642612  24197.357388  \n",
       "45657      69351.519573  14146.480427  \n",
       "45678      69351.519573  66726.480427  \n",
       "46955      27596.498452  18769.501548  \n",
       "62561      39965.756579  14068.243421  \n",
       "69984      41690.047739  12016.047739  \n",
       "\n",
       "[37 rows x 39 columns]"
      ],
      "text/html": "<div>\n<style scoped>\n    .dataframe tbody tr th:only-of-type {\n        vertical-align: middle;\n    }\n\n    .dataframe tbody tr th {\n        vertical-align: top;\n    }\n\n    .dataframe thead th {\n        text-align: right;\n    }\n</style>\n<table border=\"1\" class=\"dataframe\">\n  <thead>\n    <tr style=\"text-align: right;\">\n      <th></th>\n      <th>CensusTract</th>\n      <th>State</th>\n      <th>County</th>\n      <th>TotalPop</th>\n      <th>Men</th>\n      <th>Women</th>\n      <th>Hispanic</th>\n      <th>White</th>\n      <th>Black</th>\n      <th>Native</th>\n      <th>...</th>\n      <th>WorkAtHome</th>\n      <th>MeanCommute</th>\n      <th>Employed</th>\n      <th>PrivateWork</th>\n      <th>PublicWork</th>\n      <th>SelfEmployed</th>\n      <th>FamilyWork</th>\n      <th>Unemployment</th>\n      <th>meanIncomePerCap</th>\n      <th>mean_diff</th>\n    </tr>\n  </thead>\n  <tbody>\n    <tr>\n      <th>3842</th>\n      <td>6001441925</td>\n      <td>California</td>\n      <td>Alameda</td>\n      <td>6138</td>\n      <td>3056</td>\n      <td>3082</td>\n      <td>6.2</td>\n      <td>20.7</td>\n      <td>4.0</td>\n      <td>0.7</td>\n      <td>...</td>\n      <td>4.2</td>\n      <td>39.6</td>\n      <td>3869</td>\n      <td>92.6</td>\n      <td>4.7</td>\n      <td>2.7</td>\n      <td>0.0</td>\n      <td>4.5</td>\n      <td>38161.402778</td>\n      <td>16670.597222</td>\n    </tr>\n    <tr>\n      <th>3846</th>\n      <td>6001442100</td>\n      <td>California</td>\n      <td>Alameda</td>\n      <td>5245</td>\n      <td>2535</td>\n      <td>2710</td>\n      <td>4.2</td>\n      <td>17.3</td>\n      <td>0.6</td>\n      <td>0.6</td>\n      <td>...</td>\n      <td>5.4</td>\n      <td>34.7</td>\n      <td>2341</td>\n      <td>88.6</td>\n      <td>7.6</td>\n      <td>3.8</td>\n      <td>0.0</td>\n      <td>4.4</td>\n      <td>38161.402778</td>\n      <td>15367.597222</td>\n    </tr>\n    <tr>\n      <th>3862</th>\n      <td>6001443105</td>\n      <td>California</td>\n      <td>Alameda</td>\n      <td>4452</td>\n      <td>2142</td>\n      <td>2310</td>\n      <td>0.0</td>\n      <td>17.5</td>\n      <td>0.7</td>\n      <td>0.2</td>\n      <td>...</td>\n      <td>8.8</td>\n      <td>31.7</td>\n      <td>2105</td>\n      <td>81.2</td>\n      <td>7.9</td>\n      <td>10.5</td>\n      <td>0.4</td>\n      <td>7.2</td>\n      <td>38161.402778</td>\n      <td>17398.597222</td>\n    </tr>\n    <tr>\n      <th>4141</th>\n      <td>6013355116</td>\n      <td>California</td>\n      <td>Contra Costa</td>\n      <td>7492</td>\n      <td>3938</td>\n      <td>3554</td>\n      <td>4.6</td>\n      <td>19.4</td>\n      <td>1.6</td>\n      <td>0.3</td>\n      <td>...</td>\n      <td>7.3</td>\n      <td>42.9</td>\n      <td>3414</td>\n      <td>87.6</td>\n      <td>10.4</td>\n      <td>2.1</td>\n      <td>0.0</td>\n      <td>3.6</td>\n      <td>40143.734300</td>\n      <td>18377.265700</td>\n    </tr>\n    <tr>\n      <th>5946</th>\n      <td>6037407400</td>\n      <td>California</td>\n      <td>Los Angeles</td>\n      <td>2091</td>\n      <td>1036</td>\n      <td>1055</td>\n      <td>56.2</td>\n      <td>6.9</td>\n      <td>2.5</td>\n      <td>0.8</td>\n      <td>...</td>\n      <td>4.6</td>\n      <td>32.1</td>\n      <td>944</td>\n      <td>83.2</td>\n      <td>12.9</td>\n      <td>3.9</td>\n      <td>0.0</td>\n      <td>15.2</td>\n      <td>28805.443632</td>\n      <td>4821.443632</td>\n    </tr>\n    <tr>\n      <th>6135</th>\n      <td>6037480703</td>\n      <td>California</td>\n      <td>Los Angeles</td>\n      <td>3288</td>\n      <td>1560</td>\n      <td>1728</td>\n      <td>16.5</td>\n      <td>45.7</td>\n      <td>2.1</td>\n      <td>0.0</td>\n      <td>...</td>\n      <td>15.2</td>\n      <td>28.3</td>\n      <td>1875</td>\n      <td>69.3</td>\n      <td>12.9</td>\n      <td>17.9</td>\n      <td>0.0</td>\n      <td>8.4</td>\n      <td>28805.443632</td>\n      <td>18249.556368</td>\n    </tr>\n    <tr>\n      <th>7594</th>\n      <td>6059052517</td>\n      <td>California</td>\n      <td>Orange</td>\n      <td>11322</td>\n      <td>5924</td>\n      <td>5398</td>\n      <td>4.9</td>\n      <td>47.1</td>\n      <td>5.9</td>\n      <td>0.0</td>\n      <td>...</td>\n      <td>5.2</td>\n      <td>25.9</td>\n      <td>5489</td>\n      <td>83.7</td>\n      <td>12.8</td>\n      <td>3.4</td>\n      <td>0.0</td>\n      <td>8.4</td>\n      <td>33212.910256</td>\n      <td>14166.089744</td>\n    </tr>\n    <tr>\n      <th>7931</th>\n      <td>6059099904</td>\n      <td>California</td>\n      <td>Orange</td>\n      <td>6830</td>\n      <td>3442</td>\n      <td>3388</td>\n      <td>37.5</td>\n      <td>16.5</td>\n      <td>0.2</td>\n      <td>0.0</td>\n      <td>...</td>\n      <td>2.6</td>\n      <td>24.5</td>\n      <td>3094</td>\n      <td>87.1</td>\n      <td>7.3</td>\n      <td>5.3</td>\n      <td>0.3</td>\n      <td>8.1</td>\n      <td>33212.910256</td>\n      <td>16071.910256</td>\n    </tr>\n    <tr>\n      <th>9912</th>\n      <td>6075017801</td>\n      <td>California</td>\n      <td>San Francisco</td>\n      <td>3115</td>\n      <td>1171</td>\n      <td>1944</td>\n      <td>3.1</td>\n      <td>27.7</td>\n      <td>4.5</td>\n      <td>0.0</td>\n      <td>...</td>\n      <td>16.1</td>\n      <td>33.1</td>\n      <td>1055</td>\n      <td>78.1</td>\n      <td>8.2</td>\n      <td>13.6</td>\n      <td>0.0</td>\n      <td>6.7</td>\n      <td>53205.169231</td>\n      <td>930.169231</td>\n    </tr>\n    <tr>\n      <th>10355</th>\n      <td>6081610303</td>\n      <td>California</td>\n      <td>San Mateo</td>\n      <td>8011</td>\n      <td>3700</td>\n      <td>4311</td>\n      <td>6.5</td>\n      <td>46.0</td>\n      <td>1.7</td>\n      <td>0.0</td>\n      <td>...</td>\n      <td>6.7</td>\n      <td>28.9</td>\n      <td>4375</td>\n      <td>89.0</td>\n      <td>6.9</td>\n      <td>4.1</td>\n      <td>0.0</td>\n      <td>5.1</td>\n      <td>50878.006410</td>\n      <td>24538.993590</td>\n    </tr>\n    <tr>\n      <th>10570</th>\n      <td>6085503330</td>\n      <td>California</td>\n      <td>Santa Clara</td>\n      <td>8379</td>\n      <td>3974</td>\n      <td>4405</td>\n      <td>9.7</td>\n      <td>10.2</td>\n      <td>0.0</td>\n      <td>0.0</td>\n      <td>...</td>\n      <td>3.8</td>\n      <td>35.5</td>\n      <td>3975</td>\n      <td>84.0</td>\n      <td>9.5</td>\n      <td>6.4</td>\n      <td>0.0</td>\n      <td>3.9</td>\n      <td>44715.360215</td>\n      <td>9908.639785</td>\n    </tr>\n    <tr>\n      <th>10657</th>\n      <td>6085505305</td>\n      <td>California</td>\n      <td>Santa Clara</td>\n      <td>5900</td>\n      <td>3206</td>\n      <td>2694</td>\n      <td>11.4</td>\n      <td>40.6</td>\n      <td>4.7</td>\n      <td>0.7</td>\n      <td>...</td>\n      <td>4.2</td>\n      <td>20.5</td>\n      <td>2978</td>\n      <td>85.0</td>\n      <td>13.2</td>\n      <td>1.8</td>\n      <td>0.0</td>\n      <td>8.6</td>\n      <td>44715.360215</td>\n      <td>454.360215</td>\n    </tr>\n    <tr>\n      <th>10670</th>\n      <td>6085506202</td>\n      <td>California</td>\n      <td>Santa Clara</td>\n      <td>7205</td>\n      <td>3475</td>\n      <td>3730</td>\n      <td>5.6</td>\n      <td>43.7</td>\n      <td>1.7</td>\n      <td>0.0</td>\n      <td>...</td>\n      <td>5.9</td>\n      <td>28.7</td>\n      <td>3642</td>\n      <td>87.0</td>\n      <td>4.2</td>\n      <td>8.8</td>\n      <td>0.0</td>\n      <td>6.1</td>\n      <td>44715.360215</td>\n      <td>13615.639785</td>\n    </tr>\n    <tr>\n      <th>10701</th>\n      <td>6085507301</td>\n      <td>California</td>\n      <td>Santa Clara</td>\n      <td>6908</td>\n      <td>3161</td>\n      <td>3747</td>\n      <td>5.1</td>\n      <td>48.5</td>\n      <td>0.2</td>\n      <td>0.9</td>\n      <td>...</td>\n      <td>4.1</td>\n      <td>32.3</td>\n      <td>2797</td>\n      <td>87.2</td>\n      <td>7.3</td>\n      <td>5.5</td>\n      <td>0.0</td>\n      <td>7.1</td>\n      <td>44715.360215</td>\n      <td>46339.639785</td>\n    </tr>\n    <tr>\n      <th>10707</th>\n      <td>6085507701</td>\n      <td>California</td>\n      <td>Santa Clara</td>\n      <td>3855</td>\n      <td>1967</td>\n      <td>1888</td>\n      <td>5.3</td>\n      <td>26.8</td>\n      <td>0.0</td>\n      <td>0.0</td>\n      <td>...</td>\n      <td>9.2</td>\n      <td>25.8</td>\n      <td>1857</td>\n      <td>85.0</td>\n      <td>7.5</td>\n      <td>7.5</td>\n      <td>0.0</td>\n      <td>5.4</td>\n      <td>44715.360215</td>\n      <td>26210.639785</td>\n    </tr>\n    <tr>\n      <th>10712</th>\n      <td>6085507807</td>\n      <td>California</td>\n      <td>Santa Clara</td>\n      <td>3150</td>\n      <td>1500</td>\n      <td>1650</td>\n      <td>0.9</td>\n      <td>18.9</td>\n      <td>0.0</td>\n      <td>0.5</td>\n      <td>...</td>\n      <td>12.6</td>\n      <td>27.4</td>\n      <td>1444</td>\n      <td>82.5</td>\n      <td>9.6</td>\n      <td>8.0</td>\n      <td>0.0</td>\n      <td>5.2</td>\n      <td>44715.360215</td>\n      <td>18174.639785</td>\n    </tr>\n    <tr>\n      <th>10713</th>\n      <td>6085507808</td>\n      <td>California</td>\n      <td>Santa Clara</td>\n      <td>5590</td>\n      <td>2551</td>\n      <td>3039</td>\n      <td>1.1</td>\n      <td>23.2</td>\n      <td>0.6</td>\n      <td>0.0</td>\n      <td>...</td>\n      <td>9.6</td>\n      <td>31.0</td>\n      <td>2571</td>\n      <td>83.8</td>\n      <td>7.7</td>\n      <td>8.2</td>\n      <td>0.3</td>\n      <td>4.0</td>\n      <td>44715.360215</td>\n      <td>15045.639785</td>\n    </tr>\n    <tr>\n      <th>10715</th>\n      <td>6085507904</td>\n      <td>California</td>\n      <td>Santa Clara</td>\n      <td>3277</td>\n      <td>1717</td>\n      <td>1560</td>\n      <td>1.5</td>\n      <td>25.2</td>\n      <td>1.0</td>\n      <td>1.7</td>\n      <td>...</td>\n      <td>9.9</td>\n      <td>29.0</td>\n      <td>1491</td>\n      <td>82.6</td>\n      <td>6.4</td>\n      <td>11.0</td>\n      <td>0.0</td>\n      <td>2.9</td>\n      <td>44715.360215</td>\n      <td>17743.639785</td>\n    </tr>\n    <tr>\n      <th>10722</th>\n      <td>6085508102</td>\n      <td>California</td>\n      <td>Santa Clara</td>\n      <td>3432</td>\n      <td>1626</td>\n      <td>1806</td>\n      <td>3.4</td>\n      <td>20.9</td>\n      <td>0.0</td>\n      <td>1.2</td>\n      <td>...</td>\n      <td>2.6</td>\n      <td>24.3</td>\n      <td>1767</td>\n      <td>96.5</td>\n      <td>0.6</td>\n      <td>2.9</td>\n      <td>0.0</td>\n      <td>5.8</td>\n      <td>44715.360215</td>\n      <td>19670.639785</td>\n    </tr>\n    <tr>\n      <th>10740</th>\n      <td>6085508704</td>\n      <td>California</td>\n      <td>Santa Clara</td>\n      <td>5831</td>\n      <td>3149</td>\n      <td>2682</td>\n      <td>17.4</td>\n      <td>26.2</td>\n      <td>1.9</td>\n      <td>0.3</td>\n      <td>...</td>\n      <td>6.8</td>\n      <td>23.0</td>\n      <td>3319</td>\n      <td>85.6</td>\n      <td>8.3</td>\n      <td>6.2</td>\n      <td>0.0</td>\n      <td>8.9</td>\n      <td>44715.360215</td>\n      <td>8353.639785</td>\n    </tr>\n    <tr>\n      <th>10748</th>\n      <td>6085509108</td>\n      <td>California</td>\n      <td>Santa Clara</td>\n      <td>4465</td>\n      <td>2327</td>\n      <td>2138</td>\n      <td>25.2</td>\n      <td>37.6</td>\n      <td>1.1</td>\n      <td>0.2</td>\n      <td>...</td>\n      <td>2.8</td>\n      <td>22.9</td>\n      <td>2760</td>\n      <td>88.9</td>\n      <td>5.6</td>\n      <td>5.5</td>\n      <td>0.0</td>\n      <td>6.0</td>\n      <td>44715.360215</td>\n      <td>11656.639785</td>\n    </tr>\n    <tr>\n      <th>10777</th>\n      <td>6085510900</td>\n      <td>California</td>\n      <td>Santa Clara</td>\n      <td>5657</td>\n      <td>2827</td>\n      <td>2830</td>\n      <td>5.4</td>\n      <td>55.6</td>\n      <td>0.8</td>\n      <td>0.0</td>\n      <td>...</td>\n      <td>8.3</td>\n      <td>21.9</td>\n      <td>2692</td>\n      <td>83.6</td>\n      <td>8.1</td>\n      <td>8.2</td>\n      <td>0.0</td>\n      <td>7.4</td>\n      <td>44715.360215</td>\n      <td>27057.639785</td>\n    </tr>\n    <tr>\n      <th>10779</th>\n      <td>6085511100</td>\n      <td>California</td>\n      <td>Santa Clara</td>\n      <td>5586</td>\n      <td>2743</td>\n      <td>2843</td>\n      <td>7.9</td>\n      <td>54.9</td>\n      <td>0.8</td>\n      <td>0.2</td>\n      <td>...</td>\n      <td>7.3</td>\n      <td>25.9</td>\n      <td>2427</td>\n      <td>83.2</td>\n      <td>8.4</td>\n      <td>8.3</td>\n      <td>0.0</td>\n      <td>5.3</td>\n      <td>44715.360215</td>\n      <td>35269.639785</td>\n    </tr>\n    <tr>\n      <th>20373</th>\n      <td>15003000600</td>\n      <td>Hawaii</td>\n      <td>Honolulu</td>\n      <td>1335</td>\n      <td>598</td>\n      <td>737</td>\n      <td>0.0</td>\n      <td>38.8</td>\n      <td>0.0</td>\n      <td>0.0</td>\n      <td>...</td>\n      <td>12.5</td>\n      <td>31.8</td>\n      <td>558</td>\n      <td>75.4</td>\n      <td>13.1</td>\n      <td>11.5</td>\n      <td>0.0</td>\n      <td>3.5</td>\n      <td>32360.252137</td>\n      <td>32549.747863</td>\n    </tr>\n    <tr>\n      <th>21451</th>\n      <td>17031281900</td>\n      <td>Illinois</td>\n      <td>Cook</td>\n      <td>4888</td>\n      <td>2382</td>\n      <td>2506</td>\n      <td>8.4</td>\n      <td>40.8</td>\n      <td>7.1</td>\n      <td>0.0</td>\n      <td>...</td>\n      <td>1.4</td>\n      <td>24.9</td>\n      <td>3281</td>\n      <td>86.9</td>\n      <td>11.3</td>\n      <td>1.8</td>\n      <td>0.0</td>\n      <td>6.8</td>\n      <td>30366.152914</td>\n      <td>27839.847086</td>\n    </tr>\n    <tr>\n      <th>30414</th>\n      <td>24027602303</td>\n      <td>Maryland</td>\n      <td>Howard</td>\n      <td>3799</td>\n      <td>1909</td>\n      <td>1890</td>\n      <td>2.1</td>\n      <td>55.6</td>\n      <td>8.4</td>\n      <td>0.0</td>\n      <td>...</td>\n      <td>8.5</td>\n      <td>32.3</td>\n      <td>2183</td>\n      <td>71.9</td>\n      <td>25.4</td>\n      <td>2.7</td>\n      <td>0.0</td>\n      <td>1.4</td>\n      <td>37691.770833</td>\n      <td>20306.229167</td>\n    </tr>\n    <tr>\n      <th>41541</th>\n      <td>34017002900</td>\n      <td>New Jersey</td>\n      <td>Hudson</td>\n      <td>4214</td>\n      <td>2118</td>\n      <td>2096</td>\n      <td>22.0</td>\n      <td>31.3</td>\n      <td>13.5</td>\n      <td>0.1</td>\n      <td>...</td>\n      <td>7.7</td>\n      <td>37.7</td>\n      <td>2038</td>\n      <td>85.6</td>\n      <td>9.7</td>\n      <td>4.7</td>\n      <td>0.0</td>\n      <td>8.1</td>\n      <td>34243.175758</td>\n      <td>10394.175758</td>\n    </tr>\n    <tr>\n      <th>41580</th>\n      <td>34017007600</td>\n      <td>New Jersey</td>\n      <td>Hudson</td>\n      <td>6432</td>\n      <td>3577</td>\n      <td>2855</td>\n      <td>7.6</td>\n      <td>34.3</td>\n      <td>2.3</td>\n      <td>0.0</td>\n      <td>...</td>\n      <td>5.3</td>\n      <td>37.5</td>\n      <td>4827</td>\n      <td>94.8</td>\n      <td>2.6</td>\n      <td>2.6</td>\n      <td>0.0</td>\n      <td>2.7</td>\n      <td>34243.175758</td>\n      <td>62882.824242</td>\n    </tr>\n    <tr>\n      <th>41809</th>\n      <td>34023001410</td>\n      <td>New Jersey</td>\n      <td>Middlesex</td>\n      <td>4360</td>\n      <td>1984</td>\n      <td>2376</td>\n      <td>2.6</td>\n      <td>20.9</td>\n      <td>8.4</td>\n      <td>0.2</td>\n      <td>...</td>\n      <td>2.3</td>\n      <td>39.6</td>\n      <td>2170</td>\n      <td>84.3</td>\n      <td>12.6</td>\n      <td>2.7</td>\n      <td>0.4</td>\n      <td>7.6</td>\n      <td>40967.761278</td>\n      <td>5585.238722</td>\n    </tr>\n    <tr>\n      <th>41940</th>\n      <td>34023008403</td>\n      <td>New Jersey</td>\n      <td>Middlesex</td>\n      <td>7522</td>\n      <td>3753</td>\n      <td>3769</td>\n      <td>3.9</td>\n      <td>41.1</td>\n      <td>11.9</td>\n      <td>0.2</td>\n      <td>...</td>\n      <td>5.3</td>\n      <td>39.7</td>\n      <td>3905</td>\n      <td>84.4</td>\n      <td>13.2</td>\n      <td>2.5</td>\n      <td>0.0</td>\n      <td>2.5</td>\n      <td>40967.761278</td>\n      <td>13608.238722</td>\n    </tr>\n    <tr>\n      <th>44384</th>\n      <td>36047013200</td>\n      <td>New York</td>\n      <td>Kings</td>\n      <td>2397</td>\n      <td>1238</td>\n      <td>1159</td>\n      <td>16.9</td>\n      <td>35.7</td>\n      <td>0.4</td>\n      <td>0.0</td>\n      <td>...</td>\n      <td>2.7</td>\n      <td>44.3</td>\n      <td>1116</td>\n      <td>82.8</td>\n      <td>10.3</td>\n      <td>6.9</td>\n      <td>0.0</td>\n      <td>6.5</td>\n      <td>27570.574003</td>\n      <td>2452.574003</td>\n    </tr>\n    <tr>\n      <th>45527</th>\n      <td>36059518501</td>\n      <td>New York</td>\n      <td>Nassau</td>\n      <td>6488</td>\n      <td>3139</td>\n      <td>3349</td>\n      <td>1.3</td>\n      <td>62.9</td>\n      <td>2.9</td>\n      <td>0.0</td>\n      <td>...</td>\n      <td>3.4</td>\n      <td>35.7</td>\n      <td>2972</td>\n      <td>83.7</td>\n      <td>11.5</td>\n      <td>4.8</td>\n      <td>0.0</td>\n      <td>4.0</td>\n      <td>43671.642612</td>\n      <td>24197.357388</td>\n    </tr>\n    <tr>\n      <th>45657</th>\n      <td>36061007600</td>\n      <td>New York</td>\n      <td>New York</td>\n      <td>1912</td>\n      <td>843</td>\n      <td>1069</td>\n      <td>2.8</td>\n      <td>45.8</td>\n      <td>2.6</td>\n      <td>0.4</td>\n      <td>...</td>\n      <td>7.2</td>\n      <td>23.4</td>\n      <td>1306</td>\n      <td>92.2</td>\n      <td>1.4</td>\n      <td>6.1</td>\n      <td>0.3</td>\n      <td>3.5</td>\n      <td>69351.519573</td>\n      <td>14146.480427</td>\n    </tr>\n    <tr>\n      <th>45678</th>\n      <td>36061009600</td>\n      <td>New York</td>\n      <td>New York</td>\n      <td>149</td>\n      <td>87</td>\n      <td>62</td>\n      <td>4.7</td>\n      <td>55.0</td>\n      <td>0.0</td>\n      <td>8.1</td>\n      <td>...</td>\n      <td>7.8</td>\n      <td>25.7</td>\n      <td>116</td>\n      <td>100.0</td>\n      <td>0.0</td>\n      <td>0.0</td>\n      <td>0.0</td>\n      <td>4.1</td>\n      <td>69351.519573</td>\n      <td>66726.480427</td>\n    </tr>\n    <tr>\n      <th>46955</th>\n      <td>36081129104</td>\n      <td>New York</td>\n      <td>Queens</td>\n      <td>4241</td>\n      <td>1956</td>\n      <td>2285</td>\n      <td>5.7</td>\n      <td>43.6</td>\n      <td>3.0</td>\n      <td>0.0</td>\n      <td>...</td>\n      <td>3.0</td>\n      <td>38.1</td>\n      <td>2277</td>\n      <td>79.4</td>\n      <td>14.6</td>\n      <td>5.9</td>\n      <td>0.0</td>\n      <td>4.6</td>\n      <td>27596.498452</td>\n      <td>18769.501548</td>\n    </tr>\n    <tr>\n      <th>62561</th>\n      <td>48085031661</td>\n      <td>Texas</td>\n      <td>Collin</td>\n      <td>3030</td>\n      <td>1611</td>\n      <td>1419</td>\n      <td>5.0</td>\n      <td>33.2</td>\n      <td>1.2</td>\n      <td>0.3</td>\n      <td>...</td>\n      <td>12.8</td>\n      <td>31.0</td>\n      <td>1509</td>\n      <td>95.2</td>\n      <td>2.8</td>\n      <td>1.9</td>\n      <td>0.0</td>\n      <td>2.5</td>\n      <td>39965.756579</td>\n      <td>14068.243421</td>\n    </tr>\n    <tr>\n      <th>69984</th>\n      <td>53033010402</td>\n      <td>Washington</td>\n      <td>King</td>\n      <td>5218</td>\n      <td>2846</td>\n      <td>2372</td>\n      <td>11.6</td>\n      <td>20.9</td>\n      <td>10.9</td>\n      <td>0.0</td>\n      <td>...</td>\n      <td>1.4</td>\n      <td>26.2</td>\n      <td>2914</td>\n      <td>81.0</td>\n      <td>16.4</td>\n      <td>2.6</td>\n      <td>0.0</td>\n      <td>4.6</td>\n      <td>41690.047739</td>\n      <td>12016.047739</td>\n    </tr>\n  </tbody>\n</table>\n<p>37 rows × 39 columns</p>\n</div>"
     },
     "metadata": {},
     "execution_count": 40
    }
   ],
   "source": [
    "df.groupby('Asian').filter(lambda x: np.nanmean(x['IncomePerCap']) >52000 )"
   ]
  },
  {
   "source": [],
   "cell_type": "markdown",
   "metadata": {}
  },
  {
   "cell_type": "code",
   "execution_count": 43,
   "metadata": {},
   "outputs": [],
   "source": [
    "df = pd.read_csv('2015census.csv')\n",
    "#df.head()"
   ]
  },
  {
   "cell_type": "code",
   "execution_count": 44,
   "metadata": {},
   "outputs": [
    {
     "output_type": "execute_result",
     "data": {
      "text/plain": [
       "   CensusTract    State   County  TotalPop   Men  Women  Hispanic  White  \\\n",
       "0   1001020100  Alabama  Autauga      1948   940   1008       0.9   87.4   \n",
       "1   1001020200  Alabama  Autauga      2156  1059   1097       0.8   40.4   \n",
       "2   1001020300  Alabama  Autauga      2968  1364   1604       0.0   74.5   \n",
       "3   1001020400  Alabama  Autauga      4423  2172   2251      10.5   82.8   \n",
       "4   1001020500  Alabama  Autauga     10763  4922   5841       0.7   68.5   \n",
       "\n",
       "   Black  Native  ...  OtherTransp  WorkAtHome  MeanCommute  Employed  \\\n",
       "0    7.7     0.3  ...          2.3         2.1         25.0       943   \n",
       "1   53.3     0.0  ...          0.7         0.0         23.4       753   \n",
       "2   18.6     0.5  ...          0.0         2.5         19.6      1373   \n",
       "3    3.7     1.6  ...          2.6         1.6         25.3      1782   \n",
       "4   24.8     0.0  ...          0.6         0.9         24.8      5037   \n",
       "\n",
       "   PrivateWork  PublicWork  SelfEmployed  FamilyWork  Unemployment  \\\n",
       "0         77.1        18.3           4.6         0.0           5.4   \n",
       "1         77.0        16.9           6.1         0.0          13.3   \n",
       "2         64.1        23.6          12.3         0.0           6.2   \n",
       "3         75.7        21.2           3.1         0.0          10.8   \n",
       "4         67.1        27.6           5.3         0.0           4.2   \n",
       "\n",
       "   mean_IncomePerCap  \n",
       "0        2872.902979  \n",
       "1        4819.097021  \n",
       "2        2151.097021  \n",
       "3        1284.902979  \n",
       "4        4685.902979  \n",
       "\n",
       "[5 rows x 38 columns]"
      ],
      "text/html": "<div>\n<style scoped>\n    .dataframe tbody tr th:only-of-type {\n        vertical-align: middle;\n    }\n\n    .dataframe tbody tr th {\n        vertical-align: top;\n    }\n\n    .dataframe thead th {\n        text-align: right;\n    }\n</style>\n<table border=\"1\" class=\"dataframe\">\n  <thead>\n    <tr style=\"text-align: right;\">\n      <th></th>\n      <th>CensusTract</th>\n      <th>State</th>\n      <th>County</th>\n      <th>TotalPop</th>\n      <th>Men</th>\n      <th>Women</th>\n      <th>Hispanic</th>\n      <th>White</th>\n      <th>Black</th>\n      <th>Native</th>\n      <th>...</th>\n      <th>OtherTransp</th>\n      <th>WorkAtHome</th>\n      <th>MeanCommute</th>\n      <th>Employed</th>\n      <th>PrivateWork</th>\n      <th>PublicWork</th>\n      <th>SelfEmployed</th>\n      <th>FamilyWork</th>\n      <th>Unemployment</th>\n      <th>mean_IncomePerCap</th>\n    </tr>\n  </thead>\n  <tbody>\n    <tr>\n      <th>0</th>\n      <td>1001020100</td>\n      <td>Alabama</td>\n      <td>Autauga</td>\n      <td>1948</td>\n      <td>940</td>\n      <td>1008</td>\n      <td>0.9</td>\n      <td>87.4</td>\n      <td>7.7</td>\n      <td>0.3</td>\n      <td>...</td>\n      <td>2.3</td>\n      <td>2.1</td>\n      <td>25.0</td>\n      <td>943</td>\n      <td>77.1</td>\n      <td>18.3</td>\n      <td>4.6</td>\n      <td>0.0</td>\n      <td>5.4</td>\n      <td>2872.902979</td>\n    </tr>\n    <tr>\n      <th>1</th>\n      <td>1001020200</td>\n      <td>Alabama</td>\n      <td>Autauga</td>\n      <td>2156</td>\n      <td>1059</td>\n      <td>1097</td>\n      <td>0.8</td>\n      <td>40.4</td>\n      <td>53.3</td>\n      <td>0.0</td>\n      <td>...</td>\n      <td>0.7</td>\n      <td>0.0</td>\n      <td>23.4</td>\n      <td>753</td>\n      <td>77.0</td>\n      <td>16.9</td>\n      <td>6.1</td>\n      <td>0.0</td>\n      <td>13.3</td>\n      <td>4819.097021</td>\n    </tr>\n    <tr>\n      <th>2</th>\n      <td>1001020300</td>\n      <td>Alabama</td>\n      <td>Autauga</td>\n      <td>2968</td>\n      <td>1364</td>\n      <td>1604</td>\n      <td>0.0</td>\n      <td>74.5</td>\n      <td>18.6</td>\n      <td>0.5</td>\n      <td>...</td>\n      <td>0.0</td>\n      <td>2.5</td>\n      <td>19.6</td>\n      <td>1373</td>\n      <td>64.1</td>\n      <td>23.6</td>\n      <td>12.3</td>\n      <td>0.0</td>\n      <td>6.2</td>\n      <td>2151.097021</td>\n    </tr>\n    <tr>\n      <th>3</th>\n      <td>1001020400</td>\n      <td>Alabama</td>\n      <td>Autauga</td>\n      <td>4423</td>\n      <td>2172</td>\n      <td>2251</td>\n      <td>10.5</td>\n      <td>82.8</td>\n      <td>3.7</td>\n      <td>1.6</td>\n      <td>...</td>\n      <td>2.6</td>\n      <td>1.6</td>\n      <td>25.3</td>\n      <td>1782</td>\n      <td>75.7</td>\n      <td>21.2</td>\n      <td>3.1</td>\n      <td>0.0</td>\n      <td>10.8</td>\n      <td>1284.902979</td>\n    </tr>\n    <tr>\n      <th>4</th>\n      <td>1001020500</td>\n      <td>Alabama</td>\n      <td>Autauga</td>\n      <td>10763</td>\n      <td>4922</td>\n      <td>5841</td>\n      <td>0.7</td>\n      <td>68.5</td>\n      <td>24.8</td>\n      <td>0.0</td>\n      <td>...</td>\n      <td>0.6</td>\n      <td>0.9</td>\n      <td>24.8</td>\n      <td>5037</td>\n      <td>67.1</td>\n      <td>27.6</td>\n      <td>5.3</td>\n      <td>0.0</td>\n      <td>4.2</td>\n      <td>4685.902979</td>\n    </tr>\n  </tbody>\n</table>\n<p>5 rows × 38 columns</p>\n</div>"
     },
     "metadata": {},
     "execution_count": 44
    }
   ],
   "source": [
    "def calc_mean_incomepercap(group):\n",
    "    avg = np.nanmean(group['IncomePerCap'])\n",
    "    group['mean_IncomePerCap'] = np.abs(avg - group['IncomePerCap'])\n",
    "    return group\n",
    "\n",
    "df.groupby('State').apply(calc_mean_incomepercap).head()"
   ]
  },
  {
   "cell_type": "code",
   "execution_count": null,
   "metadata": {},
   "outputs": [],
   "source": []
  }
 ]
}