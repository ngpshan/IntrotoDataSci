{
 "metadata": {
  "language_info": {
   "codemirror_mode": {
    "name": "ipython",
    "version": 3
   },
   "file_extension": ".py",
   "mimetype": "text/x-python",
   "name": "python",
   "nbconvert_exporter": "python",
   "pygments_lexer": "ipython3",
   "version": "3.8.6-candidate"
  },
  "orig_nbformat": 2,
  "kernelspec": {
   "name": "Python 3.8.6 64-bit",
   "display_name": "Python 3.8.6 64-bit",
   "metadata": {
    "interpreter": {
     "hash": "23a0b241a33537883b39067dbbeaffacf56379d0e0386bed5fb7b1dd24f284a0"
    }
   }
  }
 },
 "nbformat": 4,
 "nbformat_minor": 2,
 "cells": [
  {
   "cell_type": "code",
   "execution_count": 7,
   "metadata": {},
   "outputs": [],
   "source": [
    "import pandas as pd\n",
    "import numpy as np"
   ]
  },
  {
   "cell_type": "code",
   "execution_count": 3,
   "metadata": {},
   "outputs": [
    {
     "output_type": "execute_result",
     "data": {
      "text/plain": [
       "0    Alice\n",
       "1     Jack\n",
       "2    Molly\n",
       "dtype: object"
      ]
     },
     "metadata": {},
     "execution_count": 3
    }
   ],
   "source": [
    "students = ['Alice', 'Jack', 'Molly']\n",
    "# call Series function in pandas and pass in students\n",
    "pd.Series(students)"
   ]
  },
  {
   "cell_type": "code",
   "execution_count": 5,
   "metadata": {},
   "outputs": [
    {
     "output_type": "execute_result",
     "data": {
      "text/plain": [
       "0    1.0\n",
       "1    2.0\n",
       "2    NaN\n",
       "dtype: float64"
      ]
     },
     "metadata": {},
     "execution_count": 5
    }
   ],
   "source": [
    "num = [1,2,None] # Nan = Not a Number\n",
    "pd.Series(num)"
   ]
  },
  {
   "cell_type": "code",
   "execution_count": 8,
   "metadata": {},
   "outputs": [
    {
     "output_type": "execute_result",
     "data": {
      "text/plain": [
       "False"
      ]
     },
     "metadata": {},
     "execution_count": 8
    }
   ],
   "source": [
    "np.nan == None # NaN /= None"
   ]
  },
  {
   "cell_type": "code",
   "execution_count": 9,
   "metadata": {},
   "outputs": [
    {
     "output_type": "execute_result",
     "data": {
      "text/plain": [
       "False"
      ]
     },
     "metadata": {},
     "execution_count": 9
    }
   ],
   "source": [
    "np.nan == np.nan # can't do equality test to NAN itself"
   ]
  },
  {
   "cell_type": "code",
   "execution_count": 10,
   "metadata": {},
   "outputs": [
    {
     "output_type": "execute_result",
     "data": {
      "text/plain": [
       "True"
      ]
     },
     "metadata": {},
     "execution_count": 10
    }
   ],
   "source": [
    "# Special function isnan() - test for presence of NAN\n",
    "np.isnan(np.nan)"
   ]
  },
  {
   "source": [
    "### pandas' Series created from dictionary data"
   ],
   "cell_type": "markdown",
   "metadata": {}
  },
  {
   "cell_type": "code",
   "execution_count": 23,
   "metadata": {},
   "outputs": [
    {
     "output_type": "execute_result",
     "data": {
      "text/plain": [
       "Alice    Biology\n",
       "Jack      German\n",
       "Bob      Italian\n",
       "dtype: object"
      ]
     },
     "metadata": {},
     "execution_count": 23
    }
   ],
   "source": [
    "students_scores = {\n",
    "    'Alice': 'Biology',\n",
    "    'Jack': 'German',\n",
    "    'Bob': 'Italian'\n",
    "}\n",
    "\n",
    "s = pd.Series(students_scores)\n",
    "s"
   ]
  },
  {
   "cell_type": "code",
   "execution_count": 24,
   "metadata": {},
   "outputs": [
    {
     "output_type": "execute_result",
     "data": {
      "text/plain": [
       "Index(['Alice', 'Jack', 'Bob'], dtype='object')"
      ]
     },
     "metadata": {},
     "execution_count": 24
    }
   ],
   "source": [
    "s.index"
   ]
  },
  {
   "cell_type": "code",
   "execution_count": 25,
   "metadata": {},
   "outputs": [
    {
     "output_type": "execute_result",
     "data": {
      "text/plain": [
       "0    (Alice, Brown)\n",
       "1     (Jack, White)\n",
       "2      (Bob, Green)\n",
       "dtype: object"
      ]
     },
     "metadata": {},
     "execution_count": 25
    }
   ],
   "source": [
    "#list of tuples\n",
    "students = [('Alice', 'Brown'), ('Jack', 'White'), ('Bob', 'Green')]\n",
    "pd.Series(students)"
   ]
  },
  {
   "cell_type": "code",
   "execution_count": 27,
   "metadata": {},
   "outputs": [
    {
     "output_type": "execute_result",
     "data": {
      "text/plain": [
       "Alice    A+\n",
       "Jack     B-\n",
       "Bob      C+\n",
       "dtype: object"
      ]
     },
     "metadata": {},
     "execution_count": 27
    }
   ],
   "source": [
    "# pass in index=[..list..] - separate index from data\n",
    "s = pd.Series(['A+', 'B-', 'C+'], index=['Alice', 'Jack', 'Bob'])\n",
    "s"
   ]
  },
  {
   "cell_type": "code",
   "execution_count": 28,
   "metadata": {},
   "outputs": [
    {
     "output_type": "execute_result",
     "data": {
      "text/plain": [
       "Alice    Biology\n",
       "Molly        NaN\n",
       "Bob      Italian\n",
       "dtype: object"
      ]
     },
     "metadata": {},
     "execution_count": 28
    }
   ],
   "source": [
    "s = pd.Series(students_scores, index=['Alice', 'Molly', 'Bob'])\n",
    "s"
   ]
  },
  {
   "source": [
    "## iloc attribute - query by numeric location, starting at 0\n",
    "## loc attribute - query by index label"
   ],
   "cell_type": "markdown",
   "metadata": {}
  },
  {
   "cell_type": "code",
   "execution_count": 29,
   "metadata": {},
   "outputs": [],
   "source": [
    "import pandas as pd"
   ]
  },
  {
   "cell_type": "code",
   "execution_count": 30,
   "metadata": {},
   "outputs": [
    {
     "output_type": "execute_result",
     "data": {
      "text/plain": [
       "Abby      Italian\n",
       "John        Music\n",
       "Maddy        Math\n",
       "Sophie    History\n",
       "dtype: object"
      ]
     },
     "metadata": {},
     "execution_count": 30
    }
   ],
   "source": [
    "students_classes = {\n",
    "    'Abby':'Italian',\n",
    "    'John':'Music',\n",
    "    'Maddy':'Math',\n",
    "    'Sophie':'History' \n",
    "}\n",
    "s = pd.Series(students_classes)\n",
    "s"
   ]
  },
  {
   "cell_type": "code",
   "execution_count": 35,
   "metadata": {},
   "outputs": [
    {
     "output_type": "execute_result",
     "data": {
      "text/plain": [
       "'Music'"
      ]
     },
     "metadata": {},
     "execution_count": 35
    }
   ],
   "source": [
    "s.iloc[1] # sqaure brackets []. Not methods so no ()"
   ]
  },
  {
   "cell_type": "code",
   "execution_count": 36,
   "metadata": {},
   "outputs": [
    {
     "output_type": "execute_result",
     "data": {
      "text/plain": [
       "'Math'"
      ]
     },
     "metadata": {},
     "execution_count": 36
    }
   ],
   "source": [
    "# loc attribute, parameter of Maddy\n",
    "s.loc['Maddy']"
   ]
  },
  {
   "cell_type": "code",
   "execution_count": 37,
   "metadata": {},
   "outputs": [
    {
     "output_type": "execute_result",
     "data": {
      "text/plain": [
       "'Music'"
      ]
     },
     "metadata": {},
     "execution_count": 37
    }
   ],
   "source": [
    "s[1] # behave same as iloc"
   ]
  },
  {
   "cell_type": "code",
   "execution_count": 39,
   "metadata": {},
   "outputs": [
    {
     "output_type": "execute_result",
     "data": {
      "text/plain": [
       "'Math'"
      ]
     },
     "metadata": {},
     "execution_count": 39
    }
   ],
   "source": [
    "s['Maddy'] # behave same as loc"
   ]
  },
  {
   "cell_type": "code",
   "execution_count": 40,
   "metadata": {},
   "outputs": [
    {
     "output_type": "execute_result",
     "data": {
      "text/plain": [
       "1200         Math\n",
       "1300      Anatomy\n",
       "2200    Chemistry\n",
       "3100      Biology\n",
       "dtype: object"
      ]
     },
     "metadata": {},
     "execution_count": 40
    }
   ],
   "source": [
    "class_code = {\n",
    "    1200: 'Math',\n",
    "    1300: 'Anatomy',\n",
    "    2200: 'Chemistry',\n",
    "    3100: 'Biology'\n",
    "}\n",
    "s = pd.Series(class_code)\n",
    "s"
   ]
  },
  {
   "cell_type": "code",
   "execution_count": 42,
   "metadata": {},
   "outputs": [
    {
     "output_type": "stream",
     "name": "stdout",
     "text": [
      "76.5\n"
     ]
    }
   ],
   "source": [
    "# s[0] will get key error, no item with index 0\n",
    "grades = pd.Series([67, 83, 76, 80])\n",
    "\n",
    "total = np.sum(grades)\n",
    "print(total/len(grades))"
   ]
  },
  {
   "cell_type": "code",
   "execution_count": 44,
   "metadata": {},
   "outputs": [
    {
     "output_type": "execute_result",
     "data": {
      "text/plain": [
       "0    56\n",
       "1    83\n",
       "2    35\n",
       "3    53\n",
       "4    68\n",
       "dtype: int32"
      ]
     },
     "metadata": {},
     "execution_count": 44
    }
   ],
   "source": [
    "num = pd.Series(np.random.randint(0,100,20)) # get 20 random numbers, between 0-100\n",
    "\n",
    "num.head()"
   ]
  },
  {
   "cell_type": "code",
   "execution_count": 45,
   "metadata": {},
   "outputs": [
    {
     "output_type": "execute_result",
     "data": {
      "text/plain": [
       "20"
      ]
     },
     "metadata": {},
     "execution_count": 45
    }
   ],
   "source": [
    "len(num)"
   ]
  },
  {
   "cell_type": "code",
   "execution_count": 53,
   "metadata": {},
   "outputs": [
    {
     "output_type": "execute_result",
     "data": {
      "text/plain": [
       "0    56\n",
       "1    83\n",
       "2    35\n",
       "3    53\n",
       "4    68\n",
       "dtype: int32"
      ]
     },
     "metadata": {},
     "execution_count": 53
    }
   ],
   "source": [
    "num.head()"
   ]
  },
  {
   "cell_type": "code",
   "execution_count": 54,
   "metadata": {},
   "outputs": [
    {
     "output_type": "execute_result",
     "data": {
      "text/plain": [
       "0    58\n",
       "1    85\n",
       "2    37\n",
       "3    55\n",
       "4    70\n",
       "dtype: int32"
      ]
     },
     "metadata": {},
     "execution_count": 54
    }
   ],
   "source": [
    "num+=2 # increase everything in Series by 2\n",
    "num.head()"
   ]
  },
  {
   "cell_type": "code",
   "execution_count": 55,
   "metadata": {},
   "outputs": [
    {
     "output_type": "execute_result",
     "data": {
      "text/plain": [
       "0            1\n",
       "1            2\n",
       "2            3\n",
       "Holland    109\n",
       "dtype: int64"
      ]
     },
     "metadata": {},
     "execution_count": 55
    }
   ],
   "source": [
    "z = pd.Series([1,2,3])\n",
    "z.loc['Holland']=109 # creates new element index name 'Holland' - value 109\n",
    "z"
   ]
  },
  {
   "cell_type": "code",
   "execution_count": 56,
   "metadata": {},
   "outputs": [
    {
     "output_type": "execute_result",
     "data": {
      "text/plain": [
       "Kelly    Psychology\n",
       "Kelly          Math\n",
       "Kelly     Chemistry\n",
       "dtype: object"
      ]
     },
     "metadata": {},
     "execution_count": 56
    }
   ],
   "source": [
    "kelly_classes = pd.Series([\n",
    "    'Psychology',\n",
    "    'Math',\n",
    "    'Chemistry'\n",
    "], index=['Kelly', 'Kelly', 'Kelly'])\n",
    "kelly_classes"
   ]
  },
  {
   "cell_type": "code",
   "execution_count": 60,
   "metadata": {},
   "outputs": [
    {
     "output_type": "execute_result",
     "data": {
      "text/plain": [
       "Abby      Italian\n",
       "John        Music\n",
       "Maddy        Math\n",
       "Sophie    History\n",
       "dtype: object"
      ]
     },
     "metadata": {},
     "execution_count": 60
    }
   ],
   "source": [
    "students_classes = pd.Series({\n",
    "    'Abby':'Italian',\n",
    "    'John':'Music',\n",
    "    'Maddy':'Math',\n",
    "    'Sophie':'History'})\n",
    "students_classes"
   ]
  },
  {
   "cell_type": "code",
   "execution_count": 62,
   "metadata": {},
   "outputs": [
    {
     "output_type": "execute_result",
     "data": {
      "text/plain": [
       "Abby         Italian\n",
       "John           Music\n",
       "Maddy           Math\n",
       "Sophie       History\n",
       "Kelly     Psychology\n",
       "Kelly           Math\n",
       "Kelly      Chemistry\n",
       "dtype: object"
      ]
     },
     "metadata": {},
     "execution_count": 62
    }
   ],
   "source": [
    "all_students_classes = students_classes.append(kelly_classes) # Pandas will take the series and infer best datatypes to use. Here all are strings. Returns new series with 2 appended tgt (original unchanged). \n",
    "all_students_classes"
   ]
  },
  {
   "cell_type": "code",
   "execution_count": 64,
   "metadata": {},
   "outputs": [
    {
     "output_type": "execute_result",
     "data": {
      "text/plain": [
       "Kelly    Psychology\n",
       "Kelly          Math\n",
       "Kelly     Chemistry\n",
       "dtype: object"
      ]
     },
     "metadata": {},
     "execution_count": 64
    }
   ],
   "source": [
    "all_students_classes['Kelly']"
   ]
  },
  {
   "cell_type": "code",
   "execution_count": 65,
   "metadata": {},
   "outputs": [
    {
     "output_type": "execute_result",
     "data": {
      "text/plain": [
       "Kelly    Psychology\n",
       "Kelly          Math\n",
       "Kelly     Chemistry\n",
       "dtype: object"
      ]
     },
     "metadata": {},
     "execution_count": 65
    }
   ],
   "source": [
    "all_students_classes.loc['Kelly']"
   ]
  },
  {
   "cell_type": "code",
   "execution_count": null,
   "metadata": {},
   "outputs": [],
   "source": []
  }
 ]
}