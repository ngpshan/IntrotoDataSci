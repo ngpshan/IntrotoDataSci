{
 "metadata": {
  "language_info": {
   "codemirror_mode": {
    "name": "ipython",
    "version": 3
   },
   "file_extension": ".py",
   "mimetype": "text/x-python",
   "name": "python",
   "nbconvert_exporter": "python",
   "pygments_lexer": "ipython3",
   "version": "3.8.6-candidate"
  },
  "orig_nbformat": 2,
  "kernelspec": {
   "name": "Python 3.8.6 64-bit",
   "display_name": "Python 3.8.6 64-bit",
   "metadata": {
    "interpreter": {
     "hash": "23a0b241a33537883b39067dbbeaffacf56379d0e0386bed5fb7b1dd24f284a0"
    }
   }
  }
 },
 "nbformat": 4,
 "nbformat_minor": 2,
 "cells": [
  {
   "cell_type": "code",
   "execution_count": 5,
   "metadata": {},
   "outputs": [],
   "source": [
    "import pandas as pd\n",
    "pd.set_option('display.max_rows', 20)"
   ]
  },
  {
   "cell_type": "code",
   "execution_count": 7,
   "metadata": {},
   "outputs": [
    {
     "output_type": "execute_result",
     "data": {
      "text/plain": [
       "          Grades\n",
       "excellent     A+\n",
       "excellent      A\n",
       "excellent     A-\n",
       "good          B+\n",
       "good           B\n",
       "good          B-\n",
       "ok            C+\n",
       "ok             C\n",
       "ok            C-\n",
       "poor          D+\n",
       "poor           D"
      ],
      "text/html": "<div>\n<style scoped>\n    .dataframe tbody tr th:only-of-type {\n        vertical-align: middle;\n    }\n\n    .dataframe tbody tr th {\n        vertical-align: top;\n    }\n\n    .dataframe thead th {\n        text-align: right;\n    }\n</style>\n<table border=\"1\" class=\"dataframe\">\n  <thead>\n    <tr style=\"text-align: right;\">\n      <th></th>\n      <th>Grades</th>\n    </tr>\n  </thead>\n  <tbody>\n    <tr>\n      <th>excellent</th>\n      <td>A+</td>\n    </tr>\n    <tr>\n      <th>excellent</th>\n      <td>A</td>\n    </tr>\n    <tr>\n      <th>excellent</th>\n      <td>A-</td>\n    </tr>\n    <tr>\n      <th>good</th>\n      <td>B+</td>\n    </tr>\n    <tr>\n      <th>good</th>\n      <td>B</td>\n    </tr>\n    <tr>\n      <th>good</th>\n      <td>B-</td>\n    </tr>\n    <tr>\n      <th>ok</th>\n      <td>C+</td>\n    </tr>\n    <tr>\n      <th>ok</th>\n      <td>C</td>\n    </tr>\n    <tr>\n      <th>ok</th>\n      <td>C-</td>\n    </tr>\n    <tr>\n      <th>poor</th>\n      <td>D+</td>\n    </tr>\n    <tr>\n      <th>poor</th>\n      <td>D</td>\n    </tr>\n  </tbody>\n</table>\n</div>"
     },
     "metadata": {},
     "execution_count": 7
    }
   ],
   "source": [
    "df = pd.DataFrame(['A+', 'A', 'A-', 'B+','B', 'B-', 'C+', 'C', 'C-', 'D+', 'D'],\n",
    "index=['excellent', 'excellent', 'excellent', 'good', 'good', 'good', 'ok', 'ok', 'ok', 'poor', 'poor'],\n",
    "columns=['Grades'])\n",
    "\n",
    "df.head(20)"
   ]
  },
  {
   "cell_type": "code",
   "execution_count": 8,
   "metadata": {},
   "outputs": [
    {
     "output_type": "execute_result",
     "data": {
      "text/plain": [
       "Grades    object\n",
       "dtype: object"
      ]
     },
     "metadata": {},
     "execution_count": 8
    }
   ],
   "source": [
    "df.dtypes"
   ]
  },
  {
   "cell_type": "code",
   "execution_count": 10,
   "metadata": {},
   "outputs": [
    {
     "output_type": "execute_result",
     "data": {
      "text/plain": [
       "excellent    A+\n",
       "excellent     A\n",
       "excellent    A-\n",
       "good         B+\n",
       "good          B\n",
       "good         B-\n",
       "ok           C+\n",
       "ok            C\n",
       "ok           C-\n",
       "poor         D+\n",
       "poor          D\n",
       "Name: Grades, dtype: category\n",
       "Categories (11, object): ['A', 'A+', 'A-', 'B', ..., 'C+', 'C-', 'D', 'D+']"
      ]
     },
     "metadata": {},
     "execution_count": 10
    }
   ],
   "source": [
    "df['Grades'].astype('category').head(20) # Pandas is aware that there are 11 categories"
   ]
  },
  {
   "cell_type": "code",
   "execution_count": 14,
   "metadata": {},
   "outputs": [
    {
     "output_type": "execute_result",
     "data": {
      "text/plain": [
       "excellent    A+\n",
       "excellent     A\n",
       "excellent    A-\n",
       "good         B+\n",
       "good          B\n",
       "good         B-\n",
       "ok           C+\n",
       "ok            C\n",
       "ok           C-\n",
       "poor         D+\n",
       "poor          D\n",
       "Name: Grades, dtype: category\n",
       "Categories (11, object): ['D' < 'D+' < 'C-' < 'C' ... 'B+' < 'A-' < 'A' < 'A+']"
      ]
     },
     "metadata": {},
     "execution_count": 14
    }
   ],
   "source": [
    "my_categories = pd.CategoricalDtype(categories=['D', 'D+', 'C-', 'C', 'C+', 'B-', 'B', 'B+', 'A-', 'A', 'A+'],\n",
    "ordered=True)\n",
    "\n",
    "grades = df['Grades'].astype(my_categories)\n",
    "grades.head(20) # Pandas is not only aware that there are 11 categories, but also the order of those categories"
   ]
  },
  {
   "cell_type": "code",
   "execution_count": 15,
   "metadata": {},
   "outputs": [
    {
     "output_type": "execute_result",
     "data": {
      "text/plain": [
       "excellent    A+\n",
       "excellent     A\n",
       "excellent    A-\n",
       "good         B+\n",
       "good          B\n",
       "good         B-\n",
       "ok           C+\n",
       "Name: Grades, dtype: category\n",
       "Categories (11, object): ['D' < 'D+' < 'C-' < 'C' ... 'B+' < 'A-' < 'A' < 'A+']"
      ]
     },
     "metadata": {},
     "execution_count": 15
    }
   ],
   "source": [
    "grades[grades>\"C\"]"
   ]
  },
  {
   "source": [
    "## get_dummies"
   ],
   "cell_type": "markdown",
   "metadata": {}
  },
  {
   "cell_type": "code",
   "execution_count": null,
   "metadata": {},
   "outputs": [],
   "source": [
    "# get_dummies function - convert values of a single col into multiple cols of 0 and 1s indicating the presence of the dummy variable"
   ]
  },
  {
   "cell_type": "code",
   "execution_count": 16,
   "metadata": {},
   "outputs": [],
   "source": [
    "import numpy as np"
   ]
  },
  {
   "cell_type": "code",
   "execution_count": 33,
   "metadata": {},
   "outputs": [
    {
     "output_type": "execute_result",
     "data": {
      "text/plain": [
       "       CensusTract     State  County  TotalPop   Men  Women  Hispanic  White  \\\n",
       "43195  36001000100  New York  Albany      2001   868   1133      24.3   18.2   \n",
       "43196  36001000200  New York  Albany      4519  2224   2295      11.8    9.0   \n",
       "43197  36001000300  New York  Albany      5244  2643   2601       6.6   45.7   \n",
       "43198  36001000401  New York  Albany      2423   927   1496       4.4   86.8   \n",
       "43199  36001000403  New York  Albany      4654  2100   2554       8.4   66.2   \n",
       "\n",
       "       Black  Native  ...  Walk  OtherTransp  WorkAtHome  MeanCommute  \\\n",
       "43195   51.5     0.0  ...   3.7          0.0         1.4         19.7   \n",
       "43196   75.3     0.0  ...  11.9          0.0         1.9         22.9   \n",
       "43197   37.5     0.3  ...   3.3          0.8         1.9         18.6   \n",
       "43198    4.2     1.9  ...   0.0          0.5         0.7         18.8   \n",
       "43199   15.3     0.8  ...   1.2          3.0         0.4         19.4   \n",
       "\n",
       "       Employed  PrivateWork  PublicWork  SelfEmployed  FamilyWork  \\\n",
       "43195       641         70.2        28.4           1.4         0.0   \n",
       "43196      1866         73.6        22.6           3.9         0.0   \n",
       "43197      2125         73.4        23.0           3.6         0.0   \n",
       "43198       885         60.0        33.7           6.3         0.0   \n",
       "43199      2678         67.2        27.4           5.3         0.0   \n",
       "\n",
       "       Unemployment  \n",
       "43195          20.4  \n",
       "43196           7.9  \n",
       "43197           9.7  \n",
       "43198           7.9  \n",
       "43199           7.4  \n",
       "\n",
       "[5 rows x 37 columns]"
      ],
      "text/html": "<div>\n<style scoped>\n    .dataframe tbody tr th:only-of-type {\n        vertical-align: middle;\n    }\n\n    .dataframe tbody tr th {\n        vertical-align: top;\n    }\n\n    .dataframe thead th {\n        text-align: right;\n    }\n</style>\n<table border=\"1\" class=\"dataframe\">\n  <thead>\n    <tr style=\"text-align: right;\">\n      <th></th>\n      <th>CensusTract</th>\n      <th>State</th>\n      <th>County</th>\n      <th>TotalPop</th>\n      <th>Men</th>\n      <th>Women</th>\n      <th>Hispanic</th>\n      <th>White</th>\n      <th>Black</th>\n      <th>Native</th>\n      <th>...</th>\n      <th>Walk</th>\n      <th>OtherTransp</th>\n      <th>WorkAtHome</th>\n      <th>MeanCommute</th>\n      <th>Employed</th>\n      <th>PrivateWork</th>\n      <th>PublicWork</th>\n      <th>SelfEmployed</th>\n      <th>FamilyWork</th>\n      <th>Unemployment</th>\n    </tr>\n  </thead>\n  <tbody>\n    <tr>\n      <th>43195</th>\n      <td>36001000100</td>\n      <td>New York</td>\n      <td>Albany</td>\n      <td>2001</td>\n      <td>868</td>\n      <td>1133</td>\n      <td>24.3</td>\n      <td>18.2</td>\n      <td>51.5</td>\n      <td>0.0</td>\n      <td>...</td>\n      <td>3.7</td>\n      <td>0.0</td>\n      <td>1.4</td>\n      <td>19.7</td>\n      <td>641</td>\n      <td>70.2</td>\n      <td>28.4</td>\n      <td>1.4</td>\n      <td>0.0</td>\n      <td>20.4</td>\n    </tr>\n    <tr>\n      <th>43196</th>\n      <td>36001000200</td>\n      <td>New York</td>\n      <td>Albany</td>\n      <td>4519</td>\n      <td>2224</td>\n      <td>2295</td>\n      <td>11.8</td>\n      <td>9.0</td>\n      <td>75.3</td>\n      <td>0.0</td>\n      <td>...</td>\n      <td>11.9</td>\n      <td>0.0</td>\n      <td>1.9</td>\n      <td>22.9</td>\n      <td>1866</td>\n      <td>73.6</td>\n      <td>22.6</td>\n      <td>3.9</td>\n      <td>0.0</td>\n      <td>7.9</td>\n    </tr>\n    <tr>\n      <th>43197</th>\n      <td>36001000300</td>\n      <td>New York</td>\n      <td>Albany</td>\n      <td>5244</td>\n      <td>2643</td>\n      <td>2601</td>\n      <td>6.6</td>\n      <td>45.7</td>\n      <td>37.5</td>\n      <td>0.3</td>\n      <td>...</td>\n      <td>3.3</td>\n      <td>0.8</td>\n      <td>1.9</td>\n      <td>18.6</td>\n      <td>2125</td>\n      <td>73.4</td>\n      <td>23.0</td>\n      <td>3.6</td>\n      <td>0.0</td>\n      <td>9.7</td>\n    </tr>\n    <tr>\n      <th>43198</th>\n      <td>36001000401</td>\n      <td>New York</td>\n      <td>Albany</td>\n      <td>2423</td>\n      <td>927</td>\n      <td>1496</td>\n      <td>4.4</td>\n      <td>86.8</td>\n      <td>4.2</td>\n      <td>1.9</td>\n      <td>...</td>\n      <td>0.0</td>\n      <td>0.5</td>\n      <td>0.7</td>\n      <td>18.8</td>\n      <td>885</td>\n      <td>60.0</td>\n      <td>33.7</td>\n      <td>6.3</td>\n      <td>0.0</td>\n      <td>7.9</td>\n    </tr>\n    <tr>\n      <th>43199</th>\n      <td>36001000403</td>\n      <td>New York</td>\n      <td>Albany</td>\n      <td>4654</td>\n      <td>2100</td>\n      <td>2554</td>\n      <td>8.4</td>\n      <td>66.2</td>\n      <td>15.3</td>\n      <td>0.8</td>\n      <td>...</td>\n      <td>1.2</td>\n      <td>3.0</td>\n      <td>0.4</td>\n      <td>19.4</td>\n      <td>2678</td>\n      <td>67.2</td>\n      <td>27.4</td>\n      <td>5.3</td>\n      <td>0.0</td>\n      <td>7.4</td>\n    </tr>\n  </tbody>\n</table>\n<p>5 rows × 37 columns</p>\n</div>"
     },
     "metadata": {},
     "execution_count": 33
    }
   ],
   "source": [
    "df = pd.read_csv('2015census.csv')\n",
    "df = df[ df['State']=='New York' ]\n",
    "df.head()  "
   ]
  },
  {
   "cell_type": "code",
   "execution_count": 34,
   "metadata": {},
   "outputs": [
    {
     "output_type": "execute_result",
     "data": {
      "text/plain": [
       "County\n",
       "Albany         4099.506667\n",
       "Allegany       3697.692308\n",
       "Bronx          4213.442478\n",
       "Broome         3601.690909\n",
       "Cattaraugus    3760.095238\n",
       "                  ...     \n",
       "Hamilton       1190.000000\n",
       "Herkimer       3370.210526\n",
       "Jefferson      4574.884615\n",
       "Kings          3410.327201\n",
       "Lewis          3874.857143\n",
       "Name: TotalPop, Length: 25, dtype: float64"
      ]
     },
     "metadata": {},
     "execution_count": 34
    }
   ],
   "source": [
    "df = df.set_index('County').groupby(level=0)['TotalPop'].agg(np.average)\n",
    "df.head(25)"
   ]
  },
  {
   "cell_type": "code",
   "execution_count": 35,
   "metadata": {},
   "outputs": [
    {
     "output_type": "execute_result",
     "data": {
      "text/plain": [
       "County\n",
       "Albany         (3870.806, 4317.607]\n",
       "Allegany       (3424.005, 3870.806]\n",
       "Bronx          (3870.806, 4317.607]\n",
       "Broome         (3424.005, 3870.806]\n",
       "Cattaraugus    (3424.005, 3870.806]\n",
       "                       ...         \n",
       "Washington     (3424.005, 3870.806]\n",
       "Wayne          (3870.806, 4317.607]\n",
       "Westchester    (4317.607, 4764.408]\n",
       "Wyoming        (3424.005, 3870.806]\n",
       "Yates          (4764.408, 5211.209]\n",
       "Name: TotalPop, Length: 62, dtype: category\n",
       "Categories (10, interval[float64]): [(1185.532, 1636.801] < (1636.801, 2083.602] < (2083.602, 2530.403] < (2530.403, 2977.204] ... (3870.806, 4317.607] < (4317.607, 4764.408] < (4764.408, 5211.209] < (5211.209, 5658.01]]"
      ]
     },
     "metadata": {},
     "execution_count": 35
    }
   ],
   "source": [
    "pd.cut(df,10)"
   ]
  },
  {
   "cell_type": "code",
   "execution_count": 36,
   "metadata": {},
   "outputs": [],
   "source": [
    "import pandas as pd\n",
    "import numpy as np"
   ]
  },
  {
   "cell_type": "code",
   "execution_count": 75,
   "metadata": {},
   "outputs": [
    {
     "output_type": "execute_result",
     "data": {
      "text/plain": [
       "  Rank_Char  Score_Rank                             University  \\\n",
       "0         1           1                   University of Oxford   \n",
       "1         2           2     California Institute of Technology   \n",
       "2         3           3                University of Cambridge   \n",
       "3         4           4                    Stanford University   \n",
       "4         5           5  Massachusetts Institute of Technology   \n",
       "\n",
       "          Country Number_students  Numb_students_per_Staff  \\\n",
       "0  United Kingdom          20,664                     11.2   \n",
       "1   United States           2,240                      6.4   \n",
       "2  United Kingdom          18,978                     10.9   \n",
       "3   United States          16,135                      7.3   \n",
       "4   United States          11,247                      8.6   \n",
       "\n",
       "  International_Students Percentage_Female Percentage_Male  Teaching  \\\n",
       "0                    41%               46%             54%      90.5   \n",
       "1                    30%               34%             66%      92.1   \n",
       "2                    37%               47%             53%      91.4   \n",
       "3                    23%               43%             57%      92.8   \n",
       "4                    34%               39%             61%      90.5   \n",
       "\n",
       "   Research  Citations  Industry_Income  International_Outlook  Score_Result  \\\n",
       "0      99.6       98.4             65.5                   96.4          95.4   \n",
       "1      97.2       97.9             88.0                   82.5          94.5   \n",
       "2      98.7       95.8             59.3                   95.0          94.4   \n",
       "3      96.4       99.9             66.2                   79.5          94.3   \n",
       "4      92.4       99.5             86.9                   89.0          93.6   \n",
       "\n",
       "  Overall_Ranking  \n",
       "0           95.40  \n",
       "1           94.50  \n",
       "2           94.40  \n",
       "3           94.30  \n",
       "4           93.60  "
      ],
      "text/html": "<div>\n<style scoped>\n    .dataframe tbody tr th:only-of-type {\n        vertical-align: middle;\n    }\n\n    .dataframe tbody tr th {\n        vertical-align: top;\n    }\n\n    .dataframe thead th {\n        text-align: right;\n    }\n</style>\n<table border=\"1\" class=\"dataframe\">\n  <thead>\n    <tr style=\"text-align: right;\">\n      <th></th>\n      <th>Rank_Char</th>\n      <th>Score_Rank</th>\n      <th>University</th>\n      <th>Country</th>\n      <th>Number_students</th>\n      <th>Numb_students_per_Staff</th>\n      <th>International_Students</th>\n      <th>Percentage_Female</th>\n      <th>Percentage_Male</th>\n      <th>Teaching</th>\n      <th>Research</th>\n      <th>Citations</th>\n      <th>Industry_Income</th>\n      <th>International_Outlook</th>\n      <th>Score_Result</th>\n      <th>Overall_Ranking</th>\n    </tr>\n  </thead>\n  <tbody>\n    <tr>\n      <th>0</th>\n      <td>1</td>\n      <td>1</td>\n      <td>University of Oxford</td>\n      <td>United Kingdom</td>\n      <td>20,664</td>\n      <td>11.2</td>\n      <td>41%</td>\n      <td>46%</td>\n      <td>54%</td>\n      <td>90.5</td>\n      <td>99.6</td>\n      <td>98.4</td>\n      <td>65.5</td>\n      <td>96.4</td>\n      <td>95.4</td>\n      <td>95.40</td>\n    </tr>\n    <tr>\n      <th>1</th>\n      <td>2</td>\n      <td>2</td>\n      <td>California Institute of Technology</td>\n      <td>United States</td>\n      <td>2,240</td>\n      <td>6.4</td>\n      <td>30%</td>\n      <td>34%</td>\n      <td>66%</td>\n      <td>92.1</td>\n      <td>97.2</td>\n      <td>97.9</td>\n      <td>88.0</td>\n      <td>82.5</td>\n      <td>94.5</td>\n      <td>94.50</td>\n    </tr>\n    <tr>\n      <th>2</th>\n      <td>3</td>\n      <td>3</td>\n      <td>University of Cambridge</td>\n      <td>United Kingdom</td>\n      <td>18,978</td>\n      <td>10.9</td>\n      <td>37%</td>\n      <td>47%</td>\n      <td>53%</td>\n      <td>91.4</td>\n      <td>98.7</td>\n      <td>95.8</td>\n      <td>59.3</td>\n      <td>95.0</td>\n      <td>94.4</td>\n      <td>94.40</td>\n    </tr>\n    <tr>\n      <th>3</th>\n      <td>4</td>\n      <td>4</td>\n      <td>Stanford University</td>\n      <td>United States</td>\n      <td>16,135</td>\n      <td>7.3</td>\n      <td>23%</td>\n      <td>43%</td>\n      <td>57%</td>\n      <td>92.8</td>\n      <td>96.4</td>\n      <td>99.9</td>\n      <td>66.2</td>\n      <td>79.5</td>\n      <td>94.3</td>\n      <td>94.30</td>\n    </tr>\n    <tr>\n      <th>4</th>\n      <td>5</td>\n      <td>5</td>\n      <td>Massachusetts Institute of Technology</td>\n      <td>United States</td>\n      <td>11,247</td>\n      <td>8.6</td>\n      <td>34%</td>\n      <td>39%</td>\n      <td>61%</td>\n      <td>90.5</td>\n      <td>92.4</td>\n      <td>99.5</td>\n      <td>86.9</td>\n      <td>89.0</td>\n      <td>93.6</td>\n      <td>93.60</td>\n    </tr>\n  </tbody>\n</table>\n</div>"
     },
     "metadata": {},
     "execution_count": 75
    }
   ],
   "source": [
    "df = pd.read_csv('World_University_Rank_2020.csv')\n",
    "df.head()"
   ]
  },
  {
   "cell_type": "code",
   "execution_count": 46,
   "metadata": {},
   "outputs": [
    {
     "output_type": "execute_result",
     "data": {
      "text/plain": [
       "dtype('O')"
      ]
     },
     "metadata": {},
     "execution_count": 46
    }
   ],
   "source": [
    "df['Rank_Char'].dtype"
   ]
  },
  {
   "cell_type": "code",
   "execution_count": 78,
   "metadata": {},
   "outputs": [],
   "source": [
    "# classify first tier 1-100, second tier 101-200, third tier 201-300, after 301 others \n",
    "def create_category(ranking):\n",
    "    # 'Rank_Char' is just an integer\n",
    "    if (ranking >= 1) & (ranking <= 100):\n",
    "        return \"First Tier Top University\"\n",
    "    elif (ranking >= 101) & (ranking <= 200):\n",
    "        return \"Second Tier Top University\"\n",
    "    elif (ranking >= 201) & (ranking <= 300):\n",
    "        return \"Third Tier Top University\"\n",
    "    return \"Other Top University\"\n",
    "\n",
    "df['Rank_Level'] = df['Score_Rank'].apply(lambda x: create_category(x))"
   ]
  },
  {
   "cell_type": "code",
   "execution_count": 79,
   "metadata": {},
   "outputs": [
    {
     "output_type": "execute_result",
     "data": {
      "text/plain": [
       "                                       mean                       \\\n",
       "Rank_Level        First Tier Top University Other Top University   \n",
       "Country                                                            \n",
       "Algeria                                 NaN           465.875000   \n",
       "Argentina                               NaN           468.750000   \n",
       "Australia                             61.75           329.500000   \n",
       "Austria                                 NaN           334.000000   \n",
       "Bangladesh                              NaN           483.000000   \n",
       "Belarus                                 NaN           459.000000   \n",
       "Belgium                               66.50                  NaN   \n",
       "Brazil                                  NaN           457.909091   \n",
       "Brunei Darussalam                       NaN                  NaN   \n",
       "Bulgaria                                NaN           471.000000   \n",
       "\n",
       "                                                                        \n",
       "Rank_Level        Second Tier Top University Third Tier Top University  \n",
       "Country                                                                 \n",
       "Algeria                                  NaN                       NaN  \n",
       "Argentina                                NaN                       NaN  \n",
       "Australia                         157.461538                     238.9  \n",
       "Austria                           154.200000                     259.0  \n",
       "Bangladesh                               NaN                       NaN  \n",
       "Belarus                                  NaN                       NaN  \n",
       "Belgium                           137.000000                     213.0  \n",
       "Brazil                            172.000000                     270.0  \n",
       "Brunei Darussalam                        NaN                     234.0  \n",
       "Bulgaria                                 NaN                       NaN  "
      ],
      "text/html": "<div>\n<style scoped>\n    .dataframe tbody tr th:only-of-type {\n        vertical-align: middle;\n    }\n\n    .dataframe tbody tr th {\n        vertical-align: top;\n    }\n\n    .dataframe thead tr th {\n        text-align: left;\n    }\n\n    .dataframe thead tr:last-of-type th {\n        text-align: right;\n    }\n</style>\n<table border=\"1\" class=\"dataframe\">\n  <thead>\n    <tr>\n      <th></th>\n      <th colspan=\"4\" halign=\"left\">mean</th>\n    </tr>\n    <tr>\n      <th>Rank_Level</th>\n      <th>First Tier Top University</th>\n      <th>Other Top University</th>\n      <th>Second Tier Top University</th>\n      <th>Third Tier Top University</th>\n    </tr>\n    <tr>\n      <th>Country</th>\n      <th></th>\n      <th></th>\n      <th></th>\n      <th></th>\n    </tr>\n  </thead>\n  <tbody>\n    <tr>\n      <th>Algeria</th>\n      <td>NaN</td>\n      <td>465.875000</td>\n      <td>NaN</td>\n      <td>NaN</td>\n    </tr>\n    <tr>\n      <th>Argentina</th>\n      <td>NaN</td>\n      <td>468.750000</td>\n      <td>NaN</td>\n      <td>NaN</td>\n    </tr>\n    <tr>\n      <th>Australia</th>\n      <td>61.75</td>\n      <td>329.500000</td>\n      <td>157.461538</td>\n      <td>238.9</td>\n    </tr>\n    <tr>\n      <th>Austria</th>\n      <td>NaN</td>\n      <td>334.000000</td>\n      <td>154.200000</td>\n      <td>259.0</td>\n    </tr>\n    <tr>\n      <th>Bangladesh</th>\n      <td>NaN</td>\n      <td>483.000000</td>\n      <td>NaN</td>\n      <td>NaN</td>\n    </tr>\n    <tr>\n      <th>Belarus</th>\n      <td>NaN</td>\n      <td>459.000000</td>\n      <td>NaN</td>\n      <td>NaN</td>\n    </tr>\n    <tr>\n      <th>Belgium</th>\n      <td>66.50</td>\n      <td>NaN</td>\n      <td>137.000000</td>\n      <td>213.0</td>\n    </tr>\n    <tr>\n      <th>Brazil</th>\n      <td>NaN</td>\n      <td>457.909091</td>\n      <td>172.000000</td>\n      <td>270.0</td>\n    </tr>\n    <tr>\n      <th>Brunei Darussalam</th>\n      <td>NaN</td>\n      <td>NaN</td>\n      <td>NaN</td>\n      <td>234.0</td>\n    </tr>\n    <tr>\n      <th>Bulgaria</th>\n      <td>NaN</td>\n      <td>471.000000</td>\n      <td>NaN</td>\n      <td>NaN</td>\n    </tr>\n  </tbody>\n</table>\n</div>"
     },
     "metadata": {},
     "execution_count": 79
    }
   ],
   "source": [
    "df.pivot_table(values='Score_Rank', index='Country', columns='Rank_Level', aggfunc=[np.mean]).head(10)"
   ]
  },
  {
   "cell_type": "code",
   "execution_count": 80,
   "metadata": {},
   "outputs": [
    {
     "output_type": "execute_result",
     "data": {
      "text/plain": [
       "                                       mean                       \\\n",
       "Rank_Level        First Tier Top University Other Top University   \n",
       "Country                                                            \n",
       "Algeria                                 NaN           465.875000   \n",
       "Argentina                               NaN           468.750000   \n",
       "Australia                             61.75           329.500000   \n",
       "Austria                                 NaN           334.000000   \n",
       "Bangladesh                              NaN           483.000000   \n",
       "Belarus                                 NaN           459.000000   \n",
       "Belgium                               66.50                  NaN   \n",
       "Brazil                                  NaN           457.909091   \n",
       "Brunei Darussalam                       NaN                  NaN   \n",
       "Bulgaria                                NaN           471.000000   \n",
       "\n",
       "                                                                        \\\n",
       "Rank_Level        Second Tier Top University Third Tier Top University   \n",
       "Country                                                                  \n",
       "Algeria                                  NaN                       NaN   \n",
       "Argentina                                NaN                       NaN   \n",
       "Australia                         157.461538                     238.9   \n",
       "Austria                           154.200000                     259.0   \n",
       "Bangladesh                               NaN                       NaN   \n",
       "Belarus                                  NaN                       NaN   \n",
       "Belgium                           137.000000                     213.0   \n",
       "Brazil                            172.000000                     270.0   \n",
       "Brunei Darussalam                        NaN                     234.0   \n",
       "Bulgaria                                 NaN                       NaN   \n",
       "\n",
       "                                                   amax                       \\\n",
       "Rank_Level                All First Tier Top University Other Top University   \n",
       "Country                                                                        \n",
       "Algeria            465.875000                       NaN                521.0   \n",
       "Argentina          468.750000                       NaN                523.0   \n",
       "Australia          178.514286                      99.0                357.0   \n",
       "Austria            225.000000                       NaN                360.0   \n",
       "Bangladesh         483.000000                       NaN                483.0   \n",
       "Belarus            459.000000                       NaN                459.0   \n",
       "Belgium            138.375000                      94.0                  NaN   \n",
       "Brazil             447.608696                       NaN                534.0   \n",
       "Brunei Darussalam  234.000000                       NaN                  NaN   \n",
       "Bulgaria           471.000000                       NaN                471.0   \n",
       "\n",
       "                                                                             \n",
       "Rank_Level        Second Tier Top University Third Tier Top University  All  \n",
       "Country                                                                      \n",
       "Algeria                                  NaN                       NaN  521  \n",
       "Argentina                                NaN                       NaN  523  \n",
       "Australia                              195.0                     296.0  357  \n",
       "Austria                                198.0                     297.0  360  \n",
       "Bangladesh                               NaN                       NaN  483  \n",
       "Belarus                                  NaN                       NaN  459  \n",
       "Belgium                                155.0                     224.0  224  \n",
       "Brazil                                 172.0                     270.0  534  \n",
       "Brunei Darussalam                        NaN                     234.0  234  \n",
       "Bulgaria                                 NaN                       NaN  471  "
      ],
      "text/html": "<div>\n<style scoped>\n    .dataframe tbody tr th:only-of-type {\n        vertical-align: middle;\n    }\n\n    .dataframe tbody tr th {\n        vertical-align: top;\n    }\n\n    .dataframe thead tr th {\n        text-align: left;\n    }\n\n    .dataframe thead tr:last-of-type th {\n        text-align: right;\n    }\n</style>\n<table border=\"1\" class=\"dataframe\">\n  <thead>\n    <tr>\n      <th></th>\n      <th colspan=\"5\" halign=\"left\">mean</th>\n      <th colspan=\"5\" halign=\"left\">amax</th>\n    </tr>\n    <tr>\n      <th>Rank_Level</th>\n      <th>First Tier Top University</th>\n      <th>Other Top University</th>\n      <th>Second Tier Top University</th>\n      <th>Third Tier Top University</th>\n      <th>All</th>\n      <th>First Tier Top University</th>\n      <th>Other Top University</th>\n      <th>Second Tier Top University</th>\n      <th>Third Tier Top University</th>\n      <th>All</th>\n    </tr>\n    <tr>\n      <th>Country</th>\n      <th></th>\n      <th></th>\n      <th></th>\n      <th></th>\n      <th></th>\n      <th></th>\n      <th></th>\n      <th></th>\n      <th></th>\n      <th></th>\n    </tr>\n  </thead>\n  <tbody>\n    <tr>\n      <th>Algeria</th>\n      <td>NaN</td>\n      <td>465.875000</td>\n      <td>NaN</td>\n      <td>NaN</td>\n      <td>465.875000</td>\n      <td>NaN</td>\n      <td>521.0</td>\n      <td>NaN</td>\n      <td>NaN</td>\n      <td>521</td>\n    </tr>\n    <tr>\n      <th>Argentina</th>\n      <td>NaN</td>\n      <td>468.750000</td>\n      <td>NaN</td>\n      <td>NaN</td>\n      <td>468.750000</td>\n      <td>NaN</td>\n      <td>523.0</td>\n      <td>NaN</td>\n      <td>NaN</td>\n      <td>523</td>\n    </tr>\n    <tr>\n      <th>Australia</th>\n      <td>61.75</td>\n      <td>329.500000</td>\n      <td>157.461538</td>\n      <td>238.9</td>\n      <td>178.514286</td>\n      <td>99.0</td>\n      <td>357.0</td>\n      <td>195.0</td>\n      <td>296.0</td>\n      <td>357</td>\n    </tr>\n    <tr>\n      <th>Austria</th>\n      <td>NaN</td>\n      <td>334.000000</td>\n      <td>154.200000</td>\n      <td>259.0</td>\n      <td>225.000000</td>\n      <td>NaN</td>\n      <td>360.0</td>\n      <td>198.0</td>\n      <td>297.0</td>\n      <td>360</td>\n    </tr>\n    <tr>\n      <th>Bangladesh</th>\n      <td>NaN</td>\n      <td>483.000000</td>\n      <td>NaN</td>\n      <td>NaN</td>\n      <td>483.000000</td>\n      <td>NaN</td>\n      <td>483.0</td>\n      <td>NaN</td>\n      <td>NaN</td>\n      <td>483</td>\n    </tr>\n    <tr>\n      <th>Belarus</th>\n      <td>NaN</td>\n      <td>459.000000</td>\n      <td>NaN</td>\n      <td>NaN</td>\n      <td>459.000000</td>\n      <td>NaN</td>\n      <td>459.0</td>\n      <td>NaN</td>\n      <td>NaN</td>\n      <td>459</td>\n    </tr>\n    <tr>\n      <th>Belgium</th>\n      <td>66.50</td>\n      <td>NaN</td>\n      <td>137.000000</td>\n      <td>213.0</td>\n      <td>138.375000</td>\n      <td>94.0</td>\n      <td>NaN</td>\n      <td>155.0</td>\n      <td>224.0</td>\n      <td>224</td>\n    </tr>\n    <tr>\n      <th>Brazil</th>\n      <td>NaN</td>\n      <td>457.909091</td>\n      <td>172.000000</td>\n      <td>270.0</td>\n      <td>447.608696</td>\n      <td>NaN</td>\n      <td>534.0</td>\n      <td>172.0</td>\n      <td>270.0</td>\n      <td>534</td>\n    </tr>\n    <tr>\n      <th>Brunei Darussalam</th>\n      <td>NaN</td>\n      <td>NaN</td>\n      <td>NaN</td>\n      <td>234.0</td>\n      <td>234.000000</td>\n      <td>NaN</td>\n      <td>NaN</td>\n      <td>NaN</td>\n      <td>234.0</td>\n      <td>234</td>\n    </tr>\n    <tr>\n      <th>Bulgaria</th>\n      <td>NaN</td>\n      <td>471.000000</td>\n      <td>NaN</td>\n      <td>NaN</td>\n      <td>471.000000</td>\n      <td>NaN</td>\n      <td>471.0</td>\n      <td>NaN</td>\n      <td>NaN</td>\n      <td>471</td>\n    </tr>\n  </tbody>\n</table>\n</div>"
     },
     "metadata": {},
     "execution_count": 80
    }
   ],
   "source": [
    "df.pivot_table(values='Score_Rank', index='Country', columns='Rank_Level', aggfunc=[np.mean, np.max], margins=True).head(10)"
   ]
  },
  {
   "cell_type": "code",
   "execution_count": 81,
   "metadata": {},
   "outputs": [
    {
     "output_type": "execute_result",
     "data": {
      "text/plain": [
       "Index(['Algeria', 'Argentina', 'Australia', 'Austria', 'Bangladesh', 'Belarus',\n",
       "       'Belgium', 'Brazil', 'Brunei Darussalam', 'Bulgaria', 'Canada', 'Chile',\n",
       "       'China', 'Colombia', 'Costa Rica', 'Croatia', 'Cuba', 'Cyprus',\n",
       "       'Czech Republic', 'Denmark', 'Egypt', 'Estonia', 'Finland', 'France',\n",
       "       'Georgia', 'Germany', 'Ghana', 'Greece', 'Hong Kong', 'Hungary',\n",
       "       'Iceland', 'India', 'Indonesia', 'Iran', 'Iraq', 'Ireland', 'Israel',\n",
       "       'Italy', 'Jamaica', 'Japan', 'Jordan', 'Kazakhstan', 'Kenya', 'Kuwait',\n",
       "       'Latvia', 'Lebanon', 'Lithuania', 'Luxembourg', 'Macao', 'Malaysia',\n",
       "       'Malta', 'Mexico', 'Montenegro', 'Morocco', 'Nepal', 'Netherlands',\n",
       "       'New Zealand', 'Nigeria', 'Northern Cyprus', 'Norway', 'Oman',\n",
       "       'Pakistan', 'Peru', 'Philippines', 'Poland', 'Portugal', 'Puerto Rico',\n",
       "       'Qatar', 'Romania', 'Russian Federation', 'Saudi Arabia', 'Singapore',\n",
       "       'Slovakia', 'Slovenia', 'South Africa', 'South Korea', 'Spain',\n",
       "       'Sri Lanka', 'Sweden', 'Switzerland', 'Taiwan', 'Tanzania', 'Thailand',\n",
       "       'Tunisia', 'Turkey', 'Uganda', 'Ukraine', 'United Arab Emirates',\n",
       "       'United Kingdom', 'United States', 'Venezuela', 'Vietnam', 'All'],\n",
       "      dtype='object', name='Country')"
      ]
     },
     "metadata": {},
     "execution_count": 81
    }
   ],
   "source": [
    "new_df = df.pivot_table(values='Score_Rank', index='Country', columns='Rank_Level', aggfunc=[np.mean, np.max], margins=True)\n",
    "new_df.index"
   ]
  },
  {
   "cell_type": "code",
   "execution_count": 82,
   "metadata": {},
   "outputs": [
    {
     "output_type": "execute_result",
     "data": {
      "text/plain": [
       "MultiIndex([('mean',  'First Tier Top University'),\n",
       "            ('mean',       'Other Top University'),\n",
       "            ('mean', 'Second Tier Top University'),\n",
       "            ('mean',  'Third Tier Top University'),\n",
       "            ('mean',                        'All'),\n",
       "            ('amax',  'First Tier Top University'),\n",
       "            ('amax',       'Other Top University'),\n",
       "            ('amax', 'Second Tier Top University'),\n",
       "            ('amax',  'Third Tier Top University'),\n",
       "            ('amax',                        'All')],\n",
       "           names=[None, 'Rank_Level'])"
      ]
     },
     "metadata": {},
     "execution_count": 82
    }
   ],
   "source": [
    "new_df.columns"
   ]
  },
  {
   "cell_type": "code",
   "execution_count": 83,
   "metadata": {},
   "outputs": [
    {
     "output_type": "execute_result",
     "data": {
      "text/plain": [
       "Country\n",
       "Algeria                NaN\n",
       "Argentina              NaN\n",
       "Australia            61.75\n",
       "Austria                NaN\n",
       "Bangladesh             NaN\n",
       "Belarus                NaN\n",
       "Belgium              66.50\n",
       "Brazil                 NaN\n",
       "Brunei Darussalam      NaN\n",
       "Bulgaria               NaN\n",
       "Canada               42.80\n",
       "Chile                  NaN\n",
       "China                56.20\n",
       "Colombia               NaN\n",
       "Costa Rica             NaN\n",
       "Name: First Tier Top University, dtype: float64"
      ]
     },
     "metadata": {},
     "execution_count": 83
    }
   ],
   "source": [
    "new_df['mean']['First Tier Top University'].head(15)"
   ]
  },
  {
   "cell_type": "code",
   "execution_count": 84,
   "metadata": {},
   "outputs": [
    {
     "output_type": "execute_result",
     "data": {
      "text/plain": [
       "pandas.core.series.Series"
      ]
     },
     "metadata": {},
     "execution_count": 84
    }
   ],
   "source": [
    "type(new_df['mean']['First Tier Top University'])"
   ]
  },
  {
   "source": [
    "### idxmax() - (built in function to the Series obejct) find country with max average score on First Tier Top Uni"
   ],
   "cell_type": "markdown",
   "metadata": {}
  },
  {
   "cell_type": "code",
   "execution_count": 85,
   "metadata": {},
   "outputs": [
    {
     "output_type": "execute_result",
     "data": {
      "text/plain": [
       "'Norway'"
      ]
     },
     "metadata": {},
     "execution_count": 85
    }
   ],
   "source": [
    "new_df['mean']['First Tier Top University'].idxmax()"
   ]
  },
  {
   "cell_type": "code",
   "execution_count": 86,
   "metadata": {},
   "outputs": [
    {
     "output_type": "execute_result",
     "data": {
      "text/plain": [
       "                                mean                       \\\n",
       "Rank_Level First Tier Top University Other Top University   \n",
       "Country                                                     \n",
       "Algeria                          NaN              465.875   \n",
       "Argentina                        NaN              468.750   \n",
       "Australia                      61.75              329.500   \n",
       "Austria                          NaN              334.000   \n",
       "Bangladesh                       NaN              483.000   \n",
       "\n",
       "                                                                             \\\n",
       "Rank_Level Second Tier Top University Third Tier Top University         All   \n",
       "Country                                                                       \n",
       "Algeria                           NaN                       NaN  465.875000   \n",
       "Argentina                         NaN                       NaN  468.750000   \n",
       "Australia                  157.461538                     238.9  178.514286   \n",
       "Austria                    154.200000                     259.0  225.000000   \n",
       "Bangladesh                        NaN                       NaN  483.000000   \n",
       "\n",
       "                                amax                       \\\n",
       "Rank_Level First Tier Top University Other Top University   \n",
       "Country                                                     \n",
       "Algeria                          NaN                521.0   \n",
       "Argentina                        NaN                523.0   \n",
       "Australia                       99.0                357.0   \n",
       "Austria                          NaN                360.0   \n",
       "Bangladesh                       NaN                483.0   \n",
       "\n",
       "                                                                      \n",
       "Rank_Level Second Tier Top University Third Tier Top University  All  \n",
       "Country                                                               \n",
       "Algeria                           NaN                       NaN  521  \n",
       "Argentina                         NaN                       NaN  523  \n",
       "Australia                       195.0                     296.0  357  \n",
       "Austria                         198.0                     297.0  360  \n",
       "Bangladesh                        NaN                       NaN  483  "
      ],
      "text/html": "<div>\n<style scoped>\n    .dataframe tbody tr th:only-of-type {\n        vertical-align: middle;\n    }\n\n    .dataframe tbody tr th {\n        vertical-align: top;\n    }\n\n    .dataframe thead tr th {\n        text-align: left;\n    }\n\n    .dataframe thead tr:last-of-type th {\n        text-align: right;\n    }\n</style>\n<table border=\"1\" class=\"dataframe\">\n  <thead>\n    <tr>\n      <th></th>\n      <th colspan=\"5\" halign=\"left\">mean</th>\n      <th colspan=\"5\" halign=\"left\">amax</th>\n    </tr>\n    <tr>\n      <th>Rank_Level</th>\n      <th>First Tier Top University</th>\n      <th>Other Top University</th>\n      <th>Second Tier Top University</th>\n      <th>Third Tier Top University</th>\n      <th>All</th>\n      <th>First Tier Top University</th>\n      <th>Other Top University</th>\n      <th>Second Tier Top University</th>\n      <th>Third Tier Top University</th>\n      <th>All</th>\n    </tr>\n    <tr>\n      <th>Country</th>\n      <th></th>\n      <th></th>\n      <th></th>\n      <th></th>\n      <th></th>\n      <th></th>\n      <th></th>\n      <th></th>\n      <th></th>\n      <th></th>\n    </tr>\n  </thead>\n  <tbody>\n    <tr>\n      <th>Algeria</th>\n      <td>NaN</td>\n      <td>465.875</td>\n      <td>NaN</td>\n      <td>NaN</td>\n      <td>465.875000</td>\n      <td>NaN</td>\n      <td>521.0</td>\n      <td>NaN</td>\n      <td>NaN</td>\n      <td>521</td>\n    </tr>\n    <tr>\n      <th>Argentina</th>\n      <td>NaN</td>\n      <td>468.750</td>\n      <td>NaN</td>\n      <td>NaN</td>\n      <td>468.750000</td>\n      <td>NaN</td>\n      <td>523.0</td>\n      <td>NaN</td>\n      <td>NaN</td>\n      <td>523</td>\n    </tr>\n    <tr>\n      <th>Australia</th>\n      <td>61.75</td>\n      <td>329.500</td>\n      <td>157.461538</td>\n      <td>238.9</td>\n      <td>178.514286</td>\n      <td>99.0</td>\n      <td>357.0</td>\n      <td>195.0</td>\n      <td>296.0</td>\n      <td>357</td>\n    </tr>\n    <tr>\n      <th>Austria</th>\n      <td>NaN</td>\n      <td>334.000</td>\n      <td>154.200000</td>\n      <td>259.0</td>\n      <td>225.000000</td>\n      <td>NaN</td>\n      <td>360.0</td>\n      <td>198.0</td>\n      <td>297.0</td>\n      <td>360</td>\n    </tr>\n    <tr>\n      <th>Bangladesh</th>\n      <td>NaN</td>\n      <td>483.000</td>\n      <td>NaN</td>\n      <td>NaN</td>\n      <td>483.000000</td>\n      <td>NaN</td>\n      <td>483.0</td>\n      <td>NaN</td>\n      <td>NaN</td>\n      <td>483</td>\n    </tr>\n  </tbody>\n</table>\n</div>"
     },
     "metadata": {},
     "execution_count": 86
    }
   ],
   "source": [
    "new_df.head()"
   ]
  },
  {
   "source": [
    "### stack() - move the lowermost column (tiers of Uni) to innermost row"
   ],
   "cell_type": "markdown",
   "metadata": {}
  },
  {
   "cell_type": "code",
   "execution_count": 87,
   "metadata": {},
   "outputs": [
    {
     "output_type": "execute_result",
     "data": {
      "text/plain": [
       "                                             mean   amax\n",
       "Country    Rank_Level                                   \n",
       "Algeria    Other Top University        465.875000  521.0\n",
       "           All                         465.875000  521.0\n",
       "Argentina  Other Top University        468.750000  523.0\n",
       "           All                         468.750000  523.0\n",
       "Australia  First Tier Top University    61.750000   99.0\n",
       "           Other Top University        329.500000  357.0\n",
       "           Second Tier Top University  157.461538  195.0\n",
       "           Third Tier Top University   238.900000  296.0\n",
       "           All                         178.514286  357.0\n",
       "Austria    Other Top University        334.000000  360.0\n",
       "           Second Tier Top University  154.200000  198.0\n",
       "           Third Tier Top University   259.000000  297.0\n",
       "           All                         225.000000  360.0\n",
       "Bangladesh Other Top University        483.000000  483.0\n",
       "           All                         483.000000  483.0"
      ],
      "text/html": "<div>\n<style scoped>\n    .dataframe tbody tr th:only-of-type {\n        vertical-align: middle;\n    }\n\n    .dataframe tbody tr th {\n        vertical-align: top;\n    }\n\n    .dataframe thead th {\n        text-align: right;\n    }\n</style>\n<table border=\"1\" class=\"dataframe\">\n  <thead>\n    <tr style=\"text-align: right;\">\n      <th></th>\n      <th></th>\n      <th>mean</th>\n      <th>amax</th>\n    </tr>\n    <tr>\n      <th>Country</th>\n      <th>Rank_Level</th>\n      <th></th>\n      <th></th>\n    </tr>\n  </thead>\n  <tbody>\n    <tr>\n      <th rowspan=\"2\" valign=\"top\">Algeria</th>\n      <th>Other Top University</th>\n      <td>465.875000</td>\n      <td>521.0</td>\n    </tr>\n    <tr>\n      <th>All</th>\n      <td>465.875000</td>\n      <td>521.0</td>\n    </tr>\n    <tr>\n      <th rowspan=\"2\" valign=\"top\">Argentina</th>\n      <th>Other Top University</th>\n      <td>468.750000</td>\n      <td>523.0</td>\n    </tr>\n    <tr>\n      <th>All</th>\n      <td>468.750000</td>\n      <td>523.0</td>\n    </tr>\n    <tr>\n      <th rowspan=\"5\" valign=\"top\">Australia</th>\n      <th>First Tier Top University</th>\n      <td>61.750000</td>\n      <td>99.0</td>\n    </tr>\n    <tr>\n      <th>Other Top University</th>\n      <td>329.500000</td>\n      <td>357.0</td>\n    </tr>\n    <tr>\n      <th>Second Tier Top University</th>\n      <td>157.461538</td>\n      <td>195.0</td>\n    </tr>\n    <tr>\n      <th>Third Tier Top University</th>\n      <td>238.900000</td>\n      <td>296.0</td>\n    </tr>\n    <tr>\n      <th>All</th>\n      <td>178.514286</td>\n      <td>357.0</td>\n    </tr>\n    <tr>\n      <th rowspan=\"4\" valign=\"top\">Austria</th>\n      <th>Other Top University</th>\n      <td>334.000000</td>\n      <td>360.0</td>\n    </tr>\n    <tr>\n      <th>Second Tier Top University</th>\n      <td>154.200000</td>\n      <td>198.0</td>\n    </tr>\n    <tr>\n      <th>Third Tier Top University</th>\n      <td>259.000000</td>\n      <td>297.0</td>\n    </tr>\n    <tr>\n      <th>All</th>\n      <td>225.000000</td>\n      <td>360.0</td>\n    </tr>\n    <tr>\n      <th rowspan=\"2\" valign=\"top\">Bangladesh</th>\n      <th>Other Top University</th>\n      <td>483.000000</td>\n      <td>483.0</td>\n    </tr>\n    <tr>\n      <th>All</th>\n      <td>483.000000</td>\n      <td>483.0</td>\n    </tr>\n  </tbody>\n</table>\n</div>"
     },
     "metadata": {},
     "execution_count": 87
    }
   ],
   "source": [
    "new_df = new_df.stack()\n",
    "new_df.head(15)"
   ]
  },
  {
   "cell_type": "code",
   "execution_count": 88,
   "metadata": {},
   "outputs": [
    {
     "output_type": "execute_result",
     "data": {
      "text/plain": [
       "                                       mean                       \\\n",
       "Rank_Level        First Tier Top University Other Top University   \n",
       "Country                                                            \n",
       "Algeria                                 NaN           465.875000   \n",
       "All                               54.413534           419.708908   \n",
       "Argentina                               NaN           468.750000   \n",
       "Australia                         61.750000           329.500000   \n",
       "Austria                                 NaN           334.000000   \n",
       "Bangladesh                              NaN           483.000000   \n",
       "Belarus                                 NaN           459.000000   \n",
       "Belgium                           66.500000                  NaN   \n",
       "Brazil                                  NaN           457.909091   \n",
       "Brunei Darussalam                       NaN                  NaN   \n",
       "Bulgaria                                NaN           471.000000   \n",
       "Canada                            42.800000           348.000000   \n",
       "Chile                                   NaN           450.428571   \n",
       "China                             56.200000           389.537037   \n",
       "Colombia                                NaN           449.142857   \n",
       "\n",
       "                                                                        \\\n",
       "Rank_Level        Second Tier Top University Third Tier Top University   \n",
       "Country                                                                  \n",
       "Algeria                                  NaN                       NaN   \n",
       "All                               150.620513                254.793358   \n",
       "Argentina                                NaN                       NaN   \n",
       "Australia                         157.461538                238.900000   \n",
       "Austria                           154.200000                259.000000   \n",
       "Bangladesh                               NaN                       NaN   \n",
       "Belarus                                  NaN                       NaN   \n",
       "Belgium                           137.000000                213.000000   \n",
       "Brazil                            172.000000                270.000000   \n",
       "Brunei Darussalam                        NaN                234.000000   \n",
       "Bulgaria                                 NaN                       NaN   \n",
       "Canada                            147.444444                261.571429   \n",
       "Chile                                    NaN                272.250000   \n",
       "China                             160.200000                264.705882   \n",
       "Colombia                                 NaN                246.000000   \n",
       "\n",
       "                                                   amax                       \\\n",
       "Rank_Level                All First Tier Top University Other Top University   \n",
       "Country                                                                        \n",
       "Algeria            465.875000                       NaN                521.0   \n",
       "All                315.304441                     100.0                535.0   \n",
       "Argentina          468.750000                       NaN                523.0   \n",
       "Australia          178.514286                      99.0                357.0   \n",
       "Austria            225.000000                       NaN                360.0   \n",
       "Bangladesh         483.000000                       NaN                483.0   \n",
       "Belarus            459.000000                       NaN                459.0   \n",
       "Belgium            138.375000                      94.0                  NaN   \n",
       "Brazil             447.608696                       NaN                534.0   \n",
       "Brunei Darussalam  234.000000                       NaN                  NaN   \n",
       "Bulgaria           471.000000                       NaN                471.0   \n",
       "Canada             216.800000                      69.0                441.0   \n",
       "Chile              410.833333                       NaN                513.0   \n",
       "China              328.604938                      85.0                506.0   \n",
       "Colombia           423.750000                       NaN                508.0   \n",
       "\n",
       "                                                                               \n",
       "Rank_Level        Second Tier Top University Third Tier Top University    All  \n",
       "Country                                                                        \n",
       "Algeria                                  NaN                       NaN  521.0  \n",
       "All                                    200.0                     300.0  535.0  \n",
       "Argentina                                NaN                       NaN  523.0  \n",
       "Australia                              195.0                     296.0  357.0  \n",
       "Austria                                198.0                     297.0  360.0  \n",
       "Bangladesh                               NaN                       NaN  483.0  \n",
       "Belarus                                  NaN                       NaN  459.0  \n",
       "Belgium                                155.0                     224.0  224.0  \n",
       "Brazil                                 172.0                     270.0  534.0  \n",
       "Brunei Darussalam                        NaN                     234.0  234.0  \n",
       "Bulgaria                                 NaN                       NaN  471.0  \n",
       "Canada                                 174.0                     291.0  441.0  \n",
       "Chile                                    NaN                     299.0  513.0  \n",
       "China                                  197.0                     300.0  506.0  \n",
       "Colombia                                 NaN                     246.0  508.0  "
      ],
      "text/html": "<div>\n<style scoped>\n    .dataframe tbody tr th:only-of-type {\n        vertical-align: middle;\n    }\n\n    .dataframe tbody tr th {\n        vertical-align: top;\n    }\n\n    .dataframe thead tr th {\n        text-align: left;\n    }\n\n    .dataframe thead tr:last-of-type th {\n        text-align: right;\n    }\n</style>\n<table border=\"1\" class=\"dataframe\">\n  <thead>\n    <tr>\n      <th></th>\n      <th colspan=\"5\" halign=\"left\">mean</th>\n      <th colspan=\"5\" halign=\"left\">amax</th>\n    </tr>\n    <tr>\n      <th>Rank_Level</th>\n      <th>First Tier Top University</th>\n      <th>Other Top University</th>\n      <th>Second Tier Top University</th>\n      <th>Third Tier Top University</th>\n      <th>All</th>\n      <th>First Tier Top University</th>\n      <th>Other Top University</th>\n      <th>Second Tier Top University</th>\n      <th>Third Tier Top University</th>\n      <th>All</th>\n    </tr>\n    <tr>\n      <th>Country</th>\n      <th></th>\n      <th></th>\n      <th></th>\n      <th></th>\n      <th></th>\n      <th></th>\n      <th></th>\n      <th></th>\n      <th></th>\n      <th></th>\n    </tr>\n  </thead>\n  <tbody>\n    <tr>\n      <th>Algeria</th>\n      <td>NaN</td>\n      <td>465.875000</td>\n      <td>NaN</td>\n      <td>NaN</td>\n      <td>465.875000</td>\n      <td>NaN</td>\n      <td>521.0</td>\n      <td>NaN</td>\n      <td>NaN</td>\n      <td>521.0</td>\n    </tr>\n    <tr>\n      <th>All</th>\n      <td>54.413534</td>\n      <td>419.708908</td>\n      <td>150.620513</td>\n      <td>254.793358</td>\n      <td>315.304441</td>\n      <td>100.0</td>\n      <td>535.0</td>\n      <td>200.0</td>\n      <td>300.0</td>\n      <td>535.0</td>\n    </tr>\n    <tr>\n      <th>Argentina</th>\n      <td>NaN</td>\n      <td>468.750000</td>\n      <td>NaN</td>\n      <td>NaN</td>\n      <td>468.750000</td>\n      <td>NaN</td>\n      <td>523.0</td>\n      <td>NaN</td>\n      <td>NaN</td>\n      <td>523.0</td>\n    </tr>\n    <tr>\n      <th>Australia</th>\n      <td>61.750000</td>\n      <td>329.500000</td>\n      <td>157.461538</td>\n      <td>238.900000</td>\n      <td>178.514286</td>\n      <td>99.0</td>\n      <td>357.0</td>\n      <td>195.0</td>\n      <td>296.0</td>\n      <td>357.0</td>\n    </tr>\n    <tr>\n      <th>Austria</th>\n      <td>NaN</td>\n      <td>334.000000</td>\n      <td>154.200000</td>\n      <td>259.000000</td>\n      <td>225.000000</td>\n      <td>NaN</td>\n      <td>360.0</td>\n      <td>198.0</td>\n      <td>297.0</td>\n      <td>360.0</td>\n    </tr>\n    <tr>\n      <th>Bangladesh</th>\n      <td>NaN</td>\n      <td>483.000000</td>\n      <td>NaN</td>\n      <td>NaN</td>\n      <td>483.000000</td>\n      <td>NaN</td>\n      <td>483.0</td>\n      <td>NaN</td>\n      <td>NaN</td>\n      <td>483.0</td>\n    </tr>\n    <tr>\n      <th>Belarus</th>\n      <td>NaN</td>\n      <td>459.000000</td>\n      <td>NaN</td>\n      <td>NaN</td>\n      <td>459.000000</td>\n      <td>NaN</td>\n      <td>459.0</td>\n      <td>NaN</td>\n      <td>NaN</td>\n      <td>459.0</td>\n    </tr>\n    <tr>\n      <th>Belgium</th>\n      <td>66.500000</td>\n      <td>NaN</td>\n      <td>137.000000</td>\n      <td>213.000000</td>\n      <td>138.375000</td>\n      <td>94.0</td>\n      <td>NaN</td>\n      <td>155.0</td>\n      <td>224.0</td>\n      <td>224.0</td>\n    </tr>\n    <tr>\n      <th>Brazil</th>\n      <td>NaN</td>\n      <td>457.909091</td>\n      <td>172.000000</td>\n      <td>270.000000</td>\n      <td>447.608696</td>\n      <td>NaN</td>\n      <td>534.0</td>\n      <td>172.0</td>\n      <td>270.0</td>\n      <td>534.0</td>\n    </tr>\n    <tr>\n      <th>Brunei Darussalam</th>\n      <td>NaN</td>\n      <td>NaN</td>\n      <td>NaN</td>\n      <td>234.000000</td>\n      <td>234.000000</td>\n      <td>NaN</td>\n      <td>NaN</td>\n      <td>NaN</td>\n      <td>234.0</td>\n      <td>234.0</td>\n    </tr>\n    <tr>\n      <th>Bulgaria</th>\n      <td>NaN</td>\n      <td>471.000000</td>\n      <td>NaN</td>\n      <td>NaN</td>\n      <td>471.000000</td>\n      <td>NaN</td>\n      <td>471.0</td>\n      <td>NaN</td>\n      <td>NaN</td>\n      <td>471.0</td>\n    </tr>\n    <tr>\n      <th>Canada</th>\n      <td>42.800000</td>\n      <td>348.000000</td>\n      <td>147.444444</td>\n      <td>261.571429</td>\n      <td>216.800000</td>\n      <td>69.0</td>\n      <td>441.0</td>\n      <td>174.0</td>\n      <td>291.0</td>\n      <td>441.0</td>\n    </tr>\n    <tr>\n      <th>Chile</th>\n      <td>NaN</td>\n      <td>450.428571</td>\n      <td>NaN</td>\n      <td>272.250000</td>\n      <td>410.833333</td>\n      <td>NaN</td>\n      <td>513.0</td>\n      <td>NaN</td>\n      <td>299.0</td>\n      <td>513.0</td>\n    </tr>\n    <tr>\n      <th>China</th>\n      <td>56.200000</td>\n      <td>389.537037</td>\n      <td>160.200000</td>\n      <td>264.705882</td>\n      <td>328.604938</td>\n      <td>85.0</td>\n      <td>506.0</td>\n      <td>197.0</td>\n      <td>300.0</td>\n      <td>506.0</td>\n    </tr>\n    <tr>\n      <th>Colombia</th>\n      <td>NaN</td>\n      <td>449.142857</td>\n      <td>NaN</td>\n      <td>246.000000</td>\n      <td>423.750000</td>\n      <td>NaN</td>\n      <td>508.0</td>\n      <td>NaN</td>\n      <td>246.0</td>\n      <td>508.0</td>\n    </tr>\n  </tbody>\n</table>\n</div>"
     },
     "metadata": {},
     "execution_count": 88
    }
   ],
   "source": [
    "new_df.unstack().head(15)"
   ]
  },
  {
   "cell_type": "code",
   "execution_count": 89,
   "metadata": {},
   "outputs": [
    {
     "output_type": "execute_result",
     "data": {
      "text/plain": [
       "      Rank_Level                 Country          \n",
       "mean  First Tier Top University  Algeria                    NaN\n",
       "                                 All                  54.413534\n",
       "                                 Argentina                  NaN\n",
       "                                 Australia            61.750000\n",
       "                                 Austria                    NaN\n",
       "                                 Bangladesh                 NaN\n",
       "                                 Belarus                    NaN\n",
       "                                 Belgium              66.500000\n",
       "                                 Brazil                     NaN\n",
       "                                 Brunei Darussalam          NaN\n",
       "                                 Bulgaria                   NaN\n",
       "                                 Canada               42.800000\n",
       "                                 Chile                      NaN\n",
       "                                 China                56.200000\n",
       "                                 Colombia                   NaN\n",
       "dtype: float64"
      ]
     },
     "metadata": {},
     "execution_count": 89
    }
   ],
   "source": [
    "new_df.unstack().unstack().head(15) # unstacked all the way to a single column = a series object is returned. this col is just a 'value'"
   ]
  }
 ]
}