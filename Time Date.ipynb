{
 "metadata": {
  "language_info": {
   "codemirror_mode": {
    "name": "ipython",
    "version": 3
   },
   "file_extension": ".py",
   "mimetype": "text/x-python",
   "name": "python",
   "nbconvert_exporter": "python",
   "pygments_lexer": "ipython3",
   "version": "3.8.6-candidate"
  },
  "orig_nbformat": 2,
  "kernelspec": {
   "name": "Python 3.8.6 64-bit",
   "display_name": "Python 3.8.6 64-bit",
   "metadata": {
    "interpreter": {
     "hash": "23a0b241a33537883b39067dbbeaffacf56379d0e0386bed5fb7b1dd24f284a0"
    }
   }
  }
 },
 "nbformat": 4,
 "nbformat_minor": 2,
 "cells": [
  {
   "cell_type": "code",
   "execution_count": 2,
   "metadata": {},
   "outputs": [],
   "source": [
    "import pandas as pd\n",
    "import numpy as np"
   ]
  },
  {
   "source": [
    "## Timestamp"
   ],
   "cell_type": "markdown",
   "metadata": {}
  },
  {
   "cell_type": "code",
   "execution_count": 2,
   "metadata": {},
   "outputs": [
    {
     "output_type": "execute_result",
     "data": {
      "text/plain": [
       "Timestamp('2020-10-14 23:56:00')"
      ]
     },
     "metadata": {},
     "execution_count": 2
    }
   ],
   "source": [
    "pd.Timestamp('14/10/2020 11:56PM')"
   ]
  },
  {
   "cell_type": "code",
   "execution_count": 7,
   "metadata": {},
   "outputs": [
    {
     "output_type": "execute_result",
     "data": {
      "text/plain": [
       "Timestamp('2020-10-14 14:05:00')"
      ]
     },
     "metadata": {},
     "execution_count": 7
    }
   ],
   "source": [
    "pd.Timestamp(2020, 10, 14, 14, 5) # year month date hour minute"
   ]
  },
  {
   "cell_type": "code",
   "execution_count": 8,
   "metadata": {},
   "outputs": [
    {
     "output_type": "execute_result",
     "data": {
      "text/plain": [
       "4"
      ]
     },
     "metadata": {},
     "execution_count": 8
    }
   ],
   "source": [
    "pd.Timestamp(2020, 10, 15, 0, 5).isoweekday() # 1- Monday and 7- Sunday"
   ]
  },
  {
   "cell_type": "code",
   "execution_count": 9,
   "metadata": {},
   "outputs": [
    {
     "output_type": "execute_result",
     "data": {
      "text/plain": [
       "23"
      ]
     },
     "metadata": {},
     "execution_count": 9
    }
   ],
   "source": [
    "pd.Timestamp(2020, 10, 15, 0, 10, 23).second"
   ]
  },
  {
   "source": [
    "## Period "
   ],
   "cell_type": "markdown",
   "metadata": {}
  },
  {
   "cell_type": "code",
   "execution_count": 11,
   "metadata": {},
   "outputs": [
    {
     "output_type": "execute_result",
     "data": {
      "text/plain": [
       "Period('2019-07', 'M')"
      ]
     },
     "metadata": {},
     "execution_count": 11
    }
   ],
   "source": [
    "pd.Period('7/2019') # creating a period that is July 2019"
   ]
  },
  {
   "cell_type": "code",
   "execution_count": 12,
   "metadata": {},
   "outputs": [
    {
     "output_type": "execute_result",
     "data": {
      "text/plain": [
       "Period('2019-03-07', 'D')"
      ]
     },
     "metadata": {},
     "execution_count": 12
    }
   ],
   "source": [
    "pd.Period('3/7/2019')"
   ]
  },
  {
   "cell_type": "code",
   "execution_count": 15,
   "metadata": {},
   "outputs": [
    {
     "output_type": "execute_result",
     "data": {
      "text/plain": [
       "Period('2020-10', 'M')"
      ]
     },
     "metadata": {},
     "execution_count": 15
    }
   ],
   "source": [
    "pd.Period('7/2019') + 15 # 15 months after July 2019"
   ]
  },
  {
   "cell_type": "code",
   "execution_count": 18,
   "metadata": {},
   "outputs": [
    {
     "output_type": "execute_result",
     "data": {
      "text/plain": [
       "Period('2020-10-13', 'D')"
      ]
     },
     "metadata": {},
     "execution_count": 18
    }
   ],
   "source": [
    "pd.Period('10/15/2020') - 2 # 2 days before oct 15th"
   ]
  },
  {
   "source": [
    "## DatetimeIndex and PeriofIndex"
   ],
   "cell_type": "markdown",
   "metadata": {}
  },
  {
   "cell_type": "code",
   "execution_count": 3,
   "metadata": {},
   "outputs": [
    {
     "output_type": "execute_result",
     "data": {
      "text/plain": [
       "2020-10-15    a\n",
       "2020-10-10    b\n",
       "2020-10-11    c\n",
       "dtype: object"
      ]
     },
     "metadata": {},
     "execution_count": 3
    }
   ],
   "source": [
    "t1 = pd.Series(list('abc'), [pd.Timestamp('2020-10-15'), pd.Timestamp('2020-10-10'), pd.Timestamp('2020-10-11')])\n",
    "t1"
   ]
  },
  {
   "cell_type": "code",
   "execution_count": 4,
   "metadata": {},
   "outputs": [
    {
     "output_type": "execute_result",
     "data": {
      "text/plain": [
       "pandas.core.indexes.datetimes.DatetimeIndex"
      ]
     },
     "metadata": {},
     "execution_count": 4
    }
   ],
   "source": [
    "type(t1.index) # DatetimeIndex"
   ]
  },
  {
   "cell_type": "code",
   "execution_count": 5,
   "metadata": {},
   "outputs": [
    {
     "output_type": "execute_result",
     "data": {
      "text/plain": [
       "2019-04    d\n",
       "2019-05    e\n",
       "2019-06    f\n",
       "Freq: M, dtype: object"
      ]
     },
     "metadata": {},
     "execution_count": 5
    }
   ],
   "source": [
    "t2 = pd.Series(list('def'), [pd.Period('2019-04'), pd.Period('2019-05'), pd.Period('2019-06')])\n",
    "t2"
   ]
  },
  {
   "cell_type": "code",
   "execution_count": 6,
   "metadata": {},
   "outputs": [
    {
     "output_type": "execute_result",
     "data": {
      "text/plain": [
       "pandas.core.indexes.period.PeriodIndex"
      ]
     },
     "metadata": {},
     "execution_count": 6
    }
   ],
   "source": [
    "type(t2.index) # PeriodIndex"
   ]
  },
  {
   "source": [
    "## Convert to Datetime"
   ],
   "cell_type": "markdown",
   "metadata": {}
  },
  {
   "cell_type": "code",
   "execution_count": 7,
   "metadata": {},
   "outputs": [
    {
     "output_type": "execute_result",
     "data": {
      "text/plain": [
       "               a   b\n",
       "20 July 2019  52  95\n",
       "Aug 20, 2019  75  53\n",
       "2019-08-24    14  35\n",
       "7/12/19       90  25"
      ],
      "text/html": "<div>\n<style scoped>\n    .dataframe tbody tr th:only-of-type {\n        vertical-align: middle;\n    }\n\n    .dataframe tbody tr th {\n        vertical-align: top;\n    }\n\n    .dataframe thead th {\n        text-align: right;\n    }\n</style>\n<table border=\"1\" class=\"dataframe\">\n  <thead>\n    <tr style=\"text-align: right;\">\n      <th></th>\n      <th>a</th>\n      <th>b</th>\n    </tr>\n  </thead>\n  <tbody>\n    <tr>\n      <th>20 July 2019</th>\n      <td>52</td>\n      <td>95</td>\n    </tr>\n    <tr>\n      <th>Aug 20, 2019</th>\n      <td>75</td>\n      <td>53</td>\n    </tr>\n    <tr>\n      <th>2019-08-24</th>\n      <td>14</td>\n      <td>35</td>\n    </tr>\n    <tr>\n      <th>7/12/19</th>\n      <td>90</td>\n      <td>25</td>\n    </tr>\n  </tbody>\n</table>\n</div>"
     },
     "metadata": {},
     "execution_count": 7
    }
   ],
   "source": [
    "d1 = ['20 July 2019', 'Aug 20, 2019', '2019-08-24', '7/12/19']\n",
    "\n",
    "ts3 = pd.DataFrame(np.random.randint(10,100, (4,2)), index=d1, columns=list('ab'))\n",
    "ts3"
   ]
  },
  {
   "cell_type": "code",
   "execution_count": 8,
   "metadata": {},
   "outputs": [
    {
     "output_type": "execute_result",
     "data": {
      "text/plain": [
       "             a   b\n",
       "2019-07-20  52  95\n",
       "2019-08-20  75  53\n",
       "2019-08-24  14  35\n",
       "2019-07-12  90  25"
      ],
      "text/html": "<div>\n<style scoped>\n    .dataframe tbody tr th:only-of-type {\n        vertical-align: middle;\n    }\n\n    .dataframe tbody tr th {\n        vertical-align: top;\n    }\n\n    .dataframe thead th {\n        text-align: right;\n    }\n</style>\n<table border=\"1\" class=\"dataframe\">\n  <thead>\n    <tr style=\"text-align: right;\">\n      <th></th>\n      <th>a</th>\n      <th>b</th>\n    </tr>\n  </thead>\n  <tbody>\n    <tr>\n      <th>2019-07-20</th>\n      <td>52</td>\n      <td>95</td>\n    </tr>\n    <tr>\n      <th>2019-08-20</th>\n      <td>75</td>\n      <td>53</td>\n    </tr>\n    <tr>\n      <th>2019-08-24</th>\n      <td>14</td>\n      <td>35</td>\n    </tr>\n    <tr>\n      <th>2019-07-12</th>\n      <td>90</td>\n      <td>25</td>\n    </tr>\n  </tbody>\n</table>\n</div>"
     },
     "metadata": {},
     "execution_count": 8
    }
   ],
   "source": [
    "ts3.index= pd.to_datetime(ts3.index)\n",
    "ts3"
   ]
  },
  {
   "cell_type": "code",
   "execution_count": 11,
   "metadata": {},
   "outputs": [
    {
     "output_type": "execute_result",
     "data": {
      "text/plain": [
       "Timestamp('2012-07-04 00:00:00')"
      ]
     },
     "metadata": {},
     "execution_count": 11
    }
   ],
   "source": [
    "pd.to_datetime('4.7.12', dayfirst=True)"
   ]
  },
  {
   "cell_type": "code",
   "execution_count": 12,
   "metadata": {},
   "outputs": [
    {
     "output_type": "execute_result",
     "data": {
      "text/plain": [
       "Timedelta('-7 days +00:00:00')"
      ]
     },
     "metadata": {},
     "execution_count": 12
    }
   ],
   "source": [
    "pd.Timestamp('19/7/2019') - pd.Timestamp('26/7/2019')"
   ]
  },
  {
   "cell_type": "code",
   "execution_count": 17,
   "metadata": {},
   "outputs": [
    {
     "output_type": "execute_result",
     "data": {
      "text/plain": [
       "Timestamp('2020-10-06 12:30:00')"
      ]
     },
     "metadata": {},
     "execution_count": 17
    }
   ],
   "source": [
    "pd.Timestamp('14/7/2019 12:30PM') + pd.Timedelta('450D')"
   ]
  },
  {
   "source": [
    "## Offset"
   ],
   "cell_type": "markdown",
   "metadata": {}
  },
  {
   "cell_type": "code",
   "execution_count": 21,
   "metadata": {},
   "outputs": [
    {
     "output_type": "execute_result",
     "data": {
      "text/plain": [
       "3"
      ]
     },
     "metadata": {},
     "execution_count": 21
    }
   ],
   "source": [
    "pd.Timestamp('15/10/2020').weekday()"
   ]
  },
  {
   "cell_type": "code",
   "execution_count": 22,
   "metadata": {},
   "outputs": [
    {
     "output_type": "execute_result",
     "data": {
      "text/plain": [
       "Timestamp('2020-10-22 00:00:00')"
      ]
     },
     "metadata": {},
     "execution_count": 22
    }
   ],
   "source": [
    "pd.Timestamp('15/10/2020') + pd.offsets.Week() # add timestamp with a week ahead"
   ]
  },
  {
   "cell_type": "code",
   "execution_count": 23,
   "metadata": {},
   "outputs": [
    {
     "output_type": "execute_result",
     "data": {
      "text/plain": [
       "Timestamp('2020-10-31 00:00:00')"
      ]
     },
     "metadata": {},
     "execution_count": 23
    }
   ],
   "source": [
    "pd.Timestamp('15/10/2020') + pd.offsets.MonthEnd() # do month end, have the last day of september"
   ]
  },
  {
   "source": [
    "## Working with Dates in DataFrame"
   ],
   "cell_type": "markdown",
   "metadata": {}
  },
  {
   "cell_type": "code",
   "execution_count": 25,
   "metadata": {},
   "outputs": [
    {
     "output_type": "execute_result",
     "data": {
      "text/plain": [
       "DatetimeIndex(['2020-10-18', '2020-11-01', '2020-11-15', '2020-11-29',\n",
       "               '2020-12-13', '2020-12-27', '2021-01-10', '2021-01-24',\n",
       "               '2021-02-07'],\n",
       "              dtype='datetime64[ns]', freq='2W-SUN')"
      ]
     },
     "metadata": {},
     "execution_count": 25
    }
   ],
   "source": [
    "dates = pd.date_range('10-15-2020', periods=9, freq='2W-SUN') # 9 measurements, bi-weekly every Sunday, starting on 15 Oct.\n",
    "dates"
   ]
  },
  {
   "cell_type": "code",
   "execution_count": 26,
   "metadata": {},
   "outputs": [
    {
     "output_type": "execute_result",
     "data": {
      "text/plain": [
       "DatetimeIndex(['2020-10-15', '2020-10-16', '2020-10-19', '2020-10-20',\n",
       "               '2020-10-21', '2020-10-22', '2020-10-23', '2020-10-26',\n",
       "               '2020-10-27'],\n",
       "              dtype='datetime64[ns]', freq='B')"
      ]
     },
     "metadata": {},
     "execution_count": 26
    }
   ],
   "source": [
    "pd.date_range('10-15-2020', periods=9, freq='B') # business day"
   ]
  },
  {
   "cell_type": "code",
   "execution_count": 27,
   "metadata": {},
   "outputs": [
    {
     "output_type": "execute_result",
     "data": {
      "text/plain": [
       "DatetimeIndex(['2019-11-01', '2020-02-01', '2020-05-01', '2020-08-01'], dtype='datetime64[ns]', freq='QS-AUG')"
      ]
     },
     "metadata": {},
     "execution_count": 27
    }
   ],
   "source": [
    "pd.date_range('28-08-2019', periods = 4, freq='QS-AUG') # quarter start in Aug"
   ]
  },
  {
   "cell_type": "code",
   "execution_count": 28,
   "metadata": {},
   "outputs": [
    {
     "output_type": "execute_result",
     "data": {
      "text/plain": [
       "            Count 1  Count 2\n",
       "2020-10-18      104      118\n",
       "2020-11-01       99      124\n",
       "2020-11-15      104      117\n",
       "2020-11-29      113      127\n",
       "2020-12-13      117      125\n",
       "2020-12-27      113      122\n",
       "2021-01-10      111      116\n",
       "2021-01-24      120      124\n",
       "2021-02-07      117      128"
      ],
      "text/html": "<div>\n<style scoped>\n    .dataframe tbody tr th:only-of-type {\n        vertical-align: middle;\n    }\n\n    .dataframe tbody tr th {\n        vertical-align: top;\n    }\n\n    .dataframe thead th {\n        text-align: right;\n    }\n</style>\n<table border=\"1\" class=\"dataframe\">\n  <thead>\n    <tr style=\"text-align: right;\">\n      <th></th>\n      <th>Count 1</th>\n      <th>Count 2</th>\n    </tr>\n  </thead>\n  <tbody>\n    <tr>\n      <th>2020-10-18</th>\n      <td>104</td>\n      <td>118</td>\n    </tr>\n    <tr>\n      <th>2020-11-01</th>\n      <td>99</td>\n      <td>124</td>\n    </tr>\n    <tr>\n      <th>2020-11-15</th>\n      <td>104</td>\n      <td>117</td>\n    </tr>\n    <tr>\n      <th>2020-11-29</th>\n      <td>113</td>\n      <td>127</td>\n    </tr>\n    <tr>\n      <th>2020-12-13</th>\n      <td>117</td>\n      <td>125</td>\n    </tr>\n    <tr>\n      <th>2020-12-27</th>\n      <td>113</td>\n      <td>122</td>\n    </tr>\n    <tr>\n      <th>2021-01-10</th>\n      <td>111</td>\n      <td>116</td>\n    </tr>\n    <tr>\n      <th>2021-01-24</th>\n      <td>120</td>\n      <td>124</td>\n    </tr>\n    <tr>\n      <th>2021-02-07</th>\n      <td>117</td>\n      <td>128</td>\n    </tr>\n  </tbody>\n</table>\n</div>"
     },
     "metadata": {},
     "execution_count": 28
    }
   ],
   "source": [
    "dates = pd.date_range('10-15-2020', periods=9, freq='2W-SUN')\n",
    "df= pd.DataFrame({\n",
    "    'Count 1':100 + np.random.randint(-5,10,9).cumsum(),\n",
    "    'Count 2':120 + np.random.randint(-5,10,9)}, index=dates)\n",
    "df"
   ]
  },
  {
   "cell_type": "code",
   "execution_count": 43,
   "metadata": {},
   "outputs": [],
   "source": [
    "df = df.astype('int')"
   ]
  },
  {
   "cell_type": "code",
   "execution_count": 44,
   "metadata": {},
   "outputs": [
    {
     "output_type": "error",
     "ename": "AttributeError",
     "evalue": "'DatetimeIndex' object has no attribute 'weekday_name'",
     "traceback": [
      "\u001b[1;31m---------------------------------------------------------------------------\u001b[0m",
      "\u001b[1;31mAttributeError\u001b[0m                            Traceback (most recent call last)",
      "\u001b[1;32m<ipython-input-44-89e418acb61d>\u001b[0m in \u001b[0;36m<module>\u001b[1;34m\u001b[0m\n\u001b[1;32m----> 1\u001b[1;33m \u001b[0mdf\u001b[0m\u001b[1;33m.\u001b[0m\u001b[0mindex\u001b[0m\u001b[1;33m.\u001b[0m\u001b[0mweekday_name\u001b[0m\u001b[1;33m\u001b[0m\u001b[1;33m\u001b[0m\u001b[0m\n\u001b[0m",
      "\u001b[1;31mAttributeError\u001b[0m: 'DatetimeIndex' object has no attribute 'weekday_name'"
     ]
    }
   ],
   "source": [
    "df.index.weekday_name"
   ]
  },
  {
   "cell_type": "code",
   "execution_count": 45,
   "metadata": {},
   "outputs": [
    {
     "output_type": "execute_result",
     "data": {
      "text/plain": [
       "            Count 1  Count 2\n",
       "2020-10-18      NaN      NaN\n",
       "2020-11-01     -5.0      6.0\n",
       "2020-11-15      5.0     -7.0\n",
       "2020-11-29      9.0     10.0\n",
       "2020-12-13      4.0     -2.0\n",
       "2020-12-27     -4.0     -3.0\n",
       "2021-01-10     -2.0     -6.0\n",
       "2021-01-24      9.0      8.0\n",
       "2021-02-07     -3.0      4.0"
      ],
      "text/html": "<div>\n<style scoped>\n    .dataframe tbody tr th:only-of-type {\n        vertical-align: middle;\n    }\n\n    .dataframe tbody tr th {\n        vertical-align: top;\n    }\n\n    .dataframe thead th {\n        text-align: right;\n    }\n</style>\n<table border=\"1\" class=\"dataframe\">\n  <thead>\n    <tr style=\"text-align: right;\">\n      <th></th>\n      <th>Count 1</th>\n      <th>Count 2</th>\n    </tr>\n  </thead>\n  <tbody>\n    <tr>\n      <th>2020-10-18</th>\n      <td>NaN</td>\n      <td>NaN</td>\n    </tr>\n    <tr>\n      <th>2020-11-01</th>\n      <td>-5.0</td>\n      <td>6.0</td>\n    </tr>\n    <tr>\n      <th>2020-11-15</th>\n      <td>5.0</td>\n      <td>-7.0</td>\n    </tr>\n    <tr>\n      <th>2020-11-29</th>\n      <td>9.0</td>\n      <td>10.0</td>\n    </tr>\n    <tr>\n      <th>2020-12-13</th>\n      <td>4.0</td>\n      <td>-2.0</td>\n    </tr>\n    <tr>\n      <th>2020-12-27</th>\n      <td>-4.0</td>\n      <td>-3.0</td>\n    </tr>\n    <tr>\n      <th>2021-01-10</th>\n      <td>-2.0</td>\n      <td>-6.0</td>\n    </tr>\n    <tr>\n      <th>2021-01-24</th>\n      <td>9.0</td>\n      <td>8.0</td>\n    </tr>\n    <tr>\n      <th>2021-02-07</th>\n      <td>-3.0</td>\n      <td>4.0</td>\n    </tr>\n  </tbody>\n</table>\n</div>"
     },
     "metadata": {},
     "execution_count": 45
    }
   ],
   "source": [
    "df.diff()"
   ]
  },
  {
   "cell_type": "code",
   "execution_count": 46,
   "metadata": {},
   "outputs": [
    {
     "output_type": "execute_result",
     "data": {
      "text/plain": [
       "               Count 1     Count 2\n",
       "2020-10-31  104.000000  118.000000\n",
       "2020-11-30  105.333333  122.666667\n",
       "2020-12-31  115.000000  123.500000\n",
       "2021-01-31  115.500000  120.000000\n",
       "2021-02-28  117.000000  128.000000"
      ],
      "text/html": "<div>\n<style scoped>\n    .dataframe tbody tr th:only-of-type {\n        vertical-align: middle;\n    }\n\n    .dataframe tbody tr th {\n        vertical-align: top;\n    }\n\n    .dataframe thead th {\n        text-align: right;\n    }\n</style>\n<table border=\"1\" class=\"dataframe\">\n  <thead>\n    <tr style=\"text-align: right;\">\n      <th></th>\n      <th>Count 1</th>\n      <th>Count 2</th>\n    </tr>\n  </thead>\n  <tbody>\n    <tr>\n      <th>2020-10-31</th>\n      <td>104.000000</td>\n      <td>118.000000</td>\n    </tr>\n    <tr>\n      <th>2020-11-30</th>\n      <td>105.333333</td>\n      <td>122.666667</td>\n    </tr>\n    <tr>\n      <th>2020-12-31</th>\n      <td>115.000000</td>\n      <td>123.500000</td>\n    </tr>\n    <tr>\n      <th>2021-01-31</th>\n      <td>115.500000</td>\n      <td>120.000000</td>\n    </tr>\n    <tr>\n      <th>2021-02-28</th>\n      <td>117.000000</td>\n      <td>128.000000</td>\n    </tr>\n  </tbody>\n</table>\n</div>"
     },
     "metadata": {},
     "execution_count": 46
    }
   ],
   "source": [
    "df.resample('M').mean() # mean count for each month"
   ]
  },
  {
   "cell_type": "code",
   "execution_count": 47,
   "metadata": {},
   "outputs": [
    {
     "output_type": "execute_result",
     "data": {
      "text/plain": [
       "            Count 1  Count 2\n",
       "2020-10-18      104      118\n",
       "2020-11-01       99      124\n",
       "2020-11-15      104      117\n",
       "2020-11-29      113      127\n",
       "2020-12-13      117      125\n",
       "2020-12-27      113      122"
      ],
      "text/html": "<div>\n<style scoped>\n    .dataframe tbody tr th:only-of-type {\n        vertical-align: middle;\n    }\n\n    .dataframe tbody tr th {\n        vertical-align: top;\n    }\n\n    .dataframe thead th {\n        text-align: right;\n    }\n</style>\n<table border=\"1\" class=\"dataframe\">\n  <thead>\n    <tr style=\"text-align: right;\">\n      <th></th>\n      <th>Count 1</th>\n      <th>Count 2</th>\n    </tr>\n  </thead>\n  <tbody>\n    <tr>\n      <th>2020-10-18</th>\n      <td>104</td>\n      <td>118</td>\n    </tr>\n    <tr>\n      <th>2020-11-01</th>\n      <td>99</td>\n      <td>124</td>\n    </tr>\n    <tr>\n      <th>2020-11-15</th>\n      <td>104</td>\n      <td>117</td>\n    </tr>\n    <tr>\n      <th>2020-11-29</th>\n      <td>113</td>\n      <td>127</td>\n    </tr>\n    <tr>\n      <th>2020-12-13</th>\n      <td>117</td>\n      <td>125</td>\n    </tr>\n    <tr>\n      <th>2020-12-27</th>\n      <td>113</td>\n      <td>122</td>\n    </tr>\n  </tbody>\n</table>\n</div>"
     },
     "metadata": {},
     "execution_count": 47
    }
   ],
   "source": [
    "df['2020'] #string slicing/indexing to get values"
   ]
  },
  {
   "cell_type": "code",
   "execution_count": 48,
   "metadata": {},
   "outputs": [
    {
     "output_type": "execute_result",
     "data": {
      "text/plain": [
       "            Count 1  Count 2\n",
       "2020-11-01       99      124\n",
       "2020-11-15      104      117\n",
       "2020-11-29      113      127"
      ],
      "text/html": "<div>\n<style scoped>\n    .dataframe tbody tr th:only-of-type {\n        vertical-align: middle;\n    }\n\n    .dataframe tbody tr th {\n        vertical-align: top;\n    }\n\n    .dataframe thead th {\n        text-align: right;\n    }\n</style>\n<table border=\"1\" class=\"dataframe\">\n  <thead>\n    <tr style=\"text-align: right;\">\n      <th></th>\n      <th>Count 1</th>\n      <th>Count 2</th>\n    </tr>\n  </thead>\n  <tbody>\n    <tr>\n      <th>2020-11-01</th>\n      <td>99</td>\n      <td>124</td>\n    </tr>\n    <tr>\n      <th>2020-11-15</th>\n      <td>104</td>\n      <td>117</td>\n    </tr>\n    <tr>\n      <th>2020-11-29</th>\n      <td>113</td>\n      <td>127</td>\n    </tr>\n  </tbody>\n</table>\n</div>"
     },
     "metadata": {},
     "execution_count": 48
    }
   ],
   "source": [
    "df['2020-11'] # particular month"
   ]
  },
  {
   "cell_type": "code",
   "execution_count": 49,
   "metadata": {},
   "outputs": [
    {
     "output_type": "execute_result",
     "data": {
      "text/plain": [
       "            Count 1  Count 2\n",
       "2020-12-13      117      125\n",
       "2020-12-27      113      122\n",
       "2021-01-10      111      116\n",
       "2021-01-24      120      124"
      ],
      "text/html": "<div>\n<style scoped>\n    .dataframe tbody tr th:only-of-type {\n        vertical-align: middle;\n    }\n\n    .dataframe tbody tr th {\n        vertical-align: top;\n    }\n\n    .dataframe thead th {\n        text-align: right;\n    }\n</style>\n<table border=\"1\" class=\"dataframe\">\n  <thead>\n    <tr style=\"text-align: right;\">\n      <th></th>\n      <th>Count 1</th>\n      <th>Count 2</th>\n    </tr>\n  </thead>\n  <tbody>\n    <tr>\n      <th>2020-12-13</th>\n      <td>117</td>\n      <td>125</td>\n    </tr>\n    <tr>\n      <th>2020-12-27</th>\n      <td>113</td>\n      <td>122</td>\n    </tr>\n    <tr>\n      <th>2021-01-10</th>\n      <td>111</td>\n      <td>116</td>\n    </tr>\n    <tr>\n      <th>2021-01-24</th>\n      <td>120</td>\n      <td>124</td>\n    </tr>\n  </tbody>\n</table>\n</div>"
     },
     "metadata": {},
     "execution_count": 49
    }
   ],
   "source": [
    "df['2020-12': '2021-01']"
   ]
  },
  {
   "cell_type": "code",
   "execution_count": null,
   "metadata": {},
   "outputs": [],
   "source": []
  }
 ]
}